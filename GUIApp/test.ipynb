{
 "cells": [
  {
   "cell_type": "code",
   "execution_count": 9,
   "metadata": {},
   "outputs": [],
   "source": [
    "from pydicom import dcmread\n",
    "import numpy as np\n",
    "import os\n",
    "import matplotlib.pyplot as plt\n",
    "import re\n",
    "import nibabel as nib\n",
    "import SimpleITK as sitk"
   ]
  },
  {
   "cell_type": "code",
   "execution_count": 15,
   "metadata": {},
   "outputs": [
    {
     "name": "stdout",
     "output_type": "stream",
     "text": [
      "10 10\n",
      "(10, 10)\n",
      "8 60\n",
      "(8, 60)\n",
      "10 20\n",
      "(10, 20)\n",
      "18 15\n",
      "(18, 15)\n",
      "8 22\n",
      "(8, 22)\n"
     ]
    },
    {
     "data": {
      "text/plain": [
       "{'SOP Class UID': '1.2.840.10008.5.1.4.1.1.2'}"
      ]
     },
     "execution_count": 15,
     "metadata": {},
     "output_type": "execute_result"
    }
   ],
   "source": [
    "\n",
    "dict_info = {}\n",
    "input = dcmread('D:\\Downloads\\VNRealData\\File0.dcm')\n",
    "list_info = [['0x0010', '0x0010'], ['0x0008', '0x0060'], ['0x0010', '0x0020'], ['0x0018', '0x0015'], ['0x0008', '0x0022']]\n",
    "for i in range(len(list_info)):\n",
    "    x, y = list_info[i][0], list_info[i][1]\n",
    "    # Convert x and y into strings of hexadecimal digits\n",
    "    x_hex = hex(int(x))[2:]\n",
    "    y_hex = hex(int(y))[2:]\n",
    "    # Get the last two digits of x and y\n",
    "    x_last = x_hex[-2:]\n",
    "    y_last = y_hex[-2:]\n",
    "    # Use the last two digits to construct the tag\n",
    "    print(int(x_last, 16), int(y_last, 16))\n",
    "    tag = (0x00 + int(x_last, 16), 0x00 + int(y_last, 16))\n",
    "    print(tag)\n",
    "    if tag in input:\n",
    "        category = input[tag]\n",
    "        dict_info[category.name] = category.value\n",
    "        \n",
    "        \n",
    "dict_info"
   ]
  },
  {
   "cell_type": "code",
   "execution_count": 31,
   "metadata": {},
   "outputs": [
    {
     "name": "stdout",
     "output_type": "stream",
     "text": [
      "Patient's Name\n"
     ]
    },
    {
     "data": {
      "text/plain": [
       "(8, 22)"
      ]
     },
     "execution_count": 31,
     "metadata": {},
     "output_type": "execute_result"
    }
   ],
   "source": [
    "if (list_info[0][0], list_info[0][1]) in input:\n",
    "    category = input[list_info[0][0], list_info[0][1]]\n",
    "    print(category.name)\n",
    "    \n",
    "tag"
   ]
  },
  {
   "cell_type": "code",
   "execution_count": 28,
   "metadata": {},
   "outputs": [
    {
     "name": "stdout",
     "output_type": "stream",
     "text": [
      "Patient's Name\n"
     ]
    }
   ],
   "source": [
    "patient_name = input[list_info[0][0], list_info[0][1]]\n",
    "print(patient_name.name)"
   ]
  }
 ],
 "metadata": {
  "kernelspec": {
   "display_name": ".venv",
   "language": "python",
   "name": "python3"
  },
  "language_info": {
   "codemirror_mode": {
    "name": "ipython",
    "version": 3
   },
   "file_extension": ".py",
   "mimetype": "text/x-python",
   "name": "python",
   "nbconvert_exporter": "python",
   "pygments_lexer": "ipython3",
   "version": "3.10.0"
  }
 },
 "nbformat": 4,
 "nbformat_minor": 2
}
