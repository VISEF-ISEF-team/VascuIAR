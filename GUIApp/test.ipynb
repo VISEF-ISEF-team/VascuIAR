{
 "cells": [
  {
   "cell_type": "code",
   "execution_count": 1,
   "metadata": {},
   "outputs": [],
   "source": [
    "from pydicom import dcmread\n",
    "import numpy as np\n",
    "import os\n",
    "import matplotlib.pyplot as plt\n",
    "import re\n",
    "import nibabel as nib\n",
    "import SimpleITK as sitk\n",
    "from helpers import *"
   ]
  },
  {
   "cell_type": "code",
   "execution_count": 6,
   "metadata": {},
   "outputs": [
    {
     "data": {
      "application/vnd.jupyter.widget-view+json": {
       "model_id": "ea7fea200f7f42319bfbb4c0e6343563",
       "version_major": 2,
       "version_minor": 0
      },
      "text/plain": [
       "interactive(children=(IntSlider(value=123, description='SLICE', max=247), Output()), _dom_classes=('widget-int…"
      ]
     },
     "metadata": {},
     "output_type": "display_data"
    },
    {
     "data": {
      "text/plain": [
       "(248, 512, 512)"
      ]
     },
     "execution_count": 6,
     "metadata": {},
     "output_type": "execute_result"
    }
   ],
   "source": [
    "class filtering:\n",
    "    def __init__(self, segmentation): \n",
    "        self.segmentation=segmentation\n",
    "        \n",
    "    def get(self):\n",
    "        array_1d = self.segmentation.flatten()\n",
    "        unique_values, counts = np.unique(array_1d, return_counts=True)\n",
    "        label_arrays = []\n",
    "        for value in unique_values: \n",
    "            label_array = np.copy(self.segmentation) \n",
    "            # label_array[np.where(label_array != value)] = 0 \n",
    "            label_array = np.where(label_array==value, label_array, 0)\n",
    "            \n",
    "            label_arrays.append(label_array)\n",
    "        return label_arrays\n",
    "            \n",
    "seg_raw = sitk.ReadImage(\"D:/Documents/GitHub/VascuIAR/DeepLearning/data/MM_WHS/seg_res/1006/Segmentation.nii\", sitk.sitkFloat32)\n",
    "seg = sitk.GetArrayFromImage(seg_raw)\n",
    "filtering_instance = filtering(seg)\n",
    "label_arrays = filtering_instance.get()\n",
    "explore_3D_array(label_arrays[2])\n",
    "label_arrays[2].shape"
   ]
  },
  {
   "cell_type": "code",
   "execution_count": 4,
   "metadata": {},
   "outputs": [],
   "source": [
    "class_data = {\n",
    "    'class1':{\n",
    "        'visible': False,\n",
    "                'color': '#FFFFFF',\n",
    "            },\n",
    "            'class2':{\n",
    "                'visible': True,\n",
    "                'color': '#FFFFFF',\n",
    "            },\n",
    "            'class3':{\n",
    "                'visible': False,\n",
    "                'color': '#FFFFFF',\n",
    "            },\n",
    "            'class4':{\n",
    "                'visible': False,\n",
    "                'color': '#FFFFFF',\n",
    "            },\n",
    "            'class5':{\n",
    "                'visible': False,\n",
    "                'color': '#FFFFFF',\n",
    "            },\n",
    "            'class6':{\n",
    "                'visible': False,\n",
    "                'color': '#FFFFFF',\n",
    "            },\n",
    "            'class7':{\n",
    "                'visible': False,\n",
    "                'color': '#FFFFFF',\n",
    "            },\n",
    "            'class8':{\n",
    "                'visible': False,\n",
    "                'color': '#FFFFFF',\n",
    "            },\n",
    "            'class9':{\n",
    "                'visible': False,\n",
    "                'color': '#FFFFFF',\n",
    "            },\n",
    "            'class10':{\n",
    "                'visible': False,\n",
    "                'color': '#FFFFFF',\n",
    "            },\n",
    "            'class11':{\n",
    "                'visible': False,\n",
    "                'color': '#FFFFFF',\n",
    "            }\n",
    "        }\n",
    "\n"
   ]
  },
  {
   "cell_type": "code",
   "execution_count": 10,
   "metadata": {},
   "outputs": [],
   "source": [
    "stacked_arrays = []\n",
    "for index, (class_name, data) in enumerate(class_data.items()):\n",
    "    if data['visible'] == True:\n",
    "        seg = label_arrays[index][:, :, 150]\n",
    "        stacked_arrays.append(seg)\n",
    "\n",
    "combined_seg = np.vstack(stacked_arrays)\n",
    "plt.imsave(\"temp2.png\", combined_seg, cmap='gray')"
   ]
  }
 ],
 "metadata": {
  "kernelspec": {
   "display_name": ".venv",
   "language": "python",
   "name": "python3"
  },
  "language_info": {
   "codemirror_mode": {
    "name": "ipython",
    "version": 3
   },
   "file_extension": ".py",
   "mimetype": "text/x-python",
   "name": "python",
   "nbconvert_exporter": "python",
   "pygments_lexer": "ipython3",
   "version": "3.10.0"
  }
 },
 "nbformat": 4,
 "nbformat_minor": 2
}
