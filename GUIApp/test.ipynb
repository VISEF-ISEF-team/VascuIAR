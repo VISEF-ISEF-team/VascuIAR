{
 "cells": [
  {
   "cell_type": "code",
   "execution_count": 1,
   "metadata": {},
   "outputs": [],
   "source": [
    "from pydicom import dcmread\n",
    "import numpy as np\n",
    "import os\n",
    "import matplotlib.pyplot as plt\n",
    "import re\n",
    "import nibabel as nib\n",
    "import SimpleITK as sitk\n",
    "from helpers import *\n",
    "import skimage.transform as skTrans"
   ]
  },
  {
   "cell_type": "code",
   "execution_count": 4,
   "metadata": {},
   "outputs": [],
   "source": [
    "def ResizeImage(image, x_, y_,z_):\n",
    "    return np.array(skTrans.resize(image, (x_, y_, z_), order=1, preserve_range=True, anti_aliasing=False), dtype=\"float16\")\n",
    "\n",
    "def SaveImage(image, file_path_save):\n",
    "    converted_array = np.array(image, dtype=np.float32)\n",
    "    converted_array = np.transpose(converted_array, (2, 1, 0))\n",
    "    affine = np.eye(4)\n",
    "    nifti_file = nib.Nifti1Image(converted_array, affine)\n",
    "    nib.save(nifti_file, file_path_save)\n",
    "    \n",
    "img_raw = sitk.ReadImage(\"D:\\Documents\\GitHub\\VascuIAR\\DeepLearning\\data\\VnRawData\\SegmentationData\\ct_0049_label.nii.gz\", sitk.sitkFloat32)\n",
    "img = sitk.GetArrayFromImage(img_raw)\n",
    "img = ResizeImage(img, 512, 600, 600)\n",
    "SaveImage(img, \"D:\\Documents\\GitHub\\VascuIAR\\DeepLearning\\data\\VnRawData\\SegmentationResizedData\\ct_0049_label.nii.gz\")"
   ]
  },
  {
   "cell_type": "code",
   "execution_count": 2,
   "metadata": {},
   "outputs": [],
   "source": [
    "seg_imgs = []\n",
    "folder_seg_path = \"D:/Documents/GitHub/VascuIAR/DeepLearning/data/VnRawData/VHSCDD/VHSCDD_020_label/\"\n",
    "for file in os.listdir(folder_seg_path):\n",
    "    if file.endswith('.nii.gz'):\n",
    "        img_raw = sitk.ReadImage(folder_seg_path + file, sitk.sitkFloat32)\n",
    "        seg_imgs.append(sitk.GetArrayFromImage(img_raw))"
   ]
  },
  {
   "cell_type": "code",
   "execution_count": 7,
   "metadata": {},
   "outputs": [
    {
     "data": {
      "application/vnd.jupyter.widget-view+json": {
       "model_id": "8ea51e74f89e46649388bf62be7cd5c0",
       "version_major": 2,
       "version_minor": 0
      },
      "text/plain": [
       "interactive(children=(IntSlider(value=255, description='SLICE', max=511), Output()), _dom_classes=('widget-int…"
      ]
     },
     "metadata": {},
     "output_type": "display_data"
    }
   ],
   "source": [
    "img_raw = sitk.ReadImage(\"D:\\Documents\\GitHub\\VascuIAR\\DeepLearning\\data\\VnRawData\\TrainDataResized\\ct_0048_image.nii.gz\", sitk.sitkFloat32)\n",
    "img = sitk.GetArrayFromImage(img_raw)\n",
    "explore_3D_array_comparison(img, seg_imgs[11])"
   ]
  },
  {
   "cell_type": "code",
   "execution_count": 8,
   "metadata": {},
   "outputs": [
    {
     "data": {
      "application/vnd.jupyter.widget-view+json": {
       "model_id": "d8882c328d04448a955236688df8df36",
       "version_major": 2,
       "version_minor": 0
      },
      "text/plain": [
       "interactive(children=(IntSlider(value=98, description='SLICE', max=196), Output()), _dom_classes=('widget-inte…"
      ]
     },
     "metadata": {},
     "output_type": "display_data"
    }
   ],
   "source": [
    "img_raw = sitk.ReadImage(\"D:\\Documents\\GitHub\\VascuIAR\\DeepLearning\\data\\VnRawData\\TrainData\\ct_0048_image.nii.gz\", sitk.sitkFloat32)\n",
    "seg_raw = sitk.ReadImage(\"D:\\Documents\\GitHub\\VascuIAR\\DeepLearning\\data\\VnRawData\\SegmentationData\\ct_0049_label.nii.gz\", sitk.sitkFloat32)\n",
    "img = sitk.GetArrayFromImage(img_raw)\n",
    "seg = sitk.GetArrayFromImage(seg_raw)\n",
    "explore_3D_array_comparison(img, seg)"
   ]
  },
  {
   "cell_type": "code",
   "execution_count": 30,
   "metadata": {},
   "outputs": [
    {
     "data": {
      "text/plain": [
       "((197, 512, 512), (512, 600, 600))"
      ]
     },
     "execution_count": 30,
     "metadata": {},
     "output_type": "execute_result"
    }
   ],
   "source": [
    "img.shape, seg_imgs[11].shape"
   ]
  },
  {
   "cell_type": "code",
   "execution_count": 14,
   "metadata": {},
   "outputs": [
    {
     "data": {
      "application/vnd.jupyter.widget-view+json": {
       "model_id": "aab132df47ef45e2af9dbcf043927108",
       "version_major": 2,
       "version_minor": 0
      },
      "text/plain": [
       "interactive(children=(IntSlider(value=98, description='SLICE', max=196), Output()), _dom_classes=('widget-inte…"
      ]
     },
     "metadata": {},
     "output_type": "display_data"
    }
   ],
   "source": [
    "explore_3D_array(img)"
   ]
  },
  {
   "cell_type": "code",
   "execution_count": 2,
   "metadata": {},
   "outputs": [
    {
     "name": "stdout",
     "output_type": "stream",
     "text": [
      "Dataset.file_meta -------------------------------\n",
      "(0002, 0000) File Meta Information Group Length  UL: 212\n",
      "(0002, 0001) File Meta Information Version       OB: b'\\x00\\x01'\n",
      "(0002, 0002) Media Storage SOP Class UID         UI: CT Image Storage\n",
      "(0002, 0003) Media Storage SOP Instance UID      UI: 1.2.392.200036.9116.2.6.1.3268.2054920244.1697669231.973044\n",
      "(0002, 0010) Transfer Syntax UID                 UI: Implicit VR Little Endian\n",
      "(0002, 0012) Implementation Class UID            UI: 1.2.410.200010.99.3.5\n",
      "(0002, 0013) Implementation Version Name         SH: 'INF_4.5'\n",
      "(0002, 0016) Source Application Entity Title     AE: 'TM_CT_CMW_V3.00'\n",
      "-------------------------------------------------\n",
      "(0008, 0000) Group Length                        UL: 440\n",
      "(0008, 0005) Specific Character Set              CS: 'ISO_IR 6'\n",
      "(0008, 0008) Image Type                          CS: ['ORIGINAL', 'PRIMARY', 'AXIAL']\n",
      "(0008, 0016) SOP Class UID                       UI: CT Image Storage\n",
      "(0008, 0018) SOP Instance UID                    UI: 1.2.392.200036.9116.2.6.1.3268.2054920244.1697669231.973044\n",
      "(0008, 0020) Study Date                          DA: '20231019'\n",
      "(0008, 0021) Series Date                         DA: '20231019'\n",
      "(0008, 0022) Acquisition Date                    DA: '20231019'\n",
      "(0008, 0023) Content Date                        DA: '20231019'\n",
      "(0008, 0030) Study Time                          TM: '074533.000'\n",
      "(0008, 0031) Series Time                         TM: '074639.173'\n",
      "(0008, 0032) Acquisition Time                    TM: '074649.800'\n",
      "(0008, 0033) Content Time                        TM: '074650.445'\n",
      "(0008, 0050) Accession Number                    SH: '783'\n",
      "(0008, 0060) Modality                            CS: 'CT'\n",
      "(0008, 0070) Manufacturer                        LO: 'TOSHIBA'\n",
      "(0008, 0080) Institution Name                    LO: 'CRH - IUHW, HECI'\n",
      "(0008, 0081) Institution Address                 ST: 'TOSHIBA_MEC'\n",
      "(0008, 0090) Referring Physician's Name          PN: ''\n",
      "(0008, 1010) Station Name                        SH: 'ID_STATION'\n",
      "(0008, 103e) Series Description                  LO: ' Body 5.0'\n",
      "(0008, 1040) Institutional Department Name       LO: 'CT'\n",
      "(0008, 1090) Manufacturer's Model Name           LO: 'Aquilion ONE'\n",
      "(0010, 0000) Group Length                        UL: 78\n",
      "(0010, 0010) Patient's Name                      PN: 'Ton That Hung'\n",
      "(0010, 0020) Patient ID                          LO: '0000097031'\n",
      "(0010, 0030) Patient's Birth Date                DA: '19960727'\n",
      "(0010, 0040) Patient's Sex                       CS: 'M'\n",
      "(0010, 1010) Patient's Age                       AS: '027Y'\n",
      "(0018, 0000) Group Length                        UL: 496\n",
      "(0018, 0015) Body Part Examined                  CS: 'CHEST_TO_PELVIS'\n",
      "(0018, 0022) Scan Options                        CS: 'HELICAL_CT'\n",
      "(0018, 0050) Slice Thickness                     DS: '5.0'\n",
      "(0018, 0060) KVP                                 DS: '120.0'\n",
      "(0018, 0090) Data Collection Diameter            DS: '500.0'\n",
      "(0018, 1000) Device Serial Number                LO: '7CY17Y2078'\n",
      "(0018, 1020) Software Versions                   LO: 'V8.32ER903'\n",
      "(0018, 1030) Protocol Name                       LO: 'HECI Premium (5mm)HEAD in'\n",
      "(0018, 1100) Reconstruction Diameter             DS: '439.453'\n",
      "(0018, 1120) Gantry/Detector Tilt                DS: '0.0'\n",
      "(0018, 1130) Table Height                        DS: '144.0'\n",
      "(0018, 1140) Rotation Direction                  CS: 'CW'\n",
      "(0018, 1150) Exposure Time                       IS: '500'\n",
      "(0018, 1151) X-Ray Tube Current                  IS: '100'\n",
      "(0018, 1152) Exposure                            IS: '50'\n",
      "(0018, 1160) Filter Type                         SH: 'LARGE'\n",
      "(0018, 1170) Generator Power                     IS: '12'\n",
      "(0018, 1190) Focal Spot(s)                       DS: [1.6, 1.5]\n",
      "(0018, 1210) Convolution Kernel                  SH: 'FC03'\n",
      "(0018, 5100) Patient Position                    CS: 'HFS'\n",
      "(0018, 9302) Acquisition Type                    CS: 'SPIRAL'\n",
      "(0018, 9305) Revolution Time                     FD: 0.5\n",
      "(0018, 9306) Single Collimation Width            FD: 0.5\n",
      "(0018, 9307) Total Collimation Width             FD: 40.0\n",
      "(0018, 9310) Table Feed per Rotation             FD: -32.5\n",
      "(0018, 9311) Spiral Pitch Factor                 FD: 0.813\n",
      "(0018, 9318) Reconstruction Target Center (Patie FD: [0.0, 0.0, -672.0]\n",
      "(0018, 9323) Exposure Modulation Type            CS: '3D'\n",
      "(0018, 9324) Estimated Dose Saving               FD: 34.32\n",
      "(0018, 9327) Table Position                      FD: -15.0\n",
      "(0018, 9334) Fluoroscopy Flag                    CS: 'NO'\n",
      "(0018, 9345) CTDIvol                             FD: 8.8\n",
      "(0020, 0000) Group Length                        UL: 368\n",
      "(0020, 000d) Study Instance UID                  UI: 1.2.392.200036.9116.2.6.1.3268.2054920244.1697669133.47243\n",
      "(0020, 000e) Series Instance UID                 UI: 1.2.392.200036.9116.2.6.1.3268.2054920244.1697669231.416974\n",
      "(0020, 0010) Study ID                            SH: '780'\n",
      "(0020, 0011) Series Number                       IS: '3'\n",
      "(0020, 0012) Acquisition Number                  IS: '2'\n",
      "(0020, 0013) Instance Number                     IS: '4'\n",
      "(0020, 0020) Patient Orientation                 CS: ['L', 'P']\n",
      "(0020, 0032) Image Position (Patient)            DS: [-205.625, -219.2974, -672.00]\n",
      "(0020, 0037) Image Orientation (Patient)         DS: [1.00000, 0.00000, 0.00000, 0.00000, 1.00000, 0.00000]\n",
      "(0020, 0052) Frame of Reference UID              UI: 1.2.392.200036.9116.2.6.1.3268.2054920244.1697669136.278979\n",
      "(0020, 1040) Position Reference Indicator        LO: ''\n",
      "(0020, 1041) Slice Location                      DS: '-15.0'\n",
      "(0028, 0000) Group Length                        UL: 162\n",
      "(0028, 0002) Samples per Pixel                   US: 1\n",
      "(0028, 0004) Photometric Interpretation          CS: 'MONOCHROME2'\n",
      "(0028, 0010) Rows                                US: 512\n",
      "(0028, 0011) Columns                             US: 512\n",
      "(0028, 0030) Pixel Spacing                       DS: [0.858, 0.858]\n",
      "(0028, 0100) Bits Allocated                      US: 16\n",
      "(0028, 0101) Bits Stored                         US: 16\n",
      "(0028, 0102) High Bit                            US: 15\n",
      "(0028, 0103) Pixel Representation                US: 1\n",
      "(0028, 1050) Window Center                       DS: '30.0'\n",
      "(0028, 1051) Window Width                        DS: '300.0'\n",
      "(0028, 1052) Rescale Intercept                   DS: '0.0'\n",
      "(0028, 1053) Rescale Slope                       DS: '1.0'\n",
      "(0028, 2110) Lossy Image Compression             CS: '00'\n",
      "(0038, 0000) Group Length                        UL: 18\n",
      "(0038, 0016) Route of Admissions                 LO: 'emergency'\n",
      "(0040, 0000) Group Length                        UL: 116\n",
      "(0040, 0002) Scheduled Procedure Step Start Date DA: '20231019'\n",
      "(0040, 0003) Scheduled Procedure Step Start Time TM: '074400.000'\n",
      "(0040, 0004) Scheduled Procedure Step End Date   DA: '20231019'\n",
      "(0040, 0005) Scheduled Procedure Step End Time   TM: '081400.000'\n",
      "(0040, 0244) Performed Procedure Step Start Date DA: '20231019'\n",
      "(0040, 0245) Performed Procedure Step Start Time TM: '074533.000'\n",
      "(0040, 0253) Performed Procedure Step ID         SH: '15706'\n",
      "(7005, 0000) Private Creator                     UN: b'\\xc2\\x01\\x00\\x00'\n",
      "(7005, 0010) Private tag data                    LO: 'TOSHIBA_MEC_CT3'\n",
      "(7005, 1007) [Reconstruction Center]             DS: [270, 256]\n",
      "(7005, 1008) [Detector Slice Thickness in mm]    DS: '0.5'\n",
      "(7005, 100a) [Table Speed in mm/rot]             DS: '-32.5'\n",
      "(7005, 100b) [Filter]                            SH: 'AIDR 3D MILD'\n",
      "(7005, 100d) [Organ]                             CS: 'CHEST_TO_PELVIS'\n",
      "(7005, 100e) [File Type Remarks]                 SH: 'IMG'\n",
      "(7005, 100f) [Direction]                         SH: 'HF'\n",
      "(7005, 1012) [Position]                          SH: 'SU'\n",
      "(7005, 1013) [Expert Plan No.]                   US: 1\n",
      "(7005, 1016) [Volume UID]                        UI: 1.2.392.200036.9116.2.6.1.3268.2054920244.1697669231.973044\n",
      "(7005, 1017) [Total Frame Count in the Volume]   US: 1\n",
      "(7005, 1018) [Frame No.]                         US: 1\n",
      "(7005, 1019) [Frame Sort Key]                    UL: 1642763\n",
      "(7005, 101a) [Frame Sort Order]                  US: 0\n",
      "(7005, 101b) [Convolution Kernel]                SH: 'FC03'\n",
      "(7005, 101d) [Reconstruction Number]             UL: 1\n",
      "(7005, 101e) [Raw Data Number]                   UL: 0\n",
      "(7005, 101f) [Volume Number]                     LO: '00'\n",
      "(7005, 1020) [Local Series Number]               UL: 4\n",
      "(7005, 1022) [Reconstruction Interval]           DS: '5.0'\n",
      "(7005, 1023) [Pitch Factor]                      DS: '0.813'\n",
      "(7005, 1024) [The Acquisition Date of NRA]       DA: '20230811'\n",
      "(7005, 1030) [Main Modality in Study]            CS: 'CT'\n",
      "(7005, 1040) [DLP Dose Length Product]           FD: 758.5\n",
      "(7005, 1041) [Raw Slice Information]             SH: '0.5x80'\n",
      "(7005, 1043) [Volume Vector]                     DS: [0.00000, 0.00000, 1.00000]\n",
      "(7005, 1063) Private tag data                    UN: b'\\xcd\\xcc\\xcc\\xcc\\xcc\\xcc*@'\n",
      "(7fe0, 0010) Pixel Data                          OW: Array of 524288 elements\n"
     ]
    }
   ],
   "source": [
    "img = dcmread(\"D:\\Documents\\GitHub\\VascuIAR\\DeepLearning\\data\\VNRealData\\Set1\\File3.dcm\")\n",
    "print(img)"
   ]
  },
  {
   "cell_type": "code",
   "execution_count": 6,
   "metadata": {},
   "outputs": [
    {
     "data": {
      "application/vnd.jupyter.widget-view+json": {
       "model_id": "ea7fea200f7f42319bfbb4c0e6343563",
       "version_major": 2,
       "version_minor": 0
      },
      "text/plain": [
       "interactive(children=(IntSlider(value=123, description='SLICE', max=247), Output()), _dom_classes=('widget-int…"
      ]
     },
     "metadata": {},
     "output_type": "display_data"
    },
    {
     "data": {
      "text/plain": [
       "(248, 512, 512)"
      ]
     },
     "execution_count": 6,
     "metadata": {},
     "output_type": "execute_result"
    }
   ],
   "source": [
    "class filtering:\n",
    "    def __init__(self, segmentation): \n",
    "        self.segmentation=segmentation\n",
    "        \n",
    "    def get(self):\n",
    "        array_1d = self.segmentation.flatten()\n",
    "        unique_values, counts = np.unique(array_1d, return_counts=True)\n",
    "        label_arrays = []\n",
    "        for value in unique_values: \n",
    "            label_array = np.copy(self.segmentation) \n",
    "            # label_array[np.where(label_array != value)] = 0 \n",
    "            label_array = np.where(label_array==value, label_array, 0)\n",
    "            \n",
    "            label_arrays.append(label_array)\n",
    "        return label_arrays\n",
    "            \n",
    "seg_raw = sitk.ReadImage(\"D:/Documents/GitHub/VascuIAR/DeepLearning/data/MM_WHS/seg_res/1006/Segmentation.nii\", sitk.sitkFloat32)\n",
    "seg = sitk.GetArrayFromImage(seg_raw)\n",
    "filtering_instance = filtering(seg)\n",
    "label_arrays = filtering_instance.get()\n",
    "explore_3D_array(label_arrays[2])\n",
    "label_arrays[2].shape"
   ]
  },
  {
   "cell_type": "code",
   "execution_count": 4,
   "metadata": {},
   "outputs": [],
   "source": [
    "class_data = {\n",
    "    'class1':{\n",
    "        'visible': False,\n",
    "                'color': '#FFFFFF',\n",
    "            },\n",
    "            'class2':{\n",
    "                'visible': True,\n",
    "                'color': '#FFFFFF',\n",
    "            },\n",
    "            'class3':{\n",
    "                'visible': False,\n",
    "                'color': '#FFFFFF',\n",
    "            },\n",
    "            'class4':{\n",
    "                'visible': False,\n",
    "                'color': '#FFFFFF',\n",
    "            },\n",
    "            'class5':{\n",
    "                'visible': False,\n",
    "                'color': '#FFFFFF',\n",
    "            },\n",
    "            'class6':{\n",
    "                'visible': False,\n",
    "                'color': '#FFFFFF',\n",
    "            },\n",
    "            'class7':{\n",
    "                'visible': False,\n",
    "                'color': '#FFFFFF',\n",
    "            },\n",
    "            'class8':{\n",
    "                'visible': False,\n",
    "                'color': '#FFFFFF',\n",
    "            },\n",
    "            'class9':{\n",
    "                'visible': False,\n",
    "                'color': '#FFFFFF',\n",
    "            },\n",
    "            'class10':{\n",
    "                'visible': False,\n",
    "                'color': '#FFFFFF',\n",
    "            },\n",
    "            'class11':{\n",
    "                'visible': False,\n",
    "                'color': '#FFFFFF',\n",
    "            }\n",
    "        }\n",
    "\n"
   ]
  },
  {
   "cell_type": "code",
   "execution_count": 10,
   "metadata": {},
   "outputs": [],
   "source": [
    "stacked_arrays = []\n",
    "for index, (class_name, data) in enumerate(class_data.items()):\n",
    "    if data['visible'] == True:\n",
    "        seg = label_arrays[index][:, :, 150]\n",
    "        stacked_arrays.append(seg)\n",
    "\n",
    "combined_seg = np.vstack(stacked_arrays)\n",
    "plt.imsave(\"temp2.png\", combined_seg, cmap='gray')"
   ]
  }
 ],
 "metadata": {
  "kernelspec": {
   "display_name": ".venv",
   "language": "python",
   "name": "python3"
  },
  "language_info": {
   "codemirror_mode": {
    "name": "ipython",
    "version": 3
   },
   "file_extension": ".py",
   "mimetype": "text/x-python",
   "name": "python",
   "nbconvert_exporter": "python",
   "pygments_lexer": "ipython3",
   "version": "3.10.0"
  }
 },
 "nbformat": 4,
 "nbformat_minor": 2
}
