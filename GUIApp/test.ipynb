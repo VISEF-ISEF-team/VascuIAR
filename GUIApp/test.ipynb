{
 "cells": [
  {
   "cell_type": "code",
   "execution_count": 1,
   "metadata": {},
   "outputs": [],
   "source": [
    "from pydicom import dcmread\n",
    "import numpy as np\n",
    "import os\n",
    "import matplotlib.pyplot as plt\n",
    "import re\n",
    "import nibabel as nib\n",
    "import SimpleITK as sitk\n",
    "from helpers import *"
   ]
  },
  {
   "cell_type": "code",
   "execution_count": 2,
   "metadata": {},
   "outputs": [
    {
     "data": {
      "application/vnd.jupyter.widget-view+json": {
       "model_id": "12a9ef328dad49658809174c0ea85c82",
       "version_major": 2,
       "version_minor": 0
      },
      "text/plain": [
       "interactive(children=(IntSlider(value=123, description='SLICE', max=247), Output()), _dom_classes=('widget-int…"
      ]
     },
     "metadata": {},
     "output_type": "display_data"
    },
    {
     "data": {
      "text/plain": [
       "(248, 512, 512)"
      ]
     },
     "execution_count": 2,
     "metadata": {},
     "output_type": "execute_result"
    }
   ],
   "source": [
    "class filtering:\n",
    "    def __init__(self, segmentation): \n",
    "        self.segmentation=segmentation\n",
    "        \n",
    "    def get(self):\n",
    "        array_1d = self.segmentation.flatten()\n",
    "        unique_values, counts = np.unique(array_1d, return_counts=True)\n",
    "        label_arrays = []\n",
    "        for value in unique_values: \n",
    "            label_array = np.copy(self.segmentation) \n",
    "            label_array[np.where(label_array != value)] = 0 \n",
    "            label_arrays.append(label_array)\n",
    "        return label_arrays\n",
    "            \n",
    "seg_raw = sitk.ReadImage(\"D:/Documents/GitHub/VascuIAR/DeepLearning/data/MM_WHS/seg_res/1006/Segmentation.nii\", sitk.sitkFloat32)\n",
    "seg = sitk.GetArrayFromImage(seg_raw)\n",
    "filtering_instance = filtering(seg)\n",
    "label_array = filtering_instance.get()\n",
    "explore_3D_array(label_array[2])\n",
    "label_array[2].shape"
   ]
  }
 ],
 "metadata": {
  "kernelspec": {
   "display_name": ".venv",
   "language": "python",
   "name": "python3"
  },
  "language_info": {
   "codemirror_mode": {
    "name": "ipython",
    "version": 3
   },
   "file_extension": ".py",
   "mimetype": "text/x-python",
   "name": "python",
   "nbconvert_exporter": "python",
   "pygments_lexer": "ipython3",
   "version": "3.10.0"
  }
 },
 "nbformat": 4,
 "nbformat_minor": 2
}
