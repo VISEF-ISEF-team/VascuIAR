{
 "cells": [
  {
   "cell_type": "code",
   "execution_count": 2,
   "metadata": {},
   "outputs": [],
   "source": [
    "from pydicom import dcmread\n",
    "import numpy as np\n",
    "import os\n",
    "import matplotlib.pyplot as plt\n",
    "import re\n",
    "import nibabel as nib\n",
    "import SimpleITK as sitk\n",
    "from helpers import *\n",
    "import skimage.transform as skTrans"
   ]
  },
  {
   "cell_type": "markdown",
   "metadata": {},
   "source": [
    "### Load Segmentation folder"
   ]
  },
  {
   "cell_type": "code",
   "execution_count": 3,
   "metadata": {},
   "outputs": [],
   "source": [
    "seg_imgs = []\n",
    "folder_seg_path = \"D:/Documents/GitHub/VascuIAR/DeepLearning/data/VnRawData/VHSCDD/VHSCDD_013_label/\"\n",
    "for file in os.listdir(folder_seg_path):\n",
    "    if file.endswith('.nii.gz'):\n",
    "        img_raw = sitk.ReadImage(folder_seg_path + file, sitk.sitkFloat32)\n",
    "        seg_imgs.append(sitk.GetArrayFromImage(img_raw))"
   ]
  },
  {
   "cell_type": "markdown",
   "metadata": {},
   "source": [
    "### Filtering"
   ]
  },
  {
   "cell_type": "code",
   "execution_count": 22,
   "metadata": {},
   "outputs": [
    {
     "name": "stdout",
     "output_type": "stream",
     "text": [
      "Unique values: [0.0000000e+00 1.0848045e-05 1.2576580e-05 ... 4.9921875e+00 4.9960938e+00\n",
      " 5.0000000e+00]\n",
      "Counts: [182417707         1         1 ...      1730      1538   1457911]\n"
     ]
    }
   ],
   "source": [
    "'''\n",
    "0: background\n",
    "1: vena cava\n",
    "2: auricle\n",
    "3: coronary\n",
    "4: left ventricle\n",
    "5: right ventricle\n",
    "6: left atrium\n",
    "7: right atrium\n",
    "8: myocardiuum\n",
    "9: descending aorta\n",
    "10: pulmonmary trunk\n",
    "11: ascending aorta\n",
    "'''\n",
    "\n",
    "array_1d = seg_imgs[8].flatten()\n",
    "unique_values, counts = np.unique(array_1d, return_counts=True)\n",
    "print(\"Unique values:\", unique_values) \n",
    "print(\"Counts:\", counts)"
   ]
  },
  {
   "cell_type": "code",
   "execution_count": null,
   "metadata": {},
   "outputs": [],
   "source": [
    "class filtering:\n",
    "    def __init__(self, segmentation): \n",
    "        self.segmentation=segmentation\n",
    "        \n",
    "    def get(self):\n",
    "        array_1d = self.segmentation.flatten()\n",
    "        unique_values, counts = np.unique(array_1d, return_counts=True)\n",
    "        label_arrays = []\n",
    "        for value in unique_values: \n",
    "            label_array = np.copy(self.segmentation) \n",
    "            # label_array[np.where(label_array != value)] = 0 \n",
    "            label_array = np.where(label_array==value, label_array, 0)\n",
    "            \n",
    "            label_arrays.append(label_array)\n",
    "        return label_arrays\n",
    "            \n",
    "seg_raw = sitk.ReadImage(\"D:/Documents/GitHub/VascuIAR/DeepLearning/data/MM_WHS/seg_res/1006/Segmentation.nii\", sitk.sitkFloat32)\n",
    "seg = sitk.GetArrayFromImage(seg_raw)\n",
    "filtering_instance = filtering(seg)\n",
    "label_arrays = filtering_instance.get()\n",
    "explore_3D_array(label_arrays[2])\n",
    "label_arrays[2].shape"
   ]
  },
  {
   "cell_type": "markdown",
   "metadata": {},
   "source": [
    "### Confirm Image and Segmentaionn"
   ]
  },
  {
   "cell_type": "code",
   "execution_count": 10,
   "metadata": {},
   "outputs": [
    {
     "name": "stdout",
     "output_type": "stream",
     "text": [
      "(206, 512, 512) (206, 512, 512)\n"
     ]
    },
    {
     "data": {
      "application/vnd.jupyter.widget-view+json": {
       "model_id": "7b9bf917ac9148829e1431efeb305ea2",
       "version_major": 2,
       "version_minor": 0
      },
      "text/plain": [
       "interactive(children=(IntSlider(value=102, description='SLICE', max=205), Output()), _dom_classes=('widget-int…"
      ]
     },
     "metadata": {},
     "output_type": "display_data"
    }
   ],
   "source": [
    "path_img = \"D:\\Documents\\GitHub\\VascuIAR\\DeepLearning\\data\\VnRawData\\TrainData\\ct_0086_image.nii.gz\"\n",
    "path_seg = \"D:\\Documents\\GitHub\\VascuIAR\\DeepLearning\\data\\VnRawData\\SegmentationData\\ct_0087_label.nii.gz\"\n",
    "\n",
    "img_raw = sitk.ReadImage(path_img, sitk.sitkFloat32)\n",
    "img = sitk.GetArrayFromImage(img_raw)\n",
    "seg_raw = sitk.ReadImage(path_seg, sitk.sitkFloat32)\n",
    "seg = sitk.GetArrayFromImage(seg_raw)\n",
    "print(img.shape, seg.shape)\n",
    "explore_3D_array_comparison(img, seg)"
   ]
  },
  {
   "cell_type": "markdown",
   "metadata": {},
   "source": [
    "### Resize image after confirmation"
   ]
  },
  {
   "cell_type": "code",
   "execution_count": 12,
   "metadata": {},
   "outputs": [],
   "source": [
    "def ResizeImage(image, x_, y_,z_):\n",
    "    return np.array(skTrans.resize(image, (x_, y_, z_), order=1, preserve_range=True, anti_aliasing=False), dtype=\"float16\")\n",
    "\n",
    "def SaveImage(image, file_path_save):\n",
    "    converted_array = np.array(image, dtype=np.float32)\n",
    "    converted_array = np.transpose(converted_array, (2, 1, 0))\n",
    "    affine = np.eye(4)\n",
    "    nifti_file = nib.Nifti1Image(converted_array, affine)\n",
    "    nib.save(nifti_file, file_path_save)\n",
    "    \n",
    "img = ResizeImage(img, 512, 600, 600)\n",
    "SaveImage(img, \"D:\\Documents\\GitHub\\VascuIAR\\DeepLearning\\data\\VnRawData\\TrainDataResized\\ct_0013_label.nii.gz\")"
   ]
  }
 ],
 "metadata": {
  "kernelspec": {
   "display_name": ".venv",
   "language": "python",
   "name": "python3"
  },
  "language_info": {
   "codemirror_mode": {
    "name": "ipython",
    "version": 3
   },
   "file_extension": ".py",
   "mimetype": "text/x-python",
   "name": "python",
   "nbconvert_exporter": "python",
   "pygments_lexer": "ipython3",
   "version": "3.10.0"
  }
 },
 "nbformat": 4,
 "nbformat_minor": 2
}
