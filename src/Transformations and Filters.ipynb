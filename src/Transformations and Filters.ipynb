{
 "cells": [
  {
   "cell_type": "code",
   "execution_count": 2,
   "metadata": {},
   "outputs": [
    {
     "name": "stdout",
     "output_type": "stream",
     "text": [
      "AntsPy version = 0.3.8\n",
      "SimpleITK version = 2.3.0\n"
     ]
    }
   ],
   "source": [
    "%matplotlib inline\n",
    "\n",
    "import os\n",
    "from helpers import *\n",
    "\n",
    "import ants\n",
    "import SimpleITK as sitk\n",
    "\n",
    "print(f'AntsPy version = {ants.__version__}')\n",
    "print(f'SimpleITK version = {sitk.__version__}')"
   ]
  },
  {
   "cell_type": "code",
   "execution_count": 10,
   "metadata": {},
   "outputs": [
    {
     "name": "stdout",
     "output_type": "stream",
     "text": [
      "project folder = e:\\ISEF\\VascuIAR\n"
     ]
    }
   ],
   "source": [
    "BASE_DIR = os.path.dirname(os.path.dirname(os.path.abspath(\"__file__\")))\n",
    "print(f'project folder = {BASE_DIR}')\n",
    "\n",
    "raw_examples = [\n",
    "    'fsl-open-dev_sub-001_T1w.nii.gz',\n",
    "    'wash-120_sub-001_T1w.nii.gz',\n",
    "    'kf-panda_sub-01_ses-3T_T1w.nii.gz',\n",
    "    'listen-task_sub-UTS01_ses-1_T1w.nii.gz'\n",
    "]"
   ]
  },
  {
   "cell_type": "code",
   "execution_count": 5,
   "metadata": {},
   "outputs": [
    {
     "name": "stdout",
     "output_type": "stream",
     "text": [
      "shape = (192, 192, 160) -> (Z, X, Y)\n"
     ]
    },
    {
     "data": {
      "application/vnd.jupyter.widget-view+json": {
       "model_id": "3b67924a2c9a44a083c8998c2f7c4c74",
       "version_major": 2,
       "version_minor": 0
      },
      "text/plain": [
       "interactive(children=(IntSlider(value=95, description='SLICE', max=191), Output()), _dom_classes=('widget-inte…"
      ]
     },
     "metadata": {},
     "output_type": "display_data"
    }
   ],
   "source": [
    "raw_img_path = os.path.join(BASE_DIR, 'src', 'assets', 'raw_examples', raw_examples[0])\n",
    "raw_img_ants = ants.image_read(raw_img_path, reorient='IAL') \n",
    "\n",
    "print(f'shape = {raw_img_ants.numpy().shape} -> (Z, X, Y)')\n",
    "\n",
    "explore_3D_array(\n",
    "    arr=raw_img_ants.numpy(),\n",
    "    cmap='viridis'\n",
    ")"
   ]
  },
  {
   "cell_type": "code",
   "execution_count": 6,
   "metadata": {},
   "outputs": [
    {
     "name": "stdout",
     "output_type": "stream",
     "text": [
      "shape = (120, 320, 320) -> (Z, X, Y)\n"
     ]
    },
    {
     "data": {
      "application/vnd.jupyter.widget-view+json": {
       "model_id": "db49934e1f254f06a36e5345a6c2375a",
       "version_major": 2,
       "version_minor": 0
      },
      "text/plain": [
       "interactive(children=(IntSlider(value=59, description='SLICE', max=119), Output()), _dom_classes=('widget-inte…"
      ]
     },
     "metadata": {},
     "output_type": "display_data"
    }
   ],
   "source": [
    "raw_img_ants = ants.image_read(\"assets/raw_examples/la_010.nii\", reorient='IAL') \n",
    "print(f'shape = {raw_img_ants.numpy().shape} -> (Z, X, Y)')\n",
    "\n",
    "explore_3D_array(\n",
    "    arr=raw_img_ants.numpy(),\n",
    "    cmap='viridis'\n",
    ")"
   ]
  },
  {
   "cell_type": "code",
   "execution_count": 7,
   "metadata": {},
   "outputs": [
    {
     "data": {
      "application/vnd.jupyter.widget-view+json": {
       "model_id": "8fc5dae2468343d3b34a789f414c981c",
       "version_major": 2,
       "version_minor": 0
      },
      "text/plain": [
       "interactive(children=(IntSlider(value=59, description='SLICE', max=119), Output()), _dom_classes=('widget-inte…"
      ]
     },
     "metadata": {},
     "output_type": "display_data"
    }
   ],
   "source": [
    "# Denoise\n",
    "transformed = ants.denoise_image(raw_img_ants, shrink_factor=8)\n",
    "\n",
    "explore_3D_array_comparison(\n",
    "    arr_before=raw_img_ants.numpy(),\n",
    "    arr_after=transformed.numpy(),\n",
    "    cmap='viridis'\n",
    ")"
   ]
  },
  {
   "cell_type": "code",
   "execution_count": 12,
   "metadata": {},
   "outputs": [
    {
     "data": {
      "application/vnd.jupyter.widget-view+json": {
       "model_id": "73cec45007d049c6a31ddc33b783627c",
       "version_major": 2,
       "version_minor": 0
      },
      "text/plain": [
       "interactive(children=(IntSlider(value=59, description='SLICE', max=119), Output()), _dom_classes=('widget-inte…"
      ]
     },
     "metadata": {},
     "output_type": "display_data"
    }
   ],
   "source": [
    "# Morphological operations\n",
    "\n",
    "\"\"\"\n",
    "operation to apply\n",
    "    \"close\" Morphological closing\n",
    "    \"dilate\" Morphological dilation\n",
    "    \"erode\" Morphological erosion\n",
    "    \"open\" Morphological opening\n",
    "\"\"\"\n",
    "\n",
    "transformed = ants.morphology(raw_img_ants, radius=1, operation='erode', mtype='grayscale')\n",
    "\n",
    "explore_3D_array_comparison(\n",
    "    arr_before=raw_img_ants.numpy(),\n",
    "    arr_after=transformed.numpy(),\n",
    "    cmap='viridis'\n",
    ")"
   ]
  },
  {
   "cell_type": "code",
   "execution_count": 3,
   "metadata": {},
   "outputs": [
    {
     "name": "stdout",
     "output_type": "stream",
     "text": [
      "shape = (120, 320, 320) -> (Z, X, Y)\n"
     ]
    },
    {
     "data": {
      "application/vnd.jupyter.widget-view+json": {
       "model_id": "b608be19ab6f4c428a6b4bc15ad97419",
       "version_major": 2,
       "version_minor": 0
      },
      "text/plain": [
       "interactive(children=(IntSlider(value=59, description='SLICE', max=119), Output()), _dom_classes=('widget-inte…"
      ]
     },
     "metadata": {},
     "output_type": "display_data"
    }
   ],
   "source": [
    "raw_img_sitk = sitk.ReadImage(\"assets/raw_examples/la_010.nii\", sitk.sitkFloat32)\n",
    "raw_img_sitk = sitk.DICOMOrient(raw_img_sitk,'RPS')\n",
    "\n",
    "print(f'shape = {sitk.GetArrayFromImage(raw_img_sitk).shape} -> (Z, X, Y)')\n",
    "explore_3D_array(\n",
    "    arr=sitk.GetArrayFromImage(raw_img_sitk),\n",
    "    cmap='viridis'\n",
    ")"
   ]
  },
  {
   "cell_type": "code",
   "execution_count": 15,
   "metadata": {},
   "outputs": [
    {
     "data": {
      "text/plain": [
       "[3, 3, 3]"
      ]
     },
     "execution_count": 15,
     "metadata": {},
     "output_type": "execute_result"
    }
   ],
   "source": [
    "[ 3 ] * raw_img_sitk.GetDimension() # shrink 3 times"
   ]
  },
  {
   "cell_type": "code",
   "execution_count": 18,
   "metadata": {},
   "outputs": [
    {
     "name": "stdout",
     "output_type": "stream",
     "text": [
      "shape before = (120, 320, 320)\n",
      "shape after = (40, 106, 106)\n"
     ]
    },
    {
     "data": {
      "application/vnd.jupyter.widget-view+json": {
       "model_id": "cacdccdd5bce4519b5373755e088f7ff",
       "version_major": 2,
       "version_minor": 0
      },
      "text/plain": [
       "interactive(children=(IntSlider(value=19, description='SLICE', max=39), Output()), _dom_classes=('widget-inter…"
      ]
     },
     "metadata": {},
     "output_type": "display_data"
    }
   ],
   "source": [
    "shrinkFactor = 3\n",
    "transformed = sitk.Shrink( raw_img_sitk, [ shrinkFactor ] * raw_img_sitk.GetDimension() )\n",
    "\n",
    "print(f'shape before = {sitk.GetArrayFromImage(raw_img_sitk).shape}')\n",
    "print(f'shape after = {sitk.GetArrayFromImage(transformed).shape}')\n",
    "\n",
    "explore_3D_array(sitk.GetArrayFromImage(transformed), cmap='gray')"
   ]
  },
  {
   "cell_type": "markdown",
   "metadata": {},
   "source": [
    "**Cropping**\n",
    "\n",
    "- Cropping takes the orientation of the pixels for the reference of lower & upper boundaries vectors\n",
    "- Pixel orientation = RPS = (left-to-Right, anterior-to-Posterior, inferior-to-Superior)"
   ]
  },
  {
   "cell_type": "code",
   "execution_count": 41,
   "metadata": {},
   "outputs": [
    {
     "name": "stdout",
     "output_type": "stream",
     "text": [
      "shape before = (120, 320, 320)\n",
      "shape after = (120, 140, 150)\n"
     ]
    },
    {
     "data": {
      "application/vnd.jupyter.widget-view+json": {
       "model_id": "ffb0d5ef76bd467d8145496dd3d1b143",
       "version_major": 2,
       "version_minor": 0
      },
      "text/plain": [
       "interactive(children=(IntSlider(value=59, description='SLICE', max=119), Output()), _dom_classes=('widget-inte…"
      ]
     },
     "metadata": {},
     "output_type": "display_data"
    }
   ],
   "source": [
    "# crop nothing\n",
    "# transformed = sitk.Crop(raw_img_sitk)\n",
    "# transformed = sitk.Crop(raw_img_sitk, (0,0,0), (0,0,0))\n",
    "\n",
    "# crop 40 from left to right             X,Y,Z\n",
    "# transformed = sitk.Crop(raw_img_sitk, (40,0,0), (0,0,0))\n",
    "\n",
    "# crop 40 from left to right, crop 30 from anterior to posterior\n",
    "transformed = sitk.Crop(raw_img_sitk, (70,80,0), (100,100,0))\n",
    "\n",
    "# crop 20 from left to right, crop 30 from anterior to posterior, \n",
    "# crop 10 from right to left, crop 5 from posterior to anterior. \n",
    "# transformed = sitk.Crop(raw_img_sitk, (20,30,0), (10,5,0)) \n",
    "\n",
    "# crop 40 from inferior to superior, crop 50 from superior to inferior\n",
    "# transformed = sitk.Crop(raw_img_sitk, (0,0,40), (0,0,50)) \n",
    "\n",
    "\n",
    "print(f'shape before = {sitk.GetArrayFromImage(raw_img_sitk).shape}')\n",
    "print(f'shape after = {sitk.GetArrayFromImage(transformed).shape}')\n",
    "\n",
    "explore_3D_array(sitk.GetArrayFromImage(transformed))"
   ]
  },
  {
   "cell_type": "code",
   "execution_count": 65,
   "metadata": {},
   "outputs": [
    {
     "data": {
      "application/vnd.jupyter.widget-view+json": {
       "model_id": "207984fce6734e71a9ef78db228050d2",
       "version_major": 2,
       "version_minor": 0
      },
      "text/plain": [
       "interactive(children=(IntSlider(value=59, description='SLICE', max=119), Output()), _dom_classes=('widget-inte…"
      ]
     },
     "metadata": {},
     "output_type": "display_data"
    }
   ],
   "source": [
    "transformed = sitk.Crop(raw_img_sitk, (70,80,0), (100,100,0))\n",
    "transformed = sitk.MomentsThreshold(transformed, 0, 1)\n",
    "\n",
    "explore_3D_array(\n",
    "    sitk.GetArrayFromImage(transformed)\n",
    ")"
   ]
  },
  {
   "cell_type": "code",
   "execution_count": 71,
   "metadata": {},
   "outputs": [
    {
     "data": {
      "application/vnd.jupyter.widget-view+json": {
       "model_id": "110ef0c094fe466f81e81ad6dd41af8b",
       "version_major": 2,
       "version_minor": 0
      },
      "text/plain": [
       "interactive(children=(IntSlider(value=59, description='SLICE', max=119), Output()), _dom_classes=('widget-inte…"
      ]
     },
     "metadata": {},
     "output_type": "display_data"
    }
   ],
   "source": [
    "transformed = sitk.Crop(raw_img_sitk, (70,80,0), (100,100,0))\n",
    "\n",
    "explore_3D_array(\n",
    "    sitk.GetArrayFromImage(transformed),\n",
    "    cmap=\"nipy_spectral\"\n",
    ")"
   ]
  },
  {
   "cell_type": "code",
   "execution_count": 47,
   "metadata": {},
   "outputs": [
    {
     "name": "stdout",
     "output_type": "stream",
     "text": [
      "<class 'numpy.ndarray'>\n"
     ]
    }
   ],
   "source": [
    "X = sitk.GetArrayFromImage(raw_img_sitk)\n",
    "print(type(X))"
   ]
  },
  {
   "cell_type": "code",
   "execution_count": 43,
   "metadata": {},
   "outputs": [
    {
     "data": {
      "text/plain": [
       "(0, 1907)"
      ]
     },
     "execution_count": 43,
     "metadata": {},
     "output_type": "execute_result"
    }
   ],
   "source": [
    "min_constant = int(sitk.GetArrayFromImage(raw_img_sitk).min())\n",
    "max_constant = int(sitk.GetArrayFromImage(raw_img_sitk).max())\n",
    "min_constant, max_constant"
   ]
  },
  {
   "cell_type": "code",
   "execution_count": 49,
   "metadata": {},
   "outputs": [
    {
     "name": "stdout",
     "output_type": "stream",
     "text": [
      "shape before = (120, 320, 320)\n",
      "shape after = (120, 343, 335)\n"
     ]
    },
    {
     "data": {
      "application/vnd.jupyter.widget-view+json": {
       "model_id": "888b4470764e4ff6b34a9e7ff0c6c114",
       "version_major": 2,
       "version_minor": 0
      },
      "text/plain": [
       "interactive(children=(IntSlider(value=59, description='SLICE', max=119), Output()), _dom_classes=('widget-inte…"
      ]
     },
     "metadata": {},
     "output_type": "display_data"
    }
   ],
   "source": [
    "# Padding (as Cropping) takes the orientation of the pixels for the reference of lower & upper boundaries vectors\n",
    "# Pixel orientation = RPS = (left-to-Right, anterior-to-Posterior, inferior-to-Superior)\n",
    "\n",
    "# pad nothing\n",
    "#transformed = sitk.ConstantPad(raw_img_sitk)\n",
    "#transformed = sitk.ConstantPad(raw_img_sitk,(0,0,0),(0,0,0), constant)\n",
    "\n",
    "# pad 10 from left to right\n",
    "#transformed = sitk.ConstantPad(raw_img_sitk,(10,0,0),(0,0,0),constant)\n",
    "\n",
    "# pad 10 from left to right, pad 15 from anterior to posterior\n",
    "#transformed = sitk.ConstantPad(raw_img_sitk,(10,15,0),(0,0,0),constant)\n",
    "\n",
    "# pad 10 from left to right, pad 15 from anterior to posterior, \n",
    "# pad 5 from right to left, pad 8 from posterior to anterior. \n",
    "transformed = sitk.ConstantPad(raw_img_sitk,(10,15,0),(5,8,0), max_constant) # fill padding with the max_constant pixel value\n",
    "\n",
    "\n",
    "print(f'shape before = {sitk.GetArrayFromImage(raw_img_sitk).shape}')\n",
    "print(f'shape after = {sitk.GetArrayFromImage(transformed).shape}')\n",
    "\n",
    "explore_3D_array(sitk.GetArrayFromImage(transformed), cmap='viridis')"
   ]
  },
  {
   "cell_type": "code",
   "execution_count": 50,
   "metadata": {},
   "outputs": [
    {
     "data": {
      "application/vnd.jupyter.widget-view+json": {
       "model_id": "85604b347f94498ca5c9c633bd8a03e8",
       "version_major": 2,
       "version_minor": 0
      },
      "text/plain": [
       "interactive(children=(IntSlider(value=59, description='SLICE', max=119), Output()), _dom_classes=('widget-inte…"
      ]
     },
     "metadata": {},
     "output_type": "display_data"
    }
   ],
   "source": [
    "# Denoise\n",
    "\n",
    "transformed = sitk.CurvatureFlow(raw_img_sitk)\n",
    "\n",
    "explore_3D_array_comparison(\n",
    "    arr_before=sitk.GetArrayFromImage(raw_img_sitk),\n",
    "    arr_after=sitk.GetArrayFromImage(transformed),\n",
    "    cmap='viridis'\n",
    ")"
   ]
  },
  {
   "cell_type": "code",
   "execution_count": 67,
   "metadata": {},
   "outputs": [
    {
     "data": {
      "application/vnd.jupyter.widget-view+json": {
       "model_id": "b2f216a01dfd487ca3319e8dff68ed30",
       "version_major": 2,
       "version_minor": 0
      },
      "text/plain": [
       "interactive(children=(IntSlider(value=59, description='SLICE', max=119), Output()), _dom_classes=('widget-inte…"
      ]
     },
     "metadata": {},
     "output_type": "display_data"
    }
   ],
   "source": [
    "\"\"\"\n",
    "sitk.GrayscaleMorphologicalClosing\n",
    "sitk.GrayscaleDilate\n",
    "sitk.GrayscaleErode\n",
    "sitk.GrayscaleMorphologicalOpening\n",
    "\n",
    "sitk.BinaryMorphologicalClosing\n",
    "sitk.BinaryDilate\n",
    "sitk.BinaryErode\n",
    "sitk.BinaryMorphologicalOpening\n",
    "\"\"\"\n",
    "\n",
    "transformed = sitk.GrayscaleMorphologicalOpening(raw_img_sitk)\n",
    "\n",
    "explore_3D_array_comparison(\n",
    "    arr_before=sitk.GetArrayFromImage(raw_img_sitk),\n",
    "    arr_after=sitk.GetArrayFromImage(transformed),\n",
    "    cmap='nipy_spectral'\n",
    ")"
   ]
  },
  {
   "cell_type": "code",
   "execution_count": null,
   "metadata": {},
   "outputs": [],
   "source": [
    "transformed = sitk.DiscreteGaussian(raw_img_sitk)\n",
    "\n",
    "explore_3D_array_comparison(\n",
    "    arr_before=sitk.GetArrayFromImage(raw_img_sitk),\n",
    "    arr_after=sitk.GetArrayFromImage(transformed),\n",
    "    cmap='viridis'\n",
    ")"
   ]
  },
  {
   "cell_type": "code",
   "execution_count": 63,
   "metadata": {},
   "outputs": [
    {
     "data": {
      "application/vnd.jupyter.widget-view+json": {
       "model_id": "7594b76db68441679c7dba470e68cb3b",
       "version_major": 2,
       "version_minor": 0
      },
      "text/plain": [
       "interactive(children=(IntSlider(value=59, description='SLICE', max=119), Output()), _dom_classes=('widget-inte…"
      ]
     },
     "metadata": {},
     "output_type": "display_data"
    }
   ],
   "source": [
    "\"\"\"\n",
    "sitk.OtsuThreshold\n",
    "sitk.LiThreshold\n",
    "sitk.TriangleThreshold\n",
    "sitk.MomentsThreshold\n",
    "\"\"\"\n",
    "\n",
    "transformed = sitk.MomentsThreshold(raw_img_sitk, 0, 1)\n",
    "\n",
    "explore_3D_array_comparison(\n",
    "    arr_before=sitk.GetArrayFromImage(raw_img_sitk),\n",
    "    arr_after=sitk.GetArrayFromImage(transformed)\n",
    ")"
   ]
  },
  {
   "cell_type": "code",
   "execution_count": 66,
   "metadata": {},
   "outputs": [
    {
     "name": "stdout",
     "output_type": "stream",
     "text": [
      "\tRaw img\n",
      "min  = 0.0\n",
      "max  = 1907.0\n",
      "mean = 167.14945483398438\n"
     ]
    }
   ],
   "source": [
    "stats = sitk.StatisticsImageFilter()\n",
    "stats.Execute(raw_img_sitk)\n",
    "\n",
    "\n",
    "print('\\tRaw img')\n",
    "print(\"min  =\", stats.GetMinimum())\n",
    "print(\"max  =\", stats.GetMaximum())\n",
    "print(\"mean =\", stats.GetMean())"
   ]
  },
  {
   "cell_type": "markdown",
   "metadata": {},
   "source": [
    "## Heed Mask"
   ]
  },
  {
   "cell_type": "code",
   "execution_count": 6,
   "metadata": {},
   "outputs": [
    {
     "data": {
      "application/vnd.jupyter.widget-view+json": {
       "model_id": "9eeee45258a4433c929527eb72c7a22e",
       "version_major": 2,
       "version_minor": 0
      },
      "text/plain": [
       "interactive(children=(IntSlider(value=59, description='SLICE', max=119), Output()), _dom_classes=('widget-inte…"
      ]
     },
     "metadata": {},
     "output_type": "display_data"
    }
   ],
   "source": [
    "transformed = sitk.RescaleIntensity(raw_img_sitk, 0, 255)\n",
    "\n",
    "#transformed = sitk.TriangleThreshold(transformed, 0, 1)\n",
    "transformed = sitk.LiThreshold(transformed,0,1)\n",
    "\n",
    "head_mask = transformed\n",
    "\n",
    "explore_3D_array_comparison(\n",
    "    arr_before=sitk.GetArrayFromImage(raw_img_sitk),\n",
    "    arr_after=sitk.GetArrayFromImage(head_mask),\n",
    ")"
   ]
  },
  {
   "cell_type": "code",
   "execution_count": 7,
   "metadata": {},
   "outputs": [],
   "source": [
    "shrinkFactor = 4\n",
    "inputImage = raw_img_sitk\n",
    "\n",
    "inputImage = sitk.Shrink( raw_img_sitk, [ shrinkFactor ] * inputImage.GetDimension() )\n",
    "maskImage = sitk.Shrink( head_mask, [ shrinkFactor ] * inputImage.GetDimension() )\n",
    "\n",
    "bias_corrector = sitk.N4BiasFieldCorrectionImageFilter()\n",
    "\n",
    "corrected = bias_corrector.Execute(inputImage, maskImage)"
   ]
  },
  {
   "cell_type": "code",
   "execution_count": 8,
   "metadata": {},
   "outputs": [
    {
     "data": {
      "application/vnd.jupyter.widget-view+json": {
       "model_id": "e6d8e4d409d94044a718c679052af6dd",
       "version_major": 2,
       "version_minor": 0
      },
      "text/plain": [
       "interactive(children=(IntSlider(value=59, description='SLICE', max=119), Output()), _dom_classes=('widget-inte…"
      ]
     },
     "metadata": {},
     "output_type": "display_data"
    }
   ],
   "source": [
    "log_bias_field = bias_corrector.GetLogBiasFieldAsImage(raw_img_sitk)\n",
    "corrected_image_full_resolution = raw_img_sitk / sitk.Exp( log_bias_field )\n",
    "\n",
    "explore_3D_array_comparison(\n",
    "    sitk.GetArrayFromImage(raw_img_sitk),\n",
    "    sitk.GetArrayFromImage(corrected_image_full_resolution), \n",
    "    cmap='nipy_spectral')"
   ]
  },
  {
   "cell_type": "code",
   "execution_count": 9,
   "metadata": {},
   "outputs": [
    {
     "data": {
      "application/vnd.jupyter.widget-view+json": {
       "model_id": "3b2c226a6be6430ba0891d45f015ad87",
       "version_major": 2,
       "version_minor": 0
      },
      "text/plain": [
       "interactive(children=(IntSlider(value=59, description='SLICE', max=119), Output()), _dom_classes=('widget-inte…"
      ]
     },
     "metadata": {},
     "output_type": "display_data"
    }
   ],
   "source": [
    "temp = sitk.Exp(log_bias_field)\n",
    "temp = sitk.Mask(temp, head_mask)\n",
    "explore_3D_array(sitk.GetArrayFromImage(temp), cmap='gray')"
   ]
  },
  {
   "cell_type": "code",
   "execution_count": 12,
   "metadata": {},
   "outputs": [
    {
     "name": "stdout",
     "output_type": "stream",
     "text": [
      "\\src\\assets\\raw_examples\\fsl-open-dev_sub-001_T1w.nii.gz\n",
      "\\src\\assets\\preprocessed\\fsl-open-dev_sub-001_T1w\\fsl-open-dev_sub-001_T1w_biasFieldCorrected.nii.gz\n"
     ]
    }
   ],
   "source": [
    "raw_example = raw_examples[0]\n",
    "raw_img_path = os.path.join(BASE_DIR, 'src', 'assets', 'raw_examples', raw_example)\n",
    "# Save imgs\n",
    "out_folder =  os.path.join(BASE_DIR, 'src', 'assets', 'preprocessed')\n",
    "out_folder = os.path.join(out_folder, raw_example.split('.')[0]) # create folder with name of the raw file\n",
    "os.makedirs(out_folder, exist_ok=True) # create folder if not exists\n",
    "\n",
    "out_filename = add_suffix_to_filename(raw_example, suffix='biasFieldCorrected')\n",
    "out_path = os.path.join(out_folder, out_filename)\n",
    "\n",
    "print(raw_img_path[len(BASE_DIR):])\n",
    "print(out_path[len(BASE_DIR):])"
   ]
  },
  {
   "cell_type": "code",
   "execution_count": 15,
   "metadata": {},
   "outputs": [],
   "source": [
    "sitk.WriteImage(corrected_image_full_resolution, \"assets/preprocessed/bias_corrected.nii\")"
   ]
  }
 ],
 "metadata": {
  "kernelspec": {
   "display_name": ".venv",
   "language": "python",
   "name": "python3"
  },
  "language_info": {
   "codemirror_mode": {
    "name": "ipython",
    "version": 3
   },
   "file_extension": ".py",
   "mimetype": "text/x-python",
   "name": "python",
   "nbconvert_exporter": "python",
   "pygments_lexer": "ipython3",
   "version": "3.10.2"
  },
  "orig_nbformat": 4
 },
 "nbformat": 4,
 "nbformat_minor": 2
}
