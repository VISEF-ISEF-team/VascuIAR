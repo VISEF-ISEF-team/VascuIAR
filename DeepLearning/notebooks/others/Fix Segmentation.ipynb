{
 "cells": [
  {
   "cell_type": "code",
   "execution_count": null,
   "metadata": {},
   "outputs": [],
   "source": [
    "import SimpleITK as sitk\n",
    "import nibabel as nib\n",
    "from supporters import *\n",
    "import pickle\n",
    "import os\n",
    "from pydicom import dcmread"
   ]
  },
  {
   "cell_type": "code",
   "execution_count": null,
   "metadata": {},
   "outputs": [],
   "source": [
    "explore_3D_array(seg)"
   ]
  },
  {
   "cell_type": "code",
   "execution_count": null,
   "metadata": {},
   "outputs": [],
   "source": [
    "def load_scan(path):\n",
    "    slices = [dcmread(path + '/' + s) for s in os.listdir(path)]\n",
    "    slices.sort(key = lambda x: float(x.ImagePositionPatient[2]))\n",
    "    try:\n",
    "        slice_thickness = np.abs(slices[0].ImagePositionPatient[2] - slices[1].ImagePositionPatient[2])\n",
    "    except:\n",
    "        slice_thickness = np.abs(slices[0].SliceLocation - slices[1].SliceLocation)\n",
    "    for s in slices:\n",
    "        s.SliceThickness = slice_thickness\n",
    "    return slices\n",
    "\n",
    "\n",
    "def get_pixels_hu(slices):\n",
    "    image = np.stack([s.pixel_array for s in slices])\n",
    "    image = image.astype(np.int16)\n",
    "    image[image == -2000] = 0\n",
    "    for slice_number in range(len(slices)):\n",
    "        intercept = slices[slice_number].RescaleIntercept\n",
    "        slope = slices[slice_number].RescaleSlope\n",
    "        if slope != 1:\n",
    "            image[slice_number] = slope * image[slice_number].astype(np.float64)\n",
    "            image[slice_number] = image[slice_number].astype(np.int16)\n",
    "        image[slice_number] += np.int16(intercept)  \n",
    "    return np.array(image, dtype=np.int16)\n",
    "\n",
    "\n",
    "INPUT_FOLDER = '../../data/PatientsDCM/'\n",
    "patients = os.listdir(INPUT_FOLDER)\n",
    "patients.sort()\n",
    "\n",
    "PAT = load_scan(INPUT_FOLDER + patients[14])\n",
    "PAT = get_pixels_hu(PAT)\n",
    "PAT.shape"
   ]
  },
  {
   "cell_type": "code",
   "execution_count": null,
   "metadata": {},
   "outputs": [],
   "source": [
    "ban_kinh = 150\n",
    "a = 150\n",
    "b = 300\n",
    "\n",
    "top = a - ban_kinh\n",
    "left = b - ban_kinh\n",
    "bottom = a + ban_kinh\n",
    "right = b + ban_kinh\n",
    "\n",
    "def euclidian_distance(x, y, a, b):\n",
    "    dis = ((x - a)**2 + (y - b)**2)**(1/2)\n",
    "    return dis\n",
    "\n",
    "crop_imgs = []\n",
    "def circling():\n",
    "    for index in range(PAT.shape[0]):\n",
    "        img = PAT[index]\n",
    "        for x in range(PAT.shape[1]):\n",
    "            for y in range(PAT.shape[2]):\n",
    "                if euclidian_distance(x, y, a, b) > ban_kinh:\n",
    "                    img[x,y] = -2000\n",
    "        img = img[int(top) : int(bottom), int(left) : int(right)]\n",
    "        crop_imgs.append(img)\n",
    "        \n",
    "circling()\n",
    "crop_imgs = np.array(crop_imgs)\n",
    "crop_imgs.shape"
   ]
  },
  {
   "cell_type": "code",
   "execution_count": null,
   "metadata": {},
   "outputs": [],
   "source": [
    "explore_3D_array(crop_imgs)"
   ]
  },
  {
   "cell_type": "code",
   "execution_count": null,
   "metadata": {},
   "outputs": [],
   "source": [
    "# Save into .nii.gz file\n",
    "def save(index_PAT):\n",
    "    index_PAT = '00' + str(index_PAT) if index_PAT < 10 else '0' + str(index_PAT)\n",
    "    out_path = f'../../data/PatientsDCM/Postprocessing/PAT{index_PAT}.nii.gz'\n",
    "    converted_array = np.array(crop_imgs, dtype=np.float32)\n",
    "    converted_array = np.transpose(converted_array, (2, 1, 0))\n",
    "    affine = np.eye(4)\n",
    "    nifti_file = nib.Nifti1Image(converted_array, affine)\n",
    "    nib.save(nifti_file, out_path)\n",
    "    \n",
    "save(15)"
   ]
  },
  {
   "cell_type": "code",
   "execution_count": null,
   "metadata": {},
   "outputs": [],
   "source": [
    "# Check\n",
    "img = sitk.ReadImage('../../data/PatientsDCM/Postprocessing/PAT015.nii.gz', sitk.sitkFloat32)\n",
    "img = sitk.GetArrayFromImage(img)\n",
    "print(img.shape)\n",
    "explore_3D_array(img)"
   ]
  },
  {
   "cell_type": "code",
   "execution_count": null,
   "metadata": {},
   "outputs": [],
   "source": [
    "path_to_seg = '../../data/PatientsDCM/Segmentation_Result/PAT015/3D_res/Segmentation.nii' \n",
    "\n",
    "seg = sitk.ReadImage(path_to_seg, sitk.sitkFloat32)\n",
    "seg = sitk.GetArrayFromImage(seg)\n",
    "print(seg.shape)"
   ]
  },
  {
   "cell_type": "code",
   "execution_count": null,
   "metadata": {},
   "outputs": [],
   "source": [
    "ban_kinh = 150\n",
    "a = 150\n",
    "b = 300\n",
    "\n",
    "top = a - ban_kinh\n",
    "left = b - ban_kinh\n",
    "bottom = a + ban_kinh\n",
    "right = b + ban_kinh\n",
    "\n",
    "def euclidian_distance(x, y, a, b):\n",
    "    dis = ((x - a)**2 + (y - b)**2)**(1/2)\n",
    "    return dis\n",
    "\n",
    "crop_seg = []\n",
    "def circling():\n",
    "    for index in range(seg.shape[0]):\n",
    "        img = seg[index]\n",
    "        for x in range(seg.shape[1]):\n",
    "            for y in range(seg.shape[2]):\n",
    "                if euclidian_distance(x, y, a, b) > ban_kinh:\n",
    "                    img[x,y] = 0\n",
    "        img = img[int(top) : int(bottom), int(left) : int(right)]\n",
    "        crop_seg.append(img)\n",
    "        \n",
    "circling()\n",
    "crop_seg = np.array(crop_seg)\n",
    "crop_seg.shape"
   ]
  },
  {
   "cell_type": "code",
   "execution_count": null,
   "metadata": {},
   "outputs": [],
   "source": [
    "explore_3D_array(crop_seg)"
   ]
  },
  {
   "cell_type": "code",
   "execution_count": null,
   "metadata": {},
   "outputs": [],
   "source": [
    "# Save into .nii.gz file\n",
    "def save(index_PAT):\n",
    "    index_PAT = '00' + str(index_PAT) if index_PAT < 10 else '0' + str(index_PAT)\n",
    "    out_path = f'../../data/PatientsDCM/Postprocessing/PAT{index_PAT}_label.nii.gz'\n",
    "    converted_array = np.array(crop_seg, dtype=np.float32)\n",
    "    converted_array = np.transpose(converted_array, (2, 1, 0))\n",
    "    affine = np.eye(4)\n",
    "    nifti_file = nib.Nifti1Image(converted_array, affine)\n",
    "    nib.save(nifti_file, out_path)\n",
    "    \n",
    "save(15)"
   ]
  }
 ],
 "metadata": {
  "kernelspec": {
   "display_name": ".venv",
   "language": "python",
   "name": "python3"
  },
  "language_info": {
   "codemirror_mode": {
    "name": "ipython",
    "version": 3
   },
   "file_extension": ".py",
   "mimetype": "text/x-python",
   "name": "python",
   "nbconvert_exporter": "python",
   "pygments_lexer": "ipython3",
   "version": "3.10.0"
  }
 },
 "nbformat": 4,
 "nbformat_minor": 2
}
