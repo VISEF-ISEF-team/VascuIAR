{
  "cells": [
    {
      "cell_type": "code",
      "execution_count": null,
      "metadata": {
        "colab": {
          "base_uri": "https://localhost:8080/"
        },
        "id": "AVhSefR6728U",
        "outputId": "ce438a97-fc48-4403-cee7-a7bc55b8c820"
      },
      "outputs": [],
      "source": [
        "from google.colab import drive\n",
        "drive.mount('/content/drive')"
      ]
    },
    {
      "cell_type": "code",
      "execution_count": null,
      "metadata": {
        "id": "XkBdifpH6eKN"
      },
      "outputs": [],
      "source": [
        "import pydicom\n",
        "import tensorflow as tf\n",
        "from tensorflow.keras import layers\n",
        "import pandas as pd\n",
        "import PIL\n",
        "import plotly.graph_objects as go\n",
        "import matplotlib.pyplot as plt\n",
        "import numpy as np\n",
        "import glob\n",
        "import os\n",
        "import cv2\n",
        "from skimage import measure\n",
        "import scipy\n",
        "from plotly.tools import FigureFactory as FF\n",
        "from plotly.graph_objs import *\n",
        "from scipy.ndimage import zoom\n",
        "from plotly.offline import download_plotlyjs, init_notebook_mode, plot, iplot\n",
        "import plotly.express as px"
      ]
    },
    {
      "cell_type": "code",
      "execution_count": null,
      "metadata": {
        "id": "PKWI_KSL9o3Y"
      },
      "outputs": [],
      "source": [
        "def load_scan(path):\n",
        "    slices = [pydicom.read_file(path + \"/\" + s) for s in os.listdir(path) ]\n",
        "    slices.sort(key = lambda x: int(x.AcquisitionNumber))\n",
        "    try:\n",
        "        slice_thickness = np.abs(slices[0].ImagePositionPatient[2] - slices[1].ImagePositionPatient[2])\n",
        "    except:\n",
        "        slice_thickness = np.abs(slices[0].SliceLocation - slices[1].SliceLocation)\n",
        "\n",
        "    for s in slices:\n",
        "        s.SliceThickness = slice_thickness\n",
        "        s.SamplesPerPixel = 1\n",
        "\n",
        "    return slices"
      ]
    },
    {
      "cell_type": "markdown",
      "metadata": {
        "id": "PoNH3Hen_hG8"
      },
      "source": [
        "$$\\text{HU} = \\text{pixel} \\times \\text{slope} + \\text{intercept}$$"
      ]
    },
    {
      "cell_type": "code",
      "execution_count": null,
      "metadata": {
        "id": "GWYSp8oO-14a"
      },
      "outputs": [],
      "source": [
        "def get_pixels_hu(scans):\n",
        "    image = np.stack([s.pixel_array for s in scans[:100]])\n",
        "\n",
        "    # Convert to int16 (from sometimes int16), should be possible as values should always be low enough (<32k)\n",
        "    image = image.astype(np.int16)\n",
        "\n",
        "    # Set outside-of-scan pixels to 1. The intercept is usually -1024, so air is approximately 0\n",
        "    image[image == -2000] = 0\n",
        "\n",
        "    # Convert to Hounsfield units (HU)\n",
        "    intercept = scans[0].RescaleIntercept\n",
        "    slope = scans[0].RescaleSlope\n",
        "\n",
        "    if slope != 1:\n",
        "        image = slope * image.astype(np.float64)\n",
        "        image = image.astype(np.int16)\n",
        "\n",
        "    image += np.int16(intercept)\n",
        "    return np.array(image, dtype=np.int16)"
      ]
    },
    {
      "cell_type": "code",
      "execution_count": null,
      "metadata": {
        "id": "82fPUAvR_J6e"
      },
      "outputs": [],
      "source": [
        "def make_mesh(image,threshold=100):\n",
        "    print( \"Transposing surface\")\n",
        "    p = image.transpose(2,1,0)\n",
        "    print( \"Calculating surface\")\n",
        "    verts, faces, norm, val = measure.marching_cubes(p, threshold)\n",
        "    return verts, faces"
      ]
    },
    {
      "cell_type": "code",
      "execution_count": null,
      "metadata": {
        "id": "IDd0_e5XAHQl"
      },
      "outputs": [],
      "source": [
        "def plotly_3d(verts, faces):\n",
        "    x, y, z = zip(*verts)\n",
        "    print(\"Drawing\")\n",
        "\n",
        "    # Make the colormap single color since the axes are positional not intensity.\n",
        "    colormap=['rgb(255,105,180)','rgb(255,255,51)','rgb(0,191,255)']\n",
        "\n",
        "    # colormap = ['rgb(100,149,237)','rgb(100,149,237)']\n",
        "    # mesh.set_facecolor(face_color)\n",
        "    fig = FF.create_trisurf(x=x,\n",
        "                            y=y,\n",
        "                            z=z,\n",
        "                            plot_edges=False,\n",
        "                            colormap=colormap,\n",
        "                            simplices=faces,\n",
        "                            backgroundcolor='rgb(64, 64, 64)',\n",
        "                            title=\"Interactive Visualization\")\n",
        "    iplot(fig)"
      ]
    },
    {
      "cell_type": "code",
      "execution_count": null,
      "metadata": {
        "id": "ZGJadEfRC96W"
      },
      "outputs": [],
      "source": [
        "def get_y(df):\n",
        "    dic = {True:1, False:0}\n",
        "    df['Contrast'] = df['Contrast'].map(dic)\n",
        "    y = df['Contrast'].values\n",
        "    return y\n",
        "\n",
        "\n",
        "def get_y(df):\n",
        "    dic = {True:1, False:0}\n",
        "    df.Contrast = df.Contrast.map(dic)\n",
        "    y = df.Contrast.values\n",
        "    return y"
      ]
    },
    {
      "cell_type": "code",
      "execution_count": null,
      "metadata": {
        "id": "cczclgLpDBYP"
      },
      "outputs": [],
      "source": [
        "path = \"/content/drive/MyDrive/ISEF/dicom_dir\"\n",
        "patient = load_scan(path)"
      ]
    },
    {
      "cell_type": "code",
      "execution_count": null,
      "metadata": {
        "colab": {
          "base_uri": "https://localhost:8080/"
        },
        "id": "hAPj0etzDTtQ",
        "outputId": "940e81e7-419e-400b-e7b6-fe93c2d1cc30"
      },
      "outputs": [],
      "source": [
        "patient"
      ]
    },
    {
      "cell_type": "code",
      "execution_count": null,
      "metadata": {
        "colab": {
          "base_uri": "https://localhost:8080/"
        },
        "id": "XDDPC0XOD_Yg",
        "outputId": "1a3cd966-c14c-4fd0-af09-4e8332d062d7"
      },
      "outputs": [],
      "source": [
        "patient[1].PatientAge, patient[1].PatientSex"
      ]
    },
    {
      "cell_type": "code",
      "execution_count": null,
      "metadata": {
        "colab": {
          "base_uri": "https://localhost:8080/"
        },
        "id": "SaH_ft2qDjB8",
        "outputId": "42dc2a79-d321-4ff3-be58-f1b9d2993354"
      },
      "outputs": [],
      "source": [
        "print(type(patient))"
      ]
    },
    {
      "cell_type": "code",
      "execution_count": null,
      "metadata": {
        "id": "Zch6qBYQDPQV"
      },
      "outputs": [],
      "source": [
        "imgs = get_pixels_hu(patient)"
      ]
    },
    {
      "cell_type": "code",
      "execution_count": null,
      "metadata": {
        "colab": {
          "base_uri": "https://localhost:8080/"
        },
        "id": "RFh4wz_qDnkB",
        "outputId": "28e3ce85-84db-4b6d-a473-0678eedeab5c"
      },
      "outputs": [],
      "source": [
        "imgs"
      ]
    },
    {
      "cell_type": "code",
      "execution_count": null,
      "metadata": {
        "colab": {
          "base_uri": "https://localhost:8080/",
          "height": 1000
        },
        "id": "U6RuRV0FDqrJ",
        "outputId": "996c975f-a614-40e6-ba96-a32b69f4f7d5"
      },
      "outputs": [],
      "source": [
        "fig = plt.figure(figsize=(20,20))\n",
        "for num, image in enumerate(imgs[:12]):\n",
        "    ax = fig.add_subplot(3, 4, num + 1)\n",
        "    ax.imshow(image, cmap=plt.cm.bone)\n",
        "    ax.set_title(f\"The age of this patient:{patient[num].PatientAge}\\nAnd is a {patient[num].PatientSex}\")\n",
        "plt.show()"
      ]
    },
    {
      "cell_type": "code",
      "execution_count": null,
      "metadata": {
        "colab": {
          "base_uri": "https://localhost:8080/"
        },
        "id": "rhS_rSfMEPjs",
        "outputId": "9a85535f-2246-420c-b58e-4e3731d4321b"
      },
      "outputs": [],
      "source": [
        "type(image[1]), image[1].shape"
      ]
    },
    {
      "cell_type": "code",
      "execution_count": null,
      "metadata": {
        "colab": {
          "base_uri": "https://localhost:8080/",
          "height": 453
        },
        "id": "d34pKQAkGCJ9",
        "outputId": "c9746c60-e562-404c-8615-860d1e368e6c"
      },
      "outputs": [],
      "source": [
        "import random\n",
        "n = random.randint(13, 30)\n",
        "\n",
        "img = np.copy(imgs[n])\n",
        "plt.imshow(img, cmap=plt.cm.bone)"
      ]
    },
    {
      "cell_type": "code",
      "execution_count": null,
      "metadata": {
        "colab": {
          "base_uri": "https://localhost:8080/",
          "height": 542
        },
        "id": "WkwHHf5OF0Ol",
        "outputId": "0c445923-9615-49cc-9117-d182a8b2bf91"
      },
      "outputs": [],
      "source": [
        "img = np.copy(imgs[0])\n",
        "fig = px.histogram(x=img.flatten())\n",
        "fig.show()"
      ]
    },
    {
      "cell_type": "code",
      "execution_count": null,
      "metadata": {
        "colab": {
          "base_uri": "https://localhost:8080/",
          "height": 542
        },
        "id": "GaHOCtprFkNx",
        "outputId": "efb7fb3c-8915-45ad-8a18-f44ac63b59a0"
      },
      "outputs": [],
      "source": [
        "def raw_regions(img):\n",
        "  seg1 = (img < -2000)\n",
        "  seg2 = (img > -2000) & (img < -1000)\n",
        "  seg3 = (img > -1000) & (img < -500)\n",
        "  seg4 = (img > -500)\n",
        "  return seg1, seg2, seg3, seg4\n",
        "\n",
        "def raw_color_seg(img):\n",
        "  seg1, seg2, seg3, seg4 = raw_regions(img)\n",
        "  all_seg = np.zeros((img.shape[0],img.shape[1], 3))\n",
        "  all_seg[seg1] = (1,0,0)\n",
        "  all_seg[seg2] = (0,1,0)\n",
        "  all_seg[seg3] = (0,0,1)\n",
        "  all_seg[seg4] = (1,1,0)\n",
        "  return all_seg\n",
        "\n",
        "all_seg = raw_color_seg(img)\n",
        "fig = px.imshow(all_seg)\n",
        "fig.show()"
      ]
    },
    {
      "cell_type": "code",
      "execution_count": null,
      "metadata": {
        "colab": {
          "base_uri": "https://localhost:8080/",
          "height": 435
        },
        "id": "RNS5YCIMIk2J",
        "outputId": "7d683fa6-153b-4296-af00-8674aeca51f8"
      },
      "outputs": [],
      "source": [
        "all_seg = raw_color_seg(img)\n",
        "plt.imshow(all_seg)\n",
        "plt.show()"
      ]
    },
    {
      "cell_type": "code",
      "execution_count": null,
      "metadata": {
        "colab": {
          "base_uri": "https://localhost:8080/",
          "height": 542
        },
        "id": "Qwa46d-sI_Me",
        "outputId": "45373446-9aa6-4c04-ba51-798b04524a5e"
      },
      "outputs": [],
      "source": [
        "seg1, seg2, seg3, seg4 = raw_regions(img)\n",
        "all_seg[seg1] = (1,1,1)\n",
        "all_seg[seg2] = (1,1,1)\n",
        "all_seg[seg3] = (0,0,1)\n",
        "all_seg[seg4] = (1,1,1)\n",
        "\n",
        "\n",
        "kernel = np.ones((2,2),np.uint8)\n",
        "erosion = cv2.erode(all_seg,kernel, iterations = 1)\n",
        "dilation = cv2.dilate(all_seg,kernel, iterations = 1)\n",
        "fig = px.imshow(all_seg, color_continuous_scale='gray')\n",
        "fig.show()"
      ]
    },
    {
      "cell_type": "code",
      "execution_count": null,
      "metadata": {
        "colab": {
          "base_uri": "https://localhost:8080/",
          "height": 453
        },
        "id": "Ras-Yq-TKpMz",
        "outputId": "d7e80efe-6386-467b-9dad-607bf02eaff3"
      },
      "outputs": [],
      "source": [
        "img = cv2.rectangle(all_seg, (50,80),(446,389),(0,0,255), 2)\n",
        "plt.imshow(img, cmap=plt.cm.bone)\n",
        "plt.show()"
      ]
    },
    {
      "cell_type": "code",
      "execution_count": null,
      "metadata": {
        "colab": {
          "base_uri": "https://localhost:8080/",
          "height": 435
        },
        "id": "xWravRceK-ti",
        "outputId": "b4864489-b510-4e06-8c26-78e36d7eab10"
      },
      "outputs": [],
      "source": [
        "img1 = np.copy(imgs[0])\n",
        "img1[img1 >= -500] = 255\n",
        "img1[img1 <= -1000] = 255\n",
        "kernel = np.ones((2,2),np.uint16)\n",
        "erosion = cv2.erode(img1, kernel, iterations = 2)\n",
        "plt.imshow(erosion, cmap=plt.cm.gray)\n",
        "plt.show()"
      ]
    },
    {
      "cell_type": "code",
      "execution_count": null,
      "metadata": {
        "colab": {
          "base_uri": "https://localhost:8080/",
          "height": 435
        },
        "id": "fF9r3OLiLIwS",
        "outputId": "a0a1ea63-0656-461f-df5d-0a237258c435"
      },
      "outputs": [],
      "source": [
        "edged = cv2.Canny(erosion.astype(np.uint8), 30, 200)\n",
        "plt.imshow(edged,plt.cm.bone)\n",
        "plt.show()"
      ]
    },
    {
      "cell_type": "code",
      "execution_count": null,
      "metadata": {
        "colab": {
          "base_uri": "https://localhost:8080/",
          "height": 542
        },
        "id": "aRg5D_nVLMM9",
        "outputId": "c42f292e-855a-4744-d75f-2aa75ccfc069"
      },
      "outputs": [],
      "source": [
        "kernel = np.ones((5,5),np.uint8)\n",
        "x,y,w,h =  50, 80 ,446, 389\n",
        "ROI = erosion[y:h, x:w]\n",
        "\n",
        "# plt.imshow(ROI, plt.cm.bone)\n",
        "# Iterate thorugh contours and filter for ROI\n",
        "fig = px.imshow(ROI, color_continuous_scale = \"gray\")\n",
        "fig.show()"
      ]
    },
    {
      "cell_type": "code",
      "execution_count": null,
      "metadata": {
        "colab": {
          "base_uri": "https://localhost:8080/",
          "height": 946
        },
        "id": "pQqJX5ghLXkT",
        "outputId": "ceb222a6-cc00-4c8e-f362-08554f8d5509"
      },
      "outputs": [],
      "source": [
        "zoomed = zoom(imgs.astype(np.float32), 0.25)\n",
        "v, f = make_mesh(zoomed,threshold=-350)\n",
        "plotly_3d(v, f)\n",
        "volume=zoomed"
      ]
    },
    {
      "cell_type": "code",
      "execution_count": null,
      "metadata": {
        "colab": {
          "base_uri": "https://localhost:8080/",
          "height": 617
        },
        "id": "zBNtrDMoMoVP",
        "outputId": "a9a8fb9b-f6da-4629-f482-885c9f6500f0"
      },
      "outputs": [],
      "source": [
        "r, c = volume[6].shape\n",
        "# Define frames\n",
        "import plotly.graph_objects as go\n",
        "nb_frames = 25\n",
        "fig = go.Figure(frames=[go.Frame(data=go.Surface(\n",
        "    z=(6.7 - k * 0.1) * np.ones((r, c)),\n",
        "    surfacecolor=np.flipud(volume[24 - k]),\n",
        "    cmin=0, cmax=200\n",
        "    ),\n",
        "    name=str(k)\n",
        "    )\n",
        "    for k in range(nb_frames)])\n",
        "\n",
        "# Add data to be displayed before animation starts\n",
        "fig.add_trace(go.Surface(\n",
        "    z=6.7 * np.ones((r, c)),\n",
        "    surfacecolor=np.flipud(volume[24]),\n",
        "    colorscale=\"gray\",\n",
        "    cmin=0, cmax=200,\n",
        "    colorbar=dict(thickness=20, ticklen=4)\n",
        "    ))\n",
        "\n",
        "\n",
        "def frame_args(duration):\n",
        "    return {\n",
        "            \"frame\": {\"duration\": 1500},\n",
        "            \"mode\": \"immediate\",\n",
        "            \"fromcurrent\": True,\n",
        "            \"transition\": {\"duration\": 1500, \"easing\": \"linear\"},\n",
        "        }\n",
        "\n",
        "sliders = [\n",
        "            {\n",
        "                \"pad\": {\"b\": 10, \"t\": 60},\n",
        "                \"len\": 0.9,\n",
        "                \"x\": 0.1,\n",
        "                \"y\": 0,\n",
        "                \"steps\": [\n",
        "                    {\n",
        "                        \"args\": [[f.name], frame_args(0)],\n",
        "                        \"label\": str(k),\n",
        "                        \"method\": \"animate\",\n",
        "                    }\n",
        "                    for k, f in enumerate(fig.frames)\n",
        "                ],\n",
        "            }\n",
        "        ]\n",
        "\n",
        "fig.update_layout(\n",
        "         title='Slices in volumetric ',\n",
        "         width=600,\n",
        "         height=600,\n",
        "         scene=dict(\n",
        "                    zaxis=dict(range=[-0.1, 6.8], autorange=False),\n",
        "                    aspectratio=dict(x=1, y=1, z=1),\n",
        "                    ),\n",
        "         updatemenus = [\n",
        "            {\n",
        "                \"buttons\": [\n",
        "                    {\n",
        "                        \"args\": [None, frame_args(50)],\n",
        "                        \"label\": \"&#9654;\",\n",
        "                        \"method\": \"animate\",\n",
        "                    },\n",
        "                    {\n",
        "                        \"args\": [[None], frame_args(0)],\n",
        "                        \"label\": \"&#9724;\", # pause symbol\n",
        "                        \"method\": \"animate\",\n",
        "                    },\n",
        "                ],\n",
        "                \"direction\": \"left\",\n",
        "                \"pad\": {\"r\": 10, \"t\": 70},\n",
        "                \"type\": \"buttons\",\n",
        "                \"x\": 0.1,\n",
        "                \"y\": 0,\n",
        "            }\n",
        "         ],\n",
        "         sliders=sliders\n",
        ")\n",
        "fig.show()"
      ]
    },
    {
      "cell_type": "code",
      "execution_count": null,
      "metadata": {
        "colab": {
          "base_uri": "https://localhost:8080/",
          "height": 330
        },
        "id": "q02KZi-HNIAp",
        "outputId": "6eb52b29-01a9-4877-9ac2-a37dd2434b32"
      },
      "outputs": [],
      "source": [
        "df = pd.read_csv('/content/drive/MyDrive/ISEF/overview.csv')\n",
        "df.head()"
      ]
    },
    {
      "cell_type": "code",
      "execution_count": null,
      "metadata": {
        "colab": {
          "base_uri": "https://localhost:8080/"
        },
        "id": "mcFOT5ViNM6B",
        "outputId": "04dc7773-ad7d-454e-e2c1-8ea406124989"
      },
      "outputs": [],
      "source": [
        "y = get_y(df)\n",
        "y"
      ]
    },
    {
      "cell_type": "code",
      "execution_count": null,
      "metadata": {
        "id": "lZSyq-lsNu3C"
      },
      "outputs": [],
      "source": [
        "model = tf.keras.Sequential([\n",
        "  layers.Conv2D(32, (3, 3), activation='relu', input_shape=(512, 512, 1)),\n",
        "  layers.MaxPooling2D((2, 2)),\n",
        "  layers.Conv2D(64, (3, 3), activation='relu'),\n",
        "  layers.MaxPooling2D((2, 2)),\n",
        "  layers.Conv2D(64, (3, 3), activation='relu'),\n",
        "  layers.Flatten(),\n",
        "  layers.Dense(64, activation='relu'),\n",
        "  layers.Dense(2)\n",
        "])"
      ]
    },
    {
      "cell_type": "code",
      "execution_count": null,
      "metadata": {
        "id": "7YtldA7BPJaZ"
      },
      "outputs": [],
      "source": [
        "model = tf.keras.models.Sequential()\n",
        "model.add(layers.Conv2D(32,(3,3),activation='relu',input_shape=(512, 512, 1)))\n",
        "model.add(layers.MaxPooling2D((2, 2)))\n",
        "model.add(layers.Conv2D(64, (3, 3), activation='relu'))\n",
        "model.add(layers.MaxPooling2D((2, 2)))\n",
        "model.add(layers.Conv2D(64, (3, 3), activation='relu'))\n",
        "model.add(layers.Flatten())\n",
        "model.add(layers.Dense(64, activation='relu'))\n",
        "model.add(layers.Dense(2))"
      ]
    },
    {
      "cell_type": "code",
      "execution_count": null,
      "metadata": {
        "colab": {
          "base_uri": "https://localhost:8080/"
        },
        "id": "nj6u3gxDOAUu",
        "outputId": "5d10d14c-d2de-49ec-b19c-14c6aec8a6c7"
      },
      "outputs": [],
      "source": [
        "model.summary()"
      ]
    },
    {
      "cell_type": "code",
      "execution_count": null,
      "metadata": {
        "id": "kJpQC5VnOEob"
      },
      "outputs": [],
      "source": [
        "X = imgs.reshape([-1,512, 512, 1])\n",
        "train_ds = tf.data.Dataset.from_tensor_slices((X, y)).shuffle(10000).batch(100)\n",
        "\n",
        "Xtrain, ytrain = [], []\n",
        "\n",
        "for i ,g in train_ds:\n",
        "    Xtrain.append(i)\n",
        "    ytrain.append(g)"
      ]
    },
    {
      "cell_type": "code",
      "execution_count": null,
      "metadata": {
        "colab": {
          "base_uri": "https://localhost:8080/"
        },
        "id": "oPVuROroOlwM",
        "outputId": "806a3004-0d0b-4078-8034-9ed9f8e84db2"
      },
      "outputs": [],
      "source": [
        "Xtrain = np.array(Xtrain)\n",
        "ytrain = np.array(ytrain)\n",
        "Xtrain.shape, ytrain.shape"
      ]
    },
    {
      "cell_type": "code",
      "execution_count": null,
      "metadata": {
        "id": "OUHQu8lROaIv"
      },
      "outputs": [],
      "source": [
        "model.compile(optimizer='adam',\n",
        "              loss=tf.keras.losses.sparse_categorical_crossentropy,\n",
        "              metrics=['accuracy'])\n",
        "\n",
        "history = model.fit(Xtrain,ytrain, epochs=10, validation_split=0.1)"
      ]
    }
  ],
  "metadata": {
    "colab": {
      "provenance": []
    },
    "kernelspec": {
      "display_name": "Python 3",
      "name": "python3"
    },
    "language_info": {
      "name": "python"
    }
  },
  "nbformat": 4,
  "nbformat_minor": 0
}
