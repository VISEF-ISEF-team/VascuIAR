{
 "cells": [
  {
   "cell_type": "code",
   "execution_count": 3,
   "metadata": {},
   "outputs": [],
   "source": [
    "from supporters import *\n",
    "from keras.utils import normalize\n",
    "import os\n",
    "import glob\n",
    "import cv2\n",
    "import numpy as np\n",
    "from matplotlib import pyplot as plt\n",
    "import SimpleITK as sitk\n",
    "import imageio\n",
    "import nibabel as nib\n",
    "import cv2\n",
    "import tensorflow as tf"
   ]
  },
  {
   "cell_type": "code",
   "execution_count": 5,
   "metadata": {},
   "outputs": [],
   "source": [
    "model = tf.keras.models.load_model('../../model/training/models/model_multi_v1.h5')"
   ]
  },
  {
   "cell_type": "code",
   "execution_count": 8,
   "metadata": {},
   "outputs": [
    {
     "data": {
      "text/plain": [
       "(248, 512, 512)"
      ]
     },
     "execution_count": 8,
     "metadata": {},
     "output_type": "execute_result"
    }
   ],
   "source": [
    "# Load sample and see what output is\n",
    "sample = sitk.ReadImage('../../data/MM_WHS/train_images/ct_train_1006_image.nii.gz', sitk.sitkFloat32)\n",
    "sample = sitk.GetArrayFromImage(sample)\n",
    "sample.shape"
   ]
  },
  {
   "cell_type": "code",
   "execution_count": 9,
   "metadata": {},
   "outputs": [
    {
     "data": {
      "text/plain": [
       "(248, 512, 512, 1)"
      ]
     },
     "execution_count": 9,
     "metadata": {},
     "output_type": "execute_result"
    }
   ],
   "source": [
    "sample = np.expand_dims(sample, axis=3)\n",
    "sample = normalize(sample, axis=1)\n",
    "sample.shape"
   ]
  },
  {
   "cell_type": "code",
   "execution_count": null,
   "metadata": {},
   "outputs": [],
   "source": [
    "y_pred = model.predict(sample)\n",
    "y_pred"
   ]
  },
  {
   "cell_type": "code",
   "execution_count": 11,
   "metadata": {},
   "outputs": [],
   "source": [
    "y_pred_argmax = np.argmax(y_pred, axis=3)"
   ]
  },
  {
   "cell_type": "code",
   "execution_count": 13,
   "metadata": {},
   "outputs": [],
   "source": [
    "y_res2 = np.array([ 205., 420., 500., 550., 600., 820., 850.])\n",
    "y_mapped = np.take(y_res2, y_pred_argmax)"
   ]
  },
  {
   "cell_type": "code",
   "execution_count": 20,
   "metadata": {},
   "outputs": [
    {
     "data": {
      "text/plain": [
       "array([205., 420., 500., 550., 850.])"
      ]
     },
     "execution_count": 20,
     "metadata": {},
     "output_type": "execute_result"
    }
   ],
   "source": [
    "np.unique(y_mapped)"
   ]
  },
  {
   "cell_type": "code",
   "execution_count": 21,
   "metadata": {},
   "outputs": [],
   "source": [
    "import nibabel as nib\n",
    "import numpy as np\n",
    "from stl import mesh\n",
    "from skimage import measure\n",
    "from vedo import load, Volume, show, Plotter\n",
    "from vedo.applications import RayCastPlotter\n",
    "import os\n",
    "import SimpleITK as sitk"
   ]
  },
  {
   "cell_type": "code",
   "execution_count": null,
   "metadata": {},
   "outputs": [],
   "source": [
    "def segmented_reconstruction(y_mapped):\n",
    "    whole_heart_flattened = y_mapped.flatten()\n",
    "    unique_values, counts = np.unique(whole_heart_flattened, return_counts=True)\n",
    "    label_arrays = []\n",
    "\n",
    "    # Loop through the unique values\n",
    "    for value in unique_values: \n",
    "        label_array = np.copy(y_mapped) \n",
    "        label_array[np.where(label_array != value)] = 0 \n",
    "        label_arrays.append(label_array)\n",
    "\n",
    "    # Loop through classes and create mesh\n",
    "    for i, label_array in enumerate(label_arrays): \n",
    "        \n",
    "        verts, faces, normals, values = measure.marching_cubes(label_arrays[i], 0)\n",
    "        obj_3d = mesh.Mesh(np.zeros(faces.shape[0], dtype=mesh.Mesh.dtype))\n",
    "        \n",
    "        for j, f in enumerate(faces):\n",
    "            obj_3d.vectors[j] = verts[f]\n",
    "\n",
    "        # Save the STL file with the name and the path\n",
    "        obj_3d.save(f'../../3D_reconstruction/predicted_res/cardiac_class_{i+1}.stl')\n",
    "        \n",
    "segmented_reconstruction(y_mapped)"
   ]
  }
 ],
 "metadata": {
  "kernelspec": {
   "display_name": ".venv",
   "language": "python",
   "name": "python3"
  },
  "language_info": {
   "codemirror_mode": {
    "name": "ipython",
    "version": 3
   },
   "file_extension": ".py",
   "mimetype": "text/x-python",
   "name": "python",
   "nbconvert_exporter": "python",
   "pygments_lexer": "ipython3",
   "version": "3.10.0"
  }
 },
 "nbformat": 4,
 "nbformat_minor": 2
}
