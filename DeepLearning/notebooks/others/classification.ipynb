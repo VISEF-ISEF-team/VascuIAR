{
 "cells": [
  {
   "cell_type": "code",
   "execution_count": 16,
   "metadata": {},
   "outputs": [
    {
     "name": "stdout",
     "output_type": "stream",
     "text": [
      "SimpleITK version = 2.3.0\n"
     ]
    }
   ],
   "source": [
    "%matplotlib inline\n",
    "\n",
    "import os\n",
    "from supporters import *\n",
    "import SimpleITK as sitk\n",
    "print(f'SimpleITK version = {sitk.__version__}')"
   ]
  },
  {
   "cell_type": "code",
   "execution_count": 24,
   "metadata": {},
   "outputs": [],
   "source": [
    "import nibabel as nib\n",
    "import numpy as np\n",
    "from stl import mesh\n",
    "from skimage import measure\n",
    "from vedo import load, Volume, show, Plotter\n",
    "from vedo.applications import RayCastPlotter\n",
    "import os\n",
    "import SimpleITK as sitk"
   ]
  },
  {
   "cell_type": "code",
   "execution_count": 17,
   "metadata": {},
   "outputs": [
    {
     "data": {
      "text/plain": [
       "(363, 512, 512)"
      ]
     },
     "execution_count": 17,
     "metadata": {},
     "output_type": "execute_result"
    }
   ],
   "source": [
    "ground_truth = sitk.ReadImage(\"../../data/MM_WHS/ct_train/new_label_1001.nii.gz\", sitk.sitkFloat32)\n",
    "ground_truth = sitk.GetArrayFromImage(ground_truth)\n",
    "ground_truth.shape"
   ]
  },
  {
   "cell_type": "code",
   "execution_count": null,
   "metadata": {},
   "outputs": [],
   "source": [
    "explore_3D_array(ground_truth)"
   ]
  },
  {
   "cell_type": "code",
   "execution_count": 18,
   "metadata": {},
   "outputs": [
    {
     "data": {
      "image/png": "[encoded data removed]",
      "text/plain": [
       "<Figure size 640x480 with 1 Axes>"
      ]
     },
     "metadata": {},
     "output_type": "display_data"
    }
   ],
   "source": [
    "plt.hist(ground_truth.flatten(), bins=80, color='c')\n",
    "plt.show()"
   ]
  },
  {
   "cell_type": "code",
   "execution_count": 19,
   "metadata": {},
   "outputs": [
    {
     "name": "stdout",
     "output_type": "stream",
     "text": [
      "Unique values: [0. 1. 2. 4. 5. 6.]\n",
      "Counts: [74142736  7680824  4655568  4335291  3791764   552089]\n"
     ]
    }
   ],
   "source": [
    "array_1d = ground_truth.flatten()\n",
    "unique_values, counts = np.unique(array_1d, return_counts=True)\n",
    "print(\"Unique values:\", unique_values) \n",
    "print(\"Counts:\", counts)"
   ]
  },
  {
   "cell_type": "code",
   "execution_count": 20,
   "metadata": {},
   "outputs": [
    {
     "name": "stdout",
     "output_type": "stream",
     "text": [
      "Label 1 is a 3D array that contains only pixels with value 0.0 in array_3d:\n",
      "(363, 512, 512)\n",
      "Label 2 is a 3D array that contains only pixels with value 1.0 in array_3d:\n",
      "(363, 512, 512)\n",
      "Label 3 is a 3D array that contains only pixels with value 2.0 in array_3d:\n",
      "(363, 512, 512)\n",
      "Label 4 is a 3D array that contains only pixels with value 4.0 in array_3d:\n",
      "(363, 512, 512)\n",
      "Label 5 is a 3D array that contains only pixels with value 5.0 in array_3d:\n",
      "(363, 512, 512)\n",
      "Label 6 is a 3D array that contains only pixels with value 6.0 in array_3d:\n",
      "(363, 512, 512)\n"
     ]
    }
   ],
   "source": [
    "# Create a list to store the label arrays for each value\n",
    "label_arrays = []\n",
    "\n",
    "# Loop through the unique values\n",
    "for value in unique_values: \n",
    "    # Make a copy of the original array \n",
    "    label_array = np.copy(ground_truth) \n",
    "    # Set the voxels that do not match the value to zero \n",
    "    label_array[np.where(label_array != value)] = 0 \n",
    "    # Append the label array to the list \n",
    "    label_arrays.append(label_array)\n",
    "\n",
    "# Print the label arrays\n",
    "for i, label_array in enumerate(label_arrays): \n",
    "    print(f\"Label {i+1} is a 3D array that contains only pixels with value {unique_values[i]} in array_3d:\") \n",
    "    print(label_array.shape)"
   ]
  },
  {
   "cell_type": "code",
   "execution_count": null,
   "metadata": {},
   "outputs": [],
   "source": [
    "def segmented_reconstruction(file_path):\n",
    "    whole_heart = sitk.ReadImage(file_path, sitk.sitkFloat32)\n",
    "    whole_heart = sitk.GetArrayFromImage(whole_heart)\n",
    "    \n",
    "    whole_heart_flattened = whole_heart.flatten()\n",
    "    unique_values, counts = np.unique(whole_heart_flattened, return_counts=True)\n",
    "    \n",
    "    label_arrays = []\n",
    "\n",
    "    # Loop through the unique values\n",
    "    for value in unique_values: \n",
    "        label_array = np.copy(whole_heart) \n",
    "        label_array[np.where(label_array != value)] = 0 \n",
    "        label_arrays.append(label_array)\n",
    "\n",
    "    # Loop through classes and create mesh\n",
    "    for i, label_array in enumerate(label_arrays): \n",
    "        # background\n",
    "        if i == 0:\n",
    "            continue\n",
    "        \n",
    "        verts, faces, normals, values = measure.marching_cubes(label_arrays[i], 0)\n",
    "        obj_3d = mesh.Mesh(np.zeros(faces.shape[0], dtype=mesh.Mesh.dtype))\n",
    "        \n",
    "        for j, f in enumerate(faces):\n",
    "            obj_3d.vectors[j] = verts[f]\n",
    "\n",
    "        # Save the STL file with the name and the path\n",
    "        obj_3d.save(f'../../3D_reconstruction/new_recon/cardiac_class_{i}.stl')\n",
    "        \n",
    "        \n",
    "segmented_reconstruction(\"../../data/MM_WHS/ct_train/new_label_1001.nii.gz\")"
   ]
  }
 ],
 "metadata": {
  "kernelspec": {
   "display_name": ".venv",
   "language": "python",
   "name": "python3"
  },
  "language_info": {
   "codemirror_mode": {
    "name": "ipython",
    "version": 3
   },
   "file_extension": ".py",
   "mimetype": "text/x-python",
   "name": "python",
   "nbconvert_exporter": "python",
   "pygments_lexer": "ipython3",
   "version": "3.10.2"
  },
  "orig_nbformat": 4
 },
 "nbformat": 4,
 "nbformat_minor": 2
}
