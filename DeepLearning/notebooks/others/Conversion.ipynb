{
 "cells": [
  {
   "cell_type": "code",
   "execution_count": null,
   "metadata": {},
   "outputs": [],
   "source": [
    "import SimpleITK as sitk\n",
    "import nibabel as nib\n",
    "import os\n",
    "from supporters import *"
   ]
  },
  {
   "cell_type": "code",
   "execution_count": null,
   "metadata": {},
   "outputs": [],
   "source": [
    "def convert_png_to_nifti(png_folder, output_nifti_path):\n",
    "    # Get a list of PNG files in the folder\n",
    "    png_files = [os.path.join(png_folder, f\"{i}.jpg\") for i in range(1, 71)]\n",
    "\n",
    "    # Read each PNG image and convert it to SimpleITK Image\n",
    "    image_list = [sitk.ReadImage(png_file) for png_file in png_files]\n",
    "\n",
    "    # Create a 3D image from the list of 2D images\n",
    "    volume = sitk.JoinSeries(image_list)\n",
    "\n",
    "    # Write the 3D image to a NIfTI file\n",
    "    sitk.WriteImage(volume, output_nifti_path)\n",
    "\n",
    "# Replace 'path_to_png_folder' with the path to your folder containing PNG images\n",
    "png_folder_path = 'D:/Documents/GitHub/VascuIAR/DeepLearning/data/VNRealData/Set3'\n",
    "\n",
    "# Replace 'output_nifti_path' with the desired path for the output NIfTI file\n",
    "output_nifti_path = 'D:/Documents/GitHub/VascuIAR/DeepLearning/data/VNRealData/Set3/output.nii.gz'\n",
    "\n",
    "convert_png_to_nifti(png_folder_path, output_nifti_path)"
   ]
  },
  {
   "cell_type": "code",
   "execution_count": null,
   "metadata": {},
   "outputs": [],
   "source": [
    "path = 'D:/Documents/GitHub/VascuIAR/DeepLearning/data/VNRealData/Set2/output.nii.gz'\n",
    "img = sitk.ReadImage(path, sitk.sitkFloat32)\n",
    "img = sitk.GetArrayFromImage(img)\n",
    "img.shape"
   ]
  },
  {
   "cell_type": "code",
   "execution_count": null,
   "metadata": {},
   "outputs": [],
   "source": [
    "explore_3D_array_axis(img, aspect=\"coronal\")"
   ]
  },
  {
   "cell_type": "code",
   "execution_count": null,
   "metadata": {},
   "outputs": [],
   "source": [
    "import imageio\n",
    "import os\n",
    "import numpy as np\n",
    "from skimage.transform import resize\n",
    "from skimage.color import rgb2gray\n",
    "from natsort import natsorted\n",
    "\n",
    "def read_images_to_3d_array(image_folder, target_shape=(512, 512)):\n",
    "    # Get a list of PNG files in the folder, sorted in a natural order\n",
    "    image_files = natsorted([os.path.join(image_folder, file) for file in os.listdir(image_folder) if file.endswith('.png')])\n",
    "\n",
    "    # Read each PNG image, convert it to grayscale, resize it, and append it to a list\n",
    "    image_list = [resize(rgb2gray(imageio.imread(file)), target_shape, mode='constant', anti_aliasing=True) for file in image_files]\n",
    "\n",
    "    # Convert the list of 2D images to a 3D NumPy array with the desired shape (122, 512, 512)\n",
    "    image_array = np.stack(image_list, axis=0)\n",
    "\n",
    "    return image_array\n",
    "\n",
    "    return None\n",
    "\n",
    "# Replace 'path_to_image_folder' with the path to your folder containing PNG images\n",
    "image_folder_path = 'D:/Documents/GitHub/VascuIAR/DeepLearning/data/VNRealData/Set2'\n",
    "\n",
    "# Set the target shape for resizing (height, width)\n",
    "target_shape = (512, 512)\n",
    "\n",
    "# Call the function to read and resize images into a 3D NumPy array\n",
    "image_3d_array = read_images_to_3d_array(image_folder_path, target_shape)\n",
    "\n",
    "# Print the shape of the resulting 3D array\n",
    "print(\"Shape of the 3D array:\", image_3d_array.shape)\n"
   ]
  },
  {
   "cell_type": "code",
   "execution_count": null,
   "metadata": {},
   "outputs": [],
   "source": [
    "explore_3D_array(image_3d_array)"
   ]
  },
  {
   "cell_type": "code",
   "execution_count": null,
   "metadata": {},
   "outputs": [],
   "source": [
    "out_path = 'D:/Documents/GitHub/VascuIAR/DeepLearning/data/VNRealData/Set2/output.nii.gz'\n",
    "converted_array = np.array(image_3d_array, dtype=np.float32)\n",
    "converted_array = np.transpose(converted_array, (2, 1, 0))\n",
    "affine = np.eye(4)\n",
    "nifti_file = nib.Nifti1Image(converted_array, affine)\n",
    "nib.save(nifti_file, out_path)"
   ]
  },
  {
   "cell_type": "code",
   "execution_count": null,
   "metadata": {},
   "outputs": [],
   "source": [
    "path = 'D:/Documents/GitHub/VascuIAR/DeepLearning/data/VNRealData/Set2/output.nii.gz'\n",
    "img = sitk.ReadImage(path, sitk.sitkFloat32)\n",
    "img = sitk.GetArrayFromImage(img)\n",
    "img.shape"
   ]
  }
 ],
 "metadata": {
  "kernelspec": {
   "display_name": ".venv",
   "language": "python",
   "name": "python3"
  },
  "language_info": {
   "codemirror_mode": {
    "name": "ipython",
    "version": 3
   },
   "file_extension": ".py",
   "mimetype": "text/x-python",
   "name": "python",
   "nbconvert_exporter": "python",
   "pygments_lexer": "ipython3",
   "version": "3.10.0"
  }
 },
 "nbformat": 4,
 "nbformat_minor": 2
}
