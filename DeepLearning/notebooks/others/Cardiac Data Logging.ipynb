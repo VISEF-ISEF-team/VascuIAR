{
 "cells": [
  {
   "cell_type": "code",
   "execution_count": null,
   "metadata": {},
   "outputs": [],
   "source": [
    "%matplotlib inline\n",
    "import os\n",
    "import sys\n",
    "import ants\n",
    "import SimpleITK as sitk\n",
    "from supporters import *\n",
    "\n",
    "print(f'AntsPy version = {ants.__version__}')\n",
    "print(f'SimpleITK version = {sitk.__version__}')"
   ]
  },
  {
   "cell_type": "code",
   "execution_count": 9,
   "metadata": {},
   "outputs": [],
   "source": [
    "main_dir = '../../assets/raw_examples/'\n",
    "files = os.listdir(main_dir)\n",
    "raw_img_path = main_dir + files[4]"
   ]
  },
  {
   "cell_type": "code",
   "execution_count": null,
   "metadata": {},
   "outputs": [],
   "source": [
    "raw_img_ants = ants.image_read(raw_img_path)\n",
    "print(raw_img_ants)"
   ]
  },
  {
   "cell_type": "markdown",
   "metadata": {},
   "source": [
    "- LPI = Left-to-right, Posterior-to-anterior, Inferior-to-superior\n",
    "- IAL = Inferior-to-superior, Anterior-to-posterior, Left-to-right"
   ]
  },
  {
   "cell_type": "code",
   "execution_count": null,
   "metadata": {},
   "outputs": [],
   "source": [
    "print(raw_img_ants.get_orientation())"
   ]
  },
  {
   "cell_type": "code",
   "execution_count": null,
   "metadata": {},
   "outputs": [],
   "source": [
    "# Pixel arrangement\n",
    "# Z, Y, X = (↑,↓,→)\n",
    "\n",
    "arr = raw_img_ants.numpy()\n",
    "print(raw_img_ants.get_orientation())\n",
    "print(arr.shape, '-> (Z,Y,X)')"
   ]
  },
  {
   "cell_type": "code",
   "execution_count": null,
   "metadata": {},
   "outputs": [],
   "source": [
    "raw_img_ants_arr = raw_img_ants.numpy()\n",
    "\n",
    "print(f'type = {type(raw_img_ants_arr)}')\n",
    "print(f'shape = {raw_img_ants_arr.shape}')"
   ]
  },
  {
   "cell_type": "code",
   "execution_count": null,
   "metadata": {},
   "outputs": [],
   "source": [
    "img = ants.image_read(raw_img_path, reorient='IAL')\n",
    "print(img.get_orientation())\n",
    "print(arr.shape, '-> (Z,Y,X)')\n",
    "explore_3D_array(arr=img.numpy()) "
   ]
  },
  {
   "cell_type": "code",
   "execution_count": null,
   "metadata": {},
   "outputs": [],
   "source": [
    "img = ants.image_read(raw_img_path, reorient='SPL')\n",
    "print(img.get_orientation())\n",
    "print(arr.shape, '-> (Z,Y,X)')\n",
    "explore_3D_array(arr=img.numpy()) "
   ]
  },
  {
   "cell_type": "code",
   "execution_count": null,
   "metadata": {},
   "outputs": [],
   "source": [
    "ants.plot(raw_img_ants, figsize=3, axis=2)"
   ]
  },
  {
   "cell_type": "code",
   "execution_count": null,
   "metadata": {},
   "outputs": [],
   "source": [
    "explore_3D_array(raw_img_ants_arr)"
   ]
  },
  {
   "cell_type": "markdown",
   "metadata": {},
   "source": [
    "For AntsPy:\n",
    "\n",
    "- Internal axis are (Z,Y,X). It means, when we get numpy array dimensions are (Z,Y,X)\n",
    "- When we define orientation, orientation string is according to internal axis.\n",
    "\n",
    "\n",
    "For SimpleITK:\n",
    "\n",
    "- Internal axis are (X,Y,Z). It means, when we get numpy array dimensions are (Z,Y,X) i.e. shifted.\n",
    "- When we define orientation, orientation string is according to internal axis.\n",
    "- The orientation string is set with the latest letter, e.g. :\n",
    "    - \"RPS\" = (left-to-Right, anterior-to-Posterior, inferior-to-Superior)\n",
    "    - \"PSR\" = (anterior-to-Posterior, inferior-to-Superior, left-to-Right)"
   ]
  },
  {
   "cell_type": "code",
   "execution_count": null,
   "metadata": {},
   "outputs": [],
   "source": [
    "raw_img_sitk = sitk.ReadImage(raw_img_path, sitk.sitkFloat32)\n",
    "print(raw_img_sitk)"
   ]
  },
  {
   "cell_type": "code",
   "execution_count": null,
   "metadata": {},
   "outputs": [],
   "source": [
    "show_sitk_img_info(raw_img_sitk)"
   ]
  },
  {
   "cell_type": "code",
   "execution_count": null,
   "metadata": {},
   "outputs": [],
   "source": [
    "raw_img_sitk_arr = sitk.GetArrayFromImage(raw_img_sitk)\n",
    "\n",
    "print(f'type = {type(raw_img_sitk_arr)}')\n",
    "print(f'shape = {raw_img_sitk_arr.shape}')"
   ]
  },
  {
   "cell_type": "code",
   "execution_count": null,
   "metadata": {},
   "outputs": [],
   "source": [
    "explore_3D_array(raw_img_sitk_arr)"
   ]
  },
  {
   "cell_type": "code",
   "execution_count": null,
   "metadata": {},
   "outputs": [],
   "source": [
    "raw_img_sitk = sitk.ReadImage(raw_img_path, sitk.sitkFloat32)\n",
    "raw_img_sitk = sitk.DICOMOrient(raw_img_sitk,'PSR')\n",
    "\n",
    "raw_img_sitk_arr = sitk.GetArrayFromImage(raw_img_sitk)\n",
    "print(raw_img_sitk_arr.shape)\n",
    "explore_3D_array(raw_img_sitk_arr)"
   ]
  }
 ],
 "metadata": {
  "kernelspec": {
   "display_name": ".venv",
   "language": "python",
   "name": "python3"
  },
  "language_info": {
   "codemirror_mode": {
    "name": "ipython",
    "version": 3
   },
   "file_extension": ".py",
   "mimetype": "text/x-python",
   "name": "python",
   "nbconvert_exporter": "python",
   "pygments_lexer": "ipython3",
   "version": "3.10.0"
  },
  "orig_nbformat": 4
 },
 "nbformat": 4,
 "nbformat_minor": 2
}
