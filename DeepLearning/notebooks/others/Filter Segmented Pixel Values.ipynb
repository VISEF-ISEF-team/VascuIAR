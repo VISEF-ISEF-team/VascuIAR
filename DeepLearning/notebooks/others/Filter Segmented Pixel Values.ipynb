{
 "cells": [
  {
   "cell_type": "code",
   "execution_count": 1,
   "metadata": {},
   "outputs": [
    {
     "name": "stdout",
     "output_type": "stream",
     "text": [
      "SimpleITK version = 2.3.0\n"
     ]
    }
   ],
   "source": [
    "%matplotlib inline\n",
    "\n",
    "import os\n",
    "from supporters import *\n",
    "import SimpleITK as sitk\n",
    "import nibabel as nib\n",
    "print(f'SimpleITK version = {sitk.__version__}')"
   ]
  },
  {
   "cell_type": "code",
   "execution_count": 2,
   "metadata": {},
   "outputs": [
    {
     "data": {
      "text/plain": [
       "(283, 512, 512)"
      ]
     },
     "execution_count": 2,
     "metadata": {},
     "output_type": "execute_result"
    }
   ],
   "source": [
    "ground_truth = sitk.ReadImage(\"D:/Documents/GitHub/VascuIAR/DeepLearning/data/MM_WHS/mask_images/ct_train_1017_label.nii.gz\", sitk.sitkFloat32)\n",
    "ground_truth = sitk.GetArrayFromImage(ground_truth)\n",
    "ground_truth.shape"
   ]
  },
  {
   "cell_type": "code",
   "execution_count": null,
   "metadata": {},
   "outputs": [],
   "source": [
    "explore_3D_array(ground_truth)"
   ]
  },
  {
   "cell_type": "code",
   "execution_count": 8,
   "metadata": {},
   "outputs": [
    {
     "data": {
      "image/png": "[encoded data removed]",
      "text/plain": [
       "<Figure size 640x480 with 1 Axes>"
      ]
     },
     "metadata": {},
     "output_type": "display_data"
    }
   ],
   "source": [
    "plt.hist(ground_truth.flatten(), bins=80, color='c')\n",
    "plt.show()"
   ]
  },
  {
   "cell_type": "code",
   "execution_count": 4,
   "metadata": {},
   "outputs": [
    {
     "name": "stdout",
     "output_type": "stream",
     "text": [
      "Unique values: [  0. 205. 420. 500. 550. 600. 820. 850.]\n",
      "Counts: [70937372   532569   467449   385079   515286   524488   443439   381070]\n"
     ]
    }
   ],
   "source": [
    "array_1d = ground_truth.flatten()\n",
    "unique_values, counts = np.unique(array_1d, return_counts=True)\n",
    "print(\"Unique values:\", unique_values) \n",
    "print(\"Counts:\", counts)"
   ]
  },
  {
   "cell_type": "code",
   "execution_count": 5,
   "metadata": {},
   "outputs": [
    {
     "name": "stdout",
     "output_type": "stream",
     "text": [
      "Label 1 is a 3D array that contains only pixels with value 0.0 in array_3d:\n",
      "(283, 512, 512)\n",
      "Label 2 is a 3D array that contains only pixels with value 205.0 in array_3d:\n",
      "(283, 512, 512)\n",
      "Label 3 is a 3D array that contains only pixels with value 420.0 in array_3d:\n",
      "(283, 512, 512)\n",
      "Label 4 is a 3D array that contains only pixels with value 500.0 in array_3d:\n",
      "(283, 512, 512)\n",
      "Label 5 is a 3D array that contains only pixels with value 550.0 in array_3d:\n",
      "(283, 512, 512)\n",
      "Label 6 is a 3D array that contains only pixels with value 600.0 in array_3d:\n",
      "(283, 512, 512)\n",
      "Label 7 is a 3D array that contains only pixels with value 820.0 in array_3d:\n",
      "(283, 512, 512)\n",
      "Label 8 is a 3D array that contains only pixels with value 850.0 in array_3d:\n",
      "(283, 512, 512)\n"
     ]
    }
   ],
   "source": [
    "# Create a list to store the label arrays for each value\n",
    "label_arrays = []\n",
    "\n",
    "# Loop through the unique values\n",
    "for value in unique_values: \n",
    "    # Make a copy of the original array \n",
    "    label_array = np.copy(ground_truth) \n",
    "    # Set the voxels that do not match the value to zero \n",
    "    label_array[np.where(label_array != value)] = 0 \n",
    "    # Append the label array to the list \n",
    "    label_arrays.append(label_array)\n",
    "\n",
    "# Print the label arrays\n",
    "for i, label_array in enumerate(label_arrays): \n",
    "    print(f\"Label {i+1} is a 3D array that contains only pixels with value {unique_values[i]} in array_3d:\") \n",
    "    print(label_array.shape)"
   ]
  },
  {
   "cell_type": "code",
   "execution_count": 8,
   "metadata": {},
   "outputs": [
    {
     "data": {
      "application/vnd.jupyter.widget-view+json": {
       "model_id": "da01fde4e96745fdb3d11013cd6479e4",
       "version_major": 2,
       "version_minor": 0
      },
      "text/plain": [
       "interactive(children=(IntSlider(value=141, description='SLICE', max=282), Output()), _dom_classes=('widget-int…"
      ]
     },
     "metadata": {},
     "output_type": "display_data"
    }
   ],
   "source": [
    "explore_3D_array_comparison(label_arrays[4], ground_truth)"
   ]
  },
  {
   "cell_type": "code",
   "execution_count": 20,
   "metadata": {},
   "outputs": [],
   "source": [
    "out_path = 'D:/Documents/Segmentation/017/Segmentation_pulmonary.nii.gz'\n",
    "converted_array = np.array(label_arrays[7], dtype=np.float32)\n",
    "converted_array = np.transpose(converted_array, (2, 1, 0))\n",
    "affine = np.eye(4)\n",
    "nifti_file = nib.Nifti1Image(converted_array, affine)\n",
    "nib.save(nifti_file, out_path)"
   ]
  }
 ],
 "metadata": {
  "kernelspec": {
   "display_name": ".venv",
   "language": "python",
   "name": "python3"
  },
  "language_info": {
   "codemirror_mode": {
    "name": "ipython",
    "version": 3
   },
   "file_extension": ".py",
   "mimetype": "text/x-python",
   "name": "python",
   "nbconvert_exporter": "python",
   "pygments_lexer": "ipython3",
   "version": "3.10.0"
  },
  "orig_nbformat": 4
 },
 "nbformat": 4,
 "nbformat_minor": 2
}
