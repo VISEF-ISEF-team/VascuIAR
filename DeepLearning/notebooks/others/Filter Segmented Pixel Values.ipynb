{
 "cells": [
  {
   "cell_type": "code",
   "execution_count": null,
   "metadata": {},
   "outputs": [],
   "source": [
    "%matplotlib inline\n",
    "\n",
    "import os\n",
    "from supporters import *\n",
    "import SimpleITK as sitk\n",
    "print(f'SimpleITK version = {sitk.__version__}')"
   ]
  },
  {
   "cell_type": "code",
   "execution_count": null,
   "metadata": {},
   "outputs": [],
   "source": [
    "ground_truth = sitk.ReadImage(\"loss_function/ct_train_1001_label.nii.gz\", sitk.sitkFloat32)\n",
    "ground_truth = sitk.GetArrayFromImage(ground_truth)\n",
    "ground_truth.shape"
   ]
  },
  {
   "cell_type": "code",
   "execution_count": null,
   "metadata": {},
   "outputs": [],
   "source": [
    "explore_3D_array(ground_truth)"
   ]
  },
  {
   "cell_type": "code",
   "execution_count": null,
   "metadata": {},
   "outputs": [],
   "source": [
    "plt.hist(ground_truth.flatten(), bins=80, color='c')\n",
    "plt.show()"
   ]
  },
  {
   "cell_type": "code",
   "execution_count": null,
   "metadata": {},
   "outputs": [],
   "source": [
    "array_1d = ground_truth.flatten()\n",
    "unique_values, counts = np.unique(array_1d, return_counts=True)\n",
    "print(\"Unique values:\", unique_values) \n",
    "print(\"Counts:\", counts)"
   ]
  },
  {
   "cell_type": "code",
   "execution_count": null,
   "metadata": {},
   "outputs": [],
   "source": [
    "# Create a list to store the label arrays for each value\n",
    "label_arrays = []\n",
    "\n",
    "# Loop through the unique values\n",
    "for value in unique_values: \n",
    "    # Make a copy of the original array \n",
    "    label_array = np.copy(ground_truth) \n",
    "    # Set the voxels that do not match the value to zero \n",
    "    label_array[np.where(label_array != value)] = 0 \n",
    "    # Append the label array to the list \n",
    "    label_arrays.append(label_array)\n",
    "\n",
    "# Print the label arrays\n",
    "for i, label_array in enumerate(label_arrays): \n",
    "    print(f\"Label {i+1} is a 3D array that contains only pixels with value {unique_values[i]} in array_3d:\") \n",
    "    print(label_array.shape)"
   ]
  },
  {
   "cell_type": "code",
   "execution_count": null,
   "metadata": {},
   "outputs": [],
   "source": [
    "explore_3D_array_comparison(label_arrays[2], ground_truth)"
   ]
  }
 ],
 "metadata": {
  "kernelspec": {
   "display_name": ".venv",
   "language": "python",
   "name": "python3"
  },
  "language_info": {
   "codemirror_mode": {
    "name": "ipython",
    "version": 3
   },
   "file_extension": ".py",
   "mimetype": "text/x-python",
   "name": "python",
   "nbconvert_exporter": "python",
   "pygments_lexer": "ipython3",
   "version": "3.10.2"
  },
  "orig_nbformat": 4
 },
 "nbformat": 4,
 "nbformat_minor": 2
}
