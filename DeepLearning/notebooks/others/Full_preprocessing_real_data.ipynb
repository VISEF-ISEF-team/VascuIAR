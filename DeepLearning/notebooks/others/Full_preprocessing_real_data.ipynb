{
 "cells": [
  {
   "cell_type": "markdown",
   "metadata": {},
   "source": [
    "### Import thư viện"
   ]
  },
  {
   "cell_type": "code",
   "execution_count": 1,
   "metadata": {},
   "outputs": [],
   "source": [
    "%matplotlib inline\n",
    "import numpy as np \n",
    "import pandas as pd\n",
    "from pydicom import dcmread\n",
    "import os\n",
    "import scipy.ndimage\n",
    "import matplotlib.pyplot as plt\n",
    "from supporters import *\n",
    "from PIL import Image\n",
    "import SimpleITK as sitk\n",
    "import nibabel as nib\n",
    "import tensorflow as tf\n",
    "import pickle"
   ]
  },
  {
   "cell_type": "markdown",
   "metadata": {},
   "source": [
    "### 1. Đọc và tiền xử lý ảnh file dcm"
   ]
  },
  {
   "cell_type": "code",
   "execution_count": 2,
   "metadata": {},
   "outputs": [],
   "source": [
    "def load_scan(path):\n",
    "    slices = [dcmread(path + '/' + s) for s in os.listdir(path)]\n",
    "    slices.sort(key = lambda x: float(x.ImagePositionPatient[2]))\n",
    "    try:\n",
    "        slice_thickness = np.abs(slices[0].ImagePositionPatient[2] - slices[1].ImagePositionPatient[2])\n",
    "    except:\n",
    "        slice_thickness = np.abs(slices[0].SliceLocation - slices[1].SliceLocation)\n",
    "    for s in slices:\n",
    "        s.SliceThickness = slice_thickness\n",
    "    return slices\n",
    "\n",
    "\n",
    "def get_pixels_hu(slices):\n",
    "    image = np.stack([s.pixel_array for s in slices])\n",
    "    image = image.astype(np.int16)\n",
    "    image[image == -2000] = 0\n",
    "    for slice_number in range(len(slices)):\n",
    "        intercept = slices[slice_number].RescaleIntercept\n",
    "        slope = slices[slice_number].RescaleSlope\n",
    "        if slope != 1:\n",
    "            image[slice_number] = slope * image[slice_number].astype(np.float64)\n",
    "            image[slice_number] = image[slice_number].astype(np.int16)\n",
    "        image[slice_number] += np.int16(intercept)  \n",
    "    return np.array(image, dtype=np.int16)"
   ]
  },
  {
   "cell_type": "markdown",
   "metadata": {},
   "source": [
    "##### Load folder tất cả bệnh nhân và load 1 bệnh nhân "
   ]
  },
  {
   "cell_type": "code",
   "execution_count": 3,
   "metadata": {},
   "outputs": [],
   "source": [
    "INPUT_FOLDER = '../../data/PatientsDCM/'\n",
    "patients = os.listdir(INPUT_FOLDER)\n",
    "patients.sort()"
   ]
  },
  {
   "cell_type": "code",
   "execution_count": 4,
   "metadata": {},
   "outputs": [
    {
     "data": {
      "text/plain": [
       "(201, 512, 512)"
      ]
     },
     "execution_count": 4,
     "metadata": {},
     "output_type": "execute_result"
    }
   ],
   "source": [
    "PAT001_scan = load_scan(INPUT_FOLDER + patients[0])\n",
    "PAT001 = get_pixels_hu(PAT001_scan)\n",
    "PAT001.shape"
   ]
  },
  {
   "cell_type": "code",
   "execution_count": null,
   "metadata": {},
   "outputs": [],
   "source": [
    "explore_3D_array(PAT001)"
   ]
  },
  {
   "cell_type": "markdown",
   "metadata": {},
   "source": [
    "### 2. Thực Hiện Linear Regression để loại bỏ những tấm ảnh gây nhiễu (không chứa tim)"
   ]
  },
  {
   "cell_type": "markdown",
   "metadata": {},
   "source": [
    "PAT001: 0 $\\rightarrow$ 59 and 180 $\\rightarrow$ 200\n",
    "\n",
    "PAT002: 0 $\\rightarrow$ 41 and 150 $\\rightarrow$ 184\n",
    "\n",
    "PAT003: 0 $\\rightarrow$ 90 and 170 $\\rightarrow$ 209\n",
    "\n",
    "PAT004: 0 $\\rightarrow$ 47 and 170 $\\rightarrow$ 196\n",
    "\n",
    "PAT005: 0 $\\rightarrow$ 80 and 190 $\\rightarrow$ 216\n",
    "\n",
    "PAT006: 0 $\\rightarrow$ 85 and 190 $\\rightarrow$ 231\n",
    "\n",
    "PAT007: 0 $\\rightarrow$ 90 and 170 $\\rightarrow$ 196\n",
    "\n",
    "PAT008: 0 $\\rightarrow$ 100 and 220 $\\rightarrow$ 272\n",
    "\n",
    "PAT009: 0 $\\rightarrow$ 90 and 200 $\\rightarrow$ 237\n",
    "\n",
    "PAT010: 0 $\\rightarrow$ 42 and 170 $\\rightarrow$ 203\n",
    "\n",
    "PAT011: 0 $\\rightarrow$ 73 and 180 $\\rightarrow$ 216\n",
    "\n",
    "PAT012: 0 $\\rightarrow$ 60 and 160 $\\rightarrow$ 177\n",
    "\n",
    "PAT013: 0 $\\rightarrow$ 80 and 165 $\\rightarrow$ 188\n",
    "\n",
    "PAT014: 0 $\\rightarrow$ 115 and 200 $\\rightarrow$ 216\n",
    "\n",
    "PAT015: 0 $\\rightarrow$ 84 and 210 $\\rightarrow$ 249\n",
    "\n",
    "PAT016: 0 $\\rightarrow$ 80 and 200 $\\rightarrow$ 234"
   ]
  },
  {
   "cell_type": "code",
   "execution_count": 16,
   "metadata": {},
   "outputs": [],
   "source": [
    "y1 = np.ones(201)\n",
    "y1[0:60] = y1[180:201] = 0\n",
    "y1 = pd.DataFrame(y1)\n",
    "\n",
    "y2 = np.ones(185)\n",
    "y2[0:41] = y2[150:185] = 0\n",
    "y2 = pd.DataFrame(y2)\n",
    "\n",
    "y3 = np.ones(210)\n",
    "y3[0:90] = y3[170:210] = 0\n",
    "y3 = pd.DataFrame(y3)\n",
    "\n",
    "y4 = np.ones(197)\n",
    "y4[0:47] = y4[170:197] = 0\n",
    "y4 = pd.DataFrame(y4)\n",
    "\n",
    "y5 = np.ones(217)\n",
    "y5[0:80] = y5[190:217] = 0\n",
    "y5 = pd.DataFrame(y5)\n",
    "\n",
    "y6 = np.ones(231)\n",
    "y6[0:85] = y6[190:231] = 0\n",
    "y6 = pd.DataFrame(y6)\n",
    "\n",
    "y7 = np.ones(197)\n",
    "y7[0:90] = y7[170:197] = 0\n",
    "y7 = pd.DataFrame(y7)\n",
    "\n",
    "y8 = np.ones(273)\n",
    "y8[0:100] = y8[220:273] = 0\n",
    "y8 = pd.DataFrame(y8)\n",
    "\n",
    "y9 = np.ones(238)\n",
    "y9[0:90] = y9[200:238] = 0\n",
    "y9 = pd.DataFrame(y9)\n",
    "\n",
    "y10= np.ones(204)\n",
    "y10[0:42] = y10[170:204] = 0\n",
    "y10 = pd.DataFrame(y10)\n",
    "\n",
    "y11 = np.ones(217)\n",
    "y11[0:73] = y11[180:217] = 0\n",
    "y11 = pd.DataFrame(y11)\n",
    "\n",
    "y12 = np.ones(178)\n",
    "y12[0:60] = y12[160:178] = 0\n",
    "y12 = pd.DataFrame(y12)\n",
    "\n",
    "y13 = np.ones(189)\n",
    "y13[0:80] = y13[165:189] = 0\n",
    "y13 = pd.DataFrame(y13)\n",
    "\n",
    "y14 = np.ones(217)\n",
    "y14[0:115] = y14[200:217] = 0\n",
    "y14 = pd.DataFrame(y14)\n",
    "\n",
    "y15 = np.ones(250)\n",
    "y15[0:84] = y15[210:201] = 0\n",
    "y15 = pd.DataFrame(y15)\n",
    "\n",
    "y16 = np.ones(235)\n",
    "y16[0:80] = y16[200:235] = 0\n",
    "y16 = pd.DataFrame(y16)"
   ]
  },
  {
   "cell_type": "code",
   "execution_count": 17,
   "metadata": {},
   "outputs": [],
   "source": [
    "y = pd.concat([y1,y2,y3,y4,y5,y6,y7,y8,y9,y10,y11,y12,y13,y14,y15,y16])\n",
    "y.to_csv('../../data/PatientsDCM/Postprocessing/binary_training_label.csv', index=False)"
   ]
  },
  {
   "cell_type": "code",
   "execution_count": 8,
   "metadata": {},
   "outputs": [
    {
     "data": {
      "text/html": [
       "<div>\n",
       "<style scoped>\n",
       "    .dataframe tbody tr th:only-of-type {\n",
       "        vertical-align: middle;\n",
       "    }\n",
       "\n",
       "    .dataframe tbody tr th {\n",
       "        vertical-align: top;\n",
       "    }\n",
       "\n",
       "    .dataframe thead th {\n",
       "        text-align: right;\n",
       "    }\n",
       "</style>\n",
       "<table border=\"1\" class=\"dataframe\">\n",
       "  <thead>\n",
       "    <tr style=\"text-align: right;\">\n",
       "      <th></th>\n",
       "      <th>0</th>\n",
       "    </tr>\n",
       "  </thead>\n",
       "  <tbody>\n",
       "    <tr>\n",
       "      <th>0</th>\n",
       "      <td>0.0</td>\n",
       "    </tr>\n",
       "    <tr>\n",
       "      <th>1</th>\n",
       "      <td>0.0</td>\n",
       "    </tr>\n",
       "    <tr>\n",
       "      <th>2</th>\n",
       "      <td>0.0</td>\n",
       "    </tr>\n",
       "    <tr>\n",
       "      <th>3</th>\n",
       "      <td>0.0</td>\n",
       "    </tr>\n",
       "    <tr>\n",
       "      <th>4</th>\n",
       "      <td>0.0</td>\n",
       "    </tr>\n",
       "    <tr>\n",
       "      <th>...</th>\n",
       "      <td>...</td>\n",
       "    </tr>\n",
       "    <tr>\n",
       "      <th>3434</th>\n",
       "      <td>0.0</td>\n",
       "    </tr>\n",
       "    <tr>\n",
       "      <th>3435</th>\n",
       "      <td>0.0</td>\n",
       "    </tr>\n",
       "    <tr>\n",
       "      <th>3436</th>\n",
       "      <td>0.0</td>\n",
       "    </tr>\n",
       "    <tr>\n",
       "      <th>3437</th>\n",
       "      <td>0.0</td>\n",
       "    </tr>\n",
       "    <tr>\n",
       "      <th>3438</th>\n",
       "      <td>0.0</td>\n",
       "    </tr>\n",
       "  </tbody>\n",
       "</table>\n",
       "<p>3439 rows × 1 columns</p>\n",
       "</div>"
      ],
      "text/plain": [
       "        0\n",
       "0     0.0\n",
       "1     0.0\n",
       "2     0.0\n",
       "3     0.0\n",
       "4     0.0\n",
       "...   ...\n",
       "3434  0.0\n",
       "3435  0.0\n",
       "3436  0.0\n",
       "3437  0.0\n",
       "3438  0.0\n",
       "\n",
       "[3439 rows x 1 columns]"
      ]
     },
     "execution_count": 8,
     "metadata": {},
     "output_type": "execute_result"
    }
   ],
   "source": [
    "y = pd.read_csv('../../data/PatientsDCM/Postprocessing/binary_training_label.csv')\n",
    "y"
   ]
  },
  {
   "cell_type": "code",
   "execution_count": 9,
   "metadata": {},
   "outputs": [
    {
     "data": {
      "text/plain": [
       "(3439, 512, 512)"
      ]
     },
     "execution_count": 9,
     "metadata": {},
     "output_type": "execute_result"
    }
   ],
   "source": [
    "# Load tất cả bộ ảnh của tất cả bệnh nhân và X_train\n",
    "X = []\n",
    "\n",
    "for i in range(0, 16, 1):\n",
    "    PAT = load_scan(INPUT_FOLDER + patients[i])\n",
    "    PAT = get_pixels_hu(PAT)\n",
    "    for j in range(PAT.shape[0]):\n",
    "        X.append(PAT[j])\n",
    "    \n",
    "X = np.array(X)\n",
    "X.shape"
   ]
  },
  {
   "cell_type": "code",
   "execution_count": 10,
   "metadata": {},
   "outputs": [
    {
     "data": {
      "text/plain": [
       "(0.0, 1.0)"
      ]
     },
     "execution_count": 10,
     "metadata": {},
     "output_type": "execute_result"
    }
   ],
   "source": [
    "# Normalization\n",
    "X_min = np.min(X)\n",
    "X_max = np.max(X)\n",
    "\n",
    "X = (X - X_min) / (X_max - X_min)\n",
    "np.min(X), np.max(X)"
   ]
  },
  {
   "cell_type": "code",
   "execution_count": 11,
   "metadata": {},
   "outputs": [
    {
     "data": {
      "text/plain": [
       "((2304, 512, 512), (1135, 512, 512), (2304, 1), (1135, 1))"
      ]
     },
     "execution_count": 11,
     "metadata": {},
     "output_type": "execute_result"
    }
   ],
   "source": [
    "from sklearn.model_selection import train_test_split\n",
    "X_train, X_test, y_train, y_test = train_test_split(X, y, test_size=0.33, random_state=42)\n",
    "\n",
    "X_train.shape, X_test.shape, y_train.shape, y_test.shape"
   ]
  },
  {
   "cell_type": "markdown",
   "metadata": {},
   "source": [
    "#### 2.1 Huấn luyện mô hình với Logistic Regression của scikit-learn"
   ]
  },
  {
   "cell_type": "markdown",
   "metadata": {},
   "source": [
    "##### 2.1.1 Trình chiếu trên mặt phẳng 2D để xem độ phân biệt của data"
   ]
  },
  {
   "cell_type": "code",
   "execution_count": 20,
   "metadata": {},
   "outputs": [],
   "source": [
    "from sklearn.decomposition import PCA\n",
    "\n",
    "X = X.reshape(X.shape[0], -1)\n",
    "pca = PCA(n_components=2)\n",
    "X_pca = pca.fit_transform(X)\n",
    "\n",
    "# plot the transformed data with different colors for different labels\n",
    "plt.scatter(X_pca[:, 0], X_pca[:, 1], c=y)\n",
    "plt.xlabel('PC1')\n",
    "plt.ylabel('PC2')\n",
    "plt.show()"
   ]
  },
  {
   "cell_type": "code",
   "execution_count": 22,
   "metadata": {},
   "outputs": [],
   "source": [
    "y = np.array(y)"
   ]
  },
  {
   "cell_type": "code",
   "execution_count": 21,
   "metadata": {},
   "outputs": [
    {
     "name": "stderr",
     "output_type": "stream",
     "text": [
      "d:\\Documents\\GitHub\\VascuIAR\\.venv\\lib\\site-packages\\sklearn\\utils\\validation.py:1183: DataConversionWarning: A column-vector y was passed when a 1d array was expected. Please change the shape of y to (n_samples, ), for example using ravel().\n",
      "  y = column_or_1d(y, warn=True)\n",
      "d:\\Documents\\GitHub\\VascuIAR\\.venv\\lib\\site-packages\\sklearn\\linear_model\\_logistic.py:460: ConvergenceWarning: lbfgs failed to converge (status=1):\n",
      "STOP: TOTAL NO. of ITERATIONS REACHED LIMIT.\n",
      "\n",
      "Increase the number of iterations (max_iter) or scale the data as shown in:\n",
      "    https://scikit-learn.org/stable/modules/preprocessing.html\n",
      "Please also refer to the documentation for alternative solver options:\n",
      "    https://scikit-learn.org/stable/modules/linear_model.html#logistic-regression\n",
      "  n_iter_i = _check_optimize_result(\n"
     ]
    }
   ],
   "source": [
    "from sklearn.linear_model import LogisticRegression\n",
    "\n",
    "# Reshape the data\n",
    "X_train = X_train.reshape(X_train.shape[0], -1)\n",
    "X_test = X_test.reshape(X_test.shape[0], -1)\n",
    "\n",
    "# Create a logistic regression object\n",
    "logreg = LogisticRegression()\n",
    "\n",
    "# Train the model\n",
    "logreg.fit(X_train, y_train)\n",
    "\n",
    "# Predict the test set results\n",
    "y_pred = logreg.predict(X_test)"
   ]
  },
  {
   "cell_type": "code",
   "execution_count": 23,
   "metadata": {},
   "outputs": [
    {
     "data": {
      "text/plain": [
       "(0.9814977973568282, 0.6668869790056919)"
      ]
     },
     "execution_count": 23,
     "metadata": {},
     "output_type": "execute_result"
    }
   ],
   "source": [
    "# Đánh giá\n",
    "from sklearn.metrics import accuracy_score\n",
    "\n",
    "# Calculate accuracy\n",
    "accuracy = accuracy_score(y_test, y_pred)\n",
    "\n",
    "def log_loss(y_true, y_pred):\n",
    "    n = len(y_true)\n",
    "    loss = -1/n * np.sum(y_true * np.log(y_pred) + (1 - y_true) * np.log(1 - y_pred))\n",
    "    return loss\n",
    "\n",
    "# Calculate loss\n",
    "loss = log_loss(y_test, y_pred)\n",
    "\n",
    "accuracy, loss"
   ]
  },
  {
   "cell_type": "code",
   "execution_count": 28,
   "metadata": {},
   "outputs": [
    {
     "data": {
      "image/png": "[encoded data removed]",
      "text/plain": [
       "<Figure size 640x480 with 1 Axes>"
      ]
     },
     "metadata": {},
     "output_type": "display_data"
    }
   ],
   "source": [
    "\n",
    "import numpy as np\n",
    "import matplotlib.pyplot as plt\n",
    "\n",
    "# YOUR CODE HERE\n",
    "def sigmoid(x):\n",
    "  return 1/(1 + np.exp(-x))\n",
    "\n",
    "x = np.linspace(-6,6,100)\n",
    "y = sigmoid(x)\n",
    "plt.plot(x,y)\n",
    "plt.show()"
   ]
  },
  {
   "cell_type": "code",
   "execution_count": null,
   "metadata": {},
   "outputs": [],
   "source": [
    "import numpy as np\n",
    "\n",
    "def sigmoid(z):\n",
    "    return 1 / (1 + np.exp(-z))\n",
    "\n",
    "def logistic_regression(X, y, alpha=0.01, num_iterations=100):\n",
    "    m, n = X.shape\n",
    "    theta = np.zeros((n, 1))\n",
    "    accuracy = []\n",
    "    log_loss = []\n",
    "    for i in range(num_iterations):\n",
    "        z = np.dot(X, theta)\n",
    "        h = sigmoid(z)\n",
    "        J = (-1/m) * np.sum(y * np.log(h) + (1 - y) * np.log(1 - h))\n",
    "        gradient = (1/m) * np.dot(X.T, (h - y))\n",
    "        theta -= alpha * gradient\n",
    "        y_pred = (h >= 0.4).astype(int)\n",
    "        accuracy.append(np.mean(y_pred == y))\n",
    "        log_loss.append(J)\n",
    "    return theta, accuracy, log_loss\n",
    "\n",
    "# Reshape the data\n",
    "X_train = X_train.reshape(X_train.shape[0], -1)\n",
    "X_test = X_test.reshape(X_test.shape[0], -1)\n",
    "\n",
    "# Add bias term to X\n",
    "X_train = np.hstack((np.ones((X_train.shape[0], 1)), X_train))\n",
    "X_test = np.hstack((np.ones((X_test.shape[0], 1)), X_test))\n",
    "\n",
    "# Train the model\n",
    "theta, accuracy, log_loss = logistic_regression(X_train, y_train)\n",
    "\n",
    "# Plot the accuracy and loss curves\n",
    "import matplotlib.pyplot as plt\n",
    "\n",
    "plt.plot(accuracy)\n",
    "plt.title('Đường biểu diễn độ chính xác')\n",
    "plt.xlabel('Số lần chạy')\n",
    "plt.ylabel('Chỉ số chính xác')\n",
    "plt.show()\n",
    "\n",
    "plt.plot(log_loss)\n",
    "plt.title('Đường biểu diễn hàm mất mát log')\n",
    "plt.xlabel('Số lần chạy')\n",
    "plt.ylabel('Chỉ số mất mát')\n",
    "plt.show()"
   ]
  },
  {
   "cell_type": "code",
   "execution_count": 16,
   "metadata": {},
   "outputs": [
    {
     "data": {
      "text/plain": [
       "262145"
      ]
     },
     "execution_count": 16,
     "metadata": {},
     "output_type": "execute_result"
    }
   ],
   "source": [
    "len(theta)"
   ]
  },
  {
   "cell_type": "code",
   "execution_count": 18,
   "metadata": {},
   "outputs": [
    {
     "data": {
      "text/plain": [
       "262145"
      ]
     },
     "execution_count": 18,
     "metadata": {},
     "output_type": "execute_result"
    }
   ],
   "source": [
    "512 * 512 + 1"
   ]
  },
  {
   "cell_type": "code",
   "execution_count": null,
   "metadata": {},
   "outputs": [],
   "source": [
    "import numpy as np\n",
    "\n",
    "def sigmoid(z):\n",
    "    return 1 / (1 + np.exp(-z))\n",
    "\n",
    "def logistic_regression(X, y, alpha=0.01, num_iterations=1000):\n",
    "    m, n = X.shape\n",
    "    theta = np.zeros((n, 1))\n",
    "    accuracy = []\n",
    "    log_loss = []\n",
    "    for i in range(num_iterations):\n",
    "        z = np.dot(X, theta)\n",
    "        h = sigmoid(z)\n",
    "        J = (-1/m) * np.sum(y * np.log(h) + (1 - y) * np.log(1 - h))\n",
    "        gradient = (1/m) * np.dot(X.T, (h - y))\n",
    "        theta -= alpha * gradient\n",
    "        y_pred = (h >= 0.5).astype(int)\n",
    "        accuracy.append(np.mean(y_pred == y))\n",
    "        log_loss.append(J)\n",
    "    return theta, accuracy, log_loss\n",
    "\n",
    "# Reshape the data\n",
    "X_train = X_train.reshape(X_train.shape[0], -1)\n",
    "X_test = X_test.reshape(X_test.shape[0], -1)\n",
    "\n",
    "# Add bias term to X\n",
    "X_train = np.hstack((np.ones((X_train.shape[0], 1)), X_train))\n",
    "X_test = np.hstack((np.ones((X_test.shape[0], 1)), X_test))\n",
    "\n",
    "# Train the model\n",
    "theta, accuracy, log_loss = logistic_regression(X_train, y_train)\n",
    "\n",
    "# Plot the accuracy and loss curves\n",
    "import matplotlib.pyplot as plt\n",
    "\n",
    "plt.plot(accuracy)\n",
    "plt.title('Đường biểu diễn độ chính xác')\n",
    "plt.xlabel('Số lần chạy')\n",
    "plt.ylabel('Chỉ số chính xác')\n",
    "plt.show()\n",
    "\n",
    "plt.plot(log_loss)\n",
    "plt.title('Đường biểu diễn hàm mất mát log')\n",
    "plt.xlabel('Số lần chạy')\n",
    "plt.ylabel('Chỉ số mất mát')\n",
    "plt.show()"
   ]
  },
  {
   "cell_type": "code",
   "execution_count": null,
   "metadata": {},
   "outputs": [],
   "source": [
    "theta"
   ]
  },
  {
   "cell_type": "code",
   "execution_count": 49,
   "metadata": {},
   "outputs": [
    {
     "data": {
      "text/plain": [
       "(201, 262144)"
      ]
     },
     "execution_count": 49,
     "metadata": {},
     "output_type": "execute_result"
    }
   ],
   "source": [
    "image = PAT001\n",
    "image = image.reshape(image.shape[0],-1)\n",
    "image.shape"
   ]
  },
  {
   "cell_type": "code",
   "execution_count": 45,
   "metadata": {},
   "outputs": [],
   "source": [
    "import pickle\n",
    "\n",
    "# Save the model to disk and reload\n",
    "filename = '../../model/training/models/logreg_model.sav'\n",
    "pickle.dump(logreg, open(filename, 'wb'))\n",
    "loaded_model = pickle.load(open(filename, 'rb'))"
   ]
  },
  {
   "cell_type": "code",
   "execution_count": 50,
   "metadata": {},
   "outputs": [
    {
     "data": {
      "text/plain": [
       "array([0., 0., 0., 0., 0., 0., 0., 0., 0., 0., 0., 0., 0., 0., 0., 0., 0.,\n",
       "       0., 0., 0., 0., 0., 0., 0., 0., 0., 0., 0., 0., 0., 0., 0., 0., 0.,\n",
       "       0., 0., 0., 0., 0., 0., 0., 0., 0., 0., 0., 0., 0., 0., 0., 0., 0.,\n",
       "       0., 0., 0., 0., 0., 0., 0., 0., 1., 1., 1., 1., 1., 1., 1., 1., 1.,\n",
       "       1., 1., 1., 1., 1., 1., 1., 1., 1., 1., 1., 1., 1., 1., 1., 1., 1.,\n",
       "       1., 1., 1., 1., 1., 1., 1., 1., 1., 1., 1., 1., 1., 1., 1., 1., 1.,\n",
       "       1., 1., 1., 1., 1., 1., 1., 1., 1., 1., 1., 1., 1., 1., 1., 1., 1.,\n",
       "       1., 1., 1., 1., 1., 1., 1., 1., 1., 1., 1., 1., 1., 1., 1., 1., 1.,\n",
       "       1., 1., 1., 1., 1., 1., 1., 1., 1., 1., 1., 1., 1., 1., 1., 1., 1.,\n",
       "       1., 1., 1., 1., 1., 1., 1., 1., 1., 1., 1., 1., 1., 1., 1., 1., 1.,\n",
       "       1., 1., 1., 1., 0., 0., 0., 0., 0., 0., 0., 0., 0., 0., 0., 0., 0.,\n",
       "       0., 0., 0., 0., 0., 0., 0., 0., 0., 0., 0., 0., 0., 0.])"
      ]
     },
     "execution_count": 50,
     "metadata": {},
     "output_type": "execute_result"
    }
   ],
   "source": [
    "y_pred = loaded_model.predict(image)\n",
    "y_pred"
   ]
  },
  {
   "cell_type": "code",
   "execution_count": 63,
   "metadata": {},
   "outputs": [
    {
     "data": {
      "text/plain": [
       "(59, 174)"
      ]
     },
     "execution_count": 63,
     "metadata": {},
     "output_type": "execute_result"
    }
   ],
   "source": [
    "start = end = 0\n",
    "\n",
    "for index, value in enumerate(y_pred):\n",
    "    if value == 1:\n",
    "        start = index\n",
    "        while y_pred[index] == 1:\n",
    "            index += 1\n",
    "        end = index\n",
    "        break\n",
    "        \n",
    "start, end"
   ]
  },
  {
   "cell_type": "markdown",
   "metadata": {},
   "source": [
    "#### Tạo pipeline hoàn chỉnh"
   ]
  },
  {
   "cell_type": "code",
   "execution_count": 40,
   "metadata": {},
   "outputs": [
    {
     "data": {
      "text/plain": [
       "(115, 512, 512)"
      ]
     },
     "execution_count": 40,
     "metadata": {},
     "output_type": "execute_result"
    }
   ],
   "source": [
    "def filtering(image):\n",
    "    # Load model\n",
    "    filename = '../../model/training/models/logreg_model.sav'\n",
    "    loaded_model = pickle.load(open(filename, 'rb'))\n",
    "    \n",
    "    # Predict\n",
    "    temp = image.reshape(image.shape[0],-1)\n",
    "    y_pred = loaded_model.predict(temp)\n",
    "    \n",
    "    # filtering\n",
    "    start = end = 0\n",
    "    for index, value in enumerate(y_pred):\n",
    "        if value == 1:\n",
    "            start = index\n",
    "            while y_pred[index] == 1:\n",
    "                index += 1\n",
    "            end = index\n",
    "            break\n",
    "            \n",
    "    image = image[start:end]\n",
    "    return image\n",
    "\n",
    "PAT001 = filtering(PAT001)\n",
    "PAT001.shape"
   ]
  },
  {
   "cell_type": "code",
   "execution_count": null,
   "metadata": {},
   "outputs": [],
   "source": [
    "# Giảm thiểu các tấm ảnh nhiễu rất nhiều\n",
    "explore_3D_array(PAT001)"
   ]
  },
  {
   "cell_type": "markdown",
   "metadata": {},
   "source": [
    "#### 2.2 Huấn luyện mô hình với Tensorflow"
   ]
  },
  {
   "cell_type": "code",
   "execution_count": 13,
   "metadata": {},
   "outputs": [],
   "source": [
    "# Normalize data\n",
    "X_max = 1024\n",
    "X_min = -1024\n",
    "\n",
    "X = (X - X_min) / (X_max - X_min)"
   ]
  },
  {
   "cell_type": "code",
   "execution_count": 20,
   "metadata": {},
   "outputs": [
    {
     "data": {
      "text/plain": [
       "((2751, 512, 512),\n",
       " (619, 512, 512),\n",
       " (69, 512, 512),\n",
       " (2751, 1),\n",
       " (619, 1),\n",
       " (69, 1))"
      ]
     },
     "execution_count": 20,
     "metadata": {},
     "output_type": "execute_result"
    }
   ],
   "source": [
    "from sklearn.model_selection import train_test_split\n",
    "X_train, X_test, y_train, y_test = train_test_split(X, y, test_size=0.2, random_state=42)\n",
    "X_test, X_val, y_test, y_val = train_test_split(X_test, y_test, test_size=0.1, random_state=42)\n",
    "\n",
    "X_train.shape, X_test.shape, X_val.shape, y_train.shape, y_test.shape, y_val.shape"
   ]
  },
  {
   "cell_type": "code",
   "execution_count": 22,
   "metadata": {},
   "outputs": [
    {
     "name": "stdout",
     "output_type": "stream",
     "text": [
      "Epoch 1/5\n",
      "86/86 [==============================] - 9s 102ms/step - loss: 2.5490 - accuracy: 0.8302 - val_loss: 0.6372 - val_accuracy: 0.8406\n",
      "Epoch 2/5\n",
      "86/86 [==============================] - 8s 91ms/step - loss: 0.2875 - accuracy: 0.9248 - val_loss: 0.1223 - val_accuracy: 0.9565\n",
      "Epoch 3/5\n",
      "86/86 [==============================] - 8s 96ms/step - loss: 0.2406 - accuracy: 0.9462 - val_loss: 0.0810 - val_accuracy: 0.9565\n",
      "Epoch 4/5\n",
      "86/86 [==============================] - 8s 97ms/step - loss: 0.0691 - accuracy: 0.9756 - val_loss: 0.0322 - val_accuracy: 0.9855\n",
      "Epoch 5/5\n",
      "86/86 [==============================] - 8s 92ms/step - loss: 0.1126 - accuracy: 0.9622 - val_loss: 0.2773 - val_accuracy: 0.9420\n"
     ]
    }
   ],
   "source": [
    "# Reshape the data\n",
    "X_train = X_train.reshape(X_train.shape[0], -1)\n",
    "X_test = X_test.reshape(X_test.shape[0], -1)\n",
    "X_val = X_val.reshape(X_val.shape[0], -1) # Reshape the validation data\n",
    "\n",
    "# Define the model\n",
    "model = tf.keras.Sequential([\n",
    "    tf.keras.layers.Dense(64, activation='relu', input_shape=(X_train.shape[1],)),\n",
    "    tf.keras.layers.Dense(32, activation='relu'),\n",
    "    tf.keras.layers.Dense(1, activation='sigmoid')\n",
    "])\n",
    "\n",
    "# Compile the model\n",
    "model.compile(optimizer='adam', loss='binary_crossentropy', metrics=['accuracy'])\n",
    "\n",
    "# Train the model and save the history\n",
    "history = model.fit(X_train, y_train, epochs=5, batch_size=32, validation_data=(X_val, y_val), validation_split=0.1) # Add the validation data and split"
   ]
  },
  {
   "cell_type": "code",
   "execution_count": null,
   "metadata": {},
   "outputs": [],
   "source": [
    "import matplotlib.pyplot as plt\n",
    "\n",
    "plt.figure(figsize=(12,4))\n",
    "plt.subplot(1,2,1)\n",
    "plt.title('Tập huấn luyện')\n",
    "plt.plot(history.history['accuracy'], label='Độ chính xác')\n",
    "plt.plot(history.history['loss'], label='Độ mất mát')\n",
    "plt.xlabel('Epoch')\n",
    "plt.legend(loc='upper right')\n",
    "\n",
    "plt.subplot(1,2,2)\n",
    "plt.title('Tập đánh giá')\n",
    "plt.plot(history.history['val_accuracy'], label='Độ chính xác')\n",
    "plt.plot(history.history['val_loss'], label='Độ mất mát')\n",
    "plt.xlabel('Epoch')\n",
    "\n",
    "plt.show()"
   ]
  },
  {
   "cell_type": "code",
   "execution_count": 26,
   "metadata": {},
   "outputs": [
    {
     "name": "stderr",
     "output_type": "stream",
     "text": [
      "d:\\Documents\\GitHub\\VascuIAR\\.venv\\lib\\site-packages\\keras\\src\\engine\\training.py:3079: UserWarning: You are saving your model as an HDF5 file via `model.save()`. This file format is considered legacy. We recommend using instead the native Keras format, e.g. `model.save('my_model.keras')`.\n",
      "  saving_api.save_model(\n"
     ]
    }
   ],
   "source": [
    "model.save('../../model/training/models/binary_tensor.h5')"
   ]
  },
  {
   "cell_type": "code",
   "execution_count": 27,
   "metadata": {},
   "outputs": [],
   "source": [
    "load_model_tensor = tf.keras.models.load_model('../../model/training/models/binary_tensor.h5')"
   ]
  },
  {
   "cell_type": "code",
   "execution_count": 30,
   "metadata": {},
   "outputs": [
    {
     "name": "stdout",
     "output_type": "stream",
     "text": [
      "7/7 [==============================] - 0s 12ms/step\n"
     ]
    },
    {
     "data": {
      "text/plain": [
       "201"
      ]
     },
     "execution_count": 30,
     "metadata": {},
     "output_type": "execute_result"
    }
   ],
   "source": [
    "PAT001 = PAT001.reshape(PAT001.shape[0], -1)\n",
    "y_pred = load_model_tensor.predict(PAT001)\n",
    "len(y_pred)"
   ]
  },
  {
   "cell_type": "markdown",
   "metadata": {},
   "source": [
    "### 3. Cắt tròn với phương trình đường tròn và lưu"
   ]
  },
  {
   "cell_type": "code",
   "execution_count": 6,
   "metadata": {},
   "outputs": [
    {
     "data": {
      "text/plain": [
       "(201, 380, 380)"
      ]
     },
     "execution_count": 6,
     "metadata": {},
     "output_type": "execute_result"
    }
   ],
   "source": [
    "ban_kinh = 190\n",
    "a = b = 512/2\n",
    "\n",
    "left = top = a - ban_kinh\n",
    "right = bottom = a + ban_kinh\n",
    "\n",
    "def euclidian_distance(x, y, a, b):\n",
    "    dis = ((x - a)**2 + (y - b)**2)**(1/2)\n",
    "    return dis\n",
    "\n",
    "crop_imgs = []\n",
    "def circling():\n",
    "    for index in range(PAT001.shape[0]):\n",
    "        img = PAT001[index]\n",
    "        for x in range(PAT001.shape[1]):\n",
    "            for y in range(PAT001.shape[2]):\n",
    "                if euclidian_distance(x, y, a, b) > ban_kinh:\n",
    "                    img[x,y] = -2000\n",
    "        img = img[int(top) : int(bottom), int(left) : int(right)]\n",
    "        crop_imgs.append(img)\n",
    "        \n",
    "circling()\n",
    "crop_imgs = np.array(crop_imgs)\n",
    "crop_imgs.shape"
   ]
  },
  {
   "cell_type": "code",
   "execution_count": null,
   "metadata": {},
   "outputs": [],
   "source": [
    "PAT001 = crop_imgs\n",
    "explore_3D_array(PAT001)"
   ]
  },
  {
   "cell_type": "code",
   "execution_count": 8,
   "metadata": {},
   "outputs": [
    {
     "data": {
      "text/plain": [
       "<matplotlib.image.AxesImage at 0x208e69a0040>"
      ]
     },
     "execution_count": 8,
     "metadata": {},
     "output_type": "execute_result"
    },
    {
     "data": {
      "image/png": "[encoded data removed]",
      "text/plain": [
       "<Figure size 640x480 with 1 Axes>"
      ]
     },
     "metadata": {},
     "output_type": "display_data"
    }
   ],
   "source": [
    "plt.imshow(PAT001[100], cmap=\"gray\")"
   ]
  },
  {
   "cell_type": "markdown",
   "metadata": {},
   "source": [
    "##### Lưu lại dưới định dạng .nii.gz"
   ]
  },
  {
   "cell_type": "code",
   "execution_count": 9,
   "metadata": {},
   "outputs": [
    {
     "name": "stdout",
     "output_type": "stream",
     "text": [
      "Shape of numpy array: (201, 380, 380)\n"
     ]
    }
   ],
   "source": [
    "out_path = '../../data/PatientsDCM/PAT001/PAT001.nii.gz'\n",
    "converted_array = np.array(PAT001, dtype=np.float32)\n",
    "converted_array = np.transpose(converted_array, (2, 1, 0))\n",
    "\n",
    "affine = np.eye(4)\n",
    "nifti_file = nib.Nifti1Image(converted_array, affine)\n",
    "nib.save(nifti_file, out_path)\n",
    "\n",
    "# reread to check\n",
    "raw_img_sitk = sitk.ReadImage(out_path, sitk.sitkFloat32)\n",
    "raw_img_sitk = sitk.GetArrayFromImage(raw_img_sitk)\n",
    "print(f'Shape of numpy array: {raw_img_sitk.shape}')"
   ]
  },
  {
   "cell_type": "code",
   "execution_count": null,
   "metadata": {},
   "outputs": [],
   "source": [
    "explore_3D_array_comparison(raw_img_sitk, PAT001)"
   ]
  },
  {
   "cell_type": "markdown",
   "metadata": {},
   "source": [
    "### 4. Xem và Normalize đơn vị Housefield\n",
    "\n",
    "Đơn vị Hounsfield (HU) là một đơn vị được sử dụng để thể hiện mật độ phóng xạ của vật liệu trong chụp cắt lớp vi tính (CT). Thang đo HU dựa trên mật độ phóng xạ của không khí và nước, được gán các giá trị lần lượt là -1000 HU và 0 HU. Thang đo HU dao động từ -1000 HU đối với không khí đến +3000 HU đối với xương hoặc kim loại rất dày đặc.  Các vật liệu và mô khác nhau có giá trị HU khác nhau, có thể giúp xác định và phân biệt chúng trên hình ảnh CT."
   ]
  },
  {
   "cell_type": "code",
   "execution_count": 80,
   "metadata": {},
   "outputs": [
    {
     "name": "stdout",
     "output_type": "stream",
     "text": [
      "3071 -2000\n"
     ]
    },
    {
     "data": {
      "image/png": "[encoded data removed]",
      "text/plain": [
       "<Figure size 640x480 with 1 Axes>"
      ]
     },
     "metadata": {},
     "output_type": "display_data"
    }
   ],
   "source": [
    "print(np.max(PAT001), np.min(PAT001))\n",
    "\n",
    "plt.hist(PAT001.flatten(), bins=80, color='c')\n",
    "plt.xlabel(\"Đơn vị Hounsfield\")\n",
    "plt.ylabel(\"Tấn suất\")\n",
    "plt.show()"
   ]
  },
  {
   "cell_type": "markdown",
   "metadata": {},
   "source": [
    "Tuy nhiên range Hounsfield Unit ở trên chưa chính xác trong vùng hình tròn và có một vài nhiễu +3000"
   ]
  },
  {
   "cell_type": "code",
   "execution_count": 85,
   "metadata": {},
   "outputs": [
    {
     "data": {
      "text/plain": [
       "(3071, -878)"
      ]
     },
     "execution_count": 85,
     "metadata": {},
     "output_type": "execute_result"
    }
   ],
   "source": [
    "def normalization():\n",
    "    max_val = min_val = 0\n",
    "    # Find max min\n",
    "    for index in range(PAT001.shape[0]):\n",
    "            img = PAT001[index]\n",
    "            for x in range(PAT001.shape[1]):\n",
    "                for y in range(PAT001.shape[2]):\n",
    "                    if euclidian_distance(x, y, a=PAT001.shape[1]/2, b=PAT001.shape[1]/2) <= ban_kinh: # nằm trong hình tròn\n",
    "                        if img[x,y] > max_val:\n",
    "                            max_val = img[x,y] \n",
    "                        elif img[x,y] < max_val:\n",
    "                            min_val = img[x,y] \n",
    "    # Intensity normalization                        \n",
    "    for index in range(PAT001.shape[0]):\n",
    "        img = PAT001[index]\n",
    "        for x in range(PAT001.shape[1]):\n",
    "            for y in range(PAT001.shape[2]):\n",
    "                if euclidian_distance(x, y, a=PAT001.shape[1]/2, b=PAT001.shape[1]/2) <= ban_kinh: # nằm trong hình tròn\n",
    "                    img = (img - min_val) / (max_val - min_val)\n",
    "                    PAT001[index] = img"
   ]
  },
  {
   "cell_type": "markdown",
   "metadata": {},
   "source": [
    "Hoặc Normalize với range tùy chọn"
   ]
  },
  {
   "cell_type": "code",
   "execution_count": 88,
   "metadata": {},
   "outputs": [
    {
     "data": {
      "image/png": "[encoded data removed]",
      "text/plain": [
       "<Figure size 640x480 with 1 Axes>"
      ]
     },
     "metadata": {},
     "output_type": "display_data"
    }
   ],
   "source": [
    "from scipy import stats\n",
    "\n",
    "in_range = (-1024, 1024)\n",
    "mask = (PAT001 >= in_range [0]) & (PAT001 <= in_range [1])\n",
    "masked_array = np.ma.masked_array (PAT001, ~mask)\n",
    "normalized_array = stats.zscore (masked_array, axis = 0)\n",
    "normalized_array = normalized_array.filled (0)\n",
    "\n",
    "plt.hist(normalized_array.flatten(), bins=80, color='c')\n",
    "plt.xlabel(\"Đơn vị Hounsfield\")\n",
    "plt.ylabel(\"Tấn suất\")\n",
    "plt.show()"
   ]
  },
  {
   "cell_type": "markdown",
   "metadata": {},
   "source": [
    "#### Normalize with keras lib"
   ]
  },
  {
   "cell_type": "code",
   "execution_count": 6,
   "metadata": {},
   "outputs": [],
   "source": [
    "img = sitk.ReadImage('../../data/PatientsDCM/Postprocessing/PAT001.nii.gz', sitk.sitkFloat32)\n",
    "img = sitk.GetArrayFromImage(img)"
   ]
  },
  {
   "cell_type": "code",
   "execution_count": 7,
   "metadata": {},
   "outputs": [
    {
     "data": {
      "image/png": "[encoded data removed]",
      "text/plain": [
       "<Figure size 640x480 with 1 Axes>"
      ]
     },
     "metadata": {},
     "output_type": "display_data"
    }
   ],
   "source": [
    "plt.hist(img.flatten(), bins=80, color='c')\n",
    "plt.xlabel(\"Đơn vị Hounsfield\")\n",
    "plt.ylabel(\"Tấn suất\")\n",
    "plt.show()"
   ]
  },
  {
   "cell_type": "code",
   "execution_count": null,
   "metadata": {},
   "outputs": [],
   "source": [
    "from keras.utils import normalize\n",
    "\n",
    "img = normalize(img, axis=1)\n",
    "print(np.max(img), np.min(img))\n",
    "explore_3D_array(img)"
   ]
  },
  {
   "cell_type": "markdown",
   "metadata": {},
   "source": [
    "Lưu ý: Bước normalization chỉ thực hiện khi muốn train một model nào đó"
   ]
  },
  {
   "cell_type": "markdown",
   "metadata": {},
   "source": [
    "### 5. Toàn bộ code chạy một lần các các bộ PAT khác nhau"
   ]
  },
  {
   "cell_type": "markdown",
   "metadata": {},
   "source": [
    "#### Các hàm hỗ trợ"
   ]
  },
  {
   "cell_type": "code",
   "execution_count": 2,
   "metadata": {},
   "outputs": [],
   "source": [
    "INPUT_FOLDER = '../../data/PatientsDCM/'\n",
    "patients = os.listdir(INPUT_FOLDER)\n",
    "patients.sort()\n",
    "\n",
    "def load_scan(path):\n",
    "    slices = [dcmread(path + '/' + s) for s in os.listdir(path)]\n",
    "    slices.sort(key = lambda x: float(x.ImagePositionPatient[2]))\n",
    "    try:\n",
    "        slice_thickness = np.abs(slices[0].ImagePositionPatient[2] - slices[1].ImagePositionPatient[2])\n",
    "    except:\n",
    "        slice_thickness = np.abs(slices[0].SliceLocation - slices[1].SliceLocation)\n",
    "    for s in slices:\n",
    "        s.SliceThickness = slice_thickness\n",
    "    return slices\n",
    "\n",
    "\n",
    "def get_pixels_hu(slices):\n",
    "    image = np.stack([s.pixel_array for s in slices])\n",
    "    image = image.astype(np.int16)\n",
    "    image[image == -2000] = 0\n",
    "    for slice_number in range(len(slices)):\n",
    "        intercept = slices[slice_number].RescaleIntercept\n",
    "        slope = slices[slice_number].RescaleSlope\n",
    "        if slope != 1:\n",
    "            image[slice_number] = slope * image[slice_number].astype(np.float64)\n",
    "            image[slice_number] = image[slice_number].astype(np.int16)\n",
    "        image[slice_number] += np.int16(intercept)  \n",
    "    return np.array(image, dtype=np.int16)\n",
    "\n",
    "def euclidian_distance(x, y, a, b):\n",
    "    dis = ((x - a)**2 + (y - b)**2)**(1/2)\n",
    "    return dis\n",
    "\n",
    "def filtering(image):\n",
    "    # Load model\n",
    "    filename = '../../model/training/models/logreg_model.sav'\n",
    "    loaded_model = pickle.load(open(filename, 'rb'))\n",
    "        \n",
    "    # Predict\n",
    "    temp = image.reshape(image.shape[0],-1)\n",
    "    y_pred = loaded_model.predict(temp)\n",
    "        \n",
    "    # filtering\n",
    "    start = end = 0\n",
    "    for index, value in enumerate(y_pred):\n",
    "        if value == 1:\n",
    "            start = index\n",
    "            while y_pred[index] == 1 and index < image.shape[0] - 1:\n",
    "                index += 1\n",
    "            end = index\n",
    "            break\n",
    "                \n",
    "    image = image[start:end]\n",
    "    return image"
   ]
  },
  {
   "cell_type": "markdown",
   "metadata": {},
   "source": [
    "#### Code chạy chính"
   ]
  },
  {
   "cell_type": "code",
   "execution_count": 4,
   "metadata": {},
   "outputs": [
    {
     "name": "stdout",
     "output_type": "stream",
     "text": [
      "001 done!\n",
      "002 done!\n",
      "003 done!\n",
      "004 done!\n",
      "005 done!\n",
      "006 done!\n",
      "007 done!\n",
      "008 done!\n",
      "009 done!\n",
      "010 done!\n",
      "011 done!\n",
      "012 done!\n",
      "013 done!\n",
      "014 done!\n",
      "015 done!\n",
      "016 done!\n"
     ]
    }
   ],
   "source": [
    "def run(index_PAT):\n",
    "    # Read the volumetric images\n",
    "    PAT_scan = load_scan(INPUT_FOLDER + patients[index_PAT - 1])\n",
    "    PAT = get_pixels_hu(PAT_scan)\n",
    "    \n",
    "    # Filtering with logistic regression\n",
    "    PAT = filtering(PAT)\n",
    "\n",
    "    # Circling and clipping\n",
    "    ban_kinh = 190\n",
    "    a = b = 512/2\n",
    "    left = top = a - ban_kinh\n",
    "    right = bottom = a + ban_kinh\n",
    "    crop_imgs = []\n",
    "\n",
    "    for index in range(PAT.shape[0]):\n",
    "        img = PAT[index]\n",
    "        for x in range(PAT.shape[1]):\n",
    "            for y in range(PAT.shape[2]):\n",
    "                if euclidian_distance(x, y, a, b) > ban_kinh:\n",
    "                    img[x,y] = -2000\n",
    "        img = img[int(top) : int(bottom), int(left) : int(right)]\n",
    "        crop_imgs.append(img)\n",
    "    crop_imgs = np.array(crop_imgs)\n",
    "    \n",
    "    # Save into .nii.gz file\n",
    "    index_PAT = '00' + str(index_PAT) if index_PAT < 10 else '0' + str(index_PAT)\n",
    "    out_path = f'../../data/PatientsDCM/Postprocessing/PAT{index_PAT}.nii.gz'\n",
    "    converted_array = np.array(crop_imgs, dtype=np.float32)\n",
    "    converted_array = np.transpose(converted_array, (2, 1, 0))\n",
    "    affine = np.eye(4)\n",
    "    nifti_file = nib.Nifti1Image(converted_array, affine)\n",
    "    nib.save(nifti_file, out_path)\n",
    "    \n",
    "    # Done line\n",
    "    print(f'{index_PAT} done!')\n",
    "\n",
    "# Loop through all patients\n",
    "for index_PAT in range(1, 17, 1):\n",
    "    run(index_PAT)"
   ]
  },
  {
   "cell_type": "markdown",
   "metadata": {},
   "source": [
    "### 6. Kiểm tra kết quả"
   ]
  },
  {
   "cell_type": "code",
   "execution_count": null,
   "metadata": {},
   "outputs": [],
   "source": [
    "img = sitk.ReadImage('../../data/PatientsDCM/Postprocessing/PAT004.nii.gz', sitk.sitkFloat32)\n",
    "img = sitk.GetArrayFromImage(img)\n",
    "print(img.shape)\n",
    "explore_3D_array(img)"
   ]
  }
 ],
 "metadata": {
  "kernelspec": {
   "display_name": ".venv",
   "language": "python",
   "name": "python3"
  },
  "language_info": {
   "codemirror_mode": {
    "name": "ipython",
    "version": 3
   },
   "file_extension": ".py",
   "mimetype": "text/x-python",
   "name": "python",
   "nbconvert_exporter": "python",
   "pygments_lexer": "ipython3",
   "version": "3.10.0"
  },
  "orig_nbformat": 4
 },
 "nbformat": 4,
 "nbformat_minor": 2
}
