{
 "cells": [
  {
   "cell_type": "code",
   "execution_count": 1,
   "metadata": {},
   "outputs": [
    {
     "name": "stdout",
     "output_type": "stream",
     "text": [
      "SimpleITK version = 2.3.0\n"
     ]
    }
   ],
   "source": [
    "%matplotlib inline\n",
    "\n",
    "import os\n",
    "from helpers import *\n",
    "import SimpleITK as sitk\n",
    "print(f'SimpleITK version = {sitk.__version__}')"
   ]
  },
  {
   "cell_type": "code",
   "execution_count": 3,
   "metadata": {},
   "outputs": [
    {
     "data": {
      "text/plain": [
       "(363, 512, 512)"
      ]
     },
     "execution_count": 3,
     "metadata": {},
     "output_type": "execute_result"
    }
   ],
   "source": [
    "ground_truth = sitk.ReadImage(\"loss_function/ct_train_1001_label.nii.gz\", sitk.sitkFloat32)\n",
    "ground_truth = sitk.GetArrayFromImage(ground_truth)\n",
    "ground_truth.shape"
   ]
  },
  {
   "cell_type": "code",
   "execution_count": 8,
   "metadata": {},
   "outputs": [
    {
     "data": {
      "application/vnd.jupyter.widget-view+json": {
       "model_id": "26dd120b5e9247f89409f62a8008dcc6",
       "version_major": 2,
       "version_minor": 0
      },
      "text/plain": [
       "interactive(children=(IntSlider(value=181, description='SLICE', max=362), Output()), _dom_classes=('widget-int…"
      ]
     },
     "metadata": {},
     "output_type": "display_data"
    }
   ],
   "source": [
    "explore_3D_array(ground_truth)"
   ]
  },
  {
   "cell_type": "code",
   "execution_count": 10,
   "metadata": {},
   "outputs": [
    {
     "data": {
      "image/png": "[encoded data removed]",
      "text/plain": [
       "<Figure size 640x480 with 1 Axes>"
      ]
     },
     "metadata": {},
     "output_type": "display_data"
    }
   ],
   "source": [
    "plt.hist(ground_truth.flatten(), bins=80, color='c')\n",
    "plt.show()"
   ]
  },
  {
   "cell_type": "code",
   "execution_count": 17,
   "metadata": {},
   "outputs": [
    {
     "name": "stdout",
     "output_type": "stream",
     "text": [
      "Unique values: [  0. 205. 420. 500. 550. 600. 820. 850.]\n",
      "Counts: [81219808  2147646  2291076  1089815  2335548  2190491  2077330  1806558]\n"
     ]
    }
   ],
   "source": [
    "array_1d = ground_truth.flatten()\n",
    "unique_values, counts = np.unique(array_1d, return_counts=True)\n",
    "print(\"Unique values:\", unique_values) \n",
    "print(\"Counts:\", counts)"
   ]
  },
  {
   "cell_type": "code",
   "execution_count": 22,
   "metadata": {},
   "outputs": [
    {
     "name": "stdout",
     "output_type": "stream",
     "text": [
      "Label 1 is a 3D array that contains only pixels with value 0.0 in array_3d:\n",
      "(363, 512, 512)\n",
      "Label 2 is a 3D array that contains only pixels with value 205.0 in array_3d:\n",
      "(363, 512, 512)\n",
      "Label 3 is a 3D array that contains only pixels with value 420.0 in array_3d:\n",
      "(363, 512, 512)\n",
      "Label 4 is a 3D array that contains only pixels with value 500.0 in array_3d:\n",
      "(363, 512, 512)\n",
      "Label 5 is a 3D array that contains only pixels with value 550.0 in array_3d:\n",
      "(363, 512, 512)\n",
      "Label 6 is a 3D array that contains only pixels with value 600.0 in array_3d:\n",
      "(363, 512, 512)\n",
      "Label 7 is a 3D array that contains only pixels with value 820.0 in array_3d:\n",
      "(363, 512, 512)\n",
      "Label 8 is a 3D array that contains only pixels with value 850.0 in array_3d:\n",
      "(363, 512, 512)\n"
     ]
    }
   ],
   "source": [
    "# Create a list to store the label arrays for each value\n",
    "label_arrays = []\n",
    "\n",
    "# Loop through the unique values\n",
    "for value in unique_values: \n",
    "    # Make a copy of the original array \n",
    "    label_array = np.copy(ground_truth) \n",
    "    # Set the voxels that do not match the value to zero \n",
    "    label_array[np.where(label_array != value)] = 0 \n",
    "    # Append the label array to the list \n",
    "    label_arrays.append(label_array)\n",
    "\n",
    "# Print the label arrays\n",
    "for i, label_array in enumerate(label_arrays): \n",
    "    print(f\"Label {i+1} is a 3D array that contains only pixels with value {unique_values[i]} in array_3d:\") \n",
    "    print(label_array.shape)"
   ]
  },
  {
   "cell_type": "code",
   "execution_count": 28,
   "metadata": {},
   "outputs": [
    {
     "data": {
      "application/vnd.jupyter.widget-view+json": {
       "model_id": "50f0d395f4e84f0c8c501ea9ebfa0942",
       "version_major": 2,
       "version_minor": 0
      },
      "text/plain": [
       "interactive(children=(IntSlider(value=181, description='SLICE', max=362), Output()), _dom_classes=('widget-int…"
      ]
     },
     "metadata": {},
     "output_type": "display_data"
    }
   ],
   "source": [
    "explore_3D_array_comparison(label_arrays[2], ground_truth)"
   ]
  }
 ],
 "metadata": {
  "kernelspec": {
   "display_name": ".venv",
   "language": "python",
   "name": "python3"
  },
  "language_info": {
   "codemirror_mode": {
    "name": "ipython",
    "version": 3
   },
   "file_extension": ".py",
   "mimetype": "text/x-python",
   "name": "python",
   "nbconvert_exporter": "python",
   "pygments_lexer": "ipython3",
   "version": "3.10.2"
  },
  "orig_nbformat": 4
 },
 "nbformat": 4,
 "nbformat_minor": 2
}
