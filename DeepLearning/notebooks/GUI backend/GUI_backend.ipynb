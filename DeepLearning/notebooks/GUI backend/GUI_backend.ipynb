{
 "cells": [
  {
   "cell_type": "code",
   "execution_count": null,
   "metadata": {},
   "outputs": [],
   "source": [
    "import SimpleITK as sitk\n",
    "import os\n",
    "import \n"
   ]
  },
  {
   "cell_type": "code",
   "execution_count": null,
   "metadata": {},
   "outputs": [],
   "source": [
    "img = sitk.ReadImage('../../data/PatientsDCM/Postprocessing/PAT004.nii.gz', sitk.sitkFloat32)\n",
    "img = sitk.GetArrayFromImage(img)\n",
    "print(img.shape)\n",
    "explore_3D_array(img)"
   ]
  }
 ],
 "metadata": {
  "language_info": {
   "name": "python"
  }
 },
 "nbformat": 4,
 "nbformat_minor": 2
}
