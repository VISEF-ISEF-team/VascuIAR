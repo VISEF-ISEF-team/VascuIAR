{
 "cells": [
  {
   "cell_type": "code",
   "execution_count": null,
   "metadata": {},
   "outputs": [],
   "source": [
    "import tensorflow as tf \n",
    "import os\n",
    "import nibabel as nib\n",
    "import numpy as np\n",
    "import matplotlib.pyplot as plt \n",
    "import skimage.transform as skTrans"
   ]
  },
  {
   "cell_type": "code",
   "execution_count": null,
   "metadata": {},
   "outputs": [],
   "source": [
    "trainedModelPath = \".\\\\trained_model\\\\\"\n",
    "rootDirPath = \"..\\\\mmwhs\\\\ct_train\\\\\""
   ]
  },
  {
   "cell_type": "code",
   "execution_count": null,
   "metadata": {},
   "outputs": [],
   "source": [
    "unetAxial = tf.keras.models.load_model(os.path.join(trainedModelPath, \"unetAxial.h5\"))\n",
    "unetAxial.summary()"
   ]
  },
  {
   "cell_type": "code",
   "execution_count": null,
   "metadata": {},
   "outputs": [],
   "source": [
    "def ConvertPredictToImage(sliceImagePredict):\n",
    "    def MapArgmax(x):\n",
    "        encodeList = {\n",
    "            0: 0,\n",
    "            1: 500,\n",
    "            2: 600,\n",
    "            3: 420,\n",
    "            4: 550,\n",
    "            5: 205,\n",
    "            6: 820,\n",
    "            7: 850,\n",
    "        }\n",
    "        return encodeList.get(x, None)\n",
    "\n",
    "    a = sliceImagePredict.copy()\n",
    "    a = a.argmax(axis=-1)\n",
    "    a = np.vectorize(MapArgmax)(a)\n",
    "    return a"
   ]
  },
  {
   "cell_type": "code",
   "execution_count": null,
   "metadata": {},
   "outputs": [],
   "source": [
    "x = np.load(\"./x_axial.npy\")\n",
    "y = np.load(\"./y_axial.npy\")"
   ]
  },
  {
   "cell_type": "code",
   "execution_count": null,
   "metadata": {},
   "outputs": [],
   "source": [
    "sliceImage = np.squeeze(x[300], axis=-1)\n",
    "sliceLabel = ConvertPredictToImage(y[300])"
   ]
  },
  {
   "cell_type": "code",
   "execution_count": null,
   "metadata": {},
   "outputs": [],
   "source": [
    "fig, axes = plt.subplots(1, 2, figsize=(8, 6))\n",
    "axes[0].set_title(\"Hình chụp ban đầu\")\n",
    "axes[0].imshow(sliceImage, cmap=\"gray\")\n",
    "axes[1].set_title(\"Các phân đoạn đã được kiểm định\")\n",
    "axes[1].imshow(sliceLabel, cmap=\"gray\")"
   ]
  },
  {
   "cell_type": "code",
   "execution_count": null,
   "metadata": {},
   "outputs": [],
   "source": [
    "sliceImageForPredict = [sliceImage]\n",
    "sliceImageForPredict = np.expand_dims(sliceImageForPredict, -1)\n",
    "print(sliceImageForPredict.shape)"
   ]
  },
  {
   "cell_type": "code",
   "execution_count": null,
   "metadata": {},
   "outputs": [],
   "source": [
    "sliceImagePredict = unetAxial.predict(sliceImageForPredict)\n",
    "sliceImagePredict = sliceImagePredict[0]"
   ]
  },
  {
   "cell_type": "code",
   "execution_count": null,
   "metadata": {},
   "outputs": [],
   "source": [
    "sliceImagePredict = ConvertPredictToImage(sliceImagePredict)"
   ]
  },
  {
   "cell_type": "code",
   "execution_count": null,
   "metadata": {},
   "outputs": [],
   "source": [
    "fig, axes = plt.subplots(1, 3, figsize=(12, 6))\n",
    "axes[0].set_title(\"Hình chụp ban đầu\")\n",
    "axes[0].imshow(sliceImage, cmap=\"gray\")\n",
    "axes[1].set_title(\"Các phân đoạn đã được kiểm định\")\n",
    "axes[1].imshow(sliceLabel, cmap=\"gray\")\n",
    "axes[2].set_title(\"Các phân đoạn từ mô hình học sâu\")\n",
    "axes[2].imshow(sliceImagePredict, cmap=\"gray\")"
   ]
  },
  {
   "cell_type": "code",
   "execution_count": null,
   "metadata": {},
   "outputs": [],
   "source": [
    "print(f\"Unique label: {np.unique(sliceLabel)}, Unique predict value: {np.unique(sliceImagePredict)}\")"
   ]
  },
  {
   "cell_type": "code",
   "execution_count": null,
   "metadata": {},
   "outputs": [],
   "source": [
    "def DiceCoefficient(y_true, y_pred, class_id):\n",
    "    # Create binary masks for the specific class\n",
    "    y_true_class = np.where(y_true == class_id, 1, 0)\n",
    "    y_pred_class = np.where(y_pred == class_id, 1, 0)\n",
    "\n",
    "    # Calculate the intersection between the masks\n",
    "    intersection = np.logical_and(y_true_class, y_pred_class).sum()\n",
    "\n",
    "    # Calculate the sum of elements in each mask\n",
    "    sum_y_true = np.sum(y_true_class)\n",
    "    sum_y_pred = np.sum(y_pred_class)\n",
    "\n",
    "    # Calculate the Dice coefficient for the class\n",
    "    # Adding a small epsilon to avoid division by zero\n",
    "    dice = (2.0 * intersection) / (sum_y_true + sum_y_pred + 1e-8)\n",
    "\n",
    "    return dice\n",
    "\n",
    "\n",
    "def DiceMultiClass(y_true, y_pred, num_classes):\n",
    "    dice_scores = []\n",
    "    for class_id in range(num_classes):\n",
    "        dice = DiceCoefficient(y_true, y_pred, class_id)\n",
    "        dice_scores.append(dice)\n",
    "\n",
    "    # Calculate the average Dice coefficient across all classes\n",
    "    average_dice = np.mean(dice_scores)\n",
    "    return average_dice"
   ]
  }
 ],
 "metadata": {
  "kernelspec": {
   "display_name": ".venv",
   "language": "python",
   "name": "python3"
  },
  "language_info": {
   "codemirror_mode": {
    "name": "ipython",
    "version": 3
   },
   "file_extension": ".py",
   "mimetype": "text/x-python",
   "name": "python",
   "nbconvert_exporter": "python",
   "pygments_lexer": "ipython3",
   "version": "3.9.0"
  }
 },
 "nbformat": 4,
 "nbformat_minor": 2
}
