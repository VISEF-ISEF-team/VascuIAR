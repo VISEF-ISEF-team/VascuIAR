{
  "cells": [
    {
      "cell_type": "code",
      "execution_count": null,
      "metadata": {
        "id": "wfwrVxhvlcTe"
      },
      "outputs": [],
      "source": [
        "import numpy as np\n",
        "import nibabel as nib\n",
        "import os\n",
        "import tensorflow as tf\n",
        "import matplotlib.pyplot as plt\n",
        "import skimage.transform as skTrans\n",
        "import math"
      ]
    },
    {
      "cell_type": "code",
      "execution_count": null,
      "metadata": {
        "id": "YKEhhIlHuSLd"
      },
      "outputs": [],
      "source": [
        "rootDirPath = \"..\\\\mmwhs\\\\ct_train\\\\\""
      ]
    },
    {
      "cell_type": "code",
      "execution_count": null,
      "metadata": {
        "id": "wnk2ltIGlv_P"
      },
      "outputs": [],
      "source": [
        "def CreateSaggitalUnet(x, y, channel, num_classes=8):\n",
        "\n",
        "    # [slice, :, :]\n",
        "    inputs = tf.keras.layers.Input((x, y, channel))\n",
        "    kernel_initializer = \"he_normal\"\n",
        "\n",
        "    #Contraction path\n",
        "    c1 = tf.keras.layers.Conv2D(16, (3, 3), activation='relu', kernel_initializer=kernel_initializer, padding='same')(inputs)\n",
        "    c1 = tf.keras.layers.Dropout(0.1)(c1)\n",
        "    c1 = tf.keras.layers.Conv2D(16, (3, 3), activation='relu', kernel_initializer=kernel_initializer, padding='same')(c1)\n",
        "    p1 = tf.keras.layers.MaxPooling2D((2, 2))(c1)\n",
        "    p1 = tf.keras.layers.PReLU()(p1)\n",
        "\n",
        "    c2 = tf.keras.layers.Conv2D(32, (3, 3), activation='relu', kernel_initializer=kernel_initializer, padding='same')(p1)\n",
        "    c2 = tf.keras.layers.Dropout(0.1)(c2)\n",
        "    c2 = tf.keras.layers.Conv2D(32, (3, 3), activation='relu', kernel_initializer=kernel_initializer, padding='same')(c2)\n",
        "    p2 = tf.keras.layers.MaxPooling2D((2, 2))(c2)\n",
        "    p2 = tf.keras.layers.PReLU()(p2)\n",
        "\n",
        "    c3 = tf.keras.layers.Conv2D(64, (3, 3), activation='relu', kernel_initializer=kernel_initializer, padding='same')(p2)\n",
        "    c3 = tf.keras.layers.Dropout(0.2)(c3)\n",
        "    c3 = tf.keras.layers.Conv2D(64, (3, 3), activation='relu', kernel_initializer=kernel_initializer, padding='same')(c3)\n",
        "    p3 = tf.keras.layers.MaxPooling2D((2, 2))(c3)\n",
        "    p3 = tf.keras.layers.PReLU()(p3)\n",
        "\n",
        "    c4 = tf.keras.layers.Conv2D(128, (3, 3), activation='relu', kernel_initializer=kernel_initializer, padding='same')(p3)\n",
        "    c4 = tf.keras.layers.Dropout(0.2)(c4)\n",
        "    c4 = tf.keras.layers.Conv2D(128, (3, 3), activation='relu', kernel_initializer=kernel_initializer, padding='same')(c4)\n",
        "    p4 = tf.keras.layers.MaxPooling2D(pool_size=(2, 2))(c4)\n",
        "    p4 = tf.keras.layers.PReLU()(p4)\n",
        "\n",
        "    c5 = tf.keras.layers.Conv2D(256, (3, 3), activation='relu', kernel_initializer=kernel_initializer, padding='same')(p4)\n",
        "    c5 = tf.keras.layers.Dropout(0.3)(c5)\n",
        "    c5 = tf.keras.layers.Conv2D(256, (3, 3), activation='relu', kernel_initializer=kernel_initializer, padding='same')(c5)\n",
        "\n",
        "    #Expansive path\n",
        "    u6 = tf.keras.layers.Conv2DTranspose(128, (2, 2), strides=(2, 2), padding='same')(c5)\n",
        "    u6 = tf.keras.layers.PReLU()(u6)\n",
        "    u6 = tf.keras.layers.concatenate([u6, c4])\n",
        "    c6 = tf.keras.layers.Conv2D(128, (3, 3), activation='relu', kernel_initializer=kernel_initializer, padding='same')(u6)\n",
        "    c6 = tf.keras.layers.Dropout(0.2)(c6)\n",
        "    c6 = tf.keras.layers.Conv2D(128, (3, 3), activation='relu', kernel_initializer=kernel_initializer, padding='same')(c6)\n",
        "\n",
        "    u7 = tf.keras.layers.Conv2DTranspose(64, (2, 2), strides=(2, 2), padding='same')(c6)\n",
        "    u7 = tf.keras.layers.PReLU()(u7)\n",
        "    u7 = tf.keras.layers.concatenate([u7, c3])\n",
        "    c7 = tf.keras.layers.Conv2D(64, (3, 3), activation='relu', kernel_initializer=kernel_initializer, padding='same')(u7)\n",
        "    c7 = tf.keras.layers.Dropout(0.2)(c7)\n",
        "    c7 = tf.keras.layers.Conv2D(64, (3, 3), activation='relu', kernel_initializer=kernel_initializer, padding='same')(c7)\n",
        "\n",
        "    u8 = tf.keras.layers.Conv2DTranspose(32, (2, 2), strides=(2, 2), padding='same')(c7)\n",
        "    u8 = tf.keras.layers.PReLU()(u8)\n",
        "    u8 = tf.keras.layers.concatenate([u8, c2])\n",
        "    c8 = tf.keras.layers.Conv2D(32, (3, 3), activation='relu', kernel_initializer=kernel_initializer, padding='same')(u8)\n",
        "    c8 = tf.keras.layers.Dropout(0.1)(c8)\n",
        "    c8 = tf.keras.layers.Conv2D(32, (3, 3), activation='relu', kernel_initializer=kernel_initializer, padding='same')(c8)\n",
        "\n",
        "    u9 = tf.keras.layers.Conv2DTranspose(16, (2, 2), strides=(2, 2), padding='same')(c8)\n",
        "    u9 = tf.keras.layers.PReLU()(u9)\n",
        "    u9 = tf.keras.layers.concatenate([u9, c1])\n",
        "    c9 = tf.keras.layers.Conv2D(16, (3, 3), activation='relu', kernel_initializer=kernel_initializer, padding='same')(u9)\n",
        "    c9 = tf.keras.layers.Dropout(0.1)(c9)\n",
        "    c9 = tf.keras.layers.Conv2D(16, (3, 3), activation='relu', kernel_initializer=kernel_initializer, padding='same')(c9)\n",
        "\n",
        "    outputs = tf.keras.layers.Conv2D(num_classes, (1, 1), activation='softmax')(c9)\n",
        "\n",
        "    model = tf.keras.models.Model(inputs=[inputs], outputs=[outputs])\n",
        "    model.compile(optimizer='adam', loss='categorical_crossentropy',\n",
        "                  metrics=['accuracy'])\n",
        "\n",
        "    return model\n"
      ]
    },
    {
      "cell_type": "code",
      "execution_count": null,
      "metadata": {
        "id": "49OCTCZ6lyiu"
      },
      "outputs": [],
      "source": [
        "def CreateCoronalUnet(x, y, channel, num_classes=8):\n",
        "\n",
        "    # [:, slice, :]\n",
        "    inputs = tf.keras.layers.Input((x, y, channel))\n",
        "    kernel_initializer = \"he_normal\"\n",
        "\n",
        "    #Contraction path\n",
        "    c1 = tf.keras.layers.Conv2D(16, (3, 3), activation='relu', kernel_initializer=kernel_initializer, padding='same')(inputs)\n",
        "    c1 = tf.keras.layers.Dropout(0.1)(c1)\n",
        "    c1 = tf.keras.layers.Conv2D(16, (3, 3), activation='relu', kernel_initializer=kernel_initializer, padding='same')(c1)\n",
        "    p1 = tf.keras.layers.MaxPooling2D((2, 2))(c1)\n",
        "    p1 = tf.keras.layers.PReLU()(p1)\n",
        "\n",
        "    c2 = tf.keras.layers.Conv2D(32, (3, 3), activation='relu', kernel_initializer=kernel_initializer, padding='same')(p1)\n",
        "    c2 = tf.keras.layers.Dropout(0.1)(c2)\n",
        "    c2 = tf.keras.layers.Conv2D(32, (3, 3), activation='relu', kernel_initializer=kernel_initializer, padding='same')(c2)\n",
        "    p2 = tf.keras.layers.MaxPooling2D((2, 2))(c2)\n",
        "    p2 = tf.keras.layers.PReLU()(p2)\n",
        "\n",
        "    c3 = tf.keras.layers.Conv2D(64, (3, 3), activation='relu', kernel_initializer=kernel_initializer, padding='same')(p2)\n",
        "    c3 = tf.keras.layers.Dropout(0.2)(c3)\n",
        "    c3 = tf.keras.layers.Conv2D(64, (3, 3), activation='relu', kernel_initializer=kernel_initializer, padding='same')(c3)\n",
        "    p3 = tf.keras.layers.MaxPooling2D((2, 2))(c3)\n",
        "    p3 = tf.keras.layers.PReLU()(p3)\n",
        "\n",
        "    c4 = tf.keras.layers.Conv2D(128, (3, 3), activation='relu', kernel_initializer=kernel_initializer, padding='same')(p3)\n",
        "    c4 = tf.keras.layers.Dropout(0.2)(c4)\n",
        "    c4 = tf.keras.layers.Conv2D(128, (3, 3), activation='relu', kernel_initializer=kernel_initializer, padding='same')(c4)\n",
        "    p4 = tf.keras.layers.MaxPooling2D(pool_size=(2, 2))(c4)\n",
        "    p4 = tf.keras.layers.PReLU()(p4)\n",
        "\n",
        "    c5 = tf.keras.layers.Conv2D(256, (3, 3), activation='relu', kernel_initializer=kernel_initializer, padding='same')(p4)\n",
        "    c5 = tf.keras.layers.Dropout(0.3)(c5)\n",
        "    c5 = tf.keras.layers.Conv2D(256, (3, 3), activation='relu', kernel_initializer=kernel_initializer, padding='same')(c5)\n",
        "\n",
        "    #Expansive path\n",
        "    u6 = tf.keras.layers.Conv2DTranspose(128, (2, 2), strides=(2, 2), padding='same')(c5)\n",
        "    u6 = tf.keras.layers.PReLU()(u6)\n",
        "    u6 = tf.keras.layers.concatenate([u6, c4])\n",
        "    c6 = tf.keras.layers.Conv2D(128, (3, 3), activation='relu', kernel_initializer=kernel_initializer, padding='same')(u6)\n",
        "    c6 = tf.keras.layers.Dropout(0.2)(c6)\n",
        "    c6 = tf.keras.layers.Conv2D(128, (3, 3), activation='relu', kernel_initializer=kernel_initializer, padding='same')(c6)\n",
        "\n",
        "    u7 = tf.keras.layers.Conv2DTranspose(64, (2, 2), strides=(2, 2), padding='same')(c6)\n",
        "    u7 = tf.keras.layers.PReLU()(u7)\n",
        "    u7 = tf.keras.layers.concatenate([u7, c3])\n",
        "    c7 = tf.keras.layers.Conv2D(64, (3, 3), activation='relu', kernel_initializer=kernel_initializer, padding='same')(u7)\n",
        "    c7 = tf.keras.layers.Dropout(0.2)(c7)\n",
        "    c7 = tf.keras.layers.Conv2D(64, (3, 3), activation='relu', kernel_initializer=kernel_initializer, padding='same')(c7)\n",
        "\n",
        "    u8 = tf.keras.layers.Conv2DTranspose(32, (2, 2), strides=(2, 2), padding='same')(c7)\n",
        "    u8 = tf.keras.layers.PReLU()(u8)\n",
        "    u8 = tf.keras.layers.concatenate([u8, c2])\n",
        "    c8 = tf.keras.layers.Conv2D(32, (3, 3), activation='relu', kernel_initializer=kernel_initializer, padding='same')(u8)\n",
        "    c8 = tf.keras.layers.Dropout(0.1)(c8)\n",
        "    c8 = tf.keras.layers.Conv2D(32, (3, 3), activation='relu', kernel_initializer=kernel_initializer, padding='same')(c8)\n",
        "\n",
        "    u9 = tf.keras.layers.Conv2DTranspose(16, (2, 2), strides=(2, 2), padding='same')(c8)\n",
        "    u9 = tf.keras.layers.PReLU()(u9)\n",
        "    u9 = tf.keras.layers.concatenate([u9, c1])\n",
        "    c9 = tf.keras.layers.Conv2D(16, (3, 3), activation='relu', kernel_initializer=kernel_initializer, padding='same')(u9)\n",
        "    c9 = tf.keras.layers.Dropout(0.1)(c9)\n",
        "    c9 = tf.keras.layers.Conv2D(16, (3, 3), activation='relu', kernel_initializer=kernel_initializer, padding='same')(c9)\n",
        "\n",
        "    outputs = tf.keras.layers.Conv2D(num_classes, (1, 1), activation='softmax')(c9)\n",
        "\n",
        "    model = tf.keras.models.Model(inputs=[inputs], outputs=[outputs])\n",
        "    model.compile(optimizer='adam', loss='categorical_crossentropy',\n",
        "                  metrics=['accuracy'])\n",
        "\n",
        "    return model"
      ]
    },
    {
      "cell_type": "code",
      "execution_count": null,
      "metadata": {
        "id": "fAXAN8cflc1z"
      },
      "outputs": [],
      "source": [
        "def CreateAxialUnet(x, y, channel, num_classes=8):\n",
        "    # [:, :, slice]\n",
        "    inputs = tf.keras.layers.Input((x, y, channel))\n",
        "    kernel_initializer = \"he_normal\"\n",
        "\n",
        "    #Contraction path\n",
        "    c1 = tf.keras.layers.Conv2D(16, (3, 3), activation='relu', kernel_initializer=kernel_initializer, padding='same')(inputs)\n",
        "    c1 = tf.keras.layers.Dropout(0.1)(c1)\n",
        "    c1 = tf.keras.layers.Conv2D(16, (3, 3), activation='relu', kernel_initializer=kernel_initializer, padding='same')(c1)\n",
        "    p1 = tf.keras.layers.MaxPooling2D((2, 2))(c1)\n",
        "    p1 = tf.keras.layers.PReLU()(p1)\n",
        "\n",
        "    c2 = tf.keras.layers.Conv2D(32, (3, 3), activation='relu', kernel_initializer=kernel_initializer, padding='same')(p1)\n",
        "    c2 = tf.keras.layers.Dropout(0.1)(c2)\n",
        "    c2 = tf.keras.layers.Conv2D(32, (3, 3), activation='relu', kernel_initializer=kernel_initializer, padding='same')(c2)\n",
        "    p2 = tf.keras.layers.MaxPooling2D((2, 2))(c2)\n",
        "    p2 = tf.keras.layers.PReLU()(p2)\n",
        "\n",
        "    c3 = tf.keras.layers.Conv2D(64, (3, 3), activation='relu', kernel_initializer=kernel_initializer, padding='same')(p2)\n",
        "    c3 = tf.keras.layers.Dropout(0.2)(c3)\n",
        "    c3 = tf.keras.layers.Conv2D(64, (3, 3), activation='relu', kernel_initializer=kernel_initializer, padding='same')(c3)\n",
        "    p3 = tf.keras.layers.MaxPooling2D((2, 2))(c3)\n",
        "    p3 = tf.keras.layers.PReLU()(p3)\n",
        "\n",
        "    c4 = tf.keras.layers.Conv2D(128, (3, 3), activation='relu', kernel_initializer=kernel_initializer, padding='same')(p3)\n",
        "    c4 = tf.keras.layers.Dropout(0.2)(c4)\n",
        "    c4 = tf.keras.layers.Conv2D(128, (3, 3), activation='relu', kernel_initializer=kernel_initializer, padding='same')(c4)\n",
        "    p4 = tf.keras.layers.MaxPooling2D(pool_size=(2, 2))(c4)\n",
        "    p4 = tf.keras.layers.PReLU()(p4)\n",
        "\n",
        "    c5 = tf.keras.layers.Conv2D(256, (3, 3), activation='relu', kernel_initializer=kernel_initializer, padding='same')(p4)\n",
        "    c5 = tf.keras.layers.Dropout(0.3)(c5)\n",
        "    c5 = tf.keras.layers.Conv2D(256, (3, 3), activation='relu', kernel_initializer=kernel_initializer, padding='same')(c5)\n",
        "\n",
        "    #Expansive path\n",
        "    u6 = tf.keras.layers.Conv2DTranspose(128, (2, 2), strides=(2, 2), padding='same')(c5)\n",
        "    u6 = tf.keras.layers.PReLU()(u6)\n",
        "    u6 = tf.keras.layers.concatenate([u6, c4])\n",
        "    c6 = tf.keras.layers.Conv2D(128, (3, 3), activation='relu', kernel_initializer=kernel_initializer, padding='same')(u6)\n",
        "    c6 = tf.keras.layers.Dropout(0.2)(c6)\n",
        "    c6 = tf.keras.layers.Conv2D(128, (3, 3), activation='relu', kernel_initializer=kernel_initializer, padding='same')(c6)\n",
        "\n",
        "    u7 = tf.keras.layers.Conv2DTranspose(64, (2, 2), strides=(2, 2), padding='same')(c6)\n",
        "    u7 = tf.keras.layers.PReLU()(u7)\n",
        "    u7 = tf.keras.layers.concatenate([u7, c3])\n",
        "    c7 = tf.keras.layers.Conv2D(64, (3, 3), activation='relu', kernel_initializer=kernel_initializer, padding='same')(u7)\n",
        "    c7 = tf.keras.layers.Dropout(0.2)(c7)\n",
        "    c7 = tf.keras.layers.Conv2D(64, (3, 3), activation='relu', kernel_initializer=kernel_initializer, padding='same')(c7)\n",
        "\n",
        "    u8 = tf.keras.layers.Conv2DTranspose(32, (2, 2), strides=(2, 2), padding='same')(c7)\n",
        "    u8 = tf.keras.layers.PReLU()(u8)\n",
        "    u8 = tf.keras.layers.concatenate([u8, c2])\n",
        "    c8 = tf.keras.layers.Conv2D(32, (3, 3), activation='relu', kernel_initializer=kernel_initializer, padding='same')(u8)\n",
        "    c8 = tf.keras.layers.Dropout(0.1)(c8)\n",
        "    c8 = tf.keras.layers.Conv2D(32, (3, 3), activation='relu', kernel_initializer=kernel_initializer, padding='same')(c8)\n",
        "\n",
        "    u9 = tf.keras.layers.Conv2DTranspose(16, (2, 2), strides=(2, 2), padding='same')(c8)\n",
        "    u9 = tf.keras.layers.PReLU()(u9)\n",
        "    u9 = tf.keras.layers.concatenate([u9, c1])\n",
        "    c9 = tf.keras.layers.Conv2D(16, (3, 3), activation='relu', kernel_initializer=kernel_initializer, padding='same')(u9)\n",
        "    c9 = tf.keras.layers.Dropout(0.1)(c9)\n",
        "    c9 = tf.keras.layers.Conv2D(16, (3, 3), activation='relu', kernel_initializer=kernel_initializer, padding='same')(c9)\n",
        "\n",
        "    outputs = tf.keras.layers.Conv2D(num_classes, (1, 1), activation='softmax')(c9)\n",
        "\n",
        "    model = tf.keras.models.Model(inputs=[inputs], outputs=[outputs])\n",
        "    model.compile(optimizer='adam', loss='categorical_crossentropy',\n",
        "                  metrics=['accuracy'])\n",
        "\n",
        "    return model"
      ]
    },
    {
      "cell_type": "code",
      "execution_count": null,
      "metadata": {},
      "outputs": [],
      "source": [
        "def simple_unet_model(IMG_HEIGHT, IMG_WIDTH, IMG_CHANNELS, num_classes):\n",
        "    kernel_initializer = 'he_uniform'  # Try others if you want\n",
        "    # Build the model\n",
        "    inputs = tf.keras.layers.Input((IMG_HEIGHT, IMG_WIDTH, IMG_CHANNELS))\n",
        "    # s = Lambda(lambda x: x / 255)(inputs)   #No need for this if we normalize our inputs beforehand\n",
        "    s = inputs\n",
        "\n",
        "    # Contraction path\n",
        "    c1 = tf.keras.layers.Conv2D(16, (3, 3), activation='relu',\n",
        "                kernel_initializer=kernel_initializer, padding='same')(s)\n",
        "    c1 = tf.keras.layers.Dropout(0.1)(c1)\n",
        "    c1 = tf.keras.layers.Conv2D(16, (3, 3), activation='relu',\n",
        "                kernel_initializer=kernel_initializer, padding='same')(c1)\n",
        "    p1 = tf.keras.layers.MaxPooling2D((2, 2))(c1)\n",
        "\n",
        "    c2 = tf.keras.layers.Conv2D(32, (3, 3), activation='relu',\n",
        "                kernel_initializer=kernel_initializer, padding='same')(p1)\n",
        "    c2 = tf.keras.layers.Dropout(0.1)(c2)\n",
        "    c2 = tf.keras.layers.Conv2D(32, (3, 3), activation='relu',\n",
        "                kernel_initializer=kernel_initializer, padding='same')(c2)\n",
        "    p2 = tf.keras.layers.MaxPooling2D((2, 2))(c2)\n",
        "\n",
        "    c3 = tf.keras.layers.Conv2D(64, (3, 3), activation='relu',\n",
        "                kernel_initializer=kernel_initializer, padding='same')(p2)\n",
        "    c3 = tf.keras.layers.Dropout(0.2)(c3)\n",
        "    c3 = tf.keras.layers.Conv2D(64, (3, 3), activation='relu',\n",
        "                kernel_initializer=kernel_initializer, padding='same')(c3)\n",
        "    p3 = tf.keras.layers.MaxPooling2D((2, 2))(c3)\n",
        "\n",
        "    c4 = tf.keras.layers.Conv2D(128, (3, 3), activation='relu',\n",
        "                kernel_initializer=kernel_initializer, padding='same')(p3)\n",
        "    c4 = tf.keras.layers.Dropout(0.2)(c4)\n",
        "    c4 = tf.keras.layers.Conv2D(128, (3, 3), activation='relu',\n",
        "                kernel_initializer=kernel_initializer, padding='same')(c4)\n",
        "    p4 = tf.keras.layers.MaxPooling2D(pool_size=(2, 2))(c4)\n",
        "\n",
        "    c5 = tf.keras.layers.Conv2D(256, (3, 3), activation='relu',\n",
        "                kernel_initializer=kernel_initializer, padding='same')(p4)\n",
        "    c5 = tf.keras.layers.Dropout(0.3)(c5)\n",
        "    c5 = tf.keras.layers.Conv2D(256, (3, 3), activation='relu',\n",
        "                kernel_initializer=kernel_initializer, padding='same')(c5)\n",
        "\n",
        "    # Expansive path\n",
        "    u6 = tf.keras.layers.Conv2DTranspose(128, (2, 2), strides=(2, 2), padding='same')(c5)\n",
        "    u6 = tf.keras.layers.concatenate([u6, c4])\n",
        "    c6 = tf.keras.layers.Conv2D(128, (3, 3), activation='relu',\n",
        "                kernel_initializer=kernel_initializer, padding='same')(u6)\n",
        "    c6 = tf.keras.layers.Dropout(0.2)(c6)\n",
        "    c6 = tf.keras.layers.Conv2D(128, (3, 3), activation='relu',\n",
        "                kernel_initializer=kernel_initializer, padding='same')(c6)\n",
        "\n",
        "    u7 = tf.keras.layers.Conv2DTranspose(64, (2, 2), strides=(2, 2), padding='same')(c6)\n",
        "    u7 = tf.keras.layers.concatenate([u7, c3])\n",
        "    c7 = tf.keras.layers.Conv2D(64, (3, 3), activation='relu',\n",
        "                kernel_initializer=kernel_initializer, padding='same')(u7)\n",
        "    c7 = tf.keras.layers.Dropout(0.2)(c7)\n",
        "    c7 = tf.keras.layers.Conv2D(64, (3, 3), activation='relu',\n",
        "                kernel_initializer=kernel_initializer, padding='same')(c7)\n",
        "\n",
        "    u8 = tf.keras.layers.Conv2DTranspose(32, (2, 2), strides=(2, 2), padding='same')(c7)\n",
        "    u8 = tf.keras.layers.concatenate([u8, c2])\n",
        "    c8 = tf.keras.layers.Conv2D(32, (3, 3), activation='relu',\n",
        "                kernel_initializer=kernel_initializer, padding='same')(u8)\n",
        "    c8 = tf.keras.layers.Dropout(0.1)(c8)\n",
        "    c8 = tf.keras.layers.Conv2D(32, (3, 3), activation='relu',\n",
        "                kernel_initializer=kernel_initializer, padding='same')(c8)\n",
        "\n",
        "    u9 = tf.keras.layers.Conv2DTranspose(16, (2, 2), strides=(2, 2), padding='same')(c8)\n",
        "    u9 = tf.keras.layers.concatenate([u9, c1])\n",
        "    c9 = tf.keras.layers.Conv2D(16, (3, 3), activation='relu',\n",
        "                kernel_initializer=kernel_initializer, padding='same')(u9)\n",
        "    c9 = tf.keras.layers.Dropout(0.1)(c9)\n",
        "    c9 = tf.keras.layers.Conv2D(16, (3, 3), activation='relu',\n",
        "                kernel_initializer=kernel_initializer, padding='same')(c9)\n",
        "\n",
        "    outputs = tf.keras.layers.Conv2D(num_classes, (1, 1), activation='softmax')(c9)\n",
        "\n",
        "    model = tf.keras.models.Model(inputs=[inputs], outputs=[outputs])\n",
        "    model.compile(optimizer='adam', loss='categorical_crossentropy',\n",
        "                  metrics=['accuracy'])\n",
        "    model.summary()\n",
        "\n",
        "    return model"
      ]
    },
    {
      "cell_type": "code",
      "execution_count": null,
      "metadata": {
        "id": "-ZWpdvtBoJam"
      },
      "outputs": [],
      "source": [
        "def OneHotEncode2D(original, x_, y_, num_classes=8):\n",
        "    encodeList = {\n",
        "        0: 0,\n",
        "        500: 1,\n",
        "        600: 2,\n",
        "        420: 3,\n",
        "        550: 4,\n",
        "        205: 5,\n",
        "        820: 6,\n",
        "        850: 7,\n",
        "    }\n",
        "\n",
        "    x, y = original.shape\n",
        "\n",
        "    labelEncode = np.empty((x_, y_, num_classes), dtype=\"float16\")\n",
        "    for i_ in range(x_):\n",
        "        for j_ in range(y_):\n",
        "            i = math.floor( (i_ * x) / x_)\n",
        "            j = math.floor( (j_ * y) / y_)\n",
        "\n",
        "            i = max(0, min(i, x - 1))\n",
        "            j = max(0, min(j, y - 1))\n",
        "\n",
        "            value = original[i][j]\n",
        "\n",
        "            encodeIndex = encodeList[value]\n",
        "\n",
        "            for n in range(8):\n",
        "                labelEncode[i_][j_][n] = 0\n",
        "\n",
        "            labelEncode[i_][j_][encodeIndex] = 1\n",
        "\n",
        "    return labelEncode\n",
        "\n",
        "def ResizeImage(image, x_, y_):\n",
        "  return np.array(skTrans.resize(image, (x_, y_), order=1, preserve_range=True, anti_aliasing=False), dtype=\"float16\")"
      ]
    },
    {
      "cell_type": "code",
      "execution_count": null,
      "metadata": {
        "id": "xniS8GC3tFBv"
      },
      "outputs": [],
      "source": [
        "def NormalizeImageIntensityRange(image):\n",
        "  houndsfieldMax = 2000\n",
        "  houndsfieldMin = -1000\n",
        "  image[image < houndsfieldMin] = houndsfieldMin\n",
        "  image[image > houndsfieldMax] = houndsfieldMax\n",
        "\n",
        "  # min max intensity normalization with houndsfield\n",
        "  return (image - houndsfieldMin) / (houndsfieldMax - houndsfieldMin)"
      ]
    },
    {
      "cell_type": "code",
      "execution_count": null,
      "metadata": {
        "id": "lS_B-PeSzcvt"
      },
      "outputs": [],
      "source": [
        "def GenerateData(start, stop, rootDirPath, viewpoint):\n",
        "  def SortImageKey(filename):\n",
        "    parts = filename.split('_')\n",
        "    return (int(parts[2]), parts[3])\n",
        "\n",
        "  x = []\n",
        "  y = []\n",
        "  pathList = sorted(os.listdir(rootDirPath), key=SortImageKey)\n",
        "\n",
        "  for f in range(start, stop, 2):\n",
        "    image = np.array(nib.load(os.path.join(rootDirPath, pathList[f])).get_fdata(), dtype=\"float16\")\n",
        "    label = np.array(nib.load(os.path.join(rootDirPath, pathList[f + 1])).get_fdata(), dtype=\"float16\")\n",
        "    for i in range(image.shape[viewpoint - 1]):\n",
        "      if viewpoint == 1:\n",
        "        newImage = image[i, :, :]\n",
        "        newImage = ResizeImage(newImage, 256, 256)\n",
        "        newImage = NormalizeImageIntensityRange(newImage)\n",
        "        newImage = np.expand_dims(newImage, -1)\n",
        "\n",
        "        newLabel = label[i, :, :]\n",
        "        newLabel = OneHotEncode2D(newLabel, 256, 256)\n",
        "\n",
        "        x.append(newImage)\n",
        "        y.append(newLabel)\n",
        "\n",
        "      elif viewpoint == 2:\n",
        "        newImage = image[:, i, :]\n",
        "        newImage = ResizeImage(newImage, 256, 256)\n",
        "        newImage = NormalizeImageIntensityRange(newImage)\n",
        "        newImage = np.expand_dims(newImage, -1)\n",
        "\n",
        "        newLabel = label[:, i, :]\n",
        "        newLabel = OneHotEncode2D(newLabel, 256, 256)\n",
        "\n",
        "        x.append(newImage)\n",
        "        y.append(newLabel)\n",
        "\n",
        "      elif viewpoint == 3:\n",
        "        newImage = image[:, :, i]\n",
        "        newImage = ResizeImage(newImage, 256, 256)\n",
        "        newImage = NormalizeImageIntensityRange(newImage)\n",
        "        newImage = np.expand_dims(newImage, -1)\n",
        "\n",
        "        newLabel = label[:, :, i]\n",
        "        newLabel = OneHotEncode2D(newLabel, 256, 256)\n",
        "\n",
        "        x.append(newImage)\n",
        "        y.append(newLabel)\n",
        "\n",
        "  x = np.array(x)\n",
        "  y = np.array(y)\n",
        "  return x, y"
      ]
    },
    {
      "cell_type": "code",
      "execution_count": null,
      "metadata": {},
      "outputs": [],
      "source": [
        "def GenerateFullResData(start, stop, rootDirPath):\n",
        "  def SortImageKey(filename):\n",
        "    parts = filename.split('_')\n",
        "    return (int(parts[2]), parts[3])\n",
        "\n",
        "  x = []\n",
        "  y = []\n",
        "  pathList = sorted(os.listdir(rootDirPath), key=SortImageKey)\n",
        "\n",
        "  for f in range(start, stop, 2):\n",
        "    image = np.array(nib.load(os.path.join(\n",
        "        rootDirPath, pathList[f])).get_fdata(), dtype=\"float16\")\n",
        "    label = np.array(nib.load(os.path.join(\n",
        "        rootDirPath, pathList[f + 1])).get_fdata(), dtype=\"float16\")\n",
        "    for i in range(image.shape[-1]):\n",
        "        \n",
        "        newImage = image[:, :, i]\n",
        "        newImage = NormalizeImageIntensityRange(newImage)\n",
        "        newImage = np.expand_dims(newImage, -1)\n",
        "\n",
        "        newLabel = label[:, :, i]\n",
        "        newLabel = OneHotEncode2D(newLabel, 512, 512)\n",
        "\n",
        "        x.append(newImage)\n",
        "        y.append(newLabel)\n",
        "\n",
        "  x = np.array(x)\n",
        "  y = np.array(y)\n",
        "  return x, y"
      ]
    },
    {
      "cell_type": "code",
      "execution_count": null,
      "metadata": {},
      "outputs": [],
      "source": [
        "x_axial_full_res, y_axial_full_res = GenerateFullResData(0, 30, rootDirPath)"
      ]
    },
    {
      "cell_type": "code",
      "execution_count": null,
      "metadata": {
        "colab": {
          "base_uri": "https://localhost:8080/"
        },
        "id": "7P8Vx1Tvh7dE",
        "outputId": "ec1f262f-6ba4-46b1-e9a3-04b9616e48ee"
      },
      "outputs": [],
      "source": [
        "x = np.load(\"./x_axial.npy\")\n",
        "print(x.shape)"
      ]
    },
    {
      "cell_type": "code",
      "execution_count": null,
      "metadata": {
        "colab": {
          "base_uri": "https://localhost:8080/"
        },
        "id": "_aw9zMoQiNlD",
        "outputId": "cb1a7817-f477-4b05-e96e-1d096b45f4ab"
      },
      "outputs": [],
      "source": [
        "y = np.load(\"./y_axial.npy\")\n",
        "print(y.shape)"
      ]
    },
    {
      "cell_type": "code",
      "execution_count": null,
      "metadata": {
        "id": "sfCbrHfvmnyi"
      },
      "outputs": [],
      "source": [
        "def TrainingLoop(model, originalX, originalY):\n",
        "  x = []\n",
        "  y = []\n",
        "  trainingHistory = {}\n",
        "\n",
        "  for i in range(0, 15, 5):\n",
        "    x.append(originalX[i])\n",
        "    x.append(originalX[i + 1])\n",
        "    x.append(originalX[i + 2])\n",
        "    x.append(originalX[i + 3])\n",
        "    x.append(originalX[i + 4])\n",
        "\n",
        "    y.append(originalY[i])\n",
        "    y.append(originalY[i + 1])\n",
        "    y.append(originalY[i + 2])\n",
        "    y.append(originalY[i + 3])\n",
        "    y.append(originalY[i + 4])\n",
        "\n",
        "    x = np.array(x)\n",
        "    y = np.array(y)\n",
        "\n",
        "    print(f\"Image: {x.shape}\")\n",
        "    print(f\"Label: {y.shape}\")\n",
        "\n",
        "    history = model.fit(x, y, epochs=3, validation_split=0.25)\n",
        "    for key, value in history.history.items():\n",
        "      if key not in trainingHistory:\n",
        "          trainingHistory[key] = []\n",
        "      trainingHistory[key].extend(value)\n",
        "\n",
        "    x = []\n",
        "    y = []\n",
        "\n",
        "  return trainingHistory"
      ]
    },
    {
      "cell_type": "code",
      "execution_count": null,
      "metadata": {},
      "outputs": [],
      "source": [
        "def TrainingLoopWithEvaluate(model, originalX, originalY, validateX, validateY):\n",
        "  x = []\n",
        "  y = []\n",
        "  trainingHistory = {}\n",
        "\n",
        "  early_stopping = tf.keras.callbacks.EarlyStopping(\n",
        "  monitor='val_accuracy',\n",
        "  patience=5,\n",
        "  restore_best_weights=True\n",
        "  )\n",
        "\n",
        "  for i in range(0, 15, 5):\n",
        "    \n",
        "    x.append(originalX[i])\n",
        "    x.append(originalX[i + 1])\n",
        "    x.append(originalX[i + 2])\n",
        "    x.append(originalX[i + 3])\n",
        "    x.append(originalX[i + 4])\n",
        "\n",
        "    y.append(originalY[i])\n",
        "    y.append(originalY[i + 1])\n",
        "    y.append(originalY[i + 2])\n",
        "    y.append(originalY[i + 3])\n",
        "    y.append(originalY[i + 4])\n",
        "\n",
        "    x = np.array(x)\n",
        "    y = np.array(y)\n",
        "\n",
        "    print(f\"Image: {x.shape}\")\n",
        "    print(f\"Label: {y.shape}\")\n",
        "\n",
        "    history = model.fit(x, y, epochs=5, validation_data=(validateX, validateY), callbacks=[early_stopping])\n",
        "    for key, value in history.history.items():\n",
        "      if key not in trainingHistory:\n",
        "          trainingHistory[key] = []\n",
        "      trainingHistory[key].extend(value)\n",
        "\n",
        "    x = []\n",
        "    y = []\n",
        "\n",
        "  return trainingHistory"
      ]
    },
    {
      "cell_type": "code",
      "execution_count": null,
      "metadata": {},
      "outputs": [],
      "source": [
        "xValidate = np.load(\"./x_axialValidate.npy\")\n",
        "yValidate = np.load(\"./y_axialValidate.npy\")"
      ]
    },
    {
      "cell_type": "code",
      "execution_count": null,
      "metadata": {
        "id": "oR9jViovI9pW"
      },
      "outputs": [],
      "source": [
        "unetSaggital = CreateSaggitalUnet(256, 256, 1)"
      ]
    },
    {
      "cell_type": "code",
      "execution_count": null,
      "metadata": {
        "id": "rkPIGz8liV8c"
      },
      "outputs": [],
      "source": [
        "trainingHistory = TrainingLoop(unetSaggital, x, y)"
      ]
    },
    {
      "cell_type": "code",
      "execution_count": null,
      "metadata": {
        "id": "Zqo5aztYiZGJ"
      },
      "outputs": [],
      "source": [
        "unetSaggital.save('.\\\\trained_model\\\\unetSaggital.h5', save_format='h5')"
      ]
    },
    {
      "cell_type": "code",
      "execution_count": null,
      "metadata": {
        "id": "hoUrgZhL9en8"
      },
      "outputs": [],
      "source": [
        "plt.plot(trainingHistory['loss'])\n",
        "plt.plot(trainingHistory['val_loss'])\n",
        "plt.title('Saggital Loss')\n",
        "plt.xlabel('Epoch')\n",
        "plt.ylabel('Loss')\n",
        "plt.legend(['Train', 'Validation'], loc='upper right')\n",
        "plt.show()\n"
      ]
    },
    {
      "cell_type": "code",
      "execution_count": null,
      "metadata": {
        "id": "OpLMia3q9qJx"
      },
      "outputs": [],
      "source": [
        "plt.plot(trainingHistory['accuracy'])\n",
        "plt.plot(trainingHistory['val_accuracy'])\n",
        "plt.title('Saggital Accuracy')\n",
        "plt.xlabel('Epoch')\n",
        "plt.ylabel('Accuracy')\n",
        "plt.legend(['Train', 'Validation'], loc='lower right')\n",
        "plt.show()\n"
      ]
    },
    {
      "cell_type": "code",
      "execution_count": null,
      "metadata": {
        "id": "LVAs5iL0JCfM"
      },
      "outputs": [],
      "source": [
        "unetCoronal = CreateCoronalUnet(256, 256, 1)"
      ]
    },
    {
      "cell_type": "code",
      "execution_count": null,
      "metadata": {
        "id": "avUdjMRVBidq"
      },
      "outputs": [],
      "source": [
        "trainingHistoryCoronal = TrainingLoop(unetCoronal, x, y)"
      ]
    },
    {
      "cell_type": "code",
      "execution_count": null,
      "metadata": {
        "id": "6LL4lTgtCFBB"
      },
      "outputs": [],
      "source": [
        "plt.plot(trainingHistoryCoronal['loss'])\n",
        "plt.plot(trainingHistoryCoronal['val_loss'])\n",
        "plt.title('Coronal Loss')\n",
        "plt.xlabel('Epoch')\n",
        "plt.ylabel('Loss')\n",
        "plt.legend(['Train', 'Validation'], loc='upper right')\n",
        "plt.show()\n"
      ]
    },
    {
      "cell_type": "code",
      "execution_count": null,
      "metadata": {
        "id": "-f9bUa95CJuD"
      },
      "outputs": [],
      "source": [
        "plt.plot(trainingHistoryCoronal['accuracy'])\n",
        "plt.plot(trainingHistoryCoronal['val_accuracy'])\n",
        "plt.title('Coronal Accuracy')\n",
        "plt.xlabel('Epoch')\n",
        "plt.ylabel('Accuracy')\n",
        "plt.legend(['Train', 'Validation'], loc='lower right')\n",
        "plt.show()\n"
      ]
    },
    {
      "cell_type": "code",
      "execution_count": null,
      "metadata": {
        "id": "PK1elIJMCxoc"
      },
      "outputs": [],
      "source": [
        "unetCoronal.save('.\\\\trained_model\\\\unetCoronal.h5', save_format='h5')"
      ]
    },
    {
      "cell_type": "code",
      "execution_count": null,
      "metadata": {},
      "outputs": [],
      "source": [
        "xValidate = np.load(\"./x_axialValidate.npy\")\n",
        "yValidate = np.load(\"./y_axialValidate.npy\")"
      ]
    },
    {
      "cell_type": "code",
      "execution_count": null,
      "metadata": {
        "id": "Twtz81XbJFyA"
      },
      "outputs": [],
      "source": [
        "unetAxial = CreateAxialUnet(256, 256, 1)"
      ]
    },
    {
      "cell_type": "code",
      "execution_count": null,
      "metadata": {},
      "outputs": [],
      "source": [
        "early_stopping = tf.keras.callbacks.EarlyStopping(\n",
        "monitor='val_accuracy',\n",
        "patience=5,\n",
        "restore_best_weights=True\n",
        ")\n",
        "\n",
        "unetAxial.fit(x, y, validation_data=(xValidate, yValidate), callbacks=[early_stopping], epochs=20)"
      ]
    },
    {
      "cell_type": "code",
      "execution_count": null,
      "metadata": {
        "colab": {
          "base_uri": "https://localhost:8080/"
        },
        "id": "9FtJK00_H0TM",
        "outputId": "e209f62d-9f18-463b-dc3f-130b47337dee"
      },
      "outputs": [],
      "source": [
        "trainingHistoryAxial = TrainingLoopWithEvaluate(unetAxial, x, y, xValidate, yValidate)"
      ]
    },
    {
      "cell_type": "code",
      "execution_count": null,
      "metadata": {
        "colab": {
          "base_uri": "https://localhost:8080/",
          "height": 472
        },
        "id": "zgL90IqYIIbm",
        "outputId": "02a7f6c7-4599-4925-9d9d-1d87d8368378"
      },
      "outputs": [],
      "source": [
        "plt.plot(trainingHistoryAxial['loss'])\n",
        "plt.plot(trainingHistoryAxial['val_loss'])\n",
        "plt.title('Axial Loss')\n",
        "plt.xlabel('Epoch')\n",
        "plt.ylabel('Loss')\n",
        "plt.legend(['Train', 'Validation'], loc='upper right')\n",
        "plt.show()\n"
      ]
    },
    {
      "cell_type": "code",
      "execution_count": null,
      "metadata": {
        "colab": {
          "base_uri": "https://localhost:8080/",
          "height": 472
        },
        "id": "XceQEyUoIIri",
        "outputId": "7b5f8170-819b-46a0-e12e-59441da7d044"
      },
      "outputs": [],
      "source": [
        "plt.plot(trainingHistoryAxial['accuracy'])\n",
        "plt.plot(trainingHistoryAxial['val_accuracy'])\n",
        "plt.title('Axial Accuracy')\n",
        "plt.xlabel('Epoch')\n",
        "plt.ylabel('Accuracy')\n",
        "plt.legend(['Train', 'Validation'], loc='lower right')\n",
        "plt.show()\n"
      ]
    },
    {
      "cell_type": "code",
      "execution_count": null,
      "metadata": {
        "id": "ugBeIJ7NIfOw"
      },
      "outputs": [],
      "source": [
        "unetAxial.save('.\\\\trained_model\\\\unetAxial.h5', save_format='h5')"
      ]
    }
  ],
  "metadata": {
    "colab": {
      "machine_shape": "hm",
      "provenance": []
    },
    "kernelspec": {
      "display_name": "Python 3",
      "name": "python3"
    },
    "language_info": {
      "codemirror_mode": {
        "name": "ipython",
        "version": 3
      },
      "file_extension": ".py",
      "mimetype": "text/x-python",
      "name": "python",
      "nbconvert_exporter": "python",
      "pygments_lexer": "ipython3",
      "version": "3.10.0"
    }
  },
  "nbformat": 4,
  "nbformat_minor": 0
}
