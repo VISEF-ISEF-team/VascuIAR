{
 "cells": [
  {
   "cell_type": "code",
   "execution_count": null,
   "metadata": {},
   "outputs": [],
   "source": [
    "import cv2\n",
    "import numpy as np\n",
    "import matplotlib.pyplot as plt\n",
    "import matplotlib.gridspec as gridspec\n",
    "import tensorflow.compat.v1 as tf\n",
    "from train import read_image, read_mask "
   ]
  },
  {
   "cell_type": "code",
   "execution_count": null,
   "metadata": {},
   "outputs": [],
   "source": [
    "sess = tf.InteractiveSession()"
   ]
  },
  {
   "cell_type": "code",
   "execution_count": null,
   "metadata": {},
   "outputs": [],
   "source": [
    "frozen_graph = \"./axial_frozen_graph.pb\""
   ]
  },
  {
   "cell_type": "code",
   "execution_count": null,
   "metadata": {},
   "outputs": [],
   "source": [
    "with tf.gfile.GFile(frozen_graph, \"rb\") as f: \n",
    "    graph_def = tf.GraphDef()\n",
    "    graph_def.ParseFromString(f.read())"
   ]
  },
  {
   "cell_type": "code",
   "execution_count": null,
   "metadata": {},
   "outputs": [],
   "source": [
    "sess.graph.as_default()\n",
    "tf.import_graph_def(graph_def)"
   ]
  },
  {
   "cell_type": "code",
   "execution_count": null,
   "metadata": {},
   "outputs": [],
   "source": [
    "input_tensor = sess.graph.get_tensor_by_name(\"x:0\")\n",
    "output_tensor = sess.graph.get_tensor_by_name(\"Identity:0\")"
   ]
  },
  {
   "cell_type": "code",
   "execution_count": null,
   "metadata": {},
   "outputs": [],
   "source": [
    "print(\"Tensor Input : \", input_tensor)\n",
    "print(\"Tensor Output: \", output_tensor)"
   ]
  },
  {
   "cell_type": "code",
   "execution_count": null,
   "metadata": {},
   "outputs": [],
   "source": [
    "img_path = \"E:\\\\ISEF\\\\VHSCDD\\\\files\\\\images\\\\heart0-slice169_saggital.png\"\n",
    "img = read_image(img_path) \n",
    "img = np.expand_dims(img, axis=-1) \n",
    "img = [img]"
   ]
  },
  {
   "cell_type": "code",
   "execution_count": null,
   "metadata": {},
   "outputs": [],
   "source": [
    "infrencing = sess.run(output_tensor, {'x:0': img})[0]\n"
   ]
  },
  {
   "cell_type": "code",
   "execution_count": null,
   "metadata": {},
   "outputs": [],
   "source": [
    "infrencing = infrencing.argmax(axis=-1)"
   ]
  },
  {
   "cell_type": "code",
   "execution_count": null,
   "metadata": {},
   "outputs": [],
   "source": [
    "plt.imshow(infrencing)\n",
    "plt.show()"
   ]
  },
  {
   "cell_type": "markdown",
   "metadata": {},
   "source": [
    "### Calculate metrics with updated frozen graph "
   ]
  },
  {
   "cell_type": "code",
   "execution_count": null,
   "metadata": {},
   "outputs": [],
   "source": [
    "import numpy as np\n",
    "from metrics import dice_coef, dice_loss, dice_score, dice_score_per_class\n",
    "from train import read_image, read_mask, specific_case_load_dataset, load_dataset\n",
    "import tensorflow as tf\n",
    "from tensorflow.keras.utils import CustomObjectScope\n",
    "from tqdm import tqdm\n",
    "import os\n",
    "import pandas as pd\n",
    "import cv2\n",
    "\n",
    "global VIEW\n",
    "\n",
    "\n",
    "def test_model_with_dice_in_training(x_test, y_test, model_path):\n",
    "    with CustomObjectScope({\"dice_coef\": dice_coef, \"dice_loss\": dice_loss}):\n",
    "\n",
    "        DICE_SCORE = []\n",
    "\n",
    "        for x, y in tqdm(zip(x_test, y_test), total=len(y_test)):\n",
    "            name = x.split(\"/\")[-1]\n",
    "\n",
    "            \"\"\"Reading the image\"\"\"\n",
    "            x = read_image(x)\n",
    "            x = np.expand_dims(x, axis=0)\n",
    "            x = np.expand_dims(x, axis=-1)\n",
    "\n",
    "            \"\"\"Reading mask\"\"\"\n",
    "            y = read_mask(y)\n",
    "            y = np.argmax(y, axis=-1)\n",
    "            y = y.astype(np.float32)\n",
    "\n",
    "            \"\"\"Prediction\"\"\"\n",
    "            y_pred = sess.run(output_tensor, {'x:0': x})[0]\n",
    "            y_pred = np.argmax(y_pred, axis=-1)\n",
    "            y_pred = y_pred.astype(np.float32)\n",
    "\n",
    "            y = y.flatten()\n",
    "            y_pred = y_pred.flatten()\n",
    "\n",
    "            \"\"\"Calculating dice score\"\"\"\n",
    "            dice_score_per_class_result = dice_score_per_class(\n",
    "                y, y_pred, 12)\n",
    "            DICE_SCORE.append(dice_score_per_class_result)\n",
    "\n",
    "        dice_score_df = pd.DataFrame(DICE_SCORE, columns=[\"background\",\n",
    "                                                          \"left_ventricle\",\n",
    "                                                          \"right_ventricle\",\n",
    "                                                          \"left_atrium\",\n",
    "                                                          \"right_atrium\",\n",
    "                                                          \"myocardium\",\n",
    "                                                          \"descending_aorta\",\n",
    "                                                          \"pulmonary_trunk\",\n",
    "                                                          \"ascending_aorta\",\n",
    "                                                          \"vena_cava\",\n",
    "                                                          \"auricle\",\n",
    "                                                          \"coronary_artery\"])\n",
    "        dice_score_df.to_csv(os.path.join(\n",
    "            \"files\", f\"{VIEW}\", \"normal_training\", f\"{VIEW}_dice-loss_dice-score-metric_normal.csv\"))\n",
    "\n",
    "\n",
    "\"\"\"Params\"\"\"\n",
    "VIEW = \"coronal\"\n",
    "\n",
    "\"\"\"Testing\"\"\"\n",
    "(x_train, y_train), (x_val, y_val), (x_test,\n",
    "                                        y_test) = load_dataset(\".\\\\files\", view=VIEW)\n",
    "\n",
    "model_path = \"C:\\\\Users\\\\Acer\\\\OneDrive\\\\Documents\\\\Model Data\\\\unet\\\\saggital_dice-loss_model_normal.h5\"\n",
    "\n",
    "test_model_with_dice_in_training(x_test, y_test, model_path)"
   ]
  }
 ],
 "metadata": {
  "kernelspec": {
   "display_name": "tf",
   "language": "python",
   "name": "python3"
  },
  "language_info": {
   "codemirror_mode": {
    "name": "ipython",
    "version": 3
   },
   "file_extension": ".py",
   "mimetype": "text/x-python",
   "name": "python",
   "nbconvert_exporter": "python",
   "pygments_lexer": "ipython3",
   "version": "3.9.18"
  }
 },
 "nbformat": 4,
 "nbformat_minor": 2
}
