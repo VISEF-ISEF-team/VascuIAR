{
 "cells": [
  {
   "cell_type": "code",
   "execution_count": 1,
   "metadata": {},
   "outputs": [
    {
     "name": "stderr",
     "output_type": "stream",
     "text": [
      "C:\\Users\\Acer\\AppData\\Local\\Temp\\ipykernel_20832\\3727675449.py:3: DeprecationWarning: \n",
      "Pyarrow will become a required dependency of pandas in the next major release of pandas (pandas 3.0),\n",
      "(to allow more performant data types, such as the Arrow string type, and better interoperability with other libraries)\n",
      "but was not found to be installed on your system.\n",
      "If this would cause problems for you,\n",
      "please provide us feedback at https://github.com/pandas-dev/pandas/issues/54466\n",
      "        \n",
      "  import pandas as pd\n"
     ]
    }
   ],
   "source": [
    "import os \n",
    "import numpy as np \n",
    "import pandas as pd \n"
   ]
  },
  {
   "cell_type": "code",
   "execution_count": 2,
   "metadata": {},
   "outputs": [],
   "source": [
    "csv_path = \"E:\\\\ISEF\\\\VHSCDD\\\\files\\\\axial\\\\normal_training\\\\Old splitting\\\\axial_dice-loss_dice-score-metric_normal.csv\""
   ]
  },
  {
   "cell_type": "code",
   "execution_count": 3,
   "metadata": {},
   "outputs": [],
   "source": [
    "df = pd.read_csv(csv_path) "
   ]
  },
  {
   "cell_type": "code",
   "execution_count": 4,
   "metadata": {},
   "outputs": [
    {
     "data": {
      "text/html": [
       "<div>\n",
       "<style scoped>\n",
       "    .dataframe tbody tr th:only-of-type {\n",
       "        vertical-align: middle;\n",
       "    }\n",
       "\n",
       "    .dataframe tbody tr th {\n",
       "        vertical-align: top;\n",
       "    }\n",
       "\n",
       "    .dataframe thead th {\n",
       "        text-align: right;\n",
       "    }\n",
       "</style>\n",
       "<table border=\"1\" class=\"dataframe\">\n",
       "  <thead>\n",
       "    <tr style=\"text-align: right;\">\n",
       "      <th></th>\n",
       "      <th>Unnamed: 0</th>\n",
       "      <th>background</th>\n",
       "      <th>left_ventricle</th>\n",
       "      <th>right_ventricle</th>\n",
       "      <th>left_atrium</th>\n",
       "      <th>right_atrium</th>\n",
       "      <th>myocardium</th>\n",
       "      <th>descending_aorta</th>\n",
       "      <th>pulmonary_trunk</th>\n",
       "      <th>ascending_aorta</th>\n",
       "      <th>vena_cava</th>\n",
       "      <th>auricle</th>\n",
       "      <th>coronary_artery</th>\n",
       "    </tr>\n",
       "  </thead>\n",
       "  <tbody>\n",
       "    <tr>\n",
       "      <th>0</th>\n",
       "      <td>0</td>\n",
       "      <td>0.993688</td>\n",
       "      <td>1.000000e+00</td>\n",
       "      <td>1.000000</td>\n",
       "      <td>6.220715e-01</td>\n",
       "      <td>1.666667e-16</td>\n",
       "      <td>0.502549</td>\n",
       "      <td>7.157490e-01</td>\n",
       "      <td>0.980325</td>\n",
       "      <td>4.086637e-19</td>\n",
       "      <td>9.363296e-19</td>\n",
       "      <td>1.000000e+00</td>\n",
       "      <td>1.000000e+00</td>\n",
       "    </tr>\n",
       "    <tr>\n",
       "      <th>1</th>\n",
       "      <td>1</td>\n",
       "      <td>0.997569</td>\n",
       "      <td>1.000000e+00</td>\n",
       "      <td>1.000000</td>\n",
       "      <td>8.196721e-18</td>\n",
       "      <td>2.036660e-18</td>\n",
       "      <td>1.000000</td>\n",
       "      <td>3.717472e-18</td>\n",
       "      <td>0.928101</td>\n",
       "      <td>6.410256e-18</td>\n",
       "      <td>1.088139e-18</td>\n",
       "      <td>6.321113e-19</td>\n",
       "      <td>1.000000e+00</td>\n",
       "    </tr>\n",
       "    <tr>\n",
       "      <th>2</th>\n",
       "      <td>2</td>\n",
       "      <td>0.998560</td>\n",
       "      <td>1.000000e+00</td>\n",
       "      <td>1.000000</td>\n",
       "      <td>7.179487e-01</td>\n",
       "      <td>1.000000e+00</td>\n",
       "      <td>1.000000</td>\n",
       "      <td>9.300498e-01</td>\n",
       "      <td>0.438356</td>\n",
       "      <td>1.000000e+00</td>\n",
       "      <td>1.466276e-18</td>\n",
       "      <td>1.000000e+00</td>\n",
       "      <td>1.000000e+00</td>\n",
       "    </tr>\n",
       "    <tr>\n",
       "      <th>3</th>\n",
       "      <td>3</td>\n",
       "      <td>0.994892</td>\n",
       "      <td>2.037905e-19</td>\n",
       "      <td>0.811543</td>\n",
       "      <td>9.469082e-01</td>\n",
       "      <td>9.805494e-01</td>\n",
       "      <td>0.919637</td>\n",
       "      <td>9.849541e-01</td>\n",
       "      <td>0.784787</td>\n",
       "      <td>1.000000e+00</td>\n",
       "      <td>6.734007e-19</td>\n",
       "      <td>1.000000e+00</td>\n",
       "      <td>4.273504e-18</td>\n",
       "    </tr>\n",
       "    <tr>\n",
       "      <th>4</th>\n",
       "      <td>4</td>\n",
       "      <td>0.999783</td>\n",
       "      <td>1.000000e+00</td>\n",
       "      <td>1.000000</td>\n",
       "      <td>1.000000e+00</td>\n",
       "      <td>1.000000e+00</td>\n",
       "      <td>1.000000</td>\n",
       "      <td>9.109589e-01</td>\n",
       "      <td>1.000000</td>\n",
       "      <td>1.000000e+00</td>\n",
       "      <td>1.000000e+00</td>\n",
       "      <td>1.000000e+00</td>\n",
       "      <td>1.000000e+00</td>\n",
       "    </tr>\n",
       "  </tbody>\n",
       "</table>\n",
       "</div>"
      ],
      "text/plain": [
       "   Unnamed: 0  background  left_ventricle  right_ventricle   left_atrium  \\\n",
       "0           0    0.993688    1.000000e+00         1.000000  6.220715e-01   \n",
       "1           1    0.997569    1.000000e+00         1.000000  8.196721e-18   \n",
       "2           2    0.998560    1.000000e+00         1.000000  7.179487e-01   \n",
       "3           3    0.994892    2.037905e-19         0.811543  9.469082e-01   \n",
       "4           4    0.999783    1.000000e+00         1.000000  1.000000e+00   \n",
       "\n",
       "   right_atrium  myocardium  descending_aorta  pulmonary_trunk  \\\n",
       "0  1.666667e-16    0.502549      7.157490e-01         0.980325   \n",
       "1  2.036660e-18    1.000000      3.717472e-18         0.928101   \n",
       "2  1.000000e+00    1.000000      9.300498e-01         0.438356   \n",
       "3  9.805494e-01    0.919637      9.849541e-01         0.784787   \n",
       "4  1.000000e+00    1.000000      9.109589e-01         1.000000   \n",
       "\n",
       "   ascending_aorta     vena_cava       auricle  coronary_artery  \n",
       "0     4.086637e-19  9.363296e-19  1.000000e+00     1.000000e+00  \n",
       "1     6.410256e-18  1.088139e-18  6.321113e-19     1.000000e+00  \n",
       "2     1.000000e+00  1.466276e-18  1.000000e+00     1.000000e+00  \n",
       "3     1.000000e+00  6.734007e-19  1.000000e+00     4.273504e-18  \n",
       "4     1.000000e+00  1.000000e+00  1.000000e+00     1.000000e+00  "
      ]
     },
     "execution_count": 4,
     "metadata": {},
     "output_type": "execute_result"
    }
   ],
   "source": [
    "df.head()"
   ]
  },
  {
   "cell_type": "code",
   "execution_count": 5,
   "metadata": {},
   "outputs": [
    {
     "data": {
      "text/plain": [
       "Index(['Unnamed: 0', 'background', 'left_ventricle', 'right_ventricle',\n",
       "       'left_atrium', 'right_atrium', 'myocardium', 'descending_aorta',\n",
       "       'pulmonary_trunk', 'ascending_aorta', 'vena_cava', 'auricle',\n",
       "       'coronary_artery'],\n",
       "      dtype='object')"
      ]
     },
     "execution_count": 5,
     "metadata": {},
     "output_type": "execute_result"
    }
   ],
   "source": [
    "df.columns"
   ]
  },
  {
   "cell_type": "code",
   "execution_count": 6,
   "metadata": {},
   "outputs": [],
   "source": [
    "def calculate_mean_dice_score(csv_path): \n",
    "    df = pd.read_csv(csv_path) \n",
    "    # eliminate ordering columns\n",
    "    column_index = df.columns[1:]\n",
    "\n",
    "    scores = []\n",
    "\n",
    "    for index in column_index:\n",
    "        mean = np.mean(df[index].to_numpy())\n",
    "        scores.append(mean)\n",
    "        print(f\"Class {index} has average dice coef score of: {mean}\")\n",
    "\n",
    "    return (column_index.to_list(), scores)"
   ]
  },
  {
   "cell_type": "code",
   "execution_count": 7,
   "metadata": {},
   "outputs": [
    {
     "name": "stdout",
     "output_type": "stream",
     "text": [
      "Class background has average dice coef score of: 0.996731988138466\n",
      "Class left_ventricle has average dice coef score of: 0.7098534903763286\n",
      "Class right_ventricle has average dice coef score of: 0.8344353220657857\n",
      "Class left_atrium has average dice coef score of: 0.7704585355046826\n",
      "Class right_atrium has average dice coef score of: 0.809673336748463\n",
      "Class myocardium has average dice coef score of: 0.7975829540942257\n",
      "Class descending_aorta has average dice coef score of: 0.8565527666874461\n",
      "Class pulmonary_trunk has average dice coef score of: 0.7515272698149957\n",
      "Class ascending_aorta has average dice coef score of: 0.615340419419707\n",
      "Class vena_cava has average dice coef score of: 0.5389255960930767\n",
      "Class auricle has average dice coef score of: 0.8316575696638897\n",
      "Class coronary_artery has average dice coef score of: 0.6047112898592358\n"
     ]
    }
   ],
   "source": [
    "index, scores = calculate_mean_dice_score(csv_path)"
   ]
  },
  {
   "cell_type": "code",
   "execution_count": 8,
   "metadata": {},
   "outputs": [],
   "source": [
    "new_csv_path = \"files\\saggital\\\\normal_training\\Old Splitting\\saggital_dice-loss_dice-score-metric_normal.csv\""
   ]
  },
  {
   "cell_type": "code",
   "execution_count": 9,
   "metadata": {},
   "outputs": [
    {
     "name": "stdout",
     "output_type": "stream",
     "text": [
      "Class background has average dice coef score of: 0.9958635451764706\n",
      "Class left_ventricle has average dice coef score of: 0.7776960784313726\n",
      "Class right_ventricle has average dice coef score of: 0.7950980392156862\n",
      "Class left_atrium has average dice coef score of: 0.8008232773065344\n",
      "Class right_atrium has average dice coef score of: 0.9297930908162745\n",
      "Class myocardium has average dice coef score of: 0.9220260972209118\n",
      "Class descending_aorta has average dice coef score of: 0.9428696874309068\n",
      "Class pulmonary_trunk has average dice coef score of: 0.8700655672000074\n",
      "Class ascending_aorta has average dice coef score of: 0.803921568627451\n",
      "Class vena_cava has average dice coef score of: 0.841421568627451\n",
      "Class auricle has average dice coef score of: 0.8424019607843137\n",
      "Class coronary_artery has average dice coef score of: 0.6678921568627451\n"
     ]
    }
   ],
   "source": [
    "new_index, new_scores = calculate_mean_dice_score(new_csv_path)"
   ]
  },
  {
   "cell_type": "code",
   "execution_count": 11,
   "metadata": {},
   "outputs": [
    {
     "name": "stdout",
     "output_type": "stream",
     "text": [
      "0.849156053141677 0.7611527029235431\n"
     ]
    }
   ],
   "source": [
    "print(np.mean(scores), np.mean(new_scores))"
   ]
  },
  {
   "cell_type": "code",
   "execution_count": 12,
   "metadata": {},
   "outputs": [
    {
     "name": "stdout",
     "output_type": "stream",
     "text": [
      "Class background has average dice coef score of: 0.9958635451764706\n",
      "Class left_ventricle has average dice coef score of: 0.7776960784313726\n",
      "Class right_ventricle has average dice coef score of: 0.7950980392156862\n",
      "Class left_atrium has average dice coef score of: 0.8008232773065344\n",
      "Class right_atrium has average dice coef score of: 0.9297930908162745\n",
      "Class myocardium has average dice coef score of: 0.9220260972209118\n",
      "Class descending_aorta has average dice coef score of: 0.9428696874309068\n",
      "Class pulmonary_trunk has average dice coef score of: 0.8700655672000074\n",
      "Class ascending_aorta has average dice coef score of: 0.803921568627451\n",
      "Class vena_cava has average dice coef score of: 0.841421568627451\n",
      "Class auricle has average dice coef score of: 0.8424019607843137\n",
      "Class coronary_artery has average dice coef score of: 0.6678921568627451\n"
     ]
    }
   ],
   "source": [
    "saggital_index, saggital_score = calculate_mean_dice_score(\n",
    "    \"E:\\\\ISEF\\\\VHSCDD\\\\files\\\\saggital\\\\normal_training\\\\Old Splitting\\saggital_dice-loss_dice-score-metric_normal.csv\")"
   ]
  },
  {
   "cell_type": "code",
   "execution_count": 13,
   "metadata": {},
   "outputs": [
    {
     "name": "stdout",
     "output_type": "stream",
     "text": [
      "0.849156053141677\n"
     ]
    }
   ],
   "source": [
    "print(np.mean(saggital_score)) "
   ]
  },
  {
   "cell_type": "code",
   "execution_count": 10,
   "metadata": {},
   "outputs": [
    {
     "name": "stdout",
     "output_type": "stream",
     "text": [
      "Class background has average dice coef score of: 0.9921160650416667\n",
      "Class left_ventricle has average dice coef score of: 0.9201060374270345\n",
      "Class right_ventricle has average dice coef score of: 0.8974796668807599\n",
      "Class left_atrium has average dice coef score of: 0.7837547501340687\n",
      "Class right_atrium has average dice coef score of: 0.8924329268617721\n",
      "Class myocardium has average dice coef score of: 0.900823655779201\n",
      "Class descending_aorta has average dice coef score of: 0.839474216659755\n",
      "Class pulmonary_trunk has average dice coef score of: 0.7513306572230392\n",
      "Class ascending_aorta has average dice coef score of: 0.8933935382186201\n",
      "Class vena_cava has average dice coef score of: 0.7764705882352941\n",
      "Class auricle has average dice coef score of: 0.8573529411764705\n",
      "Class coronary_artery has average dice coef score of: 0.6389705882352941\n"
     ]
    }
   ],
   "source": [
    "i, s = calculate_mean_dice_score(\n",
    "    \"E:\\ISEF\\VHSCDD\\\\files\\coronal\\\\normal_training\\coronal_dice-loss_dice-score-metric_normal.csv\")"
   ]
  },
  {
   "cell_type": "code",
   "execution_count": 16,
   "metadata": {},
   "outputs": [
    {
     "name": "stdout",
     "output_type": "stream",
     "text": [
      "0.8491558445368416\n"
     ]
    }
   ],
   "source": [
    "print(np.mean(s))"
   ]
  }
 ],
 "metadata": {
  "kernelspec": {
   "display_name": "tf",
   "language": "python",
   "name": "python3"
  },
  "language_info": {
   "codemirror_mode": {
    "name": "ipython",
    "version": 3
   },
   "file_extension": ".py",
   "mimetype": "text/x-python",
   "name": "python",
   "nbconvert_exporter": "python",
   "pygments_lexer": "ipython3",
   "version": "3.9.18"
  }
 },
 "nbformat": 4,
 "nbformat_minor": 2
}
