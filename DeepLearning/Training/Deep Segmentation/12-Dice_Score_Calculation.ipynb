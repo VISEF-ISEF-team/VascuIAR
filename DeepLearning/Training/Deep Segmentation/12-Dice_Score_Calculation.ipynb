{
 "cells": [
  {
   "cell_type": "code",
   "execution_count": null,
   "metadata": {},
   "outputs": [],
   "source": [
    "import os \n",
    "import numpy as np \n",
    "import pandas as pd \n"
   ]
  },
  {
   "cell_type": "code",
   "execution_count": null,
   "metadata": {},
   "outputs": [],
   "source": [
    "csv_path = \"E:\\\\ISEF\\\\VHSCDD\\\\files\\\\axial\\\\normal_training\\\\Old splitting\\\\axial_dice-loss_dice-score-metric_normal.csv\""
   ]
  },
  {
   "cell_type": "code",
   "execution_count": null,
   "metadata": {},
   "outputs": [],
   "source": [
    "df = pd.read_csv(csv_path) "
   ]
  },
  {
   "cell_type": "code",
   "execution_count": null,
   "metadata": {},
   "outputs": [],
   "source": [
    "df.head()"
   ]
  },
  {
   "cell_type": "code",
   "execution_count": null,
   "metadata": {},
   "outputs": [],
   "source": [
    "df.columns"
   ]
  },
  {
   "cell_type": "code",
   "execution_count": null,
   "metadata": {},
   "outputs": [],
   "source": [
    "def calculate_mean_dice_score(csv_path): \n",
    "    df = pd.read_csv(csv_path) \n",
    "    # eliminate ordering columns\n",
    "    column_index = df.columns[1:]\n",
    "\n",
    "    scores = []\n",
    "\n",
    "    for index in column_index:\n",
    "        mean = np.mean(df[index].to_numpy())\n",
    "        scores.append(mean)\n",
    "        print(f\"Class {index} has average dice coef score of: {mean}\")\n",
    "\n",
    "    return (column_index.to_list(), scores)"
   ]
  },
  {
   "cell_type": "code",
   "execution_count": null,
   "metadata": {},
   "outputs": [],
   "source": [
    "index, scores = calculate_mean_dice_score(csv_path)"
   ]
  },
  {
   "cell_type": "code",
   "execution_count": null,
   "metadata": {},
   "outputs": [],
   "source": [
    "new_csv_path = \"files\\saggital\\\\normal_training\\Old Splitting\\saggital_dice-loss_dice-score-metric_normal.csv\""
   ]
  },
  {
   "cell_type": "code",
   "execution_count": null,
   "metadata": {},
   "outputs": [],
   "source": [
    "new_index, new_scores = calculate_mean_dice_score(new_csv_path)"
   ]
  },
  {
   "cell_type": "code",
   "execution_count": null,
   "metadata": {},
   "outputs": [],
   "source": [
    "print(np.mean(scores), np.mean(new_scores))"
   ]
  },
  {
   "cell_type": "code",
   "execution_count": null,
   "metadata": {},
   "outputs": [],
   "source": [
    "saggital_index, saggital_score = calculate_mean_dice_score(\n",
    "    \"E:\\\\ISEF\\\\VHSCDD\\\\files\\\\saggital\\\\normal_training\\\\Old Splitting\\saggital_dice-loss_dice-score-metric_normal.csv\")"
   ]
  },
  {
   "cell_type": "code",
   "execution_count": null,
   "metadata": {},
   "outputs": [],
   "source": [
    "print(np.mean(saggital_score)) "
   ]
  },
  {
   "cell_type": "code",
   "execution_count": null,
   "metadata": {},
   "outputs": [],
   "source": [
    "i, s = calculate_mean_dice_score(\n",
    "    \"E:\\ISEF\\VHSCDD\\\\files\\coronal\\\\normal_training\\coronal_dice-loss_dice-score-metric_normal.csv\")"
   ]
  },
  {
   "cell_type": "code",
   "execution_count": null,
   "metadata": {},
   "outputs": [],
   "source": [
    "print(np.mean(s))"
   ]
  }
 ],
 "metadata": {
  "kernelspec": {
   "display_name": "tf",
   "language": "python",
   "name": "python3"
  },
  "language_info": {
   "codemirror_mode": {
    "name": "ipython",
    "version": 3
   },
   "file_extension": ".py",
   "mimetype": "text/x-python",
   "name": "python",
   "nbconvert_exporter": "python",
   "pygments_lexer": "ipython3",
   "version": "3.9.18"
  }
 },
 "nbformat": 4,
 "nbformat_minor": 2
}
