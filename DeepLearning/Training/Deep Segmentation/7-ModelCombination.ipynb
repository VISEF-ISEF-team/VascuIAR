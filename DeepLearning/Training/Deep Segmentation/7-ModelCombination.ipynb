{
  "cells": [
    {
      "cell_type": "code",
      "execution_count": 1,
      "metadata": {
        "id": "wfwrVxhvlcTe"
      },
      "outputs": [],
      "source": [
        "import numpy as np\n",
        "import nibabel as nib\n",
        "import os\n",
        "import tensorflow as tf\n",
        "import matplotlib.pyplot as plt\n",
        "import skimage.transform as skTrans\n",
        "import math"
      ]
    },
    {
      "cell_type": "code",
      "execution_count": 2,
      "metadata": {
        "id": "YKEhhIlHuSLd"
      },
      "outputs": [],
      "source": [
        "rootDirPath = \"..\\\\mmwhs\\\\ct_train\\\\\""
      ]
    },
    {
      "cell_type": "code",
      "execution_count": 3,
      "metadata": {
        "id": "wnk2ltIGlv_P"
      },
      "outputs": [],
      "source": [
        "def CreateSaggitalUnet(x, y, channel, num_classes=8):\n",
        "\n",
        "    # [slice, :, :]\n",
        "    inputs = tf.keras.layers.Input((x, y, channel))\n",
        "    kernel_initializer = \"he_normal\"\n",
        "\n",
        "    #Contraction path\n",
        "    c1 = tf.keras.layers.Conv2D(16, (3, 3), activation='relu', kernel_initializer=kernel_initializer, padding='same')(inputs)\n",
        "    c1 = tf.keras.layers.Dropout(0.1)(c1)\n",
        "    c1 = tf.keras.layers.Conv2D(16, (3, 3), activation='relu', kernel_initializer=kernel_initializer, padding='same')(c1)\n",
        "    p1 = tf.keras.layers.MaxPooling2D((2, 2))(c1)\n",
        "    p1 = tf.keras.layers.PReLU()(p1)\n",
        "\n",
        "    c2 = tf.keras.layers.Conv2D(32, (3, 3), activation='relu', kernel_initializer=kernel_initializer, padding='same')(p1)\n",
        "    c2 = tf.keras.layers.Dropout(0.1)(c2)\n",
        "    c2 = tf.keras.layers.Conv2D(32, (3, 3), activation='relu', kernel_initializer=kernel_initializer, padding='same')(c2)\n",
        "    p2 = tf.keras.layers.MaxPooling2D((2, 2))(c2)\n",
        "    p2 = tf.keras.layers.PReLU()(p2)\n",
        "\n",
        "    c3 = tf.keras.layers.Conv2D(64, (3, 3), activation='relu', kernel_initializer=kernel_initializer, padding='same')(p2)\n",
        "    c3 = tf.keras.layers.Dropout(0.2)(c3)\n",
        "    c3 = tf.keras.layers.Conv2D(64, (3, 3), activation='relu', kernel_initializer=kernel_initializer, padding='same')(c3)\n",
        "    p3 = tf.keras.layers.MaxPooling2D((2, 2))(c3)\n",
        "    p3 = tf.keras.layers.PReLU()(p3)\n",
        "\n",
        "    c4 = tf.keras.layers.Conv2D(128, (3, 3), activation='relu', kernel_initializer=kernel_initializer, padding='same')(p3)\n",
        "    c4 = tf.keras.layers.Dropout(0.2)(c4)\n",
        "    c4 = tf.keras.layers.Conv2D(128, (3, 3), activation='relu', kernel_initializer=kernel_initializer, padding='same')(c4)\n",
        "    p4 = tf.keras.layers.MaxPooling2D(pool_size=(2, 2))(c4)\n",
        "    p4 = tf.keras.layers.PReLU()(p4)\n",
        "\n",
        "    c5 = tf.keras.layers.Conv2D(256, (3, 3), activation='relu', kernel_initializer=kernel_initializer, padding='same')(p4)\n",
        "    c5 = tf.keras.layers.Dropout(0.3)(c5)\n",
        "    c5 = tf.keras.layers.Conv2D(256, (3, 3), activation='relu', kernel_initializer=kernel_initializer, padding='same')(c5)\n",
        "\n",
        "    #Expansive path\n",
        "    u6 = tf.keras.layers.Conv2DTranspose(128, (2, 2), strides=(2, 2), padding='same')(c5)\n",
        "    u6 = tf.keras.layers.PReLU()(u6)\n",
        "    u6 = tf.keras.layers.concatenate([u6, c4])\n",
        "    c6 = tf.keras.layers.Conv2D(128, (3, 3), activation='relu', kernel_initializer=kernel_initializer, padding='same')(u6)\n",
        "    c6 = tf.keras.layers.Dropout(0.2)(c6)\n",
        "    c6 = tf.keras.layers.Conv2D(128, (3, 3), activation='relu', kernel_initializer=kernel_initializer, padding='same')(c6)\n",
        "\n",
        "    u7 = tf.keras.layers.Conv2DTranspose(64, (2, 2), strides=(2, 2), padding='same')(c6)\n",
        "    u7 = tf.keras.layers.PReLU()(u7)\n",
        "    u7 = tf.keras.layers.concatenate([u7, c3])\n",
        "    c7 = tf.keras.layers.Conv2D(64, (3, 3), activation='relu', kernel_initializer=kernel_initializer, padding='same')(u7)\n",
        "    c7 = tf.keras.layers.Dropout(0.2)(c7)\n",
        "    c7 = tf.keras.layers.Conv2D(64, (3, 3), activation='relu', kernel_initializer=kernel_initializer, padding='same')(c7)\n",
        "\n",
        "    u8 = tf.keras.layers.Conv2DTranspose(32, (2, 2), strides=(2, 2), padding='same')(c7)\n",
        "    u8 = tf.keras.layers.PReLU()(u8)\n",
        "    u8 = tf.keras.layers.concatenate([u8, c2])\n",
        "    c8 = tf.keras.layers.Conv2D(32, (3, 3), activation='relu', kernel_initializer=kernel_initializer, padding='same')(u8)\n",
        "    c8 = tf.keras.layers.Dropout(0.1)(c8)\n",
        "    c8 = tf.keras.layers.Conv2D(32, (3, 3), activation='relu', kernel_initializer=kernel_initializer, padding='same')(c8)\n",
        "\n",
        "    u9 = tf.keras.layers.Conv2DTranspose(16, (2, 2), strides=(2, 2), padding='same')(c8)\n",
        "    u9 = tf.keras.layers.PReLU()(u9)\n",
        "    u9 = tf.keras.layers.concatenate([u9, c1])\n",
        "    c9 = tf.keras.layers.Conv2D(16, (3, 3), activation='relu', kernel_initializer=kernel_initializer, padding='same')(u9)\n",
        "    c9 = tf.keras.layers.Dropout(0.1)(c9)\n",
        "    c9 = tf.keras.layers.Conv2D(16, (3, 3), activation='relu', kernel_initializer=kernel_initializer, padding='same')(c9)\n",
        "\n",
        "    outputs = tf.keras.layers.Conv2D(num_classes, (1, 1), activation='softmax')(c9)\n",
        "\n",
        "    model = tf.keras.models.Model(inputs=[inputs], outputs=[outputs])\n",
        "    model.compile(optimizer='adam', loss='categorical_crossentropy',\n",
        "                  metrics=['accuracy'])\n",
        "\n",
        "    return model\n"
      ]
    },
    {
      "cell_type": "code",
      "execution_count": 4,
      "metadata": {
        "id": "49OCTCZ6lyiu"
      },
      "outputs": [],
      "source": [
        "def CreateCoronalUnet(x, y, channel, num_classes=8):\n",
        "\n",
        "    # [:, slice, :]\n",
        "    inputs = tf.keras.layers.Input((x, y, channel))\n",
        "    kernel_initializer = \"he_normal\"\n",
        "\n",
        "    #Contraction path\n",
        "    c1 = tf.keras.layers.Conv2D(16, (3, 3), activation='relu', kernel_initializer=kernel_initializer, padding='same')(inputs)\n",
        "    c1 = tf.keras.layers.Dropout(0.1)(c1)\n",
        "    c1 = tf.keras.layers.Conv2D(16, (3, 3), activation='relu', kernel_initializer=kernel_initializer, padding='same')(c1)\n",
        "    p1 = tf.keras.layers.MaxPooling2D((2, 2))(c1)\n",
        "    p1 = tf.keras.layers.PReLU()(p1)\n",
        "\n",
        "    c2 = tf.keras.layers.Conv2D(32, (3, 3), activation='relu', kernel_initializer=kernel_initializer, padding='same')(p1)\n",
        "    c2 = tf.keras.layers.Dropout(0.1)(c2)\n",
        "    c2 = tf.keras.layers.Conv2D(32, (3, 3), activation='relu', kernel_initializer=kernel_initializer, padding='same')(c2)\n",
        "    p2 = tf.keras.layers.MaxPooling2D((2, 2))(c2)\n",
        "    p2 = tf.keras.layers.PReLU()(p2)\n",
        "\n",
        "    c3 = tf.keras.layers.Conv2D(64, (3, 3), activation='relu', kernel_initializer=kernel_initializer, padding='same')(p2)\n",
        "    c3 = tf.keras.layers.Dropout(0.2)(c3)\n",
        "    c3 = tf.keras.layers.Conv2D(64, (3, 3), activation='relu', kernel_initializer=kernel_initializer, padding='same')(c3)\n",
        "    p3 = tf.keras.layers.MaxPooling2D((2, 2))(c3)\n",
        "    p3 = tf.keras.layers.PReLU()(p3)\n",
        "\n",
        "    c4 = tf.keras.layers.Conv2D(128, (3, 3), activation='relu', kernel_initializer=kernel_initializer, padding='same')(p3)\n",
        "    c4 = tf.keras.layers.Dropout(0.2)(c4)\n",
        "    c4 = tf.keras.layers.Conv2D(128, (3, 3), activation='relu', kernel_initializer=kernel_initializer, padding='same')(c4)\n",
        "    p4 = tf.keras.layers.MaxPooling2D(pool_size=(2, 2))(c4)\n",
        "    p4 = tf.keras.layers.PReLU()(p4)\n",
        "\n",
        "    c5 = tf.keras.layers.Conv2D(256, (3, 3), activation='relu', kernel_initializer=kernel_initializer, padding='same')(p4)\n",
        "    c5 = tf.keras.layers.Dropout(0.3)(c5)\n",
        "    c5 = tf.keras.layers.Conv2D(256, (3, 3), activation='relu', kernel_initializer=kernel_initializer, padding='same')(c5)\n",
        "\n",
        "    #Expansive path\n",
        "    u6 = tf.keras.layers.Conv2DTranspose(128, (2, 2), strides=(2, 2), padding='same')(c5)\n",
        "    u6 = tf.keras.layers.PReLU()(u6)\n",
        "    u6 = tf.keras.layers.concatenate([u6, c4])\n",
        "    c6 = tf.keras.layers.Conv2D(128, (3, 3), activation='relu', kernel_initializer=kernel_initializer, padding='same')(u6)\n",
        "    c6 = tf.keras.layers.Dropout(0.2)(c6)\n",
        "    c6 = tf.keras.layers.Conv2D(128, (3, 3), activation='relu', kernel_initializer=kernel_initializer, padding='same')(c6)\n",
        "\n",
        "    u7 = tf.keras.layers.Conv2DTranspose(64, (2, 2), strides=(2, 2), padding='same')(c6)\n",
        "    u7 = tf.keras.layers.PReLU()(u7)\n",
        "    u7 = tf.keras.layers.concatenate([u7, c3])\n",
        "    c7 = tf.keras.layers.Conv2D(64, (3, 3), activation='relu', kernel_initializer=kernel_initializer, padding='same')(u7)\n",
        "    c7 = tf.keras.layers.Dropout(0.2)(c7)\n",
        "    c7 = tf.keras.layers.Conv2D(64, (3, 3), activation='relu', kernel_initializer=kernel_initializer, padding='same')(c7)\n",
        "\n",
        "    u8 = tf.keras.layers.Conv2DTranspose(32, (2, 2), strides=(2, 2), padding='same')(c7)\n",
        "    u8 = tf.keras.layers.PReLU()(u8)\n",
        "    u8 = tf.keras.layers.concatenate([u8, c2])\n",
        "    c8 = tf.keras.layers.Conv2D(32, (3, 3), activation='relu', kernel_initializer=kernel_initializer, padding='same')(u8)\n",
        "    c8 = tf.keras.layers.Dropout(0.1)(c8)\n",
        "    c8 = tf.keras.layers.Conv2D(32, (3, 3), activation='relu', kernel_initializer=kernel_initializer, padding='same')(c8)\n",
        "\n",
        "    u9 = tf.keras.layers.Conv2DTranspose(16, (2, 2), strides=(2, 2), padding='same')(c8)\n",
        "    u9 = tf.keras.layers.PReLU()(u9)\n",
        "    u9 = tf.keras.layers.concatenate([u9, c1])\n",
        "    c9 = tf.keras.layers.Conv2D(16, (3, 3), activation='relu', kernel_initializer=kernel_initializer, padding='same')(u9)\n",
        "    c9 = tf.keras.layers.Dropout(0.1)(c9)\n",
        "    c9 = tf.keras.layers.Conv2D(16, (3, 3), activation='relu', kernel_initializer=kernel_initializer, padding='same')(c9)\n",
        "\n",
        "    outputs = tf.keras.layers.Conv2D(num_classes, (1, 1), activation='softmax')(c9)\n",
        "\n",
        "    model = tf.keras.models.Model(inputs=[inputs], outputs=[outputs])\n",
        "    model.compile(optimizer='adam', loss='categorical_crossentropy',\n",
        "                  metrics=['accuracy'])\n",
        "\n",
        "    return model"
      ]
    },
    {
      "cell_type": "code",
      "execution_count": 3,
      "metadata": {
        "id": "fAXAN8cflc1z"
      },
      "outputs": [],
      "source": [
        "def CreateAxialUnet(x, y, channel, num_classes=8):\n",
        "    # [:, :, slice]\n",
        "    inputs = tf.keras.layers.Input((x, y, channel))\n",
        "    kernel_initializer = \"he_normal\"\n",
        "\n",
        "    #Contraction path\n",
        "    c1 = tf.keras.layers.Conv2D(16, (3, 3), activation='relu', kernel_initializer=kernel_initializer, padding='same')(inputs)\n",
        "    c1 = tf.keras.layers.Dropout(0.1)(c1)\n",
        "    c1 = tf.keras.layers.Conv2D(16, (3, 3), activation='relu', kernel_initializer=kernel_initializer, padding='same')(c1)\n",
        "    p1 = tf.keras.layers.MaxPooling2D((2, 2))(c1)\n",
        "    p1 = tf.keras.layers.PReLU()(p1)\n",
        "\n",
        "    c2 = tf.keras.layers.Conv2D(32, (3, 3), activation='relu', kernel_initializer=kernel_initializer, padding='same')(p1)\n",
        "    c2 = tf.keras.layers.Dropout(0.1)(c2)\n",
        "    c2 = tf.keras.layers.Conv2D(32, (3, 3), activation='relu', kernel_initializer=kernel_initializer, padding='same')(c2)\n",
        "    p2 = tf.keras.layers.MaxPooling2D((2, 2))(c2)\n",
        "    p2 = tf.keras.layers.PReLU()(p2)\n",
        "\n",
        "    c3 = tf.keras.layers.Conv2D(64, (3, 3), activation='relu', kernel_initializer=kernel_initializer, padding='same')(p2)\n",
        "    c3 = tf.keras.layers.Dropout(0.2)(c3)\n",
        "    c3 = tf.keras.layers.Conv2D(64, (3, 3), activation='relu', kernel_initializer=kernel_initializer, padding='same')(c3)\n",
        "    p3 = tf.keras.layers.MaxPooling2D((2, 2))(c3)\n",
        "    p3 = tf.keras.layers.PReLU()(p3)\n",
        "\n",
        "    c4 = tf.keras.layers.Conv2D(128, (3, 3), activation='relu', kernel_initializer=kernel_initializer, padding='same')(p3)\n",
        "    c4 = tf.keras.layers.Dropout(0.2)(c4)\n",
        "    c4 = tf.keras.layers.Conv2D(128, (3, 3), activation='relu', kernel_initializer=kernel_initializer, padding='same')(c4)\n",
        "    p4 = tf.keras.layers.MaxPooling2D(pool_size=(2, 2))(c4)\n",
        "    p4 = tf.keras.layers.PReLU()(p4)\n",
        "\n",
        "    c5 = tf.keras.layers.Conv2D(256, (3, 3), activation='relu', kernel_initializer=kernel_initializer, padding='same')(p4)\n",
        "    c5 = tf.keras.layers.Dropout(0.3)(c5)\n",
        "    c5 = tf.keras.layers.Conv2D(256, (3, 3), activation='relu', kernel_initializer=kernel_initializer, padding='same')(c5)\n",
        "\n",
        "    #Expansive path\n",
        "    u6 = tf.keras.layers.Conv2DTranspose(128, (2, 2), strides=(2, 2), padding='same')(c5)\n",
        "    u6 = tf.keras.layers.PReLU()(u6)\n",
        "    u6 = tf.keras.layers.concatenate([u6, c4])\n",
        "    c6 = tf.keras.layers.Conv2D(128, (3, 3), activation='relu', kernel_initializer=kernel_initializer, padding='same')(u6)\n",
        "    c6 = tf.keras.layers.Dropout(0.2)(c6)\n",
        "    c6 = tf.keras.layers.Conv2D(128, (3, 3), activation='relu', kernel_initializer=kernel_initializer, padding='same')(c6)\n",
        "\n",
        "    u7 = tf.keras.layers.Conv2DTranspose(64, (2, 2), strides=(2, 2), padding='same')(c6)\n",
        "    u7 = tf.keras.layers.PReLU()(u7)\n",
        "    u7 = tf.keras.layers.concatenate([u7, c3])\n",
        "    c7 = tf.keras.layers.Conv2D(64, (3, 3), activation='relu', kernel_initializer=kernel_initializer, padding='same')(u7)\n",
        "    c7 = tf.keras.layers.Dropout(0.2)(c7)\n",
        "    c7 = tf.keras.layers.Conv2D(64, (3, 3), activation='relu', kernel_initializer=kernel_initializer, padding='same')(c7)\n",
        "\n",
        "    u8 = tf.keras.layers.Conv2DTranspose(32, (2, 2), strides=(2, 2), padding='same')(c7)\n",
        "    u8 = tf.keras.layers.PReLU()(u8)\n",
        "    u8 = tf.keras.layers.concatenate([u8, c2])\n",
        "    c8 = tf.keras.layers.Conv2D(32, (3, 3), activation='relu', kernel_initializer=kernel_initializer, padding='same')(u8)\n",
        "    c8 = tf.keras.layers.Dropout(0.1)(c8)\n",
        "    c8 = tf.keras.layers.Conv2D(32, (3, 3), activation='relu', kernel_initializer=kernel_initializer, padding='same')(c8)\n",
        "\n",
        "    u9 = tf.keras.layers.Conv2DTranspose(16, (2, 2), strides=(2, 2), padding='same')(c8)\n",
        "    u9 = tf.keras.layers.PReLU()(u9)\n",
        "    u9 = tf.keras.layers.concatenate([u9, c1])\n",
        "    c9 = tf.keras.layers.Conv2D(16, (3, 3), activation='relu', kernel_initializer=kernel_initializer, padding='same')(u9)\n",
        "    c9 = tf.keras.layers.Dropout(0.1)(c9)\n",
        "    c9 = tf.keras.layers.Conv2D(16, (3, 3), activation='relu', kernel_initializer=kernel_initializer, padding='same')(c9)\n",
        "\n",
        "    outputs = tf.keras.layers.Conv2D(num_classes, (1, 1), activation='softmax')(c9)\n",
        "\n",
        "    model = tf.keras.models.Model(inputs=[inputs], outputs=[outputs])\n",
        "    model.compile(optimizer='adam', loss='categorical_crossentropy',\n",
        "                  metrics=['accuracy'])\n",
        "\n",
        "    return model"
      ]
    },
    {
      "cell_type": "code",
      "execution_count": 19,
      "metadata": {},
      "outputs": [],
      "source": [
        "def simple_unet_model(IMG_HEIGHT, IMG_WIDTH, IMG_CHANNELS, num_classes):\n",
        "    kernel_initializer = 'he_uniform'  # Try others if you want\n",
        "    # Build the model\n",
        "    inputs = tf.keras.layers.Input((IMG_HEIGHT, IMG_WIDTH, IMG_CHANNELS))\n",
        "    # s = Lambda(lambda x: x / 255)(inputs)   #No need for this if we normalize our inputs beforehand\n",
        "    s = inputs\n",
        "\n",
        "    # Contraction path\n",
        "    c1 = tf.keras.layers.Conv2D(16, (3, 3), activation='relu',\n",
        "                kernel_initializer=kernel_initializer, padding='same')(s)\n",
        "    c1 = tf.keras.layers.Dropout(0.1)(c1)\n",
        "    c1 = tf.keras.layers.Conv2D(16, (3, 3), activation='relu',\n",
        "                kernel_initializer=kernel_initializer, padding='same')(c1)\n",
        "    p1 = tf.keras.layers.MaxPooling2D((2, 2))(c1)\n",
        "\n",
        "    c2 = tf.keras.layers.Conv2D(32, (3, 3), activation='relu',\n",
        "                kernel_initializer=kernel_initializer, padding='same')(p1)\n",
        "    c2 = tf.keras.layers.Dropout(0.1)(c2)\n",
        "    c2 = tf.keras.layers.Conv2D(32, (3, 3), activation='relu',\n",
        "                kernel_initializer=kernel_initializer, padding='same')(c2)\n",
        "    p2 = tf.keras.layers.MaxPooling2D((2, 2))(c2)\n",
        "\n",
        "    c3 = tf.keras.layers.Conv2D(64, (3, 3), activation='relu',\n",
        "                kernel_initializer=kernel_initializer, padding='same')(p2)\n",
        "    c3 = tf.keras.layers.Dropout(0.2)(c3)\n",
        "    c3 = tf.keras.layers.Conv2D(64, (3, 3), activation='relu',\n",
        "                kernel_initializer=kernel_initializer, padding='same')(c3)\n",
        "    p3 = tf.keras.layers.MaxPooling2D((2, 2))(c3)\n",
        "\n",
        "    c4 = tf.keras.layers.Conv2D(128, (3, 3), activation='relu',\n",
        "                kernel_initializer=kernel_initializer, padding='same')(p3)\n",
        "    c4 = tf.keras.layers.Dropout(0.2)(c4)\n",
        "    c4 = tf.keras.layers.Conv2D(128, (3, 3), activation='relu',\n",
        "                kernel_initializer=kernel_initializer, padding='same')(c4)\n",
        "    p4 = tf.keras.layers.MaxPooling2D(pool_size=(2, 2))(c4)\n",
        "\n",
        "    c5 = tf.keras.layers.Conv2D(256, (3, 3), activation='relu',\n",
        "                kernel_initializer=kernel_initializer, padding='same')(p4)\n",
        "    c5 = tf.keras.layers.Dropout(0.3)(c5)\n",
        "    c5 = tf.keras.layers.Conv2D(256, (3, 3), activation='relu',\n",
        "                kernel_initializer=kernel_initializer, padding='same')(c5)\n",
        "\n",
        "    # Expansive path\n",
        "    u6 = tf.keras.layers.Conv2DTranspose(128, (2, 2), strides=(2, 2), padding='same')(c5)\n",
        "    u6 = tf.keras.layers.concatenate([u6, c4])\n",
        "    c6 = tf.keras.layers.Conv2D(128, (3, 3), activation='relu',\n",
        "                kernel_initializer=kernel_initializer, padding='same')(u6)\n",
        "    c6 = tf.keras.layers.Dropout(0.2)(c6)\n",
        "    c6 = tf.keras.layers.Conv2D(128, (3, 3), activation='relu',\n",
        "                kernel_initializer=kernel_initializer, padding='same')(c6)\n",
        "\n",
        "    u7 = tf.keras.layers.Conv2DTranspose(64, (2, 2), strides=(2, 2), padding='same')(c6)\n",
        "    u7 = tf.keras.layers.concatenate([u7, c3])\n",
        "    c7 = tf.keras.layers.Conv2D(64, (3, 3), activation='relu',\n",
        "                kernel_initializer=kernel_initializer, padding='same')(u7)\n",
        "    c7 = tf.keras.layers.Dropout(0.2)(c7)\n",
        "    c7 = tf.keras.layers.Conv2D(64, (3, 3), activation='relu',\n",
        "                kernel_initializer=kernel_initializer, padding='same')(c7)\n",
        "\n",
        "    u8 = tf.keras.layers.Conv2DTranspose(32, (2, 2), strides=(2, 2), padding='same')(c7)\n",
        "    u8 = tf.keras.layers.concatenate([u8, c2])\n",
        "    c8 = tf.keras.layers.Conv2D(32, (3, 3), activation='relu',\n",
        "                kernel_initializer=kernel_initializer, padding='same')(u8)\n",
        "    c8 = tf.keras.layers.Dropout(0.1)(c8)\n",
        "    c8 = tf.keras.layers.Conv2D(32, (3, 3), activation='relu',\n",
        "                kernel_initializer=kernel_initializer, padding='same')(c8)\n",
        "\n",
        "    u9 = tf.keras.layers.Conv2DTranspose(16, (2, 2), strides=(2, 2), padding='same')(c8)\n",
        "    u9 = tf.keras.layers.concatenate([u9, c1])\n",
        "    c9 = tf.keras.layers.Conv2D(16, (3, 3), activation='relu',\n",
        "                kernel_initializer=kernel_initializer, padding='same')(u9)\n",
        "    c9 = tf.keras.layers.Dropout(0.1)(c9)\n",
        "    c9 = tf.keras.layers.Conv2D(16, (3, 3), activation='relu',\n",
        "                kernel_initializer=kernel_initializer, padding='same')(c9)\n",
        "\n",
        "    outputs = tf.keras.layers.Conv2D(num_classes, (1, 1), activation='softmax')(c9)\n",
        "\n",
        "    model = tf.keras.models.Model(inputs=[inputs], outputs=[outputs])\n",
        "    model.compile(optimizer='adam', loss='categorical_crossentropy',\n",
        "                  metrics=['accuracy'])\n",
        "    model.summary()\n",
        "\n",
        "    return model"
      ]
    },
    {
      "cell_type": "code",
      "execution_count": 3,
      "metadata": {
        "id": "-ZWpdvtBoJam"
      },
      "outputs": [],
      "source": [
        "def OneHotEncode2D(original, x_, y_, num_classes=8):\n",
        "    encodeList = {\n",
        "        0: 0,\n",
        "        500: 1,\n",
        "        600: 2,\n",
        "        420: 3,\n",
        "        550: 4,\n",
        "        205: 5,\n",
        "        820: 6,\n",
        "        850: 7,\n",
        "    }\n",
        "\n",
        "    x, y = original.shape\n",
        "\n",
        "    labelEncode = np.empty((x_, y_, num_classes), dtype=\"float16\")\n",
        "    for i_ in range(x_):\n",
        "        for j_ in range(y_):\n",
        "            i = math.floor( (i_ * x) / x_)\n",
        "            j = math.floor( (j_ * y) / y_)\n",
        "\n",
        "            i = max(0, min(i, x - 1))\n",
        "            j = max(0, min(j, y - 1))\n",
        "\n",
        "            value = original[i][j]\n",
        "\n",
        "            encodeIndex = encodeList[value]\n",
        "\n",
        "            for n in range(8):\n",
        "                labelEncode[i_][j_][n] = 0\n",
        "\n",
        "            labelEncode[i_][j_][encodeIndex] = 1\n",
        "\n",
        "    return labelEncode\n",
        "\n",
        "def ResizeImage(image, x_, y_):\n",
        "  return np.array(skTrans.resize(image, (x_, y_), order=1, preserve_range=True, anti_aliasing=False), dtype=\"float16\")"
      ]
    },
    {
      "cell_type": "code",
      "execution_count": 4,
      "metadata": {
        "id": "xniS8GC3tFBv"
      },
      "outputs": [],
      "source": [
        "def NormalizeImageIntensityRange(image):\n",
        "  houndsfieldMax = 2000\n",
        "  houndsfieldMin = -1000\n",
        "  image[image < houndsfieldMin] = houndsfieldMin\n",
        "  image[image > houndsfieldMax] = houndsfieldMax\n",
        "\n",
        "  # min max intensity normalization with houndsfield\n",
        "  return (image - houndsfieldMin) / (houndsfieldMax - houndsfieldMin)"
      ]
    },
    {
      "cell_type": "code",
      "execution_count": 9,
      "metadata": {
        "id": "lS_B-PeSzcvt"
      },
      "outputs": [],
      "source": [
        "def GenerateData(start, stop, rootDirPath, viewpoint):\n",
        "  def SortImageKey(filename):\n",
        "    parts = filename.split('_')\n",
        "    return (int(parts[2]), parts[3])\n",
        "\n",
        "  x = []\n",
        "  y = []\n",
        "  pathList = sorted(os.listdir(rootDirPath), key=SortImageKey)\n",
        "\n",
        "  for f in range(start, stop, 2):\n",
        "    image = np.array(nib.load(os.path.join(rootDirPath, pathList[f])).get_fdata(), dtype=\"float16\")\n",
        "    label = np.array(nib.load(os.path.join(rootDirPath, pathList[f + 1])).get_fdata(), dtype=\"float16\")\n",
        "    for i in range(image.shape[viewpoint - 1]):\n",
        "      if viewpoint == 1:\n",
        "        newImage = image[i, :, :]\n",
        "        newImage = ResizeImage(newImage, 256, 256)\n",
        "        newImage = NormalizeImageIntensityRange(newImage)\n",
        "        newImage = np.expand_dims(newImage, -1)\n",
        "\n",
        "        newLabel = label[i, :, :]\n",
        "        newLabel = OneHotEncode2D(newLabel, 256, 256)\n",
        "\n",
        "        x.append(newImage)\n",
        "        y.append(newLabel)\n",
        "\n",
        "      elif viewpoint == 2:\n",
        "        newImage = image[:, i, :]\n",
        "        newImage = ResizeImage(newImage, 256, 256)\n",
        "        newImage = NormalizeImageIntensityRange(newImage)\n",
        "        newImage = np.expand_dims(newImage, -1)\n",
        "\n",
        "        newLabel = label[:, i, :]\n",
        "        newLabel = OneHotEncode2D(newLabel, 256, 256)\n",
        "\n",
        "        x.append(newImage)\n",
        "        y.append(newLabel)\n",
        "\n",
        "      elif viewpoint == 3:\n",
        "        newImage = image[:, :, i]\n",
        "        newImage = ResizeImage(newImage, 256, 256)\n",
        "        newImage = NormalizeImageIntensityRange(newImage)\n",
        "        newImage = np.expand_dims(newImage, -1)\n",
        "\n",
        "        newLabel = label[:, :, i]\n",
        "        newLabel = OneHotEncode2D(newLabel, 256, 256)\n",
        "\n",
        "        x.append(newImage)\n",
        "        y.append(newLabel)\n",
        "\n",
        "  x = np.array(x)\n",
        "  y = np.array(y)\n",
        "  return x, y"
      ]
    },
    {
      "cell_type": "code",
      "execution_count": 6,
      "metadata": {},
      "outputs": [],
      "source": [
        "def GenerateFullResData(start, stop, rootDirPath):\n",
        "  def SortImageKey(filename):\n",
        "    parts = filename.split('_')\n",
        "    return (int(parts[2]), parts[3])\n",
        "\n",
        "  x = []\n",
        "  y = []\n",
        "  pathList = sorted(os.listdir(rootDirPath), key=SortImageKey)\n",
        "\n",
        "  for f in range(start, stop, 2):\n",
        "    image = np.array(nib.load(os.path.join(\n",
        "        rootDirPath, pathList[f])).get_fdata(), dtype=\"float16\")\n",
        "    label = np.array(nib.load(os.path.join(\n",
        "        rootDirPath, pathList[f + 1])).get_fdata(), dtype=\"float16\")\n",
        "    for i in range(image.shape[-1]):\n",
        "        \n",
        "        newImage = image[:, :, i]\n",
        "        newImage = NormalizeImageIntensityRange(newImage)\n",
        "        newImage = np.expand_dims(newImage, -1)\n",
        "\n",
        "        newLabel = label[:, :, i]\n",
        "        newLabel = OneHotEncode2D(newLabel, 512, 512)\n",
        "\n",
        "        x.append(newImage)\n",
        "        y.append(newLabel)\n",
        "\n",
        "  x = np.array(x)\n",
        "  y = np.array(y)\n",
        "  return x, y"
      ]
    },
    {
      "cell_type": "code",
      "execution_count": 7,
      "metadata": {},
      "outputs": [
        {
          "ename": "MemoryError",
          "evalue": "Unable to allocate 15.0 GiB for an array with shape (3842, 512, 512, 8) and data type float16",
          "output_type": "error",
          "traceback": [
            "\u001b[1;31m---------------------------------------------------------------------------\u001b[0m",
            "\u001b[1;31mMemoryError\u001b[0m                               Traceback (most recent call last)",
            "\u001b[1;32me:\\isef-vascular\\VascuIAR\\DeepLearning\\model\\7-ModelCombination.ipynb Cell 11\u001b[0m line \u001b[0;36m1\n\u001b[1;32m----> <a href='vscode-notebook-cell:/e%3A/isef-vascular/VascuIAR/DeepLearning/model/7-ModelCombination.ipynb#X13sZmlsZQ%3D%3D?line=0'>1</a>\u001b[0m x_axial_full_res, y_axial_full_res \u001b[39m=\u001b[39m GenerateFullResData(\u001b[39m0\u001b[39;49m, \u001b[39m30\u001b[39;49m, rootDirPath)\n",
            "\u001b[1;32me:\\isef-vascular\\VascuIAR\\DeepLearning\\model\\7-ModelCombination.ipynb Cell 11\u001b[0m line \u001b[0;36m2\n\u001b[0;32m     <a href='vscode-notebook-cell:/e%3A/isef-vascular/VascuIAR/DeepLearning/model/7-ModelCombination.ipynb#X13sZmlsZQ%3D%3D?line=24'>25</a>\u001b[0m       y\u001b[39m.\u001b[39mappend(newLabel)\n\u001b[0;32m     <a href='vscode-notebook-cell:/e%3A/isef-vascular/VascuIAR/DeepLearning/model/7-ModelCombination.ipynb#X13sZmlsZQ%3D%3D?line=26'>27</a>\u001b[0m x \u001b[39m=\u001b[39m np\u001b[39m.\u001b[39marray(x)\n\u001b[1;32m---> <a href='vscode-notebook-cell:/e%3A/isef-vascular/VascuIAR/DeepLearning/model/7-ModelCombination.ipynb#X13sZmlsZQ%3D%3D?line=27'>28</a>\u001b[0m y \u001b[39m=\u001b[39m np\u001b[39m.\u001b[39;49marray(y)\n\u001b[0;32m     <a href='vscode-notebook-cell:/e%3A/isef-vascular/VascuIAR/DeepLearning/model/7-ModelCombination.ipynb#X13sZmlsZQ%3D%3D?line=28'>29</a>\u001b[0m \u001b[39mreturn\u001b[39;00m x, y\n",
            "\u001b[1;31mMemoryError\u001b[0m: Unable to allocate 15.0 GiB for an array with shape (3842, 512, 512, 8) and data type float16"
          ]
        }
      ],
      "source": [
        "x_axial_full_res, y_axial_full_res = GenerateFullResData(0, 30, rootDirPath)"
      ]
    },
    {
      "cell_type": "code",
      "execution_count": 5,
      "metadata": {
        "colab": {
          "base_uri": "https://localhost:8080/"
        },
        "id": "7P8Vx1Tvh7dE",
        "outputId": "ec1f262f-6ba4-46b1-e9a3-04b9616e48ee"
      },
      "outputs": [
        {
          "name": "stdout",
          "output_type": "stream",
          "text": [
            "(3842, 256, 256, 1)\n"
          ]
        }
      ],
      "source": [
        "x = np.load(\"./x_axial.npy\")\n",
        "print(x.shape)"
      ]
    },
    {
      "cell_type": "code",
      "execution_count": 6,
      "metadata": {
        "colab": {
          "base_uri": "https://localhost:8080/"
        },
        "id": "_aw9zMoQiNlD",
        "outputId": "cb1a7817-f477-4b05-e96e-1d096b45f4ab"
      },
      "outputs": [
        {
          "name": "stdout",
          "output_type": "stream",
          "text": [
            "(3842, 256, 256, 8)\n"
          ]
        }
      ],
      "source": [
        "y = np.load(\"./y_axial.npy\")\n",
        "print(y.shape)"
      ]
    },
    {
      "cell_type": "code",
      "execution_count": 36,
      "metadata": {
        "id": "sfCbrHfvmnyi"
      },
      "outputs": [],
      "source": [
        "def TrainingLoop(model, originalX, originalY):\n",
        "  x = []\n",
        "  y = []\n",
        "  trainingHistory = {}\n",
        "\n",
        "  for i in range(0, 15, 5):\n",
        "    x.append(originalX[i])\n",
        "    x.append(originalX[i + 1])\n",
        "    x.append(originalX[i + 2])\n",
        "    x.append(originalX[i + 3])\n",
        "    x.append(originalX[i + 4])\n",
        "\n",
        "    y.append(originalY[i])\n",
        "    y.append(originalY[i + 1])\n",
        "    y.append(originalY[i + 2])\n",
        "    y.append(originalY[i + 3])\n",
        "    y.append(originalY[i + 4])\n",
        "\n",
        "    x = np.array(x)\n",
        "    y = np.array(y)\n",
        "\n",
        "    print(f\"Image: {x.shape}\")\n",
        "    print(f\"Label: {y.shape}\")\n",
        "\n",
        "    history = model.fit(x, y, epochs=3, validation_split=0.25)\n",
        "    for key, value in history.history.items():\n",
        "      if key not in trainingHistory:\n",
        "          trainingHistory[key] = []\n",
        "      trainingHistory[key].extend(value)\n",
        "\n",
        "    x = []\n",
        "    y = []\n",
        "\n",
        "  return trainingHistory"
      ]
    },
    {
      "cell_type": "code",
      "execution_count": 58,
      "metadata": {},
      "outputs": [],
      "source": [
        "def TrainingLoopWithEvaluate(model, originalX, originalY, validateX, validateY):\n",
        "  x = []\n",
        "  y = []\n",
        "  trainingHistory = {}\n",
        "\n",
        "  early_stopping = tf.keras.callbacks.EarlyStopping(\n",
        "  monitor='val_accuracy',\n",
        "  patience=5,\n",
        "  restore_best_weights=True\n",
        "  )\n",
        "\n",
        "  for i in range(0, 15, 5):\n",
        "    \n",
        "    x.append(originalX[i])\n",
        "    x.append(originalX[i + 1])\n",
        "    x.append(originalX[i + 2])\n",
        "    x.append(originalX[i + 3])\n",
        "    x.append(originalX[i + 4])\n",
        "\n",
        "    y.append(originalY[i])\n",
        "    y.append(originalY[i + 1])\n",
        "    y.append(originalY[i + 2])\n",
        "    y.append(originalY[i + 3])\n",
        "    y.append(originalY[i + 4])\n",
        "\n",
        "    x = np.array(x)\n",
        "    y = np.array(y)\n",
        "\n",
        "    print(f\"Image: {x.shape}\")\n",
        "    print(f\"Label: {y.shape}\")\n",
        "\n",
        "    history = model.fit(x, y, epochs=5, validation_data=(validateX, validateY), callbacks=[early_stopping])\n",
        "    for key, value in history.history.items():\n",
        "      if key not in trainingHistory:\n",
        "          trainingHistory[key] = []\n",
        "      trainingHistory[key].extend(value)\n",
        "\n",
        "    x = []\n",
        "    y = []\n",
        "\n",
        "  return trainingHistory"
      ]
    },
    {
      "cell_type": "code",
      "execution_count": 4,
      "metadata": {},
      "outputs": [],
      "source": [
        "xValidate = np.load(\"./x_axialValidate.npy\")\n",
        "yValidate = np.load(\"./y_axialValidate.npy\")"
      ]
    },
    {
      "cell_type": "code",
      "execution_count": 25,
      "metadata": {
        "id": "oR9jViovI9pW"
      },
      "outputs": [],
      "source": [
        "unetSaggital = CreateSaggitalUnet(256, 256, 1)"
      ]
    },
    {
      "cell_type": "code",
      "execution_count": 26,
      "metadata": {
        "id": "rkPIGz8liV8c"
      },
      "outputs": [
        {
          "name": "stdout",
          "output_type": "stream",
          "text": [
            "Image: (5, 256, 256, 1)\n",
            "Label: (5, 256, 256, 8)\n",
            "Epoch 1/4\n",
            "1/1 [==============================] - 4s 4s/step - loss: 2.0760 - accuracy: 0.2233 - val_loss: 2.0378 - val_accuracy: 0.5360\n",
            "Epoch 2/4\n",
            "1/1 [==============================] - 1s 853ms/step - loss: 2.0288 - accuracy: 0.4906 - val_loss: 1.7611 - val_accuracy: 0.3983\n",
            "Epoch 3/4\n",
            "1/1 [==============================] - 1s 909ms/step - loss: 1.7324 - accuracy: 0.4082 - val_loss: 1.7331 - val_accuracy: 0.4314\n",
            "Epoch 4/4\n",
            "1/1 [==============================] - 1s 865ms/step - loss: 2.2633 - accuracy: 0.4932 - val_loss: 1.2862 - val_accuracy: 0.7790\n",
            "Image: (5, 256, 256, 1)\n",
            "Label: (5, 256, 256, 8)\n",
            "Epoch 1/4\n",
            "1/1 [==============================] - 1s 979ms/step - loss: 1.1359 - accuracy: 0.7073 - val_loss: 1.4171 - val_accuracy: 0.9756\n",
            "Epoch 2/4\n",
            "1/1 [==============================] - 1s 855ms/step - loss: 1.2133 - accuracy: 0.9010 - val_loss: 1.4239 - val_accuracy: 0.9986\n",
            "Epoch 3/4\n",
            "1/1 [==============================] - 1s 816ms/step - loss: 1.2042 - accuracy: 0.9604 - val_loss: 1.1933 - val_accuracy: 0.9992\n",
            "Epoch 4/4\n",
            "1/1 [==============================] - 1s 944ms/step - loss: 0.9505 - accuracy: 0.9766 - val_loss: 0.7353 - val_accuracy: 0.9991\n",
            "Image: (5, 256, 256, 1)\n",
            "Label: (5, 256, 256, 8)\n",
            "Epoch 1/4\n",
            "1/1 [==============================] - 1s 943ms/step - loss: 0.4412 - accuracy: 0.9846 - val_loss: 0.2246 - val_accuracy: 0.9982\n",
            "Epoch 2/4\n",
            "1/1 [==============================] - 1s 795ms/step - loss: 0.1249 - accuracy: 0.9903 - val_loss: 0.0450 - val_accuracy: 0.9977\n",
            "Epoch 3/4\n",
            "1/1 [==============================] - 1s 935ms/step - loss: 0.0299 - accuracy: 0.9939 - val_loss: 0.0107 - val_accuracy: 0.9977\n",
            "Epoch 4/4\n",
            "1/1 [==============================] - 1s 819ms/step - loss: 0.0123 - accuracy: 0.9961 - val_loss: 0.0045 - val_accuracy: 0.9985\n"
          ]
        }
      ],
      "source": [
        "trainingHistory = TrainingLoop(unetSaggital, x, y)"
      ]
    },
    {
      "cell_type": "code",
      "execution_count": 27,
      "metadata": {
        "id": "Zqo5aztYiZGJ"
      },
      "outputs": [
        {
          "name": "stderr",
          "output_type": "stream",
          "text": [
            "e:\\isef-vascular\\VascuIAR\\.venv\\lib\\site-packages\\keras\\src\\engine\\training.py:3079: UserWarning: You are saving your model as an HDF5 file via `model.save()`. This file format is considered legacy. We recommend using instead the native Keras format, e.g. `model.save('my_model.keras')`.\n",
            "  saving_api.save_model(\n"
          ]
        }
      ],
      "source": [
        "unetSaggital.save('.\\\\trained_model\\\\unetSaggital.h5', save_format='h5')"
      ]
    },
    {
      "cell_type": "code",
      "execution_count": null,
      "metadata": {
        "id": "hoUrgZhL9en8"
      },
      "outputs": [],
      "source": [
        "plt.plot(trainingHistory['loss'])\n",
        "plt.plot(trainingHistory['val_loss'])\n",
        "plt.title('Saggital Loss')\n",
        "plt.xlabel('Epoch')\n",
        "plt.ylabel('Loss')\n",
        "plt.legend(['Train', 'Validation'], loc='upper right')\n",
        "plt.show()\n"
      ]
    },
    {
      "cell_type": "code",
      "execution_count": null,
      "metadata": {
        "id": "OpLMia3q9qJx"
      },
      "outputs": [],
      "source": [
        "plt.plot(trainingHistory['accuracy'])\n",
        "plt.plot(trainingHistory['val_accuracy'])\n",
        "plt.title('Saggital Accuracy')\n",
        "plt.xlabel('Epoch')\n",
        "plt.ylabel('Accuracy')\n",
        "plt.legend(['Train', 'Validation'], loc='lower right')\n",
        "plt.show()\n"
      ]
    },
    {
      "cell_type": "code",
      "execution_count": 31,
      "metadata": {
        "id": "LVAs5iL0JCfM"
      },
      "outputs": [],
      "source": [
        "unetCoronal = CreateCoronalUnet(256, 256, 1)"
      ]
    },
    {
      "cell_type": "code",
      "execution_count": 32,
      "metadata": {
        "id": "avUdjMRVBidq"
      },
      "outputs": [
        {
          "name": "stdout",
          "output_type": "stream",
          "text": [
            "Image: (5, 256, 256, 1)\n",
            "Label: (5, 256, 256, 8)\n",
            "Epoch 1/4\n",
            "1/1 [==============================] - 4s 4s/step - loss: 2.0744 - accuracy: 0.6853 - val_loss: 2.0037 - val_accuracy: 0.6981\n",
            "Epoch 2/4\n",
            "1/1 [==============================] - 1s 776ms/step - loss: 2.0491 - accuracy: 0.8499 - val_loss: 1.8063 - val_accuracy: 0.6379\n",
            "Epoch 3/4\n",
            "1/1 [==============================] - 1s 746ms/step - loss: 1.9635 - accuracy: 0.6254 - val_loss: 1.4239 - val_accuracy: 0.7481\n",
            "Epoch 4/4\n",
            "1/1 [==============================] - 1s 745ms/step - loss: 1.7670 - accuracy: 0.6906 - val_loss: 0.8124 - val_accuracy: 0.8817\n",
            "Image: (5, 256, 256, 1)\n",
            "Label: (5, 256, 256, 8)\n",
            "Epoch 1/4\n",
            "1/1 [==============================] - 1s 768ms/step - loss: 1.2089 - accuracy: 0.8011 - val_loss: 0.8808 - val_accuracy: 0.9964\n",
            "Epoch 2/4\n",
            "1/1 [==============================] - 1s 744ms/step - loss: 0.7067 - accuracy: 0.9505 - val_loss: 0.8368 - val_accuracy: 0.9994\n",
            "Epoch 3/4\n",
            "1/1 [==============================] - 1s 775ms/step - loss: 0.6042 - accuracy: 0.9881 - val_loss: 0.4882 - val_accuracy: 0.9994\n",
            "Epoch 4/4\n",
            "1/1 [==============================] - 1s 785ms/step - loss: 0.3189 - accuracy: 0.9941 - val_loss: 0.1488 - val_accuracy: 0.9987\n",
            "Image: (5, 256, 256, 1)\n",
            "Label: (5, 256, 256, 8)\n",
            "Epoch 1/4\n",
            "1/1 [==============================] - 1s 825ms/step - loss: 0.0680 - accuracy: 0.9957 - val_loss: 0.0207 - val_accuracy: 0.9988\n",
            "Epoch 2/4\n",
            "1/1 [==============================] - 1s 715ms/step - loss: 0.0159 - accuracy: 0.9972 - val_loss: 0.0043 - val_accuracy: 0.9999\n",
            "Epoch 3/4\n",
            "1/1 [==============================] - 1s 699ms/step - loss: 0.0080 - accuracy: 0.9983 - val_loss: 9.8645e-04 - val_accuracy: 0.9999\n",
            "Epoch 4/4\n",
            "1/1 [==============================] - 1s 718ms/step - loss: 0.0064 - accuracy: 0.9989 - val_loss: 1.6171e-04 - val_accuracy: 1.0000\n"
          ]
        }
      ],
      "source": [
        "trainingHistoryCoronal = TrainingLoop(unetCoronal, x, y)"
      ]
    },
    {
      "cell_type": "code",
      "execution_count": null,
      "metadata": {
        "id": "6LL4lTgtCFBB"
      },
      "outputs": [],
      "source": [
        "plt.plot(trainingHistoryCoronal['loss'])\n",
        "plt.plot(trainingHistoryCoronal['val_loss'])\n",
        "plt.title('Coronal Loss')\n",
        "plt.xlabel('Epoch')\n",
        "plt.ylabel('Loss')\n",
        "plt.legend(['Train', 'Validation'], loc='upper right')\n",
        "plt.show()\n"
      ]
    },
    {
      "cell_type": "code",
      "execution_count": null,
      "metadata": {
        "id": "-f9bUa95CJuD"
      },
      "outputs": [],
      "source": [
        "plt.plot(trainingHistoryCoronal['accuracy'])\n",
        "plt.plot(trainingHistoryCoronal['val_accuracy'])\n",
        "plt.title('Coronal Accuracy')\n",
        "plt.xlabel('Epoch')\n",
        "plt.ylabel('Accuracy')\n",
        "plt.legend(['Train', 'Validation'], loc='lower right')\n",
        "plt.show()\n"
      ]
    },
    {
      "cell_type": "code",
      "execution_count": 33,
      "metadata": {
        "id": "PK1elIJMCxoc"
      },
      "outputs": [],
      "source": [
        "unetCoronal.save('.\\\\trained_model\\\\unetCoronal.h5', save_format='h5')"
      ]
    },
    {
      "cell_type": "code",
      "execution_count": 8,
      "metadata": {},
      "outputs": [],
      "source": [
        "xValidate = np.load(\"./x_axialValidate.npy\")\n",
        "yValidate = np.load(\"./y_axialValidate.npy\")"
      ]
    },
    {
      "cell_type": "code",
      "execution_count": 7,
      "metadata": {
        "id": "Twtz81XbJFyA"
      },
      "outputs": [],
      "source": [
        "unetAxial = CreateAxialUnet(256, 256, 1)"
      ]
    },
    {
      "cell_type": "code",
      "execution_count": 10,
      "metadata": {},
      "outputs": [
        {
          "name": "stdout",
          "output_type": "stream",
          "text": [
            "Epoch 1/20\n",
            "121/121 [==============================] - 703s 6s/step - loss: 0.5066 - accuracy: 0.9030 - val_loss: 0.4091 - val_accuracy: 0.8912\n",
            "Epoch 2/20\n"
          ]
        },
        {
          "ename": "",
          "evalue": "",
          "output_type": "error",
          "traceback": [
            "\u001b[1;31mThe Kernel crashed while executing code in the the current cell or a previous cell. Please review the code in the cell(s) to identify a possible cause of the failure. Click <a href='https://aka.ms/vscodeJupyterKernelCrash'>here</a> for more info. View Jupyter <a href='command:jupyter.viewOutput'>log</a> for further details."
          ]
        }
      ],
      "source": [
        "early_stopping = tf.keras.callbacks.EarlyStopping(\n",
        "monitor='val_accuracy',\n",
        "patience=5,\n",
        "restore_best_weights=True\n",
        ")\n",
        "\n",
        "unetAxial.fit(x, y, validation_data=(xValidate, yValidate), callbacks=[early_stopping], epochs=20)"
      ]
    },
    {
      "cell_type": "code",
      "execution_count": 57,
      "metadata": {
        "colab": {
          "base_uri": "https://localhost:8080/"
        },
        "id": "9FtJK00_H0TM",
        "outputId": "e209f62d-9f18-463b-dc3f-130b47337dee"
      },
      "outputs": [
        {
          "name": "stdout",
          "output_type": "stream",
          "text": [
            "Image: (5, 256, 256, 1)\n",
            "Label: (5, 256, 256, 8)\n",
            "Epoch 1/5\n",
            "1/1 [==============================] - 75s 75s/step - loss: 2.1227 - accuracy: 0.4110 - val_loss: 2.1507 - val_accuracy: 0.1961\n",
            "Epoch 2/5\n",
            "1/1 [==============================] - 56s 56s/step - loss: 2.0939 - accuracy: 0.8146 - val_loss: 2.0796 - val_accuracy: 0.2435\n",
            "Epoch 3/5\n",
            "1/1 [==============================] - 55s 55s/step - loss: 2.0693 - accuracy: 0.8252 - val_loss: 1.9897 - val_accuracy: 0.4342\n",
            "Epoch 4/5\n",
            "1/1 [==============================] - 55s 55s/step - loss: 2.0263 - accuracy: 0.8067 - val_loss: 1.7357 - val_accuracy: 0.4899\n",
            "Epoch 5/5\n",
            "1/1 [==============================] - 54s 54s/step - loss: 1.9064 - accuracy: 0.6856 - val_loss: 1.9512 - val_accuracy: 0.4948\n",
            "Image: (5, 256, 256, 1)\n",
            "Label: (5, 256, 256, 8)\n",
            "Epoch 1/5\n",
            "1/1 [==============================] - 58s 58s/step - loss: 1.9660 - accuracy: 0.5985 - val_loss: 1.4405 - val_accuracy: 0.6748\n",
            "Epoch 2/5\n",
            "1/1 [==============================] - 53s 53s/step - loss: 1.4588 - accuracy: 0.7276 - val_loss: 1.5284 - val_accuracy: 0.8243\n",
            "Epoch 3/5\n",
            "1/1 [==============================] - 54s 54s/step - loss: 1.4863 - accuracy: 0.8481 - val_loss: 1.4964 - val_accuracy: 0.8488\n",
            "Epoch 4/5\n",
            "1/1 [==============================] - 55s 55s/step - loss: 1.4143 - accuracy: 0.9023 - val_loss: 1.3077 - val_accuracy: 0.8875\n",
            "Epoch 5/5\n",
            "1/1 [==============================] - 51s 51s/step - loss: 1.1543 - accuracy: 0.9278 - val_loss: 1.1189 - val_accuracy: 0.8878\n",
            "Image: (5, 256, 256, 1)\n",
            "Label: (5, 256, 256, 8)\n",
            "Epoch 1/5\n",
            "1/1 [==============================] - 57s 57s/step - loss: 0.6375 - accuracy: 0.9471 - val_loss: 2.3483 - val_accuracy: 0.8872\n",
            "Epoch 2/5\n",
            "1/1 [==============================] - 53s 53s/step - loss: 0.2394 - accuracy: 0.9696 - val_loss: 9.6281 - val_accuracy: 0.8876\n",
            "Epoch 3/5\n",
            "1/1 [==============================] - 55s 55s/step - loss: 0.1137 - accuracy: 0.9855 - val_loss: 30.1722 - val_accuracy: 0.8882\n",
            "Epoch 4/5\n",
            "1/1 [==============================] - 54s 54s/step - loss: 0.0854 - accuracy: 0.9930 - val_loss: 67.1170 - val_accuracy: 0.8885\n",
            "Epoch 5/5\n",
            "1/1 [==============================] - 53s 53s/step - loss: 0.0695 - accuracy: 0.9961 - val_loss: 117.3167 - val_accuracy: 0.8892\n"
          ]
        }
      ],
      "source": [
        "trainingHistoryAxial = TrainingLoopWithEvaluate(unetAxial, x, y, xValidate, yValidate)"
      ]
    },
    {
      "cell_type": "code",
      "execution_count": 88,
      "metadata": {
        "colab": {
          "base_uri": "https://localhost:8080/",
          "height": 472
        },
        "id": "zgL90IqYIIbm",
        "outputId": "02a7f6c7-4599-4925-9d9d-1d87d8368378"
      },
      "outputs": [
        {
          "data": {
            "image/png": "[encoded data removed]",
            "text/plain": [
              "<Figure size 640x480 with 1 Axes>"
            ]
          },
          "metadata": {},
          "output_type": "display_data"
        }
      ],
      "source": [
        "plt.plot(trainingHistoryAxial['loss'])\n",
        "plt.plot(trainingHistoryAxial['val_loss'])\n",
        "plt.title('Axial Loss')\n",
        "plt.xlabel('Epoch')\n",
        "plt.ylabel('Loss')\n",
        "plt.legend(['Train', 'Validation'], loc='upper right')\n",
        "plt.show()\n"
      ]
    },
    {
      "cell_type": "code",
      "execution_count": 87,
      "metadata": {
        "colab": {
          "base_uri": "https://localhost:8080/",
          "height": 472
        },
        "id": "XceQEyUoIIri",
        "outputId": "7b5f8170-819b-46a0-e12e-59441da7d044"
      },
      "outputs": [
        {
          "data": {
            "image/png": "[encoded data removed]",
            "text/plain": [
              "<Figure size 640x480 with 1 Axes>"
            ]
          },
          "metadata": {},
          "output_type": "display_data"
        }
      ],
      "source": [
        "plt.plot(trainingHistoryAxial['accuracy'])\n",
        "plt.plot(trainingHistoryAxial['val_accuracy'])\n",
        "plt.title('Axial Accuracy')\n",
        "plt.xlabel('Epoch')\n",
        "plt.ylabel('Accuracy')\n",
        "plt.legend(['Train', 'Validation'], loc='lower right')\n",
        "plt.show()\n"
      ]
    },
    {
      "cell_type": "code",
      "execution_count": 19,
      "metadata": {
        "id": "ugBeIJ7NIfOw"
      },
      "outputs": [
        {
          "name": "stderr",
          "output_type": "stream",
          "text": [
            "e:\\isef-vascular\\VascuIAR\\.venv\\lib\\site-packages\\keras\\src\\engine\\training.py:3079: UserWarning: You are saving your model as an HDF5 file via `model.save()`. This file format is considered legacy. We recommend using instead the native Keras format, e.g. `model.save('my_model.keras')`.\n",
            "  saving_api.save_model(\n"
          ]
        }
      ],
      "source": [
        "unetAxial.save('.\\\\trained_model\\\\unetAxial.h5', save_format='h5')"
      ]
    }
  ],
  "metadata": {
    "colab": {
      "machine_shape": "hm",
      "provenance": []
    },
    "kernelspec": {
      "display_name": "Python 3",
      "name": "python3"
    },
    "language_info": {
      "codemirror_mode": {
        "name": "ipython",
        "version": 3
      },
      "file_extension": ".py",
      "mimetype": "text/x-python",
      "name": "python",
      "nbconvert_exporter": "python",
      "pygments_lexer": "ipython3",
      "version": "3.9.0"
    }
  },
  "nbformat": 4,
  "nbformat_minor": 0
}
