{
 "cells": [
  {
   "cell_type": "code",
   "execution_count": null,
   "metadata": {},
   "outputs": [],
   "source": [
    "from tensorflow.keras.layers import Conv2D, BatchNormalization, Activation, MaxPool2D, UpSampling2D, Concatenate, Input\n",
    "from tensorflow.keras.models import Model"
   ]
  },
  {
   "cell_type": "code",
   "execution_count": null,
   "metadata": {},
   "outputs": [],
   "source": [
    "def batchnorm_relu(inputs):\n",
    "    \"\"\" Batch Normalization & ReLU \"\"\"\n",
    "    x = BatchNormalization()(inputs)\n",
    "    x = Activation(\"relu\")(x)\n",
    "    return x"
   ]
  },
  {
   "cell_type": "code",
   "execution_count": null,
   "metadata": {},
   "outputs": [],
   "source": [
    "def residual_block(inputs, num_filters, strides=1):\n",
    "    \"\"\" Convolutional Layers \"\"\"\n",
    "    x = batchnorm_relu(inputs)\n",
    "    x = Conv2D(num_filters, 3, padding=\"same\", strides=strides)(x)\n",
    "    x = batchnorm_relu(x)\n",
    "    x = Conv2D(num_filters, 3, padding=\"same\", strides=1)(x)\n",
    "\n",
    "    \"\"\" Shortcut Connection (Identity Mapping) \"\"\"\n",
    "    s = Conv2D(num_filters, 1, padding=\"same\", strides=strides)(inputs)\n",
    "\n",
    "    \"\"\" Addition \"\"\"\n",
    "    x = x + s\n",
    "    return x"
   ]
  },
  {
   "cell_type": "code",
   "execution_count": null,
   "metadata": {},
   "outputs": [],
   "source": [
    "def decoder_block(inputs, skip_features, num_filters):\n",
    "    \"\"\" Decoder Block \"\"\"\n",
    "\n",
    "    x = UpSampling2D((2, 2))(inputs)\n",
    "    x = Concatenate()([x, skip_features])\n",
    "    x = residual_block(x, num_filters, strides=1)\n",
    "    return x"
   ]
  },
  {
   "cell_type": "code",
   "execution_count": null,
   "metadata": {},
   "outputs": [],
   "source": [
    "def build_resunet(input_shape, num_classes):\n",
    "    \"\"\" RESUNET Architecture \"\"\"\n",
    "\n",
    "    inputs = Input(input_shape)\n",
    "\n",
    "    \"\"\" Endoder 1 \"\"\"\n",
    "    x = Conv2D(64, 3, padding=\"same\", strides=1)(inputs)\n",
    "    x = batchnorm_relu(x)\n",
    "    x = Conv2D(64, 3, padding=\"same\", strides=1)(x)\n",
    "    s = Conv2D(64, 1, padding=\"same\")(inputs)\n",
    "    s1 = x + s\n",
    "\n",
    "    \"\"\" Encoder 2, 3 \"\"\"\n",
    "    s2 = residual_block(s1, 128, strides=2)\n",
    "    s3 = residual_block(s2, 256, strides=2)\n",
    "\n",
    "    \"\"\" Bridge \"\"\"\n",
    "    b = residual_block(s3, 512, strides=2)\n",
    "\n",
    "    \"\"\" Decoder 1, 2, 3 \"\"\"\n",
    "    x = decoder_block(b, s3, 256)\n",
    "    x = decoder_block(x, s2, 128)\n",
    "    x = decoder_block(x, s1, 64)\n",
    "\n",
    "    \"\"\" Classifier \"\"\"\n",
    "    outputs = Conv2D(num_classes, 1, padding=\"same\", activation=\"softmax\")(x)\n",
    "\n",
    "    \"\"\" Model \"\"\"\n",
    "    model = Model(inputs, outputs, name=\"RESUNET\")\n",
    "\n",
    "    return model"
   ]
  },
  {
   "cell_type": "code",
   "execution_count": null,
   "metadata": {},
   "outputs": [],
   "source": [
    "shape = (600, 600, 512)\n",
    "model = build_resunet(shape, 11)\n",
    "\n",
    "model.summary()"
   ]
  }
 ],
 "metadata": {
  "kernelspec": {
   "display_name": ".venv",
   "language": "python",
   "name": "python3"
  },
  "language_info": {
   "codemirror_mode": {
    "name": "ipython",
    "version": 3
   },
   "file_extension": ".py",
   "mimetype": "text/x-python",
   "name": "python",
   "nbconvert_exporter": "python",
   "pygments_lexer": "ipython3",
   "version": "3.9.0"
  }
 },
 "nbformat": 4,
 "nbformat_minor": 2
}
