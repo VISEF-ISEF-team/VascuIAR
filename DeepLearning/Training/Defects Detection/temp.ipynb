{
 "cells": [
  {
   "cell_type": "code",
   "execution_count": null,
   "metadata": {},
   "outputs": [],
   "source": [
    "import os\n",
    "from supporters import *\n",
    "import SimpleITK as sitk\n",
    "import nibabel as nib\n",
    "import skimage.transform as skTrans"
   ]
  }
 ],
 "metadata": {
  "language_info": {
   "name": "python"
  }
 },
 "nbformat": 4,
 "nbformat_minor": 2
}
