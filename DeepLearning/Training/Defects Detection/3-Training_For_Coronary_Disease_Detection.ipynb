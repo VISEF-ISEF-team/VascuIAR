{
  "cells": [
    {
      "cell_type": "code",
      "execution_count": null,
      "metadata": {
        "colab": {
          "base_uri": "https://localhost:8080/"
        },
        "id": "guzT5LCDysb8",
        "outputId": "c2b3333e-84db-4144-fbee-ab24a6bcd591"
      },
      "outputs": [],
      "source": [
        "from google.colab import drive\n",
        "drive.mount('/content/drive', force_remount=True)"
      ]
    },
    {
      "cell_type": "code",
      "execution_count": null,
      "metadata": {
        "id": "dFla8Rrxyuqa"
      },
      "outputs": [],
      "source": [
        "import numpy as np\n",
        "from PIL import Image, ImageDraw, ImageFont\n",
        "from IPython.display import display, Javascript\n",
        "from IPython.display import Image as IPyImage\n",
        "import os\n",
        "\n",
        "import matplotlib\n",
        "import matplotlib.pyplot as plt\n",
        "\n",
        "import tensorflow as tf\n",
        "import tensorflow\n",
        "\n",
        "import cv2"
      ]
    },
    {
      "cell_type": "code",
      "execution_count": null,
      "metadata": {
        "colab": {
          "base_uri": "https://localhost:8080/"
        },
        "id": "VD2SmwUKydOU",
        "outputId": "44ced417-f723-430c-cdc9-b87c8dc007db"
      },
      "outputs": [],
      "source": [
        "import tensorflow.keras.applications as model_zoo\n",
        "\n",
        "BaseModel = model_zoo.MobileNetV3Small(include_top=False,\n",
        "                                        weights='imagenet',\n",
        "                                        alpha=0.75,\n",
        "                                        pooling=\"avg\")\n",
        "BaseModel.trainable = False # freeze pretrained weights\n",
        "BaseModel.training=False # set to inference mode\n"
      ]
    },
    {
      "cell_type": "code",
      "execution_count": null,
      "metadata": {
        "id": "E6HcBYoGy7IU"
      },
      "outputs": [],
      "source": [
        "rootDirPath = \"/content/drive/MyDrive/CoronaryArtery\"\n",
        "defectPath = os.path.join(rootDirPath, \"Defect\")\n",
        "normalPath = os.path.join(rootDirPath, \"Ordinary\")"
      ]
    },
    {
      "cell_type": "code",
      "execution_count": null,
      "metadata": {
        "colab": {
          "base_uri": "https://localhost:8080/"
        },
        "id": "tZ4V6kaMzUFp",
        "outputId": "2a47e9db-ebc1-4405-f4be-ccf79f5d3de3"
      },
      "outputs": [],
      "source": [
        "image = Image.open(os.path.join(defectPath, \"image_1.jpg\"))\n",
        "imageArray = np.array(image)\n",
        "print(imageArray.shape)"
      ]
    },
    {
      "cell_type": "code",
      "execution_count": null,
      "metadata": {
        "colab": {
          "base_uri": "https://localhost:8080/"
        },
        "id": "GOeLsTLtzzQJ",
        "outputId": "b5f023cb-b0b5-4cf4-879c-15b91c25483a"
      },
      "outputs": [],
      "source": [
        "imageArrayExpand = np.expand_dims(imageArray, axis=0)\n",
        "embedding = BaseModel(imageArrayExpand, training=False)\n",
        "print(embedding.shape)"
      ]
    },
    {
      "cell_type": "code",
      "execution_count": null,
      "metadata": {
        "id": "Nj-bY8ME1WtJ"
      },
      "outputs": [],
      "source": [
        "def CreateBinaryData():\n",
        "  \"\"\"\n",
        "  1: class WITH coronary artery defects\n",
        "  0: class WITH NO coronary artery defect\n",
        "  \"\"\"\n",
        "\n",
        "  y_train = []\n",
        "  x_train = []\n",
        "\n",
        "  for pathTrue, pathFalse in zip(os.listdir(defectPath), os.listdir(normalPath)):\n",
        "\n",
        "    imageTrue = np.array(Image.open(os.path.join(defectPath, pathTrue)))\n",
        "    imageFalse = np.array(Image.open(os.path.join(normalPath, pathFalse)).convert(\"RGB\"))\n",
        "\n",
        "    imageTrue = np.expand_dims(imageTrue, axis=0)\n",
        "    imageFalse = np.expand_dims(imageFalse, axis=0)\n",
        "\n",
        "    imageTrue = BaseModel(imageTrue, training=False)[0]\n",
        "    imageFalse = BaseModel(imageFalse, training=False)[0]\n",
        "\n",
        "    x_train.append(imageTrue)\n",
        "    x_train.append(imageFalse)\n",
        "\n",
        "    y_train.append(1)\n",
        "    y_train.append(0)\n",
        "\n",
        "  x_train = np.array(x_train)\n",
        "  y_train = np.array(y_train)\n",
        "\n",
        "  return x_train, y_train"
      ]
    },
    {
      "cell_type": "code",
      "execution_count": null,
      "metadata": {
        "id": "-yXdW26hVxMw"
      },
      "outputs": [],
      "source": [
        "x_train, y_train = CreateBinaryData()"
      ]
    },
    {
      "cell_type": "code",
      "execution_count": null,
      "metadata": {
        "colab": {
          "base_uri": "https://localhost:8080/"
        },
        "id": "QiwwyDuxa3G3",
        "outputId": "4ebfb88b-896a-4453-8aeb-285a49879b09"
      },
      "outputs": [],
      "source": [
        "print(x_train.shape, y_train.shape)"
      ]
    },
    {
      "cell_type": "markdown",
      "metadata": {
        "id": "UtvdbA2r0lPg"
      },
      "source": [
        "## BINARY CLASSIFICATION\n"
      ]
    },
    {
      "cell_type": "code",
      "execution_count": null,
      "metadata": {
        "id": "1yDyEmcz0opI"
      },
      "outputs": [],
      "source": [
        "BinaryClassificationModel = tf.keras.Sequential()\n",
        "input_layer = tf.keras.layers.Input(shape=(432))\n",
        "output_layer = tf.keras.layers.Dense(1, activation=\"sigmoid\")\n",
        "BinaryClassificationModel.add(input_layer)\n",
        "BinaryClassificationModel.add(output_layer)\n",
        "BinaryClassificationModel.compile(optimizer='adam', loss='binary_crossentropy', metrics=['accuracy'])"
      ]
    },
    {
      "cell_type": "code",
      "execution_count": null,
      "metadata": {
        "colab": {
          "base_uri": "https://localhost:8080/"
        },
        "id": "q8Y6qjSUagXz",
        "outputId": "30badd73-7cc6-49f8-bc0e-d58e208145ed"
      },
      "outputs": [],
      "source": [
        "history = BinaryClassificationModel.fit(x_train, y_train, epochs=10)"
      ]
    },
    {
      "cell_type": "code",
      "execution_count": null,
      "metadata": {
        "colab": {
          "base_uri": "https://localhost:8080/",
          "height": 485
        },
        "id": "ejHTZG5pbhiX",
        "outputId": "387c7bdb-386b-44a9-d4af-b78ce88b01f0"
      },
      "outputs": [],
      "source": [
        "fig, axes = plt.subplots(1, 2, figsize=(10, 5))\n",
        "axes[0].set_title(\"Độ chính xác\")\n",
        "axes[0].plot(history.history[\"accuracy\"])\n",
        "axes[1].set_title(\"Hàm mất mát\")\n",
        "axes[1].plot(history.history[\"loss\"])"
      ]
    },
    {
      "cell_type": "code",
      "execution_count": null,
      "metadata": {
        "colab": {
          "base_uri": "https://localhost:8080/"
        },
        "id": "o6zp8s5ez0Ee",
        "outputId": "e2dad117-ee39-454f-f746-a967b9de4269"
      },
      "outputs": [],
      "source": [
        "BinaryClassificationModel.save('/content/drive/MyDrive/BinaryClassificationModel.h5')"
      ]
    },
    {
      "cell_type": "code",
      "execution_count": null,
      "metadata": {
        "id": "snjQWiC4di1p"
      },
      "outputs": [],
      "source": [
        "InferModel = tf.keras.Sequential()\n",
        "\n",
        "InferModel.add(BaseModel)\n",
        "InferModel.add(BinaryClassificationModel)"
      ]
    },
    {
      "cell_type": "markdown",
      "metadata": {
        "id": "Pjqjfnukbgyc"
      },
      "source": [
        "## BOUNDING BOX REGRESSION"
      ]
    },
    {
      "cell_type": "code",
      "execution_count": null,
      "metadata": {
        "id": "HeaR4LQFdAlA"
      },
      "outputs": [],
      "source": [
        "def CreateDataForBBox():\n",
        "  x_train_bbox = []\n",
        "  y_train_bbox = []\n",
        "\n",
        "  for pathTrue in os.listdir(defectPath):\n",
        "    imageTrue = np.array(Image.open(os.path.join(defectPath, pathTrue)))\n",
        "    imageTrue = np.expand_dims(imageTrue, axis=0)\n",
        "    imageTrue = BaseModel(imageTrue, training=False)[0]\n",
        "\n",
        "    x_train_bbox.append(imageTrue)\n",
        "\n",
        "  # [ymin, xmin, ymax, xmax]\n",
        "  y_load = np.load(\"/content/drive/MyDrive/BBoxCoordinates.npy\")\n",
        "\n",
        "  for i in range(y_load.shape[0]):\n",
        "    for j in range(y_load.shape[1]):\n",
        "      a = np.array(y_load[i][j])\n",
        "      a *= 512\n",
        "      a = np.round(a)\n",
        "      print(a)\n",
        "      y_train_bbox.append(a)\n",
        "\n",
        "  x_train_bbox = np.array(x_train_bbox)\n",
        "  y_train_bbox = np.array(y_train_bbox)\n",
        "\n",
        "  return x_train_bbox, y_train_bbox"
      ]
    },
    {
      "cell_type": "code",
      "execution_count": null,
      "metadata": {
        "colab": {
          "base_uri": "https://localhost:8080/"
        },
        "id": "nw8RkLaPf_73",
        "outputId": "8003725b-f75b-48fd-c955-2da6ef2664b6"
      },
      "outputs": [],
      "source": [
        "x_train_bbox, y_train_bbox = CreateDataForBBox()\n",
        "\n",
        "print(x_train_bbox.shape, y_train_bbox.shape)"
      ]
    },
    {
      "cell_type": "code",
      "execution_count": null,
      "metadata": {
        "colab": {
          "base_uri": "https://localhost:8080/"
        },
        "id": "lyF0LGdkeao5",
        "outputId": "548c756c-9e82-4a45-d15f-d4f1bff96d05"
      },
      "outputs": [],
      "source": [
        "ModelRegression = tf.keras.models.Sequential()\n",
        "input_layer_reg = tf.keras.layers.Input(shape=(432))\n",
        "output_layer_reg = tf.keras.layers.Dense(4, activation=\"linear\")\n",
        "ModelRegression.add(input_layer_reg)\n",
        "ModelRegression.add(output_layer_reg)\n",
        "# compile the model with an optimizer and loss function\n",
        "ModelRegression.compile(optimizer='adam', loss='mae', metrics=['mse'])\n",
        "ModelRegression.summary()"
      ]
    },
    {
      "cell_type": "code",
      "execution_count": null,
      "metadata": {
        "colab": {
          "base_uri": "https://localhost:8080/"
        },
        "id": "i1_ghD2Ohb7C",
        "outputId": "13115fcd-c1c3-470b-cc29-98568f4dccea"
      },
      "outputs": [],
      "source": [
        "historyRegression = ModelRegression.fit(x_train_bbox, y_train_bbox, epochs=300)"
      ]
    },
    {
      "cell_type": "code",
      "execution_count": null,
      "metadata": {
        "colab": {
          "base_uri": "https://localhost:8080/",
          "height": 661
        },
        "id": "OzHWHxjFiVVT",
        "outputId": "96b42fdd-f332-4fc7-f98f-ca61a55365f0"
      },
      "outputs": [],
      "source": [
        "fig, axes = plt.subplots(1, 2, figsize=(10, 5))\n",
        "axes[0].set_title(\"Độ lệch MAE\")\n",
        "axes[0].plot(historyRegression.history[\"mse\"])\n",
        "axes[1].set_title(\"Độ lệch MSE\")\n",
        "axes[1].plot(historyRegression.history[\"mae\"])"
      ]
    },
    {
      "cell_type": "code",
      "execution_count": null,
      "metadata": {
        "id": "KIjhgF2Ji-27"
      },
      "outputs": [],
      "source": [
        "RegressionModel = tf.keras.models.Sequential()\n",
        "RegressionModel.add(BaseModel)\n",
        "RegressionModel.add(ModelRegression)"
      ]
    },
    {
      "cell_type": "code",
      "execution_count": null,
      "metadata": {
        "colab": {
          "base_uri": "https://localhost:8080/"
        },
        "id": "ImPSURpQjRZX",
        "outputId": "95ab7b85-06d4-4816-98f7-7bb4b9266bfb"
      },
      "outputs": [],
      "source": [
        "image = cv2.imread(os.path.join(defectPath, \"image_1.jpg\"))\n",
        "imageArray = np.array(image)\n",
        "imageArrayExpand = np.expand_dims(imageArray, axis=0)\n",
        "predictions = RegressionModel.predict(imageArrayExpand)"
      ]
    },
    {
      "cell_type": "code",
      "execution_count": null,
      "metadata": {
        "colab": {
          "base_uri": "https://localhost:8080/"
        },
        "id": "fPJfuzMOjiac",
        "outputId": "3e03c0b0-6d8e-437b-ca63-b3a482d60822"
      },
      "outputs": [],
      "source": [
        "predictions = np.array(predictions[0])\n",
        "ymin, xmin, ymax, xmax = predictions\n",
        "ymin = round(ymin)\n",
        "xmin = round(xmin)\n",
        "ymax = round(ymax)\n",
        "xmax = round(xmax)\n",
        "\n",
        "print(ymin, xmin, ymax, xmax)"
      ]
    },
    {
      "cell_type": "code",
      "execution_count": null,
      "metadata": {
        "colab": {
          "base_uri": "https://localhost:8080/",
          "height": 529
        },
        "id": "IvWlzQqoj65A",
        "outputId": "b4ae0160-8213-4eac-b922-5a7518103aa9"
      },
      "outputs": [],
      "source": [
        "from google.colab.patches import cv2_imshow\n",
        "cv2.rectangle(image, (xmin, ymin), (xmax, ymax), (0, 255, 0), 2)\n",
        "\n",
        "# Display the image with the bounding box\n",
        "cv2_imshow(image)\n",
        "cv2.waitKey(0)\n",
        "cv2.destroyAllWindows()"
      ]
    },
    {
      "cell_type": "code",
      "execution_count": null,
      "metadata": {
        "colab": {
          "base_uri": "https://localhost:8080/"
        },
        "id": "BpF-JGesxl9M",
        "outputId": "6c99827d-c1d7-4c1a-8797-f8a75db5fef1"
      },
      "outputs": [],
      "source": [
        "ModelRegression.save(\"/content/drive/MyDrive/ModelRegression.h5\")"
      ]
    }
  ],
  "metadata": {
    "colab": {
      "provenance": []
    },
    "kernelspec": {
      "display_name": "Python 3",
      "name": "python3"
    },
    "language_info": {
      "name": "python"
    }
  },
  "nbformat": 4,
  "nbformat_minor": 0
}
