{
 "cells": [
  {
   "cell_type": "code",
   "execution_count": null,
   "metadata": {},
   "outputs": [],
   "source": [
    "import os\n",
    "from supporters import *\n",
    "import SimpleITK as sitk\n",
    "import nibabel as nib\n",
    "import skimage.transform as skTrans\n",
    "\n",
    "\n",
    "img_raw = sitk.ReadImage(\"D:\\Documents\\GitHub\\VascuIAR\\DeepLearning\\data\\VnRawData\\TrainData\\ct_0012_image.nii.gz\", sitk.sitkFloat32)\n",
    "img = sitk.GetArrayFromImage(img_raw)\n",
    "explore_3D_array(img)"
   ]
  },
  {
   "cell_type": "code",
   "execution_count": 9,
   "metadata": {},
   "outputs": [
    {
     "data": {
      "text/plain": [
       "(512, 600, 600)"
      ]
     },
     "execution_count": 9,
     "metadata": {},
     "output_type": "execute_result"
    }
   ],
   "source": [
    "img_raw_2 = sitk.ReadImage(\"D:/Documents/GitHub/VascuIAR/DeepLearning/data/VnRawData/SegmentationData/ct_0008_label_resized/Segmentation_4.nii\", sitk.sitkFloat32)\n",
    "img_2 = sitk.GetArrayFromImage(img_raw_2)\n",
    "img_2.shape"
   ]
  },
  {
   "cell_type": "code",
   "execution_count": 2,
   "metadata": {},
   "outputs": [
    {
     "data": {
      "application/vnd.jupyter.widget-view+json": {
       "model_id": "fe2cbb3083174ef79de0f59eeda1b0fb",
       "version_major": 2,
       "version_minor": 0
      },
      "text/plain": [
       "interactive(children=(IntSlider(value=255, description='SLICE', max=511), Output()), _dom_classes=('widget-int…"
      ]
     },
     "metadata": {},
     "output_type": "display_data"
    }
   ],
   "source": [
    "explore_3D_array(img)"
   ]
  },
  {
   "cell_type": "code",
   "execution_count": 4,
   "metadata": {},
   "outputs": [
    {
     "name": "stdout",
     "output_type": "stream",
     "text": [
      "successfully\n"
     ]
    }
   ],
   "source": [
    "\n",
    "array = img.flatten()\n",
    "unique_values, counts = np.unique(array, return_counts=True)\n",
    "    \n",
    "unique_values, counts\n",
    "\n",
    "\n",
    "label_array = np.copy(img) \n",
    "label_array[np.where(label_array != 1.)] = 0 \n",
    "converted_array = np.array(label_array, dtype=np.float32)\n",
    "converted_array = np.transpose(converted_array, (2, 1, 0))\n",
    "affine = np.eye(4)\n",
    "nifti_file = nib.Nifti1Image(converted_array, affine)\n",
    "nib.save(nifti_file, \"temp.nii.gz\")\n",
    "print(f\"successfully\")"
   ]
  },
  {
   "cell_type": "code",
   "execution_count": 5,
   "metadata": {},
   "outputs": [
    {
     "name": "stdout",
     "output_type": "stream",
     "text": [
      "D:\\Documents\\GitHub\\VascuIAR\\DeepLearning\\data\\VnRawData\\SegmentationData\\ct_0004_label\\ct_0004_label_6.nii.gz successfully\n"
     ]
    }
   ],
   "source": [
    "# Edit segmentation\n",
    "import os\n",
    "from supporters import *\n",
    "import SimpleITK as sitk\n",
    "import nibabel as nib\n",
    "import skimage.transform as skTrans\n",
    "\n",
    "def ResizeImage(image, x_, y_,z_):\n",
    "    return np.array(skTrans.resize(image, (x_, y_, z_), order=1, preserve_range=True, anti_aliasing=False), dtype=\"float16\")\n",
    "\n",
    "path = \"D:\\Documents\\GitHub\\VascuIAR\\DeepLearning\\data\\VnRawData\\SegmentationData\\ct_0004_label\\ct_0004_label_6.nii.gz\"\n",
    "img_raw = sitk.ReadImage(path, sitk.sitkFloat32)\n",
    "img = sitk.GetArrayFromImage(img_raw)\n",
    "\n",
    "array = img.flatten()\n",
    "unique_values, counts = np.unique(array, return_counts=True)\n",
    "    \n",
    "label_array = np.copy(img) \n",
    "label_array[np.where(label_array != 1.)] = 0 \n",
    "\n",
    "converted_array = np.array(label_array, dtype=np.float32)\n",
    "converted_array = np.transpose(converted_array, (2, 1, 0))\n",
    "affine = np.eye(4)\n",
    "nifti_file = nib.Nifti1Image(converted_array, affine)\n",
    "\n",
    "nib.save(nifti_file, path)\n",
    "print(path, \"successfully\")"
   ]
  }
 ],
 "metadata": {
  "kernelspec": {
   "display_name": ".venv",
   "language": "python",
   "name": "python3"
  },
  "language_info": {
   "codemirror_mode": {
    "name": "ipython",
    "version": 3
   },
   "file_extension": ".py",
   "mimetype": "text/x-python",
   "name": "python",
   "nbconvert_exporter": "python",
   "pygments_lexer": "ipython3",
   "version": "3.10.0"
  }
 },
 "nbformat": 4,
 "nbformat_minor": 2
}
