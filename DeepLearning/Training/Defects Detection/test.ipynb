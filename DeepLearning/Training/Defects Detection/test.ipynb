{
 "cells": [
  {
   "cell_type": "code",
   "execution_count": 9,
   "metadata": {},
   "outputs": [],
   "source": [
    "import os\n",
    "from supporters import *\n",
    "import SimpleITK as sitk\n",
    "import nibabel as nib\n",
    "import skimage.transform as skTrans"
   ]
  },
  {
   "cell_type": "code",
   "execution_count": 10,
   "metadata": {},
   "outputs": [],
   "source": [
    "def ResizeImage(image, x_, y_,z_):\n",
    "    return np.array(skTrans.resize(image, (x_, y_, z_), order=1, preserve_range=True, anti_aliasing=False), dtype=\"float16\")"
   ]
  },
  {
   "cell_type": "markdown",
   "metadata": {},
   "source": [
    "Image recovery"
   ]
  },
  {
   "cell_type": "code",
   "execution_count": 15,
   "metadata": {},
   "outputs": [
    {
     "name": "stdout",
     "output_type": "stream",
     "text": [
      "D:\\Documents\\GitHub\\VascuIAR\\DeepLearning\\data\\VnRawData\\SegmentationData\\ct_0052_label_resized\\ct_0052_label_10.nii.gz successfully\n"
     ]
    }
   ],
   "source": [
    "path = \"D:\\Documents\\GitHub\\VascuIAR\\DeepLearning\\data\\VnRawData\\SegmentationData\\ct_0052_label_resized\\ct_0052_label_10.nii.gz\"\n",
    "img_raw = sitk.ReadImage(path, sitk.sitkFloat32)\n",
    "img = sitk.GetArrayFromImage(img_raw)\n",
    "\n",
    "array = img.flatten()\n",
    "unique_values, counts = np.unique(array, return_counts=True)\n",
    "    \n",
    "label_array = np.copy(img) \n",
    "label_array[np.where(label_array != 1.)] = 0 \n",
    "\n",
    "converted_array = np.array(label_array, dtype=np.float32)\n",
    "converted_array = np.transpose(converted_array, (2, 1, 0))\n",
    "affine = np.eye(4)\n",
    "nifti_file = nib.Nifti1Image(converted_array, affine)\n",
    "\n",
    "nib.save(nifti_file, path)\n",
    "print(path, \"successfully\")"
   ]
  },
  {
   "cell_type": "markdown",
   "metadata": {},
   "source": [
    "Temporary Resize"
   ]
  },
  {
   "cell_type": "code",
   "execution_count": 4,
   "metadata": {},
   "outputs": [
    {
     "name": "stdout",
     "output_type": "stream",
     "text": [
      "D:\\Documents\\GitHub\\VascuIAR\\DeepLearning\\data\\VnRawData\\SegmentationData\\ct_0002_label\\ct_0002_label_7.nii.gz successfully\n"
     ]
    }
   ],
   "source": [
    "ct = \"02\"\n",
    "label=7\n",
    "path = f\"D:\\Documents\\GitHub\\VascuIAR\\DeepLearning\\data\\VnRawData\\SegmentationData\\ct_00{ct}_label\\ct_00{ct}_label_{label}.nii.gz\"\n",
    "path2 = f\"D:\\Documents\\GitHub\\VascuIAR\\DeepLearning\\data\\VnRawData\\SegmentationData\\ct_00{ct}_label_resized\\ct_00{ct}_label_{label}.nii.gz\"\n",
    "\n",
    "img_raw = sitk.ReadImage(path, sitk.sitkFloat32)\n",
    "img = sitk.GetArrayFromImage(img_raw)\n",
    "\n",
    "img = ResizeImage(img, 512, 600, 600)\n",
    "label_array = np.copy(img) \n",
    "converted_array = np.array(label_array, dtype=np.float32)\n",
    "converted_array = np.transpose(converted_array, (2, 1, 0))\n",
    "affine = np.eye(4)\n",
    "nifti_file = nib.Nifti1Image(converted_array, affine)\n",
    "nib.save(nifti_file, path2)\n",
    "print(path, \"successfully\")"
   ]
  }
 ],
 "metadata": {
  "kernelspec": {
   "display_name": ".venv",
   "language": "python",
   "name": "python3"
  },
  "language_info": {
   "codemirror_mode": {
    "name": "ipython",
    "version": 3
   },
   "file_extension": ".py",
   "mimetype": "text/x-python",
   "name": "python",
   "nbconvert_exporter": "python",
   "pygments_lexer": "ipython3",
   "version": "3.10.0"
  }
 },
 "nbformat": 4,
 "nbformat_minor": 2
}
