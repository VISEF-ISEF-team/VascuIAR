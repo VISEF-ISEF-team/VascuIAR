{
  "cells": [
    {
      "cell_type": "markdown",
      "metadata": {
        "id": "t83CVRrJO8xZ"
      },
      "source": [
        "# Thuật Toán Tính Toán Thể Tích Tim Nguyên Khối 3D Bằng Hàm Đa Biến Và Cấu Trúc Dữ Liệu Cây Chỉ Số Nhị Phân\n",
        "\n",
        "Tác giả: Nguyễn Lê Quốc Bảo và Lê Tuấn Hy\n",
        "\n",
        "Chú ý: Đây là một phần của đề tài **\"Phần mềm tích hợp học sâu để phân vùng và tái tạo cấu trúc tim nguyên khối trong không gian 3D mô phỏng cho ứng dụng thực hành y khoa\"**\n"
      ]
    },
    {
      "cell_type": "markdown",
      "metadata": {
        "id": "k-13kS5wSdCh"
      },
      "source": [
        "## Tính cần thiết của nghiên cứu\n",
        "\n",
        "Hiện nay, trong lĩnh vực ứng dụng y học, việc tái tạo hình ảnh cắt lớp thành các mô hình 3D đang trở thành xu hướng quan trọng. Sự tiến bộ này đòi hỏi sự hỗ trợ từ các tác vụ hậu xử lý để đảm bảo việc đo lường và phân tích các phần 3D này được thực hiện một cách chính xác và hiệu quả. Đặc biệt, trong việc đo lường các phần của hệ tim mạch, như đường kính, diện tích và thể tích của các cấu trúc cụ thể như ống động mạch chủ, có thể giúp xác định sự phì đại hoặc hẹp (biểu hiện của sự không bình thường) có thể gây nguy hiểm đến tính mạng của bệnh nhân. Điều này làm cho việc phân tích và chuẩn bị trước cho các ca phẫu thuật trở nên thuận lợi hơn đối với các chuyên gia y tế. Mặc dù việc đo lường thể tích là một phần quan trọng, nhưng việc đo lường thể tích của mô hình tim 3D vẫn đang gặp phải thách thức lớn mà vẫn chưa có giải pháp đáng tin cậy. Các phần mềm hiện tại có khả năng tái tạo hình ảnh cắt lớp y học thành các mô hình 3D, nhưng vẫn chưa có khả năng thực hiện việc đo lường thể tích này."
      ]
    },
    {
      "cell_type": "markdown",
      "metadata": {
        "id": "8KiuiZ4pP3CH"
      },
      "source": [
        "## Ý Tưởng Tính Thể Tích Với Tích Phân\n",
        "\n",
        "<center>\n",
        "<img src=\"https://i.ibb.co/BTmbbWp/32.png\" alt=\"Image\">\n",
        "<em>Hình 1: Mô tả ý tưởng tính thể cung động mạch chủ bằng tích phân của hàm số diện tích</em>\n",
        "</center>\n",
        "\n",
        "Ví dụ ta có thể xác định ống động mạch trên có mắc bệnh phì đại hay không bằng cách so sánh thể tích của ống so với thông số tiêu chuẩn.\n",
        "\n",
        "Ta cắt động mạch chủ với 2 mặt phẳng $(P), (Q)$ bằng phương pháp. Giới hạn $a, b$ trên trục $Ox$ của một vật thể là $(x=a, x=b, a < b)$. Một mặt phẳng tùy ý vuông góc với trục $Ox$ tại điểm $x$ và $(a \\leq x \\leq b)$ cắt vật thể theo thiết diện có diện tích là $S(x)$ và phương trình $S(x)$ liên tục trên đoạn $[a;b]$. Vậy thể tích của bộ phận tim trên được tính bởi công thức tích phân sau:\n",
        "$$\n",
        "V = \\int_{a}^{b} S(x)dx\n",
        "$$\n",
        "\n",
        "Các hình hộp có hình dạng cố định thì $S(x)$ cố định khi $x$ thay đổi. Tuy nhiên $S(x)$ trong trường hợp trên lại không cố định. Với bộ ảnh cắt lớp nếu ta có $n$ lắt cắt thì với mỗi lắt thứ i thì ta có $S_i$ là diện tích của bộ phận đó. Điều này tương đương với việc ta có một phương trình $S(i)$ với $i$ là biến số. Việc xắp xỉ một hàm số $S(x)$ không phải là điều dễ dàng. Ta có thể dùng phương pháp nội suy Lagrange. Tuy nhiên điều này thực sự mang rất nhiều hạn chế. Thứ nhất việc làm trên chỉ đúng nếu ta chia bộ phận thành $n$ lát cắt và $n \\rightarrow +\\infty$ thì mới đảm bảo tính chính xác. Điều này thực sự bất khả thi trong thực tế vì số lát cắt $n$ thường không đủ nhiều $(300 \\rightarrow 512)$ và có giới hạn. Thứ hai, việc xấp xỉ một hàm số cũng là một nhiệm vụ phức tạp khiến cho thuật toán này chạy lâu. Như vậy cách tiếp cận bài toán với phương pháp trên là không tốt. Tuy nhiên, ứng dụng của giải tích và tích phân có rất nhiều tiềm năng trong việc đo thể tích vật thể, cụ thể với tích phân kép và tích phân bội."
      ]
    },
    {
      "cell_type": "markdown",
      "metadata": {
        "id": "oYJLTqXOQP2r"
      },
      "source": [
        "## Giải Tích Cho Hàm Đa Biến\n",
        "\n",
        "Giải tích cho hàm đa biến tập trung giải quyết những bài toán của phương trình $z = f(x,y)$ trong không gian 3D. Đặc biệt bộ môn toán này có nhiều áp dụng thực tế. Điều này mở ra tiềm năng mới cho ứng dụng vào đề tài liên quan trực tiếp đên không gian 3 chiều của chúng tôi."
      ]
    },
    {
      "cell_type": "markdown",
      "metadata": {
        "id": "0KDRT53WQXXU"
      },
      "source": [
        "### Tích Phân Đường\n",
        "\n",
        "Tích phân đường cho phép ta tính diện tích mặt phẳng từ một đường bất kỳ có phương trình theo $x(t)$ và $y(t)$.\n",
        "\n",
        "**Ví dụ 1** \\\\\n",
        "Ví dụ minh họa ta có một đường thẳng được định nghĩa bằng miền D bên dưới:\n",
        "$$\n",
        "D =\n",
        "\\begin{cases}\n",
        "x = cos(t) \\\\\n",
        "y = sin(t) \\\\\n",
        "0 \\leq t \\leq 90 \\\\\n",
        "\\end{cases}\n",
        "$$\n",
        "\n",
        "Dễ dàng nhận thấy đoạn thẳng này chỉ nằm trong vùng giới hạn: $0 \\leq x,y \\leq 1$"
      ]
    },
    {
      "cell_type": "code",
      "execution_count": null,
      "metadata": {
        "id": "pV2QfWebXYDz"
      },
      "outputs": [],
      "source": [
        "# Import thư viện cần thiết\n",
        "import numpy as np\n",
        "import plotly.express as px\n",
        "import plotly.graph_objects as go\n",
        "import scipy.integrate as spi\n",
        "from numpy.typing import NDArray\n",
        "import matplotlib.pyplot as plt\n",
        "from ipywidgets import interact"
      ]
    },
    {
      "cell_type": "code",
      "execution_count": null,
      "metadata": {
        "id": "UDl16DGBYEcU"
      },
      "outputs": [],
      "source": [
        "# Khởi tạo các điểm (x,y) theo hàm số x(t), y(t) khi t thay đổi\n",
        "x = []\n",
        "y = []\n",
        "for t in range(0,90,1):\n",
        "  x.append(np.cos(np.deg2rad(t)))\n",
        "  y.append(np.sin(np.deg2rad(t)))\n",
        "\n",
        "fig = px.scatter(x=x, y=y)\n",
        "fig.show()"
      ]
    },
    {
      "cell_type": "markdown",
      "metadata": {
        "id": "c1UQA5W8Zy78"
      },
      "source": [
        "Ví dụ ta có một bề mặt có phương trình: $z = f(x,y) = x \\times y$. Nhiệm vụ của ta sẽ tính diện tích của mặt phẳng chạy từ đường bên trên đến khi chạm vào bề mặt này."
      ]
    },
    {
      "cell_type": "code",
      "execution_count": null,
      "metadata": {
        "id": "q4_ueK6KZ_Gw"
      },
      "outputs": [],
      "source": [
        "# Vẽ bề mặt z=f(x,y)\n",
        "X,Y = np.meshgrid(x,y)\n",
        "z = X*Y\n",
        "fig = go.Figure(data=[go.Surface(x=x,y=y,z=z)])\n",
        "fig.update_layout(\n",
        "    title = \"z = f(x,y) = xy\",\n",
        "    scene=dict(xaxis_title='x', yaxis_title='Y', zaxis_title='Z')\n",
        "    )\n",
        "fig.show()"
      ]
    },
    {
      "cell_type": "markdown",
      "metadata": {
        "id": "x65uucXGeOWB"
      },
      "source": [
        "Giải bài toán của tích phân đường trên như sau:\n",
        "$$\n",
        "\\begin{cases}\n",
        "\\int_{t=0}^{t=\\pi/2} f(x,y) ds = \\int_{t=0}^{t=\\pi/2} cos(t) sin(t) \\sqrt{(\\frac{dx}{dt})^2 + (\\frac{dy}{dt})^2} dt \\\\\n",
        "\\frac{dx}{dt} = -sin(t) \\\\ \\frac{dy}{dt} = cos(t)\n",
        "\\end{cases} \\\\\n",
        "→ \\int_{t=0}^{t=\\pi/2} cos(t) sin(t) \\sqrt{cos^2(t) + sin^2(t)} dt \\\\\n",
        "= \\int_{t=0}^{t=\\pi/2} cos(t) sin(t) dt \\\\\n",
        "→ \\int_{u=0}^{u=1} u du = \\frac{u^2}{2} | 0 → 1 = \\frac{1}{2}\n",
        "$$\n",
        "\n",
        "Chúng ta sẽ xác thực lại bằng code:"
      ]
    },
    {
      "cell_type": "code",
      "execution_count": null,
      "metadata": {
        "id": "3jhEVfApeeap"
      },
      "outputs": [],
      "source": [
        "# Hàm số x theo t\n",
        "def x(t):\n",
        "  return np.cos(t)\n",
        "\n",
        "# Hàm số y theo t\n",
        "def y(t):\n",
        "  return np.sin(t)\n",
        "\n",
        "def f(t):\n",
        "  return x(t) * y(t)\n",
        "\n",
        "# Xắp xỉ đạo hàm của hàm số x theo t (trong trường hợp ta không biết hàm số đạo hàm)\n",
        "def dx_dt(t, dt=1e-6):\n",
        "    return (x(t + dt) - x(t)) / dt\n",
        "\n",
        "# Xắp xỉ đạo hàm của hàm số y theo t (trong trường hợp ta không biết hàm số đạo hàm)\n",
        "def dy_dt(t, dt=1e-6):\n",
        "    return (y(t + dt) - y(t)) / dt\n",
        "\n",
        "# Công thức tích phân đường\n",
        "def integral_f(t):\n",
        "  return f(t) * (dx_dt(t)**2 + dy_dt(t)**2)**(1/2)\n",
        "\n",
        "integral, error = spi.quad(integral_f, 0, np.pi/2)\n",
        "integral"
      ]
    },
    {
      "cell_type": "markdown",
      "metadata": {
        "id": "F0iOmbThfPip"
      },
      "source": [
        "**Ví dụ 2**\n",
        "\n",
        "$$\n",
        "\\begin{cases}\n",
        "x = 2cos(t) \\\\\n",
        "y = 2sin(t) \\\\\n",
        "0 \\leq t \\leq \\frac{\\pi}{2} \\\\\n",
        "f(x,y) = x + y^2\n",
        "\\end{cases}\n",
        "$$\n",
        "\n",
        "Giải tay bài toán trên\n",
        "$$\n",
        "∫_{t=0}^{t=\\pi/2} f(x,y)ds \\\\\n",
        "= ∫_{t=0}^{t=\\pi/2} = (2cos(t) + 4sin^2(t)) \\sqrt{4sin^2(t) + 4cos^2(t)} \\\\\n",
        "= ∫_{t=0}^{t=\\pi/2} = (2cos(t) + 4sin^2(t))*2 \\\\\n",
        "= ∫_{t=0}^{t=\\pi/2} = 4cos(t) - 4cos(2t) + 4 \\\\\n",
        "= 4sin(t) - 2sin(2t) + 4t | 0 → \\pi/2 \\\\\n",
        "= 4 + 2\\pi ≈ 10.28318531\n",
        "$$"
      ]
    },
    {
      "cell_type": "code",
      "execution_count": null,
      "metadata": {
        "id": "cUYIPBfgfsj4"
      },
      "outputs": [],
      "source": [
        "def x(t):\n",
        "  return 2*np.cos(t)\n",
        "\n",
        "def y(t):\n",
        "  return 2*np.sin(t)\n",
        "\n",
        "def f(t):\n",
        "  return x(t) + y(t)**2\n",
        "\n",
        "def integral_f(t):\n",
        "  return f(t) * (dx_dt(t)**2 + dy_dt(t)**2)**(1/2)\n",
        "\n",
        "integral, error = spi.quad(integral_f, 0, np.pi/2)\n",
        "integral"
      ]
    },
    {
      "cell_type": "markdown",
      "metadata": {
        "id": "vqrgf3vYgRI-"
      },
      "source": [
        "### Brute Force\n",
        "Tuy nhiên áp dụng thực tế, ta sẽ không thể đi tìm các hàm số $x=x(t)$, $y=y(t)$, $z=f(x,y)$. Thay vào đó ta sẽ thực hiện theo đúng tư tưởng \"chia để trị\" của tích phân là chia nhỏ thành các khoảng và cộng gộp lại. Ví dụ trong không gian ta có một tập gồm $n$ điểm $(x,y,z) \\in D$.  \n",
        "\n",
        "$$ D=\n",
        "\\begin{cases}\n",
        "x = (x_1, ... , x_i, ..., x_n) \\\\\n",
        "y = (y_1, ... , y_i, ..., y_n) \\\\\n",
        "z = (z_1, ... , z_i, ... z_n) \\\\\n",
        "n → +∞ \\\\\n",
        "\\end{cases}\n",
        "$$\n",
        "\n",
        "Điểm thứ $i$ sẽ có tọa độ trong không gian 3D là $(x_i, y_i, z_i)$. Đây là điều duy nhất ta có thể biết được trong phần mềm. Nếu ta có phương trình tính tích phần đường là:\n",
        "$$\n",
        "∫_{0}^{\\pi/2}f(x,y)dt \\space (1) \\\\\n",
        "$$\n",
        "\n",
        "Và lượng thay đổi nhỏ $dt$ đó chính là cạnh huyền của tam giác có hai cạnh góc vuông nằm trên $Ox$ và $Oy$ hay độ dài hai cạnh góc vuông là đạo hàm của $x$ theo $t$ và đạo hàm $y$ theo $t$:\n",
        "\n",
        "$$\n",
        "dt = \\sqrt{(x't)^2 + y'(t)^2} \\\\\n",
        "dt_i = \\sqrt{(x_{i+1} - x_i)^2 + (y_{i+1} - y_i)^2} \\space | \\space i \\in n \\space (2)\\\\\n",
        "$$\n",
        "\n",
        "Từ (1) và (2) ta có:\n",
        "$$\n",
        "S_{0 → \\pi/2}^f =  \\lim_{n → +∞} Σ_{i=0}^{n} f(x_i, y_i) dt_i \\\\\n",
        "S_{0 → \\pi/2}^f =  \\lim_{n → +∞} Σ_{i=0}^{n} z_i \\sqrt{(x_{i+1} - x_i)^2 + (y_{i+1} - y_i)^2}\n",
        "$$"
      ]
    },
    {
      "cell_type": "code",
      "execution_count": null,
      "metadata": {
        "id": "0nnKlBx5jHJb"
      },
      "outputs": [],
      "source": [
        "# Bài toán 1\n",
        "# Khởi tạo giá trị tọa độ các điểm vào các mảng x,y,z\n",
        "x = []\n",
        "y = []\n",
        "for t in range(0,90*10,1):\n",
        "  rad = np.deg2rad(t/10)\n",
        "  x.append(np.cos(rad))\n",
        "  y.append(np.sin(rad))\n",
        "\n",
        "z = [x[i] * y[i] for i in range(len(x))]\n",
        "n = len(x)\n",
        "print('n -> +inf: ', n)\n",
        "\n",
        "# Tính diện tích bằng công thức trên\n",
        "Sum = 0\n",
        "for i in range(0, n-1, 1):\n",
        "  Sum += z[i] * (((x[i+1] - x[i])**2 + (y[i+1] - y[i])**2)**(1/2))\n",
        "\n",
        "print(Sum)"
      ]
    },
    {
      "cell_type": "code",
      "execution_count": null,
      "metadata": {
        "id": "WhRhKVKNjc-G"
      },
      "outputs": [],
      "source": [
        "# Bài toán 2\n",
        "# Khởi tạo giá trị tọa độ các điểm vào các mảng x,y,z\n",
        "x = []\n",
        "y = []\n",
        "for t in range(0,90*60,1):\n",
        "  rad = np.deg2rad(t/60)\n",
        "  x.append(2*np.cos(rad))\n",
        "  y.append(2*np.sin(rad))\n",
        "\n",
        "z = [x[i] + y[i]**2 for i in range(len(x))]\n",
        "n = len(x)\n",
        "print('n -> +inf: ', n)\n",
        "\n",
        "# Tính diện tích bằng công thức trên\n",
        "Sum = 0\n",
        "for i in range(0, n-1, 1):\n",
        "  Sum += z[i] * (((x[i+1] - x[i])**2 + (y[i+1] - y[i])**2)**(1/2))\n",
        "\n",
        "print(Sum)"
      ]
    },
    {
      "cell_type": "markdown",
      "metadata": {
        "id": "p8dhnzHkjlc8"
      },
      "source": [
        "Việc chứng minh công thức tích phân đường bằng hai công thức và kiểm chứng bằng lập trình giúp tạo nền tảng cho việc vận dụng các tích phân kép và bội phía sau trở nên dễ dàng."
      ]
    },
    {
      "cell_type": "markdown",
      "metadata": {
        "id": "D1P0uQOMQaGX"
      },
      "source": [
        "### Tích Phân Kép\n",
        "\n",
        "\n",
        "<center>\n",
        "<img src=\"https://i.ibb.co/gTbgRVB/33.png\">\n",
        "<em>Hình 2: Ý tưởng bài toán tích phân kép để tính thể tích phía dưới một mặt cong</em>\n",
        "</center>\n",
        "\n",
        "Bài toán tích phân đơn (hình bên trái): tích diện tích bên dưới một đồ thị $f(x)$ cong $S = ∫_{a}^{b}f(x)dx$ với $dx$ tượng trưng khoảng cách giữa $x_{i+1}$ và $x_i$ là rất nhỏ hay $dx → 0$. Với bài toán tích phân kép, nếu ta nhìn kỹ thì đây cũng chỉ là tổng hợp nhiều bài toán tích phân đơn lại với nhau. Đầu tiên ta chia mặt cong $z=f(x,y)$ thành các mặt $S_j, \\space S_{j+1} ,⋯,  \\space S_{M}$ tương ứng với từng  $y_j, \\space y_{j+1} ,⋯,  \\space y_{M}$ thì mỗi mặt $S_j$ với $y_j$ cố định là một bài toán tích phân đơn. Sau cùng ta sẽ cộng gộp các mặt $S_j$ lại để tính thể tích $V$, đây chính là tích phân của $S$. Vì vậy ta có công thức:\n",
        "\n",
        "$$\n",
        "D = \\begin{cases} a \\leq x \\leq b \\\\ c \\leq y \\leq d \\end{cases} \\\\\n",
        "S = ∫_{a}^{b} f(x,y)dx \\\\\n",
        "V =  ∫_{c}^{d} \\begin{pmatrix} ∫_{a}^{b} f(x,y)dx \\end{pmatrix} dy = ∫_{c}^{d} dy ∫_{a}^{b} f(x,y)dx \\space\n",
        "$$\n",
        "\n",
        "Điều kiện để làm tích phân kép ở trên là biết được phương trình $z=f(x,y)$. Tuy nhiên trong thực tế ta chỉ biết $(x_i, y_i, z_i) | i → n$. Nên ta sử dụng công thức xắp xỉ bằng brute force như sau:\n",
        "$$\n",
        "\\begin{cases}\n",
        "Δx_i = x_{i+1}-x_i \\\\\n",
        "Δy_i = y_{i+1}-y_i\n",
        "\\end{cases}\n",
        "\\\\\n",
        "$$\n",
        "\n",
        "$$\n",
        "S_j = \\lim_{Δx_i → 0} Σ_{i=a}^{i=b} z_{ji} Δx_i \\\\\n",
        "V =  \\lim_{Δy_j → 0} Σ_{j=c}^{j=d}  S_j Δy_j \\\\\n",
        "→ V = \\lim_{Δx_i → 0 \\\\ Δy_j → 0} Σ_{j=c}^{j=d} (Σ_{i=a}^{i=b} z_{ji} Δx_i)  Δy_j \\space\n",
        "$$"
      ]
    },
    {
      "cell_type": "markdown",
      "metadata": {
        "id": "xQ9qcRk8qedG"
      },
      "source": [
        "**Ví dụ 1:** \\\\\n",
        "Cho hàm số $f(x,y) = x * y^2$. Tính thể tích phần bên dưới mặt cong này. Giải tay bằng tích phân (dùng công thức (1)) ta có:\n",
        "$$\n",
        "V = ∫_{0}^{1}dy ∫_{0}^{2} f(x * y^2) dx \\\\\n",
        "= ∫_{0}^{1}  ( \\frac{x^2}{2} y^2 | 0 → 2 )  dy \\\\\n",
        "= ∫_{0}^{1}  2y^2  dy \\\\\n",
        "= 2\\frac{y^3}{3} | 0 → 1 = \\frac{2}{3} \\approx 0.6667\n",
        "$$"
      ]
    },
    {
      "cell_type": "code",
      "execution_count": null,
      "metadata": {
        "id": "AYPIaFF4q6ZG"
      },
      "outputs": [],
      "source": [
        "# Hám vẽ đồ thị 3D\n",
        "def ShowGraph(f,x,y):\n",
        "  x,y = np.meshgrid(x,y)\n",
        "  z = f(x,y)\n",
        "  fig = go.Figure(data=[go.Surface(x=x,y=y,z=z)])\n",
        "\n",
        "  fig.update_layout(\n",
        "        title=\"z = f(x,y)\",\n",
        "        scene=dict(xaxis_title='x', yaxis_title='Y', zaxis_title='Z',\n",
        "                   zaxis=dict(range=[np.min(z), np.max(z)]))\n",
        "    )\n",
        "  fig.show()"
      ]
    },
    {
      "cell_type": "code",
      "execution_count": null,
      "metadata": {
        "id": "PzHJQnoiqwmK"
      },
      "outputs": [],
      "source": [
        "# Vẽ mặt cong\n",
        "x = [i/10 for i in range(0,2*10,1)]\n",
        "y = [i/10 for i in range(0,1*10,1)]\n",
        "\n",
        "def f(x,y):\n",
        "  return x * (y**2)\n",
        "\n",
        "ShowGraph(f,x,y)"
      ]
    },
    {
      "cell_type": "markdown",
      "metadata": {
        "id": "qZBOdtbxrTI-"
      },
      "source": [
        "Giải bằng công thức (2)"
      ]
    },
    {
      "cell_type": "code",
      "execution_count": null,
      "metadata": {
        "id": "Av-gWhWbrCOv"
      },
      "outputs": [],
      "source": [
        "x = np.arange(0, 2, 0.0005)\n",
        "y = np.arange(0, 1, 0.0005)\n",
        "X, Y = np.meshgrid(x, y)\n",
        "z = X * (Y**2)\n",
        "\n",
        "# O(N*M)\n",
        "V = 0\n",
        "for j in range(len(y)-1):\n",
        "    S = 0\n",
        "    for i in range(len(x)-1):\n",
        "        S += z[j][i] * (x[i+1] - x[i])\n",
        "    V += S * (y[j+1] - y[j])\n",
        "\n",
        "print(V)"
      ]
    },
    {
      "cell_type": "markdown",
      "metadata": {
        "id": "gzjVYHUsrZDP"
      },
      "source": [
        "Độ phức tạp là $O(N*M)$ với $N$ là số lượng điểm $x_i$ và $M$ là số lượng điểm $y_i$. Ta thấy thời gian chạy thuật toán khá lâu (chỉ với bài toán đơn giản). Nhưng ta có thể tối ưu hóa bằng việc tận dụng phép tính toán của vector và ma trận như sau:\n"
      ]
    },
    {
      "cell_type": "code",
      "execution_count": null,
      "metadata": {
        "id": "YrXM1q4Urykf"
      },
      "outputs": [],
      "source": [
        "V = np.sum(np.sum(z[:-1, :-1] * np.diff(y)[:, np.newaxis], axis=0) * np.diff(x))\n",
        "print(V)"
      ]
    },
    {
      "cell_type": "markdown",
      "metadata": {
        "id": "DG8nTqwyoNvd"
      },
      "source": [
        "<center>\n",
        "\n",
        "<img src=\"https://i.ibb.co/JqQ9G7Q/35.png\" alt=\"35\" border=\"0\">\n",
        "<em>Hình 3: Tính toán thể tích một phần cung động mạch chủ với tích phần kép</em></center>\n",
        "\n",
        "**Áp dụng thực tế** \\\\\n",
        "Khi muốn tính thể tích một bộ phận (ví dụ động mạch chủ - aorta) ta chia cái ống này ra hai phần là nửa trên $(o_1)$\n",
        "và nửa dưới $(o_2)$ $→$ miền $D$ là như nhau. Thể tích phần bên trong sẽ là $V_{o_1} - V_{o_2}$:\n",
        "\n",
        "$$\n",
        "V_o = V_{o_1} - V_{o_2} \\\\\n",
        "\\rightarrow V_o = \\lim_{Δx_i → 0 \\\\ Δy_j → 0} (Σ_{j=c}^{j=d} (Σ_{i=a}^{i=b} z^{o_1}_{ij} Δx_i)  Δy_j) -  Σ_{j=c}^{j=d} (Σ_{i=a}^{i=b} z^{o_2}_{ij} Δx_i)  Δy_j) \\\\\n",
        "\\rightarrow V_o = \\lim_{Δx_i → 0 \\\\ Δy_j → 0} Σ_{j=c}^{j=d} (Σ_{i=a}^{i=b} (z^{o1}_{ij} - z^{o_2}_{ij}) Δx_i)  Δy_j\n",
        "$$"
      ]
    },
    {
      "cell_type": "markdown",
      "metadata": {
        "id": "L8TdCcR4QdFL"
      },
      "source": [
        "### Tích Phân Bội Ba\n",
        "\n",
        "<img src=\"https://i.ibb.co/nQ6V1Hh/34.png\">\n",
        "\n",
        "Ý tưởng của tích phân bội ba xuất pểhát từ việc chia khối vật thể $O$ thành $n$ khối hình hộp chữ nhật hay hình lập phương rất nhỏ  với chiều dài, chiều rộng, chiều cao lần lượt là $dx, dy, dz$. Việc tính xấp xỉ thể tích của vật thể ban đầu đơn giản bằng cách lấy tổng thể tích các $O_i$ với $1 \\leq i \\leq n$ và $n → \\infty$. Dựa vào hình và ý tưởng ta có công thức tích phân bội 3:\n",
        "\n",
        "$$\n",
        "D =\n",
        "\\begin{cases}\n",
        " a \\leq x \\leq b \\\\\n",
        " c \\leq y \\leq d \\\\\n",
        " e \\leq z \\leq f \\\\\n",
        "\\end{cases}\n",
        "$$\n",
        ".\n",
        "$$\n",
        "V = \\iiint_D dz \\space dy \\space dx =  ∫_{a}^{b} ∫_{c}^{d} ∫_{e}^{f} dz \\space\n",
        " dy \\space  dx\n",
        "$$\n",
        "\n",
        "Hay trong lập trình ta sử dụng công thức brute force sau:\n",
        "$$\n",
        "D =\n",
        "\\begin{cases}\n",
        " 1 \\leq x \\leq n \\\\\n",
        " 1 \\leq y \\leq m \\\\\n",
        " 1 \\leq z \\leq p \\\\\n",
        "\\end{cases}\n",
        "$$\n",
        ".\n",
        "$$\n",
        "V = \\lim_{n → + \\infty} \\Sigma_{i=1}^{n} Δz_i Δy_i Δx_i\n",
        "$$"
      ]
    },
    {
      "cell_type": "markdown",
      "metadata": {
        "id": "V3OxzxJAQ0CQ"
      },
      "source": [
        "## Cây Chỉ Số Nhị Phân\n",
        "\n",
        "Fenwick Tree là một cấu trúc dữ liệu được sử dụng khá phổ biến trong lập trình thi đấu, được giới thiệu trong nghiên cứu \"A new data structure for cumulative freqency tables\" (Peter M.Fenwick, 1994). Fenwick Tree có các đặc diểm sau: Truy vấn kết quả bài toán con $[L,R]$ với độ phức tạp $o(logN)$, cập nhật giá trị cho 1 (hoặc 1 đoạn) với độ phức tạp $O(logN)$, bộ nhớ thấp $O(N)$ và tốc độ xử lý nhanh (nhờ sử dụng phép xử lý bit)."
      ]
    },
    {
      "cell_type": "markdown",
      "metadata": {
        "id": "mC695vouQ--N"
      },
      "source": [
        "### Nguyên Lý Hoạt Động\n",
        "\n",
        "<img src=\"https://i.ibb.co/c8Dkh1q/36.png\">\n",
        "\n",
        "Trong Fenwick Tree, phần tử $i$ tronng cây lưu kết quả $F[i]$ của bài bài toán con chứa $2^k$ phần tử bắt đầu/kết thúc tại vị trí $i$ với $k$ là bit 1 thấp nhất trong biểu diễn nhị phân của $i$. Thông thường ta sử dụng cây Fenwick tiền tố.\n",
        "\n",
        "Nhìn vào biểu diễn cây bên trên, ta dễ dàng thấy được các node có số thự tự lẻ thì chỉ quản lý một mình node đó, còn các node có thứ tự $id$ sễ có cha với thứ tự là $id + 2^k$. Việc tìm ra số $2^k$ được thực hiện đơn giản bằng cách thực hiện phép xử lý bit sau $2^k = -id \\space \\& \\space id$.\n",
        "\n",
        "Cây Fenwick hay cây BIT cho phép chúng ta thực hiện: cập nhật một phần từ, truy vấn đoạn, cập nhật một đoạn, truy vấn một phần tử. Thao tác truy vấn trên đoạn giống như việc ta loại bỏ hai bên (hay chính là việc cắt bỏ) nhưng không làm mất đi thông tin của hai phần bị cắt bỏ để hỗ trợ chức năng hoàn tác. Truy ván tổng đoạn con từ $(u,v)$ như sau với độ phức tạp $O(logN)$:\n",
        "\n",
        "$$\n",
        "\\text{sumRange}(u,v) = \\text{sumRange}(1,v) - \\text{sumRange}(1,u-1) \\\\\n",
        "= \\text{getSum}(v) - \\text{getsum}(u-1)\n",
        "$$\n",
        "\n"
      ]
    },
    {
      "cell_type": "code",
      "execution_count": null,
      "metadata": {
        "id": "6egF_0vR-CUw"
      },
      "outputs": [],
      "source": [
        "a = [1, 3, 10, -9, 5, -4, 7, 20, 14, 8, 9, 7, 12, -5, 7, 2]\n",
        "n = len(a)\n",
        "f = [0] * (n + 1)\n",
        "\n",
        "# 1. Cập nhật 1 phần tử --> O(logN)\n",
        "def update(id, val):\n",
        "    while(id <= n):\n",
        "        f[id] += val\n",
        "        id += -id & id\n",
        "\n",
        "# 2. Truy vấn tổng từ đầu đến 1 phần tử --> O(logN)\n",
        "def getSum(id):\n",
        "    s = 0\n",
        "    while(id > 0):\n",
        "        s += f[id]\n",
        "        id -= -id & id\n",
        "    return s\n",
        "\n",
        "# 3. Truy vấn tổng trên đoạn con --> O(2*logN)\n",
        "def queryRange(u, v):\n",
        "  return getSum(v) - getSum(u - 1)\n",
        "\n",
        "# 4. Cập nhật đoạn (u,v) thay đổi một lượng x --> O(2*logN)\n",
        "def updateRange(u, v, x):\n",
        "    update(u, x);\n",
        "    update(v + 1, -x);\n",
        "\n",
        "for i in range(n):\n",
        "    update(i + 1, a[i])\n",
        "\n",
        "print(queryRange(4,8))"
      ]
    },
    {
      "cell_type": "markdown",
      "metadata": {
        "id": "PwFS1zTWCYWb"
      },
      "source": [
        "Ta có thể cải tiến thao tác 4 trở nên nhanh chóng hơn với mảng hiệu\n",
        "\n",
        "Gọi mảng hiệu $d$:\n",
        "$$\n",
        "\\begin{cases}\n",
        "d[i] = A[i] \\space \\text{nếu} \\space i=1 \\\\\n",
        "d[i] = A[i] - A[i-1] \\space \\text{nếu} \\space i>=2\n",
        "\\end{cases}\n",
        "$$\n",
        "Ta thấy:\n",
        "\n",
        "$$\n",
        "A[i] = A[i] + 0 \\\\\n",
        "     = A[i] - A[i-1] + A[i-1] - A[i-2] + \\cdots + A[2] - A[1] + A[1] \\\\\n",
        "     = d[i] + d[i - 1] + \\cdots + d[2] + d[1]\n",
        "$$\n",
        "\n",
        "Từ tính chất này, khi tính được mảng hiệu, để tính được giá trị của A[i] ta chỉ cần lấy tổng của $i$ phần tử $d$ đầu tiên. Khi này, bài toán của chúng ta thực chất được đưa về tính tổng trên mảng $d$. Hay nói cách khác là áp dụng Fenwick Tree trên mảng $d$. Hay thực hiện $N$ thao tác $\\text{update}(i, A[i] - A[i-1])$.\n",
        "\n",
        "Hình dưới đây minh họa thao tác cập nhật trên một đoạn $[l…r]$ từ mảng trên, ta cộng $Δ=4$ vào đoạn $[4…7]$:\n",
        "\n",
        "<img src=\"https://i.ibb.co/FV00Bfp/image-6.png\">\n",
        "\n",
        "\n",
        "Khi cập nhật, do các phần tử liền kề trong đoạn $[l…r]$ đều được cộng cùng một giá trị $Δ$ nên hiệu giữa chúng thực chất vẫn không đổi. Khác biệt duy nhất khi cập nhật nằm ở 2 biên của đoạn. Vì thế ta chỉ cần cập nhật điểm tại 2 biên trên mảng hiệu và dùng truy vấn lấy tổng để tính giá trị hiện tại của $A_i$"
      ]
    },
    {
      "cell_type": "code",
      "execution_count": null,
      "metadata": {
        "id": "UiIiNOpGFpuZ"
      },
      "outputs": [],
      "source": [
        "class FenwickDiff():\n",
        "  def __init__(self, a):\n",
        "    self.a = a\n",
        "    self.n = len(self.a)\n",
        "    self.f = [0] * (n + 1)\n",
        "\n",
        "    for i in range(1, self.n):\n",
        "      self.update(i+1, self.a[i]-self.a[i-1])\n",
        "\n",
        "  def update(self, id, val):\n",
        "      while(id <= self.n):\n",
        "          self.f[id] += val\n",
        "          id += -id & id\n",
        "\n",
        "  def getSum(self, id):\n",
        "      s = 0\n",
        "      while(id > 0):\n",
        "          s += self.f[id]\n",
        "          id -= -id & id\n",
        "      return s\n",
        "\n",
        "  def updateRange(self, u, v, x):\n",
        "    self.update(u + 1, x)\n",
        "    self.update(v + 2, -x)\n",
        "\n",
        "insA = FenwickDiff(a)\n",
        "insA.updateRange(3,6,2)\n",
        "print(insA.getSum(5))"
      ]
    },
    {
      "cell_type": "markdown",
      "metadata": {
        "id": "2FzAJ1npGwVc"
      },
      "source": [
        "Áp dụng cho việc tính thể tích khi bị cắt mổ xẻ"
      ]
    },
    {
      "cell_type": "code",
      "execution_count": null,
      "metadata": {
        "id": "9O2oKLKHGdiP"
      },
      "outputs": [],
      "source": [
        "x = [1, 3, 5, 7, 9, 11, 5]\n",
        "y = [2, 4, 6, 8, 10, 2, 6]\n",
        "z = [2, 1, 9, 2, 3, 8, 7]\n",
        "\n",
        "Vol = []\n",
        "for i in range(len(x)-1):\n",
        "  dx = abs(x[i+1] - x[i])\n",
        "  dy = abs(y[i+1] - y[i])\n",
        "  dz = abs(z[i+1] - z[i])\n",
        "  Vol.append(dx * dy * dz)\n",
        "\n",
        "print(Vol, sum(Vol))"
      ]
    },
    {
      "cell_type": "code",
      "execution_count": null,
      "metadata": {
        "id": "dh3g7-PmGhbf"
      },
      "outputs": [],
      "source": [
        "class FenwickTree:\n",
        "    def __init__(self, n):\n",
        "        self.n = n\n",
        "        self.bit = [0] * (n+1)\n",
        "\n",
        "    def update(self, idx, delta):\n",
        "        while idx <= self.n:\n",
        "            self.bit[idx] += delta\n",
        "            idx += idx & -idx\n",
        "\n",
        "    def query(self, idx):\n",
        "        result = 0\n",
        "        while idx > 0:\n",
        "            result += self.bit[idx]\n",
        "            idx -= idx & -idx\n",
        "        return result\n",
        "\n",
        "    def range_query(self, left, right):\n",
        "      return self.query(right) - self.query(left-1)\n",
        "\n",
        "n = len(Vol)\n",
        "fenwick_tree = FenwickTree(n)\n",
        "for i in range(n):\n",
        "    V = abs(z[i+1] - z[i]) * abs(y[i+1]-y[i]) * abs(x[i+1]-x[i])\n",
        "    fenwick_tree.update(i + 1, V)\n",
        "\n",
        "fenwick_tree.range_query(1, n)"
      ]
    },
    {
      "cell_type": "code",
      "execution_count": null,
      "metadata": {
        "id": "yVj2rGT6G4qN"
      },
      "outputs": [],
      "source": [
        "## Cắt bỏ đi\n",
        "x = x[1:-1]\n",
        "y = y[1:-1]\n",
        "z = z[1:-1]\n",
        "\n",
        "# Chạy lại thuật toán với độ phức tạp O(N)\n",
        "Vol = []\n",
        "for i in range(len(x)-1):\n",
        "  Vol.append(abs(z[i+1] - z[i]) * abs(y[i+1]-y[i]) * abs(x[i+1]-x[i]))\n",
        "sum(Vol)"
      ]
    },
    {
      "cell_type": "code",
      "execution_count": null,
      "metadata": {
        "id": "NO6-4uJ2G-CK"
      },
      "outputs": [],
      "source": [
        "# Thay vào đó sử dụng Fenwick Tree với độ phức tạp Olog(N)\n",
        "fenwick_tree.range_query(2, n-1)"
      ]
    },
    {
      "cell_type": "markdown",
      "metadata": {
        "id": "8KTuIDRiRCoa"
      },
      "source": [
        "### Cây Chỉ Số Nhị Phân 2D"
      ]
    },
    {
      "cell_type": "code",
      "execution_count": null,
      "metadata": {
        "id": "U-ccxHCsHLkv"
      },
      "outputs": [],
      "source": [
        "# Thực hiện tính tổng trên mảng 2D\n",
        "a = np.array([[1,  2,  3,   4],\n",
        "              [5,  6,  7,   8],\n",
        "              [9,  10, 11, 12],\n",
        "              [13, 14, 15, 16]])\n",
        "\n",
        "# O (log(M+N))\n",
        "class FenwickTree2D():\n",
        "    def __init__(self, a, n, m):\n",
        "        self.n = n\n",
        "        self.m = m\n",
        "        self.bit = [[0] * (m + 1) for _ in range(n + 1)]\n",
        "\n",
        "    def update(self, x, y, val):\n",
        "        x += 1\n",
        "        y += 1\n",
        "        while x <= self.n:\n",
        "            y1 = y\n",
        "            while y1 <= self.m:\n",
        "                self.bit[x][y1] += val\n",
        "                y1 += y1 & -y1\n",
        "            x += x & -x\n",
        "\n",
        "    def getSum(self, x, y):\n",
        "        x += 1\n",
        "        y += 1\n",
        "        res = 0\n",
        "        while x > 0:\n",
        "            y1 = y\n",
        "            while y1 > 0:\n",
        "                res += self.bit[x][y1]\n",
        "                y1 -= y1 & -y1\n",
        "            x -= x & -x\n",
        "        return res\n",
        "\n",
        "    def queryByRange(self, x1, y1, x2, y2):\n",
        "        return self.getSum(x2, y2) - self.getSum(x2, y1 - 1) - self.getSum(x1 - 1, y2) + self.getSum(x1 - 1, y1 - 1)\n",
        "\n",
        "\n",
        "n, m = a.shape\n",
        "fenwick_tree = FenwickTree2D(a, n, m)\n",
        "\n",
        "# Build Fenwick tree\n",
        "for i in range(n):\n",
        "  for j in range(m):\n",
        "    fenwick_tree.update(i, j, a[i][j])\n",
        "\n",
        "fenwick_tree.queryByRange(1,1,2,2) # 6 + 7 + 10 + 11"
      ]
    },
    {
      "cell_type": "markdown",
      "metadata": {
        "id": "CIbJgkBIRQwK"
      },
      "source": [
        "### Cây Chỉ Số Nhị Phân 3D\n",
        "\n",
        "\n",
        "<img src=\"https://i.ibb.co/ByQHcKW/39.png\">"
      ]
    },
    {
      "cell_type": "code",
      "execution_count": null,
      "metadata": {
        "colab": {
          "base_uri": "https://localhost:8080/"
        },
        "id": "CBA1x4q85YJI",
        "outputId": "a06f0e3d-d0f5-44a0-d224-4fcae919a9bf"
      },
      "outputs": [
        {
          "name": "stdout",
          "output_type": "stream",
          "text": [
            "27\n",
            "27\n",
            "8\n",
            "8\n",
            "12\n"
          ]
        }
      ],
      "source": [
        "V = np.array(\n",
        "    [[[1, 1, 1],\n",
        "    [1, 1, 1],\n",
        "    [1, 1, 1]],\n",
        "\n",
        "    [[1, 1, 1],\n",
        "    [1, 1, 1],\n",
        "    [1, 1, 1]],\n",
        "\n",
        "    [[1, 1, 1],\n",
        "    [1, 1, 1],\n",
        "    [1, 1, 1]],\n",
        "\n",
        "    [[0, 0, 0],\n",
        "    [0, 0, 0],\n",
        "    [0, 0, 0]]]\n",
        ")\n",
        "\n",
        "class FenwickTree3D():\n",
        "    def __init__(self, V, n, m, p):\n",
        "        self.V = V\n",
        "        self.n = n\n",
        "        self.m = m\n",
        "        self.p = p\n",
        "        self.bit = [[[0] * (p + 1) for _ in range(m + 1)] for _ in range(n + 1)]\n",
        "\n",
        "    def update(self, x, y, z, val):\n",
        "        x += 1\n",
        "        y += 1\n",
        "        z += 1\n",
        "        while (x <= self.n):\n",
        "            y1 = y\n",
        "            while (y1 <= self.m):\n",
        "                z1 = z\n",
        "                while (z1 <= self.p):\n",
        "                    self.bit[x][y1][z1] += val\n",
        "                    z1 += z1 & -z1\n",
        "                y1 += y1 & -y1\n",
        "            x += x & -x\n",
        "\n",
        "    def getSum(self, x, y, z):\n",
        "        x += 1\n",
        "        y += 1\n",
        "        z += 1\n",
        "        res = 0\n",
        "        while x > 0:\n",
        "            y1 = y\n",
        "            while y1 > 0:\n",
        "                z1 = z\n",
        "                while (z1 > 0):\n",
        "                    res += self.bit[x][y1][z1]\n",
        "                    z1 -= z1 & -z1\n",
        "                y1 -= y1 & -y1\n",
        "            x -= x & -x\n",
        "        return res\n",
        "\n",
        "    def queryByRange(self, x1, y1, z1, x2, y2, z2):\n",
        "        return self.getSum(x2, y2, z2) - self.getSum(x2, y2, z1 - 1) - self.getSum(x2, y1 - 1, z2) + self.getSum(x2, y1 - 1, z1 - 1) \\\n",
        "               - self.getSum(x1 - 1, y2, z2) + self.getSum(x1 - 1, y2, z1 - 1) + self.getSum(x1 - 1, y1 - 1, z2) - self.getSum(x1 - 1, y1 - 1, z1 - 1)\n",
        "\n",
        "# Initialize Fenwick tree\n",
        "n, m, p = V.shape\n",
        "fenwick_tree = FenwickTree3D(V, n, m, p)\n",
        "\n",
        "# Build Fenwick tree\n",
        "for i in range(n):\n",
        "    for j in range(m):\n",
        "        for k in range(p):\n",
        "            fenwick_tree.update(i, j, k, V[i][j][k])\n",
        "\n",
        "\n",
        "print(fenwick_tree.getSum(n-1, m-1, p-1)) # whole cube\n",
        "print(fenwick_tree.queryByRange(0,0,0,n-1,m-1,p-1)) # 3x3 cube\n",
        "print(fenwick_tree.queryByRange(0,0,0,1,1,1)) # 2x2 cube\n",
        "print(fenwick_tree.queryByRange(1,1,1,2,2,2)) # 2x2 cube\n",
        "print(fenwick_tree.queryByRange(0,0,0,1,1,2)) # 2x3 cube"
      ]
    },
    {
      "cell_type": "code",
      "execution_count": null,
      "metadata": {
        "id": "OulJRu6THfsN"
      },
      "outputs": [],
      "source": [
        "# Cập nhật và truy vấn thể tích mới với độ phức tạp O(log(N) * logM * logK))\n",
        "fenwick_tree.update(3,1,1,1)\n",
        "fenwick_tree.getSum(n-1,m-1,p-1)"
      ]
    },
    {
      "cell_type": "markdown",
      "metadata": {
        "id": "5Vy39HtWRTgl"
      },
      "source": [
        "## Thuật toán Marching Cubes\n",
        "\n",
        "<img src=\"https://i.ibb.co/VVYKgW0/37.png\">"
      ]
    },
    {
      "cell_type": "markdown",
      "metadata": {
        "id": "N-YgBu06RWTY"
      },
      "source": [
        "### Nguyên lý tái tạo vật thể 3D"
      ]
    },
    {
      "cell_type": "markdown",
      "metadata": {
        "id": "S6bHpE5Dum9x"
      },
      "source": [
        "#### Cài đặt thuật toán"
      ]
    },
    {
      "cell_type": "code",
      "execution_count": null,
      "metadata": {
        "id": "gS7NS6AttRCt"
      },
      "outputs": [],
      "source": [
        "DirectionX = 0\n",
        "DirectionY = 1\n",
        "DirectionZ = 2\n",
        "\n",
        "EDGE_DELTA: NDArray[np.uint8]\n",
        "EDGE_DELTA = np.asarray(\n",
        "    [\n",
        "        [0, 0, 0],\n",
        "        [1, 0, 0],\n",
        "        [0, 1, 0],\n",
        "        [0, 0, 0],\n",
        "        [0, 0, 1],\n",
        "        [1, 0, 1],\n",
        "        [0, 1, 1],\n",
        "        [0, 0, 1],\n",
        "        [0, 0, 0],\n",
        "        [1, 0, 0],\n",
        "        [1, 1, 0],\n",
        "        [0, 1, 0],\n",
        "    ],\n",
        "    dtype=np.uint8,\n",
        ")\n",
        "\n",
        "EDGE_DIRECTION: NDArray[np.uint8]\n",
        "EDGE_DIRECTION = np.asarray(\n",
        "    [\n",
        "        0,\n",
        "        1,\n",
        "        0,\n",
        "        1,\n",
        "        0,\n",
        "        1,\n",
        "        0,\n",
        "        1,\n",
        "        2,\n",
        "        2,\n",
        "        2,\n",
        "        2,\n",
        "    ],\n",
        "    dtype=np.uint8,\n",
        ")\n",
        "\n",
        "GEOMETRY_LOOKUP: NDArray[np.int8]\n",
        "GEOMETRY_LOOKUP = np.asarray(\n",
        "    [\n",
        "        [-1, -1, -1, -1, -1, -1, -1, -1, -1, -1, -1, -1],  # 0 = 00000000\n",
        "        [0, 8, 3, -1, -1, -1, -1, -1, -1, -1, -1, -1],  # 1 = 00000001\n",
        "        [0, 1, 9, -1, -1, -1, -1, -1, -1, -1, -1, -1],  # 2 = 00000010\n",
        "        [8, 3, 9, 1, 3, 9, -1, -1, -1, -1, -1, -1],  # 3 = 00000011\n",
        "        [1, 2, 10, -1, -1, -1, -1, -1, -1, -1, -1, -1],  # 4 = 00000100\n",
        "        [0, 8, 3, 1, 2, 10, -1, -1, -1, -1, -1, -1],  # 5 = 00000101\n",
        "        [9, 10, 0, 2, 10, 0, -1, -1, -1, -1, -1, -1],  # 6 = 00000110\n",
        "        [8, 3, 10, 2, 3, 10, 10, 9, 8, -1, -1, -1],  # 7 = 00000111\n",
        "        [3, 11, 2, -1, -1, -1, -1, -1, -1, -1, -1, -1],  # 8 = 00001000\n",
        "        [0, 2, 8, 11, 2, 8, -1, -1, -1, -1, -1, -1],  # 9 = 00001001\n",
        "        [1, 9, 0, 2, 3, 11, -1, -1, -1, -1, -1, -1],  # 10 = 00001010\n",
        "        [1, 2, 9, 11, 2, 9, 9, 8, 11, -1, -1, -1],  # 11 = 00001011\n",
        "        [10, 1, 11, 3, 1, 11, -1, -1, -1, -1, -1, -1],  # 12 = 00001100\n",
        "        [0, 1, 8, 10, 1, 8, 8, 11, 10, -1, -1, -1],  # 13 = 00001101\n",
        "        [9, 0, 11, 3, 0, 11, 11, 10, 9, -1, -1, -1],  # 14 = 00001110\n",
        "        [8, 9, 11, 10, 9, 11, -1, -1, -1, -1, -1, -1],  # 15 = 00001111\n",
        "        [4, 7, 8, -1, -1, -1, -1, -1, -1, -1, -1, -1],  # 16 = 00010000\n",
        "        [3, 0, 7, 4, 0, 7, -1, -1, -1, -1, -1, -1],  # 17 = 00010001\n",
        "        [0, 1, 9, 8, 4, 7, -1, -1, -1, -1, -1, -1],  # 18 = 00010010\n",
        "        [1, 9, 7, 4, 9, 7, 7, 3, 1, -1, -1, -1],  # 19 = 00010011\n",
        "        [1, 2, 10, 8, 4, 7, -1, -1, -1, -1, -1, -1],  # 20 = 00010100\n",
        "        [1, 2, 10, 0, 4, 3, 7, 4, 3, -1, -1, -1],  # 21 = 00010101\n",
        "        [8, 4, 7, 0, 2, 9, 10, 2, 9, -1, -1, -1],  # 22 = 00010110\n",
        "        [3, 2, 10, 3, 10, 4, 3, 4, 7, 4, 10, 9],  # 23 = 00010111\n",
        "        [8, 4, 7, 3, 11, 2, -1, -1, -1, -1, -1, -1],  # 24 = 00011000\n",
        "        [11, 7, 2, 4, 7, 2, 2, 0, 4, -1, -1, -1],  # 25 = 00011001\n",
        "        [8, 4, 7, 9, 0, 1, 11, 2, 3, -1, -1, -1],  # 26 = 00011010\n",
        "        [4, 7, 11, 9, 4, 2, 11, 4, 2, 9, 2, 1],  # 27 = 00011011\n",
        "        [4, 7, 8, 1, 3, 10, 11, 10, 3, -1, -1, -1],  # 28 = 00011100\n",
        "        [10, 7, 11, 10, 0, 7, 10, 1, 0, 4, 7, 0],  # 29 = 00011101\n",
        "        [4, 7, 8, 11, 0, 3, 0, 11, 9, 10, 9, 11],  # 30 = 00011110\n",
        "        [11, 7, 9, 4, 7, 9, 9, 11, 10, -1, -1, -1],  # 31 = 00011111\n",
        "        [9, 5, 4, -1, -1, -1, -1, -1, -1, -1, -1, -1],  # 32 = 00100000\n",
        "        [9, 5, 4, 0, 8, 3, -1, -1, -1, -1, -1, -1],  # 33 = 00100001\n",
        "        [0, 4, 1, 5, 4, 1, -1, -1, -1, -1, -1, -1],  # 34 = 00100010\n",
        "        [8, 4, 3, 5, 4, 3, 3, 1, 5, -1, -1, -1],  # 35 = 00100011\n",
        "        [1, 2, 10, 9, 5, 4, -1, -1, -1, -1, -1, -1],  # 36 = 00100100\n",
        "        [9, 5, 4, 10, 1, 2, 8, 3, 0, -1, -1, -1],  # 37 = 00100101\n",
        "        [2, 10, 4, 5, 10, 4, 4, 0, 2, -1, -1, -1],  # 38 = 00100110\n",
        "        [3, 2, 10, 8, 3, 10, 8, 10, 5, 8, 5, 4],  # 39 = 00100111\n",
        "        [9, 5, 4, 2, 3, 11, -1, -1, -1, -1, -1, -1],  # 40 = 00101000\n",
        "        [5, 4, 9, 0, 2, 8, 11, 2, 8, -1, -1, -1],  # 41 = 00101001\n",
        "        [2, 3, 11, 4, 1, 5, 1, 4, 0, -1, -1, -1],  # 42 = 00101010\n",
        "        [11, 2, 1, 11, 1, 4, 11, 4, 8, 5, 4, 1],  # 43 = 00101011\n",
        "        [9, 5, 4, 11, 1, 3, 1, 11, 10, -1, -1, -1],  # 44 = 00101100\n",
        "        [5, 4, 9, 8, 0, 10, 1, 0, 10, 11, 10, 8],  # 45 = 00101101\n",
        "        [5, 4, 0, 5, 0, 11, 5, 11, 10, 11, 0, 3],  # 46 = 00101110\n",
        "        [8, 4, 10, 5, 4, 10, 10, 8, 11, -1, -1, -1],  # 47 = 00101111\n",
        "        [9, 8, 5, 7, 8, 5, -1, -1, -1, -1, -1, -1],  # 48 = 00110000\n",
        "        [9, 0, 5, 3, 0, 5, 5, 7, 3, -1, -1, -1],  # 49 = 00110001\n",
        "        [0, 8, 1, 7, 8, 1, 1, 5, 7, -1, -1, -1],  # 50 = 00110010\n",
        "        [1, 5, 3, 3, 5, 7, -1, -1, -1, -1, -1, -1],  # 51 = 00110011\n",
        "        [10, 1, 2, 8, 5, 7, 5, 8, 9, -1, -1, -1],  # 52 = 00110100\n",
        "        [1, 2, 10, 9, 0, 5, 3, 0, 5, 3, 5, 7],  # 53 = 00110101\n",
        "        [8, 0, 2, 8, 2, 5, 8, 5, 7, 10, 5, 2],  # 54 = 00110110\n",
        "        [2, 10, 3, 5, 10, 3, 3, 5, 7, -1, -1, -1],  # 55 = 00110111\n",
        "        [2, 3, 11, 5, 7, 9, 8, 9, 7, -1, -1, -1],  # 56 = 00111000\n",
        "        [0, 9, 5, 0, 5, 11, 0, 11, 2, 11, 5, 7],  # 57 = 00111001\n",
        "        [11, 2, 3, 8, 0, 7, 1, 0, 7, 5, 7, 1],  # 58 = 00111010\n",
        "        [1, 2, 7, 11, 2, 7, 7, 1, 5, -1, -1, -1],  # 59 = 00111011\n",
        "        [7, 9, 5, 9, 7, 8, 10, 1, 11, 3, 11, 1],  # 60 = 00111100\n",
        "        [9, 1, 0, 11, 7, 10, 5, 7, 10, -1, -1, -1],  # 61 = 00111101\n",
        "        [0, 3, 8, 10, 5, 11, 7, 5, 11, -1, -1, -1],  # 62 = 00111110\n",
        "        [11, 10, 7, 5, 10, 7, -1, -1, -1, -1, -1, -1],  # 63 = 00111111\n",
        "        [10, 6, 5, -1, -1, -1, -1, -1, -1, -1, -1, -1],  # 64 = 01000000\n",
        "        [0, 8, 3, 5, 10, 6, -1, -1, -1, -1, -1, -1],  # 65 = 01000001\n",
        "        [9, 0, 1, 5, 10, 6, -1, -1, -1, -1, -1, -1],  # 66 = 01000010\n",
        "        [6, 5, 10, 8, 3, 9, 1, 3, 9, -1, -1, -1],  # 67 = 01000011\n",
        "        [1, 5, 2, 6, 5, 2, -1, -1, -1, -1, -1, -1],  # 68 = 01000100\n",
        "        [3, 0, 8, 2, 6, 1, 5, 6, 1, -1, -1, -1],  # 69 = 01000101\n",
        "        [9, 5, 0, 6, 5, 0, 0, 2, 6, -1, -1, -1],  # 70 = 01000110\n",
        "        [5, 9, 8, 5, 8, 2, 5, 2, 6, 3, 2, 8],  # 71 = 01000111\n",
        "        [2, 3, 11, 10, 6, 5, -1, -1, -1, -1, -1, -1],  # 72 = 01001000\n",
        "        [10, 6, 5, 8, 0, 11, 2, 0, 11, -1, -1, -1],  # 73 = 01001001\n",
        "        [10, 6, 5, 11, 2, 3, 9, 0, 1, -1, -1, -1],  # 74 = 01001010\n",
        "        [6, 5, 10, 9, 2, 1, 2, 9, 11, 8, 11, 9],  # 75 = 01001011\n",
        "        [3, 11, 5, 6, 11, 5, 5, 1, 3, -1, -1, -1],  # 76 = 01001100\n",
        "        [0, 8, 11, 0, 11, 5, 0, 5, 1, 5, 11, 6],  # 77 = 01001101\n",
        "        [11, 6, 5, 3, 11, 5, 3, 5, 9, 3, 9, 0],  # 78 = 01001110\n",
        "        [9, 5, 11, 6, 5, 11, 11, 9, 8, -1, -1, -1],  # 79 = 01001111\n",
        "        [5, 10, 6, 4, 7, 8, -1, -1, -1, -1, -1, -1],  # 80 = 01010000\n",
        "        [10, 6, 5, 3, 0, 7, 4, 0, 7, -1, -1, -1],  # 81 = 01010001\n",
        "        [0, 1, 9, 6, 5, 10, 4, 7, 8, -1, -1, -1],  # 82 = 01010010\n",
        "        [10, 6, 5, 9, 4, 1, 7, 4, 1, 3, 1, 7],  # 83 = 01010011\n",
        "        [8, 4, 7, 1, 2, 5, 6, 2, 5, -1, -1, -1],  # 84 = 01010100\n",
        "        [2, 1, 6, 5, 1, 6, 3, 0, 7, 4, 0, 7],  # 85 = 01010101\n",
        "        [4, 7, 8, 9, 5, 0, 6, 5, 0, 6, 0, 2],  # 86 = 01010110\n",
        "        [4, 5, 9, 2, 7, 3, 7, 2, 6, -1, -1, -1],  # 87 = 01010111\n",
        "        [2, 3, 11, 4, 7, 8, 6, 5, 10, -1, -1, -1],  # 88 = 01011000\n",
        "        [6, 5, 10, 7, 11, 4, 2, 4, 11, 4, 2, 0],  # 89 = 01011001\n",
        "        [8, 4, 7, 2, 3, 11, 9, 0, 1, 10, 6, 5],  # 90 = 01011010\n",
        "        [10, 2, 1, 11, 6, 7, 9, 4, 5, -1, -1, -1],  # 91 = 01011011\n",
        "        [8, 4, 7, 11, 6, 3, 5, 6, 3, 1, 3, 5],  # 92 = 01011100\n",
        "        [6, 7, 11, 0, 5, 1, 5, 0, 4, -1, -1, -1],  # 93 = 01011101\n",
        "        [8, 0, 3, 9, 4, 5, 11, 6, 7, -1, -1, -1],  # 94 = 01011110\n",
        "        [5, 9, 4, 11, 6, 7, -1, -1, -1, -1, -1, -1],  # 95 = 01011111\n",
        "        [10, 9, 6, 4, 9, 6, -1, -1, -1, -1, -1, -1],  # 96 = 01100000\n",
        "        [3, 0, 8, 10, 6, 9, 4, 6, 9, -1, -1, -1],  # 97 = 01100001\n",
        "        [0, 1, 6, 10, 1, 6, 6, 4, 0, -1, -1, -1],  # 98 = 01100010\n",
        "        [8, 3, 1, 8, 1, 6, 8, 6, 4, 6, 1, 10],  # 99 = 01100011\n",
        "        [1, 9, 2, 4, 9, 2, 2, 6, 4, -1, -1, -1],  # 100 = 01100100\n",
        "        [8, 3, 0, 2, 9, 1, 9, 2, 4, 6, 4, 2],  # 101 = 01100101\n",
        "        [2, 0, 6, 4, 0, 6, -1, -1, -1, -1, -1, -1],  # 102 = 01100110\n",
        "        [8, 3, 4, 2, 3, 4, 4, 2, 6, -1, -1, -1],  # 103 = 01100111\n",
        "        [11, 2, 3, 9, 4, 10, 6, 4, 10, -1, -1, -1],  # 104 = 01101000\n",
        "        [0, 8, 2, 11, 8, 2, 9, 4, 10, 6, 4, 10],  # 105 = 01101001\n",
        "        [2, 3, 11, 0, 1, 6, 10, 1, 6, 0, 6, 4],  # 106 = 01101010\n",
        "        [10, 2, 1, 8, 4, 11, 6, 4, 11, -1, -1, -1],  # 107 = 01101011\n",
        "        [1, 4, 9, 1, 11, 4, 1, 3, 11, 6, 4, 11],  # 108 = 01101100\n",
        "        [1, 0, 9, 11, 6, 8, 4, 6, 8, -1, -1, -1],  # 109 = 01101101\n",
        "        [3, 11, 0, 6, 11, 0, 0, 6, 4, -1, -1, -1],  # 110 = 01101110\n",
        "        [8, 4, 11, 6, 4, 11, -1, -1, -1, -1, -1, -1],  # 111 = 01101111\n",
        "        [10, 6, 8, 7, 6, 8, 8, 9, 10, -1, -1, -1],  # 112 = 01110000\n",
        "        [0, 7, 3, 0, 10, 7, 0, 9, 10, 6, 7, 10],  # 113 = 01110001\n",
        "        [1, 10, 6, 0, 1, 7, 6, 1, 7, 0, 7, 8],  # 114 = 01110010\n",
        "        [10, 6, 1, 7, 6, 1, 1, 7, 3, -1, -1, -1],  # 115 = 01110011\n",
        "        [9, 1, 2, 9, 2, 7, 9, 7, 8, 7, 2, 6],  # 116 = 01110100\n",
        "        [9, 1, 0, 7, 3, 6, 2, 6, 3, -1, -1, -1],  # 117 = 01110101\n",
        "        [0, 8, 6, 7, 8, 6, 6, 0, 2, -1, -1, -1],  # 118 = 01110110\n",
        "        [2, 3, 6, 7, 3, 6, -1, -1, -1, -1, -1, -1],  # 119 = 01110111\n",
        "        [11, 2, 3, 10, 6, 8, 7, 6, 8, 10, 8, 9],  # 120 = 01111000\n",
        "        [11, 6, 7, 9, 0, 10, 2, 0, 10, -1, -1, -1],  # 121 = 01111001\n",
        "        [6, 7, 11, 0, 3, 8, 2, 1, 10, -1, -1, -1],  # 122 = 01111010\n",
        "        [2, 1, 10, 7, 11, 6, -1, -1, -1, -1, -1, -1],  # 123 = 01111011\n",
        "        [6, 7, 11, 9, 1, 8, 3, 1, 8, -1, -1, -1],  # 124 = 01111100\n",
        "        [9, 1, 0, 6, 7, 11, -1, -1, -1, -1, -1, -1],  # 125 = 01111101\n",
        "        [8, 0, 3, 6, 7, 11, -1, -1, -1, -1, -1, -1],  # 126 = 01111110\n",
        "        [7, 11, 6, -1, -1, -1, -1, -1, -1, -1, -1, -1],  # 127 = 01111111\n",
        "        [7, 6, 11, -1, -1, -1, -1, -1, -1, -1, -1, -1],  # 128 = 10000000\n",
        "        [3, 0, 8, 11, 7, 6, -1, -1, -1, -1, -1, -1],  # 129 = 10000001\n",
        "        [0, 1, 9, 11, 7, 6, -1, -1, -1, -1, -1, -1],  # 130 = 10000010\n",
        "        [11, 7, 6, 9, 1, 8, 3, 1, 8, -1, -1, -1],  # 131 = 10000011\n",
        "        [10, 1, 2, 6, 11, 7, -1, -1, -1, -1, -1, -1],  # 132 = 10000100\n",
        "        [11, 7, 6, 8, 3, 0, 10, 1, 2, -1, -1, -1],  # 133 = 10000101\n",
        "        [7, 6, 11, 9, 0, 10, 2, 0, 10, -1, -1, -1],  # 134 = 10000110\n",
        "        [7, 6, 11, 10, 2, 8, 3, 2, 8, 9, 8, 10],  # 135 = 10000111\n",
        "        [2, 3, 6, 7, 3, 6, -1, -1, -1, -1, -1, -1],  # 136 = 10001000\n",
        "        [0, 8, 6, 7, 8, 6, 6, 2, 0, -1, -1, -1],  # 137 = 10001001\n",
        "        [0, 1, 9, 6, 3, 7, 3, 6, 2, -1, -1, -1],  # 138 = 10001010\n",
        "        [9, 2, 1, 9, 7, 2, 9, 8, 7, 7, 6, 2],  # 139 = 10001011\n",
        "        [10, 6, 1, 7, 6, 1, 1, 3, 7, -1, -1, -1],  # 140 = 10001100\n",
        "        [1, 6, 10, 0, 1, 7, 6, 1, 7, 0, 8, 7],  # 141 = 10001101\n",
        "        [0, 3, 7, 0, 7, 10, 0, 10, 9, 6, 10, 7],  # 142 = 10001110\n",
        "        [10, 6, 8, 7, 6, 8, 8, 10, 9, -1, -1, -1],  # 143 = 10001111\n",
        "        [8, 4, 11, 6, 4, 11, -1, -1, -1, -1, -1, -1],  # 144 = 10010000\n",
        "        [3, 11, 0, 6, 11, 0, 0, 4, 6, -1, -1, -1],  # 145 = 10010001\n",
        "        [9, 0, 1, 11, 6, 8, 4, 6, 8, -1, -1, -1],  # 146 = 10010010\n",
        "        [1, 9, 4, 1, 4, 11, 1, 11, 3, 6, 11, 4],  # 147 = 10010011\n",
        "        [1, 2, 10, 8, 4, 11, 6, 4, 11, -1, -1, -1],  # 148 = 10010100\n",
        "        [10, 1, 2, 0, 3, 6, 11, 3, 6, 4, 6, 0],  # 149 = 10010101\n",
        "        [9, 0, 10, 2, 10, 0, 6, 8, 4, 8, 6, 11],  # 150 = 10010110\n",
        "        [3, 2, 11, 9, 4, 10, 6, 4, 10, -1, -1, -1],  # 151 = 10010111\n",
        "        [8, 3, 4, 2, 3, 4, 4, 6, 2, -1, -1, -1],  # 152 = 10011000\n",
        "        [2, 0, 6, 4, 0, 6, -1, -1, -1, -1, -1, -1],  # 153 = 10011001\n",
        "        [0, 1, 9, 3, 8, 2, 4, 2, 8, 2, 4, 6],  # 154 = 10011010\n",
        "        [1, 9, 2, 4, 9, 2, 2, 4, 6, -1, -1, -1],  # 155 = 10011011\n",
        "        [8, 1, 3, 8, 6, 1, 8, 4, 6, 6, 10, 1],  # 156 = 10011100\n",
        "        [0, 1, 6, 10, 1, 6, 6, 0, 4, -1, -1, -1],  # 157 = 10011101\n",
        "        [8, 0, 3, 10, 6, 9, 4, 6, 9, -1, -1, -1],  # 158 = 10011110\n",
        "        [10, 9, 6, 4, 9, 6, -1, -1, -1, -1, -1, -1],  # 159 = 10011111\n",
        "        [4, 9, 5, 7, 6, 11, -1, -1, -1, -1, -1, -1],  # 160 = 10100000\n",
        "        [3, 0, 8, 5, 4, 9, 7, 6, 11, -1, -1, -1],  # 161 = 10100001\n",
        "        [11, 7, 6, 1, 5, 0, 4, 0, 5, -1, -1, -1],  # 162 = 10100010\n",
        "        [7, 6, 11, 8, 4, 3, 5, 4, 3, 5, 3, 1],  # 163 = 10100011\n",
        "        [1, 2, 10, 7, 6, 11, 5, 4, 9, -1, -1, -1],  # 164 = 10100100\n",
        "        [11, 7, 6, 1, 2, 10, 8, 3, 0, 9, 5, 4],  # 165 = 10100101\n",
        "        [11, 7, 6, 4, 10, 5, 10, 4, 2, 0, 2, 4],  # 166 = 10100110\n",
        "        [11, 3, 2, 8, 7, 4, 10, 5, 6, -1, -1, -1],  # 167 = 10100111\n",
        "        [9, 5, 4, 3, 7, 2, 6, 2, 7, -1, -1, -1],  # 168 = 10101000\n",
        "        [9, 5, 4, 8, 7, 0, 6, 7, 0, 2, 0, 6],  # 169 = 10101001\n",
        "        [7, 2, 3, 2, 7, 6, 0, 1, 4, 5, 4, 1],  # 170 = 10101010\n",
        "        [7, 4, 8, 1, 2, 5, 6, 2, 5, -1, -1, -1],  # 171 = 10101011\n",
        "        [5, 4, 9, 10, 6, 1, 7, 6, 1, 7, 1, 3],  # 172 = 10101100\n",
        "        [9, 1, 0, 10, 5, 6, 8, 7, 4, -1, -1, -1],  # 173 = 10101101\n",
        "        [5, 6, 10, 3, 0, 7, 4, 0, 7, -1, -1, -1],  # 174 = 10101110\n",
        "        [6, 10, 5, 8, 7, 4, -1, -1, -1, -1, -1, -1],  # 175 = 10101111\n",
        "        [9, 5, 11, 6, 5, 11, 11, 8, 9, -1, -1, -1],  # 176 = 10110000\n",
        "        [11, 5, 6, 3, 5, 11, 3, 9, 5, 3, 0, 9],  # 177 = 10110001\n",
        "        [0, 11, 8, 0, 5, 11, 0, 1, 5, 5, 6, 11],  # 178 = 10110010\n",
        "        [3, 11, 5, 6, 11, 5, 5, 3, 1, -1, -1, -1],  # 179 = 10110011\n",
        "        [10, 1, 2, 5, 6, 9, 11, 9, 6, 9, 11, 8],  # 180 = 10110100\n",
        "        [5, 6, 10, 3, 2, 11, 1, 0, 9, -1, -1, -1],  # 181 = 10110101\n",
        "        [5, 6, 10, 8, 0, 11, 2, 0, 11, -1, -1, -1],  # 182 = 10110110\n",
        "        [11, 3, 2, 5, 6, 10, -1, -1, -1, -1, -1, -1],  # 183 = 10110111\n",
        "        [5, 8, 9, 5, 2, 8, 5, 6, 2, 3, 8, 2],  # 184 = 10111000\n",
        "        [9, 5, 0, 6, 5, 0, 0, 6, 2, -1, -1, -1],  # 185 = 10111001\n",
        "        [8, 0, 3, 2, 6, 1, 5, 6, 1, -1, -1, -1],  # 186 = 10111010\n",
        "        [1, 5, 2, 6, 5, 2, -1, -1, -1, -1, -1, -1],  # 187 = 10111011\n",
        "        [10, 5, 6, 8, 3, 9, 1, 3, 9, -1, -1, -1],  # 188 = 10111100\n",
        "        [1, 0, 9, 6, 10, 5, -1, -1, -1, -1, -1, -1],  # 189 = 10111101\n",
        "        [3, 8, 0, 6, 10, 5, -1, -1, -1, -1, -1, -1],  # 190 = 10111110\n",
        "        [10, 5, 6, -1, -1, -1, -1, -1, -1, -1, -1, -1],  # 191 = 10111111\n",
        "        [11, 10, 7, 5, 10, 7, -1, -1, -1, -1, -1, -1],  # 192 = 11000000\n",
        "        [8, 3, 0, 10, 5, 11, 7, 5, 11, -1, -1, -1],  # 193 = 11000001\n",
        "        [0, 1, 9, 11, 7, 10, 5, 7, 10, -1, -1, -1],  # 194 = 11000010\n",
        "        [10, 5, 11, 7, 5, 11, 8, 9, 3, 1, 9, 3],  # 195 = 11000011\n",
        "        [1, 2, 7, 11, 2, 7, 7, 5, 1, -1, -1, -1],  # 196 = 11000100\n",
        "        [3, 0, 8, 1, 2, 7, 11, 2, 7, 1, 7, 5],  # 197 = 11000101\n",
        "        [0, 5, 9, 0, 11, 5, 0, 2, 11, 11, 7, 5],  # 198 = 11000110\n",
        "        [11, 3, 2, 9, 7, 5, 7, 9, 8, -1, -1, -1],  # 199 = 11000111\n",
        "        [2, 10, 3, 5, 10, 3, 3, 7, 5, -1, -1, -1],  # 200 = 11001000\n",
        "        [8, 2, 0, 8, 5, 2, 8, 7, 5, 10, 2, 5],  # 201 = 11001001\n",
        "        [9, 0, 1, 10, 2, 5, 3, 2, 5, 7, 5, 3],  # 202 = 11001010\n",
        "        [2, 1, 10, 7, 5, 8, 9, 8, 5, -1, -1, -1],  # 203 = 11001011\n",
        "        [1, 3, 5, 3, 7, 5, -1, -1, -1, -1, -1, -1],  # 204 = 11001100\n",
        "        [0, 8, 1, 7, 8, 1, 1, 7, 5, -1, -1, -1],  # 205 = 11001101\n",
        "        [9, 0, 5, 3, 0, 5, 5, 3, 7, -1, -1, -1],  # 206 = 11001110\n",
        "        [9, 8, 5, 7, 8, 5, -1, -1, -1, -1, -1, -1],  # 207 = 11001111\n",
        "        [8, 4, 10, 5, 4, 10, 10, 11, 8, -1, -1, -1],  # 208 = 11010000\n",
        "        [5, 0, 4, 5, 11, 0, 5, 10, 11, 11, 3, 0],  # 209 = 11010001\n",
        "        [9, 0, 1, 8, 4, 10, 5, 4, 10, 8, 10, 11],  # 210 = 11010010\n",
        "        [4, 5, 9, 3, 1, 11, 10, 11, 1, -1, -1, -1],  # 211 = 11010011\n",
        "        [11, 1, 2, 11, 4, 1, 11, 8, 4, 5, 1, 4],  # 212 = 11010100\n",
        "        [11, 3, 2, 5, 1, 4, 0, 4, 1, -1, -1, -1],  # 213 = 11010101\n",
        "        [9, 4, 5, 0, 2, 8, 11, 2, 8, -1, -1, -1],  # 214 = 11010110\n",
        "        [4, 5, 9, 11, 3, 2, -1, -1, -1, -1, -1, -1],  # 215 = 11010111\n",
        "        [3, 10, 2, 8, 10, 3, 8, 5, 10, 8, 4, 5],  # 216 = 11011000\n",
        "        [2, 10, 4, 5, 10, 4, 4, 2, 0, -1, -1, -1],  # 217 = 11011001\n",
        "        [4, 5, 9, 2, 1, 10, 0, 3, 8, -1, -1, -1],  # 218 = 11011010\n",
        "        [10, 2, 1, 4, 5, 9, -1, -1, -1, -1, -1, -1],  # 219 = 11011011\n",
        "        [8, 4, 3, 5, 4, 3, 3, 5, 1, -1, -1, -1],  # 220 = 11011100\n",
        "        [0, 4, 1, 5, 4, 1, -1, -1, -1, -1, -1, -1],  # 221 = 11011101\n",
        "        [4, 5, 9, 3, 8, 0, -1, -1, -1, -1, -1, -1],  # 222 = 11011110\n",
        "        [9, 4, 5, -1, -1, -1, -1, -1, -1, -1, -1, -1],  # 223 = 11011111\n",
        "        [11, 7, 9, 4, 7, 9, 9, 10, 11, -1, -1, -1],  # 224 = 11100000\n",
        "        [8, 3, 0, 7, 4, 11, 9, 11, 4, 11, 9, 10],  # 225 = 11100001\n",
        "        [10, 11, 7, 10, 7, 0, 10, 0, 1, 4, 0, 7],  # 226 = 11100010\n",
        "        [8, 7, 4, 10, 3, 1, 3, 10, 11, -1, -1, -1],  # 227 = 11100011\n",
        "        [4, 11, 7, 9, 4, 2, 11, 4, 2, 9, 1, 2],  # 228 = 11100100\n",
        "        [7, 4, 8, 1, 0, 9, 3, 2, 11, -1, -1, -1],  # 229 = 11100101\n",
        "        [11, 7, 2, 4, 7, 2, 2, 4, 0, -1, -1, -1],  # 230 = 11100110\n",
        "        [7, 4, 8, 2, 11, 3, -1, -1, -1, -1, -1, -1],  # 231 = 11100111\n",
        "        [3, 10, 2, 3, 4, 10, 3, 7, 4, 4, 9, 10],  # 232 = 11101000\n",
        "        [7, 4, 8, 0, 2, 9, 10, 2, 9, -1, -1, -1],  # 233 = 11101001\n",
        "        [10, 2, 1, 0, 4, 3, 7, 4, 3, -1, -1, -1],  # 234 = 11101010\n",
        "        [10, 2, 1, 7, 4, 8, -1, -1, -1, -1, -1, -1],  # 235 = 11101011\n",
        "        [1, 9, 7, 4, 9, 7, 7, 1, 3, -1, -1, -1],  # 236 = 11101100\n",
        "        [9, 1, 0, 7, 4, 8, -1, -1, -1, -1, -1, -1],  # 237 = 11101101\n",
        "        [3, 0, 7, 4, 0, 7, -1, -1, -1, -1, -1, -1],  # 238 = 11101110\n",
        "        [4, 8, 7, -1, -1, -1, -1, -1, -1, -1, -1, -1],  # 239 = 11101111\n",
        "        [8, 9, 11, 10, 9, 11, -1, -1, -1, -1, -1, -1],  # 240 = 11110000\n",
        "        [9, 0, 11, 3, 0, 11, 11, 9, 10, -1, -1, -1],  # 241 = 11110001\n",
        "        [0, 1, 8, 10, 1, 8, 8, 10, 11, -1, -1, -1],  # 242 = 11110010\n",
        "        [10, 1, 11, 3, 1, 11, -1, -1, -1, -1, -1, -1],  # 243 = 11110011\n",
        "        [1, 2, 9, 11, 2, 9, 9, 11, 8, -1, -1, -1],  # 244 = 11110100\n",
        "        [0, 9, 1, 11, 3, 2, -1, -1, -1, -1, -1, -1],  # 245 = 11110101\n",
        "        [0, 2, 8, 11, 2, 8, -1, -1, -1, -1, -1, -1],  # 246 = 11110110\n",
        "        [3, 2, 11, -1, -1, -1, -1, -1, -1, -1, -1, -1],  # 247 = 11110111\n",
        "        [8, 3, 10, 2, 3, 10, 10, 8, 9, -1, -1, -1],  # 248 = 11111000\n",
        "        [9, 10, 0, 2, 10, 0, -1, -1, -1, -1, -1, -1],  # 249 = 11111001\n",
        "        [3, 8, 0, 10, 2, 1, -1, -1, -1, -1, -1, -1],  # 250 = 11111010\n",
        "        [1, 10, 2, -1, -1, -1, -1, -1, -1, -1, -1, -1],  # 251 = 11111011\n",
        "        [8, 3, 9, 1, 3, 9, -1, -1, -1, -1, -1, -1],  # 252 = 11111100\n",
        "        [0, 9, 1, -1, -1, -1, -1, -1, -1, -1, -1, -1],  # 253 = 11111101\n",
        "        [0, 3, 8, -1, -1, -1, -1, -1, -1, -1, -1, -1],  # 254 = 11111110\n",
        "        [-1, -1, -1, -1, -1, -1, -1, -1, -1, -1, -1, -1],  # 255 = 11111111\n",
        "    ],\n",
        "    dtype=np.int8,\n",
        ")"
      ]
    },
    {
      "cell_type": "code",
      "execution_count": null,
      "metadata": {
        "id": "v1itusa364G9"
      },
      "outputs": [],
      "source": [
        "VOLUME_CASE_LOOKUP = [\n",
        "    0,\n",
        "    1,     # case 1 # all false\n",
        "    1/48,  # case 2\n",
        "    1/8,   # case 3\n",
        "    1/24,  # case 4\n",
        "    1/24,  # case 5\n",
        "    17/48, # case 6\n",
        "    7/48,  # case 7\n",
        "    1/16,  # case 8\n",
        "    1/2,   # case 9\n",
        "    1/2,   # case 10\n",
        "    1/4,   # case 11\n",
        "    (7 + 8**(1/2))/24, # case 12\n",
        "    139/144, # case 13\n",
        "    1/12,  # case 14\n",
        "    5/12,  # case 15\n",
        "    1-1,   # case 16 # all true --> base case\n",
        "    1-1/48, # case 17\n",
        "    1-1/8, # case 18\n",
        "    1-1/24,  # case 19\n",
        "    1-1/24,  # case 20\n",
        "    1-17/48, # case 21\n",
        "    1-7/48,   # case 22\n",
        "    1-1/16,   # case 23\n",
        "    1-1/2,    # case 24\n",
        "    1-1/2,   # case 25\n",
        "    1-1/4,   # case 26\n",
        "    1 - ((7 + 8**(1/2))/24), # case 27\n",
        "    1-139/144, # case 28\n",
        "    1-1/12,  # case 29\n",
        "    1-5/12,  # case 30\n",
        "]\n",
        "\n",
        "VOLUME_LOOKUP: NDArray[np.uint8]\n",
        "VOLUME_LOOKUP = np.asarray(\n",
        "    [\n",
        "        1,   # 0 = 00000000\n",
        "        2,   # 1 = 00000001\n",
        "        2,   # 2 = 00000010\n",
        "        3,   # 3 = 00000011\n",
        "        1,   # 4 = 00000100\n",
        "        2,   # 5 = 00000101\n",
        "        3,   # 6 = 00000110\n",
        "        6,   # 7 = 00000111\n",
        "        2,   # 8 = 00001000\n",
        "        2,   # 9 = 00001001\n",
        "        2,   # 10 = 00001010\n",
        "        7,   # 11 = 00001011\n",
        "        3,   # 12 = 00001100\n",
        "        7,   # 13 = 00001101\n",
        "        6,   # 14 = 00001110\n",
        "        9,   # 15 = 00001111\n",
        "        2,   # 16 = 00010000\n",
        "        3,   # 17 = 00010001\n",
        "        4,   # 18 = 00010010\n",
        "        6,   # 19 = 00010011\n",
        "        4,   # 20 = 00010100\n",
        "        7,   # 21 = 00010101\n",
        "        7,   # 22 = 00010110\n",
        "        12,  # 23 = 00010111\n",
        "        4,   # 24 = 00011000\n",
        "        6,   # 25 = 00011001\n",
        "        8,   # 26 = 00011010\n",
        "        15,  # 27 = 00011011\n",
        "        7,   # 28 = 00011100\n",
        "        15,  # 29 = 00011101\n",
        "        13,  # 30 = 00011110\n",
        "        21,  # 31 = 00011111\n",
        "        2,   # 32 = 00100000\n",
        "        4,   # 33 = 00100001\n",
        "        3,   # 34 = 00100010\n",
        "        6,   # 35 = 00100011\n",
        "        4,   # 36 = 00100100\n",
        "        8,   # 37 = 00100101\n",
        "        6,   # 38 = 00100110\n",
        "        10,  # 39 = 00100111\n",
        "        5,   # 40 = 00101000\n",
        "        7,   # 41 = 00101001\n",
        "        7,   # 42 = 00101010\n",
        "        15,  # 43 = 00101011\n",
        "        7,   # 44 = 00101100\n",
        "        13,  # 45 = 00101101\n",
        "        12,  # 46 = 00101110\n",
        "        21,  # 47 = 00101111\n",
        "        3,   # 48 = 00110000\n",
        "        6,   # 49 = 00110001\n",
        "        6,   # 50 = 00110010\n",
        "        9,   # 51 = 00110011\n",
        "        7,   # 52 = 00110100\n",
        "        13,  # 53 = 00110101\n",
        "        15,  # 54 = 00110110\n",
        "        21,  # 55 = 00110111\n",
        "        7,   # 56 = 00111000\n",
        "        12,  # 57 = 00111001\n",
        "        13,  # 58 = 00111010\n",
        "        21,  # 59 = 00111011\n",
        "        11,  # 60 = 00111100\n",
        "        22,  # 61 = 00111101\n",
        "        22,  # 62 = 00111110\n",
        "        18,  # 63 = 00111111\n",
        "        2,   # 64 = 01000000\n",
        "        5,   # 65 = 01000001\n",
        "        4,   # 66 = 01000010\n",
        "        7,   # 67 = 01000011\n",
        "        3,   # 68 = 01000100\n",
        "        7,   # 69 = 01000101\n",
        "        6,   # 70 = 01000110\n",
        "        15,  # 71 = 01000111\n",
        "        4,   # 72 = 01001000\n",
        "        7,   # 73 = 01001001\n",
        "        7,   # 74 = 01001010\n",
        "        15,  # 75 = 01001011\n",
        "        7,   # 76 = 01001100\n",
        "        13,  # 77 = 01001101\n",
        "        12,  # 78 = 01001110\n",
        "        21,  # 79 = 01001111\n",
        "        4,   # 80 = 01010000\n",
        "        7,   # 81 = 01010001\n",
        "        8,   # 82 = 01010010\n",
        "        13,  # 83 = 01010011\n",
        "        3,   # 84 = 01010100\n",
        "        11,  # 85 = 01010101\n",
        "        13,  # 86 = 01010110\n",
        "        7,   # 87 = 01010111\n",
        "        8,   # 88 = 01011000\n",
        "        13,  # 89 = 01011001\n",
        "        14,  # 90 = 01011010\n",
        "        23,  # 91 = 01011011\n",
        "        22,  # 92 = 01011100\n",
        "        20,  # 93 = 01011101\n",
        "        23,  # 94 = 01011110\n",
        "        19,  # 95 = 01011111\n",
        "        3,   # 96 = 01100000\n",
        "        7,   # 97 = 01100001\n",
        "        6,   # 98 = 01100010\n",
        "        12,  # 99 = 01100011\n",
        "        6,   # 100 = 01100100\n",
        "        13,  # 101 = 01100101\n",
        "        9,   # 102 = 01100110\n",
        "        21,  # 103 = 01100111\n",
        "        7,   # 104 = 01101000\n",
        "        11,  # 105 = 01101001\n",
        "        13,  # 106 = 01101010\n",
        "        22,  # 107 = 01101011\n",
        "        15,  # 108 = 01101100\n",
        "        22,  # 109 = 01101101\n",
        "        21,  # 110 = 01101110\n",
        "        18,  # 111 = 01101111\n",
        "        6,   # 112 = 01110000\n",
        "        15,  # 113 = 01110001\n",
        "        10,  # 114 = 01110010\n",
        "        21,  # 115 = 01110011\n",
        "        12,  # 116 = 01110100\n",
        "        20,  # 117 = 01110101\n",
        "        21,  # 118 = 01110110\n",
        "        19,  # 119 = 01110111\n",
        "        13,  # 120 = 01111000\n",
        "        20,  # 121 = 01111001\n",
        "        19,  # 122 = 01111010\n",
        "        19,  # 123 = 01111011\n",
        "        22,  # 124 = 01111100\n",
        "        20,  # 125 = 01111101\n",
        "        19,  # 126 = 01111110\n",
        "        17,  # 127 = 01111111\n",
        "        2,   # 128 = 10000000\n",
        "        4,   # 129 = 10000001\n",
        "        5,   # 130 = 10000010\n",
        "        7,   # 131 = 10000011\n",
        "        4,   # 132 = 10000100\n",
        "        8,   # 133 = 10000101\n",
        "        7,  # 134 = 10000110\n",
        "        13, # 135 = 10000111\n",
        "        7,  # 136 = 10001000\n",
        "        6,  # 137 = 10001001\n",
        "        7,  # 138 = 10001010\n",
        "        12, # 139 = 10001011\n",
        "        6,  # 140 = 10001100\n",
        "        10, # 141 = 10001101\n",
        "        15, # 142 = 10001110\n",
        "        21, # 143 = 10001111\n",
        "        7,  # 144 = 10010000\n",
        "        6,  # 145 = 10010001\n",
        "        7,  # 146 = 10010010\n",
        "        15, # 147 = 10010011\n",
        "        7,  # 148 = 10010100\n",
        "        13, # 149 = 10010101\n",
        "        11, # 150 = 10010110\n",
        "        22, # 151 = 10010111\n",
        "        6,  # 152 = 10011000\n",
        "        9,  # 153 = 10011001\n",
        "        13, # 154 = 10011010\n",
        "        21, # 155 = 10011011\n",
        "        12, # 156 = 10011100\n",
        "        21, # 157 = 10011101\n",
        "        22, # 158 = 10011110\n",
        "        18, # 159 = 10011111\n",
        "        4,  # 160 = 10100000\n",
        "        8,  # 161 = 10100001\n",
        "        7,  # 162 = 10100010\n",
        "        13, # 163 = 10100011\n",
        "        8,  # 164 = 10100100\n",
        "        14, # 165 = 10100101\n",
        "        13, # 166 = 10100110\n",
        "        20, # 167 = 10100111\n",
        "        7,  # 168 = 10101000\n",
        "        13, # 169 = 10101001\n",
        "        11, # 170 = 10101010\n",
        "        7,  # 171 = 10101011\n",
        "        13, # 172 = 10101100\n",
        "        23, # 173 = 10101101\n",
        "        22, # 174 = 10101110\n",
        "        19, # 175 = 10101111\n",
        "        6,  # 176 = 10110000\n",
        "        10, # 177 = 10110001\n",
        "        12, # 178 = 10110010\n",
        "        18, # 179 = 10110011\n",
        "        13, # 180 = 10110100\n",
        "        19, # 181 = 10110101\n",
        "        20, # 182 = 10110110\n",
        "        19, # 183 = 10110111\n",
        "        15, # 184 = 10111000\n",
        "        21, # 185 = 10111001\n",
        "        22, # 186 = 10111010\n",
        "        18, # 187 = 10111011\n",
        "        22, # 188 = 10111100\n",
        "        19, # 189 = 10111101\n",
        "        20, # 190 = 10111110\n",
        "        17, # 191 = 10111111\n",
        "        3,  # 192 = 11000000\n",
        "        7,  # 193 = 11000001\n",
        "        7,  # 194 = 11000010\n",
        "        11, # 195 = 11000011\n",
        "        6,  # 196 = 11000100\n",
        "        13, # 197 = 11000101\n",
        "        12, # 198 = 11000110\n",
        "        3,  # 199 = 11000111\n",
        "        6,  # 200 = 11001000\n",
        "        15, # 201 = 11001001\n",
        "        13, # 202 = 11001010\n",
        "        22, # 203 = 11001011\n",
        "        9,  # 204 = 11001100\n",
        "        21, # 205 = 11001101\n",
        "        21, # 206 = 11001110\n",
        "        18, # 207 = 11001111\n",
        "        6,  # 208 = 11010000\n",
        "        12, # 209 = 11010001\n",
        "        13, # 210 = 11010010\n",
        "        19, # 211 = 11010011\n",
        "        15, # 212 = 11010100\n",
        "        18, # 213 = 11010101\n",
        "        19, # 214 = 11010110\n",
        "        20, # 215 = 11010111\n",
        "        10, # 216 = 11011000\n",
        "        21, # 217 = 11011001\n",
        "        23, # 218 = 11011010\n",
        "        19, # 219 = 11011011\n",
        "        21, # 220 = 11011100\n",
        "        18, # 221 = 11011101\n",
        "        19, # 222 = 11011110\n",
        "        17, # 223 = 11011111\n",
        "        6,  # 224 = 11100000\n",
        "        13, # 225 = 11100001\n",
        "        15, # 226 = 11100010\n",
        "        22, # 227 = 11100011\n",
        "        10, # 228 = 11100100\n",
        "        23, # 229 = 11100101\n",
        "        21, # 230 = 11100110\n",
        "        19, # 231 = 11100111\n",
        "        12, # 232 = 11101000\n",
        "        22, # 233 = 11101001\n",
        "        22, # 234 = 11101010\n",
        "        20, # 235 = 11101011\n",
        "        21, # 236 = 11101100\n",
        "        19, # 237 = 11101101\n",
        "        18, # 238 = 11101110\n",
        "        17, # 239 = 11101111\n",
        "        9,  # 240 = 11110000\n",
        "        21, # 241 = 11110001\n",
        "        21, # 242 = 11110010\n",
        "        18, # 243 = 11110011\n",
        "        21, # 244 = 11110100\n",
        "        19, # 245 = 11110101\n",
        "        18, # 246 = 11110110\n",
        "        17, # 247 = 11110111\n",
        "        21, # 248 = 11111000\n",
        "        18, # 249 = 11111001\n",
        "        19, # 250 = 11111010\n",
        "        17, # 251 = 11111011\n",
        "        18, # 252 = 11111100\n",
        "        17, # 253 = 11111101\n",
        "        17, # 254 = 11111110\n",
        "        16, # 255 = 11111111\n",
        "    ],\n",
        "    dtype=np.int8,\n",
        ")"
      ]
    },
    {
      "cell_type": "code",
      "execution_count": null,
      "metadata": {
        "id": "orMKCJ9zt9fn"
      },
      "outputs": [],
      "source": [
        "from inspect import trace\n",
        "def interpolation(a, b, level):\n",
        "  # zero values to level\n",
        "  a -= level\n",
        "  b -= level\n",
        "  # linear interpolation\n",
        "  return a / (a - b)\n",
        "\n",
        "def marching_cubes(volume, level=0.0):\n",
        "  vertices = list()\n",
        "  vertex_ids = list()\n",
        "  triangles = list()\n",
        "  triangle_ids = list()\n",
        "\n",
        "  # Compare volume to level\n",
        "  volume_test = np.asarray(volume >= level, dtype=\"bool\")\n",
        "  dimX, dimY, dimZ = volume_test.shape\n",
        "\n",
        "  # Intialize 3D array for FenwickTree\n",
        "  CUBE_VOLUME = [[[0.0] * (dimZ - 1) for _ in range(dimY - 1)] for _ in range(dimX - 1)]\n",
        "  CUBE_VOLUME = np.array(CUBE_VOLUME)\n",
        "\n",
        "  def calculate_vertex_id(x, y, z, direction):\n",
        "    return (x + y * dimX + z * dimX * dimY) * 3 + direction\n",
        "\n",
        "  # enumerate volume\n",
        "  for z in range(dimZ):\n",
        "    for y in range(dimY):\n",
        "      for x in range(dimX):\n",
        "\n",
        "        def edge_to_vertex_id(edge_number):\n",
        "          dx, dy, dz = EDGE_DELTA[edge_number]\n",
        "          direction = EDGE_DIRECTION[edge_number]\n",
        "          return calculate_vertex_id(x + dx, y + dy, z + dz, direction)\n",
        "\n",
        "        # Find where volume crosses the level --> vertex found\n",
        "        if x < (dimX-1) and volume_test[x, y, z] !=  volume_test[x + 1, y, z]:\n",
        "          delta = interpolation(volume[x, y, z], volume[x + 1, y, z], level)\n",
        "          vertices.append([x + delta, y, z])\n",
        "          vertex_ids.append(calculate_vertex_id(x, y, z, DirectionX))\n",
        "\n",
        "        if y < (dimY-1) and volume_test[x, y, z] !=  volume_test[x, y + 1, z]:\n",
        "          delta = interpolation(volume[x, y, z], volume[x, y + 1, z], level)\n",
        "          vertices.append([x, y + delta, z])\n",
        "          vertex_ids.append(calculate_vertex_id(x, y, z, DirectionY))\n",
        "\n",
        "        if z < (dimZ-1) and volume_test[x, y, z] !=  volume_test[x, y, z + 1]:\n",
        "          delta = interpolation(volume[x, y, z], volume[x, y, z + 1], level)\n",
        "          vertices.append([x, y, z + delta])\n",
        "          vertex_ids.append(calculate_vertex_id(x, y, z, DirectionZ))\n",
        "\n",
        "        if x == (dimX - 1) or y == (dimY - 1) or z == (dimZ - 1):\n",
        "          continue\n",
        "\n",
        "        # Calculate the volume type of a cube\n",
        "        volume_type = 0\n",
        "        if volume_test[x, y, z]:\n",
        "          volume_type |= 1<<0             # 2^0 = 1\n",
        "        if volume_test[x + 1, y, z]:\n",
        "          volume_type |= 1<<1             # 2^2 = 2\n",
        "        if volume_test[x + 1, y + 1, z]:\n",
        "          volume_type |= 1<<2             # 2^2 = 4\n",
        "        if volume_test[x, y + 1, z]:\n",
        "          volume_type |= 1<<3             # 2^3 = 8\n",
        "        if volume_test[x, y, z + 1]:\n",
        "          volume_type |= 1<<4             # 2^4 = 16\n",
        "        if volume_test[x + 1, y, z + 1]:\n",
        "          volume_type |= 1<<5             # 2^5 = 32\n",
        "        if volume_test[x + 1, y + 1, z + 1]:\n",
        "          volume_type |= 1<<6             # 2^6 = 64\n",
        "        if volume_test[x, y + 1, z + 1]:\n",
        "          volume_type |= 1<<7             # 2^7 = 128\n",
        "\n",
        "        print(f'Volume type: {volume_type}  |   Volume Lookup: {VOLUME_LOOKUP[volume_type]}  |  Volume Case: { VOLUME_CASE_LOOKUP[VOLUME_LOOKUP[volume_type]]}')\n",
        "        CUBE_VOLUME[x,y,z] = VOLUME_CASE_LOOKUP[VOLUME_LOOKUP[volume_type]]\n",
        "        print(f'CUBE VOLUME: {CUBE_VOLUME[x,y,z]}')\n",
        "\n",
        "        # By rotaion operation 2^8 = 256 configurations -> 15 configs\n",
        "        # Lookup Geometry\n",
        "        lookup = GEOMETRY_LOOKUP[volume_type]\n",
        "        for i in range(0, len(lookup), 3):\n",
        "          if lookup[i] < 0:\n",
        "            break\n",
        "          edge0, edge1, edge2 = lookup[i : i + 3]\n",
        "          vertex_id0 = edge_to_vertex_id(edge0)\n",
        "          vertex_id1 = edge_to_vertex_id(edge1)\n",
        "          vertex_id2 = edge_to_vertex_id(edge2)\n",
        "          triangle_ids.append([vertex_id0, vertex_id1, vertex_id2])\n",
        "\n",
        "  # Convert ids to indexes\n",
        "  order_of_ids = {id:order for order, id in enumerate(vertex_ids)}\n",
        "  for triangle_corners in triangle_ids:\n",
        "    triangles.append([order_of_ids[c] for c in triangle_corners])\n",
        "\n",
        "  return vertices, triangles, CUBE_VOLUME"
      ]
    },
    {
      "cell_type": "code",
      "execution_count": null,
      "metadata": {
        "id": "0N_0HN58uwch"
      },
      "outputs": [],
      "source": [
        "# Thử nghiệm với vật thể mẫu\n",
        "volume = np.load(\"/content/object.npy\")\n",
        "print(f'Volume loaded with shape {volume.shape}')\n",
        "level=0.05\n",
        "print(f'Processing volume at level {level}')\n",
        "vertices, triangles = marching_cubes(volume, level=level)\n",
        "print(f'Marching: {len(vertices)} vertices and {len(triangles)} trianges found')"
      ]
    },
    {
      "cell_type": "markdown",
      "metadata": {
        "id": "QiNUNUMpu22p"
      },
      "source": [
        "#### Thử nghiệm tái tạo một hình cầu 3D"
      ]
    },
    {
      "cell_type": "code",
      "execution_count": null,
      "metadata": {
        "id": "Kk1v46_Cu6-R"
      },
      "outputs": [],
      "source": [
        "# Khởi tạo các thông số\n",
        "threshold = 2\n",
        "radius = 2.0\n",
        "resolution = 5\n",
        "\n",
        "# Tạo lưới tọa độ\n",
        "x = np.linspace(-radius, radius, resolution)\n",
        "y = np.linspace(-radius, radius, resolution)\n",
        "z = np.linspace(-radius, radius, resolution)\n",
        "X, Y, Z = np.meshgrid(x, y, z)\n",
        "\n",
        "# Phương trình hình cầu\n",
        "sphere = X**2 + Y**2 + Z**2"
      ]
    },
    {
      "cell_type": "code",
      "execution_count": null,
      "metadata": {
        "colab": {
          "base_uri": "https://localhost:8080/"
        },
        "id": "G4ZEiD4hvHRH",
        "outputId": "93803f47-8650-4320-a4fd-ebfcd8a53d03"
      },
      "outputs": [
        {
          "data": {
            "text/plain": [
              "(5, 5, 5)"
            ]
          },
          "execution_count": 39,
          "metadata": {},
          "output_type": "execute_result"
        }
      ],
      "source": [
        "# Giống như các ảnh y học thì sphere cũng là 3D numpy array\n",
        "sphere.shape"
      ]
    },
    {
      "cell_type": "code",
      "execution_count": null,
      "metadata": {
        "colab": {
          "base_uri": "https://localhost:8080/"
        },
        "id": "ny1GrFLYMVZ-",
        "outputId": "2346e52c-356f-4138-ca72-8cae14afec7c"
      },
      "outputs": [
        {
          "data": {
            "text/plain": [
              "(1, 0)"
            ]
          },
          "execution_count": 26,
          "metadata": {},
          "output_type": "execute_result"
        }
      ],
      "source": [
        "x_dim = y_dim = z_dim = 50  #\n",
        "x = np.linspace(-25, 25, x_dim)\n",
        "y = np.linspace(-25, 25, y_dim)\n",
        "z = np.linspace(-25, 25, z_dim)\n",
        "x, y, z = np.meshgrid(x, y, z)\n",
        "\n",
        "distance = np.sqrt(x**2 + y**2 + z**2)\n",
        "sphere_mask = distance <= 25\n",
        "binary_image = sphere_mask.astype(int)\n",
        "np.max(binary_image), np.min(binary_image)"
      ]
    },
    {
      "cell_type": "code",
      "execution_count": null,
      "metadata": {
        "id": "9-MJ-8pO_mVp"
      },
      "outputs": [],
      "source": [
        "np.max(distance), np.min(distance), np.mean(distance)"
      ]
    },
    {
      "cell_type": "code",
      "execution_count": null,
      "metadata": {
        "id": "ms8JVzOdvaWs"
      },
      "outputs": [],
      "source": [
        "print(\"8\")# Xem hình ảnh (tương tự như kết quả phân vùng gồm trắng và đen)\n",
        "def explore_3D_array(arr: np.ndarray, cmap: str = 'gray'):\n",
        "  def fn(SLICE):\n",
        "    plt.figure(figsize=(7,7))\n",
        "    plt.imshow(arr[SLICE, :, :], cmap=cmap)\n",
        "\n",
        "  interact(fn, SLICE=(0, arr.shape[0]-1))\n",
        "\n",
        "explore_3D_array(distance)"
      ]
    },
    {
      "cell_type": "code",
      "execution_count": null,
      "metadata": {
        "id": "tVJ6SqZRvpoY"
      },
      "outputs": [],
      "source": [
        "verts, faces, cube_volume = marching_cubes(distance, 24.5)\n",
        "verts = np.array(verts)"
      ]
    },
    {
      "cell_type": "code",
      "execution_count": null,
      "metadata": {
        "id": "tg9WvJXb8OIQ"
      },
      "outputs": [],
      "source": [
        "np.unique(cube_volume)"
      ]
    },
    {
      "cell_type": "code",
      "execution_count": null,
      "metadata": {
        "id": "M6bzIQHS8SV5"
      },
      "outputs": [],
      "source": [
        "# Initialize Fenwick tree\n",
        "n, m, p = cube_volume.shape\n",
        "fenwick_tree = FenwickTree3D(cube_volume, n, m, p)\n",
        "\n",
        "# Build Fenwick tree\n",
        "for i in range(n):\n",
        "    for j in range(m):\n",
        "        for k in range(p):\n",
        "            fenwick_tree.update(i, j, k, cube_volume[i][j][k])\n",
        "\n",
        "print(fenwick_tree.getSum(n-1, m-1, p-1)) # whole cube"
      ]
    },
    {
      "cell_type": "code",
      "execution_count": null,
      "metadata": {
        "id": "fMapWg6S80Wf"
      },
      "outputs": [],
      "source": [
        "Vol = 0\n",
        "n, m, p = cube_volume.shape\n",
        "for i in range(n):\n",
        "    for j in range(m):\n",
        "        for k in range(p):\n",
        "          Vol += cube_volume[i,j,k]\n",
        "Vol"
      ]
    },
    {
      "cell_type": "code",
      "execution_count": null,
      "metadata": {
        "id": "zmZrIXV8YmdA"
      },
      "outputs": [],
      "source": [
        "np.savez_compressed(\n",
        "    \"sphere.npz\",\n",
        "    verts=verts,\n",
        "    faces=faces,\n",
        ")"
      ]
    },
    {
      "cell_type": "code",
      "execution_count": null,
      "metadata": {
        "id": "DHBTmzcOv4do"
      },
      "outputs": [],
      "source": [
        "x_verts = verts[:,0]\n",
        "y_verts = verts[:,1]\n",
        "z_verts = verts[:,2]\n",
        "\n",
        "def ShowPoints(x,y,z):\n",
        "  fig = go.Figure(\n",
        "      data = [\n",
        "          go.Scatter3d(\n",
        "              x=x,\n",
        "              y=y,\n",
        "              z=z,\n",
        "              mode='markers',\n",
        "              marker=dict(size=2, color='red')\n",
        "          )\n",
        "      ]\n",
        "  )\n",
        "  fig.update_layout(\n",
        "      scene=dict(xaxis_title='X', yaxis_title='Y', zaxis_title='Z')\n",
        "  )\n",
        "  fig.show()\n",
        "\n",
        "ShowPoints(x_verts, y_verts, z_verts)"
      ]
    },
    {
      "cell_type": "code",
      "execution_count": null,
      "metadata": {
        "id": "Xz5oNghqwdNG"
      },
      "outputs": [],
      "source": [
        "# Vẽ nửa mặt cầu\n",
        "triangles = []\n",
        "for index in range(len(faces)//2):\n",
        "  x = []\n",
        "  y = []\n",
        "  z = []\n",
        "  for axis in range(3):\n",
        "    x.append(verts[faces[index][axis]][0])\n",
        "    y.append(verts[faces[index][axis]][1])\n",
        "    z.append(verts[faces[index][axis]][2])\n",
        "\n",
        "  triangle = dict(type='mesh3d', x=x, y=y, z=z, opacity=0.5, color='blue')\n",
        "  triangles.append(triangle)\n",
        "\n",
        "\n",
        "\n",
        "x_verts = verts[:,0]\n",
        "y_verts = verts[:,1]\n",
        "z_verts = verts[:,2]\n",
        "fig = go.Figure(data=triangles)\n",
        "fig.add_trace(\n",
        "      go.Scatter3d(\n",
        "          x=x_verts[:len(x_verts)//2],\n",
        "          y=y_verts[:len(y_verts)//2],\n",
        "          z=z_verts[:len(z_verts)//2],\n",
        "          mode=\"markers\",\n",
        "          marker=dict(size=2, color=\"red\")\n",
        "      )\n",
        ")\n",
        "\n",
        "# Update layout settings\n",
        "fig.update_layout(scene=dict(\n",
        "                    xaxis_title='X',\n",
        "                    yaxis_title='Y',\n",
        "                    zaxis_title='Z')\n",
        ")"
      ]
    },
    {
      "cell_type": "code",
      "execution_count": null,
      "metadata": {
        "id": "eS40wSSxw-P3"
      },
      "outputs": [],
      "source": [
        "# Vẽ nguyên mặt cầu\n",
        "triangles = []\n",
        "for index in range(len(faces)):\n",
        "  x = []\n",
        "  y = []\n",
        "  z = []\n",
        "  for axis in range(3):\n",
        "    x.append(verts[faces[index][axis]][0])\n",
        "    y.append(verts[faces[index][axis]][1])\n",
        "    z.append(verts[faces[index][axis]][2])\n",
        "\n",
        "  triangle = dict(type='mesh3d', x=x, y=y, z=z, opacity=0.5, color='blue')\n",
        "  triangles.append(triangle)\n",
        "\n",
        "\n",
        "x_verts = verts[:,0]\n",
        "y_verts = verts[:,1]\n",
        "z_verts = verts[:,2]\n",
        "fig = go.Figure(data=triangles)\n",
        "fig.add_trace(\n",
        "      go.Scatter3d(\n",
        "          x=x_verts,\n",
        "          y=y_verts,\n",
        "          z=z_verts,\n",
        "          mode=\"markers\",\n",
        "          marker=dict(size=2, color=\"red\")\n",
        "      )\n",
        ")\n",
        "\n",
        "# Update layout settings\n",
        "fig.update_layout(scene=dict(\n",
        "                    xaxis_title='X',\n",
        "                    yaxis_title='Y',\n",
        "                    zaxis_title='Z')\n",
        ")"
      ]
    },
    {
      "cell_type": "code",
      "execution_count": null,
      "metadata": {
        "id": "cXojVHoLkYE6"
      },
      "outputs": [],
      "source": [
        "!pip install numpy-stl"
      ]
    },
    {
      "cell_type": "code",
      "execution_count": null,
      "metadata": {
        "id": "C1Lr-okPxIR3"
      },
      "outputs": [],
      "source": [
        "from stl import mesh\n",
        "faces = np.array(faces)\n",
        "\n",
        "# Lưu vật thể thành file STL\n",
        "mesh_data = mesh.Mesh(np.zeros(faces.shape[0], dtype=mesh.Mesh.dtype))\n",
        "for i, f in enumerate(faces):\n",
        "    for j in range(3):\n",
        "        mesh_data.vectors[i][j] = verts[f[j], :]\n",
        "mesh_data.save('sphere.stl')"
      ]
    },
    {
      "cell_type": "markdown",
      "metadata": {
        "id": "EYCWzzPRRaai"
      },
      "source": [
        "### Tích hợp Fenwick Tree vào Marching Cubes\n",
        "\n",
        "Vì trong thuật toán Marching Cubes đã có sẵn 3 vòng lặp duyệt hết một không gian lập phương 3D để tái tạo cấu trúc 3D nên ta sẽ tận dụng 3 vòng lặp này để đồng thời khởi tạo cây Fenwick (cây chỉ số nhị phân)."
      ]
    }
  ],
  "metadata": {
    "colab": {
      "provenance": [],
      "toc_visible": true
    },
    "kernelspec": {
      "display_name": "Python 3",
      "name": "python3"
    },
    "language_info": {
      "name": "python"
    }
  },
  "nbformat": 4,
  "nbformat_minor": 0
}
