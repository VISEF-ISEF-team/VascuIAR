{
 "cells": [
  {
   "cell_type": "code",
   "execution_count": 44,
   "metadata": {},
   "outputs": [],
   "source": [
    "import tensorflow as tf \n",
    "from Vnet_multiclass import FillWithBone\n",
    "from Unet_modified import CreateUnetModified\n",
    "import os\n",
    "from sklearn.model_selection import train_test_split\n",
    "import nibabel as nib\n",
    "import numpy as np \n",
    "import matplotlib.pyplot as plt \n",
    "import skimage.transform as skTrans\n",
    "import math"
   ]
  },
  {
   "cell_type": "code",
   "execution_count": 45,
   "metadata": {},
   "outputs": [],
   "source": [
    "rootDirPath = \"..\\\\mmwhs\\\\ct_train\"\n",
    "pathList = os.listdir(rootDirPath)"
   ]
  },
  {
   "cell_type": "code",
   "execution_count": 50,
   "metadata": {},
   "outputs": [],
   "source": [
    "def OneHotEncode(original, x_, y_, z_, num_classes=8): \n",
    "    encodeList = {\n",
    "        0: 0, \n",
    "        500: 1, \n",
    "        600: 2, \n",
    "        420: 3, \n",
    "        550: 4, \n",
    "        205: 5, \n",
    "        820: 6, \n",
    "        850: 7, \n",
    "    }\n",
    "\n",
    "    x, y, z = original.shape\n",
    "\n",
    "    labelEncode = np.empty((x_, y_, z_, num_classes), dtype=\"float16\")\n",
    "    for i_ in range(x_): \n",
    "        for j_ in range(y_): \n",
    "            for k_ in range(z_): \n",
    "                i = math.floor( (i_ * x) / x_)\n",
    "                j = math.floor( (j_ * y) / y_)\n",
    "                k = math.floor( (k_ * z) / z_)\n",
    "\n",
    "                i = max(0, min(i, x - 1))\n",
    "                j = max(0, min(j, y - 1))\n",
    "                k = max(0, min(k, k - 1))\n",
    "\n",
    "                value = original[i][j][k]\n",
    "\n",
    "                encodeIndex = encodeList[value] = 1\n",
    "\n",
    "                for n in range(8): \n",
    "                    labelEncode[i_][j_][k_][n] = 0\n",
    "\n",
    "                labelEncode[i_][j_][k_][encodeIndex] = 1\n",
    "\n",
    "    return labelEncode"
   ]
  },
  {
   "cell_type": "code",
   "execution_count": null,
   "metadata": {},
   "outputs": [],
   "source": [
    "a = np.array(nib.load(\"E:\\isef-vascular\\VascuIAR\\DeepLearning\\mmwhs\\ct_train\\ct_train_1001_image.nii.gz\").get_fdata())\n",
    "\n",
    "with open(\".\\\\temp.txt\", \"w\") as f: \n",
    "    f.write(\"First view\\n\")\n",
    "    for i in range(a.shape[0]): \n",
    "        u = np.unique(a[i, :, :])\n",
    "        f.write(f\"Slice {i} has {len(u)} unique values which are: {u}\\n\")\n",
    "    del i \n",
    "\n",
    "    f.write(\"\\nSecond view\\n\")\n",
    "    for i in range(a.shape[1]): \n",
    "        u = np.unique(a[:, i, :])\n",
    "        f.write(f\"Slice {i} has {len(u)} unique values which are: {u}\\n\")\n",
    "    del i \n",
    "\n",
    "    f.write(\"\\nThird view\\n\")\n",
    "    for i in range(a.shape[2]): \n",
    "        u = np.unique(a[:, :, i])\n",
    "        f.write(f\"Slice {i} has {len(u)} unique values which are: {u}\\n\")\n",
    "    del i \n",
    "\n",
    "### EACH VIEW HAS DIFFERENT UNIQUE VALUES => INCONSISTENT WHEN TRYING TO REMOVE SLICES WITHOUT HEART + BY REMOVING SLICES WITHOUT HEART, IT WEAKENS THE MODEL'S ABILITY TO DIFFRENTIATE STRUCTUERS LIKE BONES / AIR IN SLICES CONTAINING HEART. \n",
    "\n",
    "# => 2 SOLUTIONS: \n",
    "#   1) Fill labels with zeros and real data with bone structures to make everything the same size\n",
    "#   2) Crop all slices without heart to make it the same size  \n",
    "\n",
    "# Cropping and Adding all add biases and unbalance to the dataset, except cropping is much harder to do homologously => Fill and offset bias "
   ]
  },
  {
   "cell_type": "code",
   "execution_count": null,
   "metadata": {},
   "outputs": [],
   "source": [
    "def GenerateData(start, stop, pathList):\n",
    "  # target is 368 to allow Vnet to compress and decompress\n",
    "  X = []\n",
    "  Y = []\n",
    "  for i in range(start, stop, 2):\n",
    "      imagePath = os.path.join(rootDirPath, pathList[i])\n",
    "      labelPath = os.path.join(rootDirPath, pathList[i + 1])\n",
    "\n",
    "      image = np.array(nib.load(imagePath).get_fdata(), dtype=\"float16\")\n",
    "      label = np.array(nib.load(labelPath).get_fdata(), dtype=\"int8\")\n",
    "\n",
    "      image = skTrans.resize(image, (128, 128, 256), order=1, preserve_range=True)\n",
    "\n",
    "\n",
    "      label = OneHotEncode(label, 128, 128, 256)\n",
    "\n",
    "      image = np.expand_dims(image, -1)\n",
    "\n",
    "\n",
    "      print(f\"Image shape: {image.shape} || Path: {imagePath}\")\n",
    "      print(f\"Label shape : {label.shape} || Path: {labelPath}\")\n",
    "\n",
    "      X.append(image)\n",
    "      Y.append(label)\n",
    "\n",
    "  X = np.array(X)\n",
    "  Y = np.array(Y)\n",
    "\n",
    "  del image\n",
    "  del label\n",
    "  del imagePath\n",
    "  del labelPath\n",
    "\n",
    "  return X, Y\n",
    "\n",
    "\n",
    "def TrainingLoop(model):\n",
    "  for i in range(0, 30, 2):\n",
    "    X, Y = GenerateData(i, i + 2, pathList)\n",
    "    model.fit(X, Y, epochs=1, verbose=1)\n",
    "    del X\n",
    "    del Y\n"
   ]
  },
  {
   "cell_type": "code",
   "execution_count": null,
   "metadata": {},
   "outputs": [],
   "source": [
    "unet = CreateUnetModified()"
   ]
  },
  {
   "cell_type": "code",
   "execution_count": null,
   "metadata": {},
   "outputs": [],
   "source": [
    "TrainingLoop(unet)"
   ]
  }
 ],
 "metadata": {
  "kernelspec": {
   "display_name": "Python 3",
   "language": "python",
   "name": "python3"
  },
  "language_info": {
   "codemirror_mode": {
    "name": "ipython",
    "version": 3
   },
   "file_extension": ".py",
   "mimetype": "text/x-python",
   "name": "python",
   "nbconvert_exporter": "python",
   "pygments_lexer": "ipython3",
   "version": "3.9.0"
  }
 },
 "nbformat": 4,
 "nbformat_minor": 2
}
