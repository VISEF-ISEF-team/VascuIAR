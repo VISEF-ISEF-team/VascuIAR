{
 "cells": [
  {
   "cell_type": "code",
   "execution_count": null,
   "metadata": {},
   "outputs": [],
   "source": [
    "import tensorflow as tf \n",
    "from Vnet_multiclass import CreateVnet, FillWithBone\n",
    "import os\n",
    "from sklearn.model_selection import train_test_split\n",
    "import nibabel as nib\n",
    "import numpy as np \n",
    "import matplotlib.pyplot as plt "
   ]
  },
  {
   "cell_type": "code",
   "execution_count": null,
   "metadata": {},
   "outputs": [],
   "source": [
    "rootDirPath = \"..\\\\mmwhs\\\\ct_train\""
   ]
  },
  {
   "cell_type": "code",
   "execution_count": null,
   "metadata": {},
   "outputs": [],
   "source": [
    "a = np.array(nib.load(\"E:\\isef-vascular\\VascuIAR\\DeepLearning\\mmwhs\\ct_train\\ct_train_1001_image.nii.gz\").get_fdata())\n",
    "\n",
    "with open(\".\\\\temp.txt\", \"w\") as f: \n",
    "    f.write(\"First view\\n\")\n",
    "    for i in range(a.shape[0]): \n",
    "        u = np.unique(a[i, :, :])\n",
    "        f.write(f\"Slice {i} has {len(u)} unique values which are: {u}\\n\")\n",
    "    del i \n",
    "\n",
    "    f.write(\"\\nSecond view\\n\")\n",
    "    for i in range(a.shape[1]): \n",
    "        u = np.unique(a[:, i, :])\n",
    "        f.write(f\"Slice {i} has {len(u)} unique values which are: {u}\\n\")\n",
    "    del i \n",
    "\n",
    "    f.write(\"\\nThird view\\n\")\n",
    "    for i in range(a.shape[2]): \n",
    "        u = np.unique(a[:, :, i])\n",
    "        f.write(f\"Slice {i} has {len(u)} unique values which are: {u}\\n\")\n",
    "    del i \n",
    "\n",
    "### EACH VIEW HAS DIFFERENT UNIQUE VALUES => INCONSISTENT WHEN TRYING TO REMOVE SLICES WITHOUT HEART + BY REMOVING SLICES WITHOUT HEART, IT WEAKENS THE MODEL'S ABILITY TO DIFFRENTIATE STRUCTUERS LIKE BONES / AIR IN SLICES CONTAINING HEART. \n",
    "\n",
    "# => 2 SOLUTIONS: \n",
    "#   1) Fill labels with zeros and real data with bone structures to make everything the same size\n",
    "#   2) Crop all slices without heart to make it the same size  \n",
    "\n",
    "# Cropping and Adding all add biases and unbalance to the dataset, except cropping is much harder to do homologously => Fill and offset bias "
   ]
  },
  {
   "cell_type": "code",
   "execution_count": null,
   "metadata": {},
   "outputs": [],
   "source": [
    "X = []\n",
    "Y = []\n",
    "target = 364\n",
    "# target is 384 to allow Vnet to compress and decompress\n",
    "\n",
    "pathList = os.listdir(rootDirPath)\n",
    "for i in range(0, len(pathList) - 1, 2): \n",
    "    imagePath = os.path.join(rootDirPath, pathList[i])\n",
    "    labelPath = os.path.join(rootDirPath, pathList[i + 1])\n",
    "\n",
    "    image = np.array(nib.load(imagePath).get_fdata())\n",
    "    label = np.array(nib.load(labelPath).get_fdata())\n",
    "\n",
    "    image, label = FillWithBone(image, label, target)\n",
    "\n",
    "    image = np.expand_dims(image, -1)\n",
    "    label = np.expand_dims(label, -1)\n",
    "\n",
    "    print(f\"Image shape: {image.shape} || Path: {imagePath}\")\n",
    "    print(f\"Label shape : {label.shape} || Path: {labelPath}\")\n",
    "\n",
    "    X.append(image)\n",
    "    Y.append(label)\n",
    "\n",
    "\n",
    "\n",
    "del pathList\n",
    "del target \n",
    "del image\n",
    "del label \n",
    "\n",
    "X = np.array(X)\n",
    "Y = np.array(Y)\n",
    "\n",
    "print(len(X), len(Y))"
   ]
  },
  {
   "cell_type": "code",
   "execution_count": null,
   "metadata": {},
   "outputs": [],
   "source": [
    "X_train, X_test, Y_train, Y_test = train_test_split(X, Y)\n",
    "\n",
    "print(len(X_train), len(X_test), len(Y_train), len(Y_test))"
   ]
  },
  {
   "cell_type": "code",
   "execution_count": null,
   "metadata": {},
   "outputs": [],
   "source": [
    "model = CreateVnet()"
   ]
  },
  {
   "cell_type": "code",
   "execution_count": null,
   "metadata": {},
   "outputs": [],
   "source": [
    "model.fit(X_train, Y_train, epochs=10, verbose=2)"
   ]
  }
 ],
 "metadata": {
  "kernelspec": {
   "display_name": "Python 3",
   "language": "python",
   "name": "python3"
  },
  "language_info": {
   "codemirror_mode": {
    "name": "ipython",
    "version": 3
   },
   "file_extension": ".py",
   "mimetype": "text/x-python",
   "name": "python",
   "nbconvert_exporter": "python",
   "pygments_lexer": "ipython3",
   "version": "3.9.0"
  }
 },
 "nbformat": 4,
 "nbformat_minor": 2
}
