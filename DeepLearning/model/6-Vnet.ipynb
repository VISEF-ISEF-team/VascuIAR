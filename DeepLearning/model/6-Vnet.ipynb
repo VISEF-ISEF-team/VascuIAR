{
 "cells": [
  {
   "cell_type": "code",
   "execution_count": 1,
   "metadata": {},
   "outputs": [],
   "source": [
    "import tensorflow as tf \n",
    "from Vnet_multiclass import CreateVnet, FillWithBone\n",
    "import os\n",
    "from sklearn.model_selection import train_test_split\n",
    "import nibabel as nib\n",
    "import numpy as np \n",
    "import matplotlib.pyplot as plt "
   ]
  },
  {
   "cell_type": "code",
   "execution_count": 2,
   "metadata": {},
   "outputs": [],
   "source": [
    "rootDirPath = \"..\\\\mmwhs\\\\ct_train\""
   ]
  },
  {
   "cell_type": "code",
   "execution_count": 10,
   "metadata": {},
   "outputs": [
    {
     "name": "stdout",
     "output_type": "stream",
     "text": [
      "0\n",
      "Image shape: (512, 512, 363, 1) || Path: ..\\mmwhs\\ct_train\\ct_train_1001_image.nii.gz\n",
      "Label shape : (512, 512, 363, 1) || Path: ..\\mmwhs\\ct_train\\ct_train_1001_label.nii.gz\n",
      "2\n",
      "Image shape: (512, 512, 363, 1) || Path: ..\\mmwhs\\ct_train\\ct_train_1002_image.nii.gz\n",
      "Label shape : (512, 512, 363, 1) || Path: ..\\mmwhs\\ct_train\\ct_train_1002_label.nii.gz\n",
      "4\n",
      "Image shape: (512, 512, 363, 1) || Path: ..\\mmwhs\\ct_train\\ct_train_1003_image.nii.gz\n",
      "Label shape : (512, 512, 363, 1) || Path: ..\\mmwhs\\ct_train\\ct_train_1003_label.nii.gz\n",
      "6\n",
      "Image shape: (512, 512, 363, 1) || Path: ..\\mmwhs\\ct_train\\ct_train_1004_image.nii.gz\n",
      "Label shape : (512, 512, 363, 1) || Path: ..\\mmwhs\\ct_train\\ct_train_1004_label.nii.gz\n",
      "8\n",
      "Image shape: (512, 512, 363, 1) || Path: ..\\mmwhs\\ct_train\\ct_train_1005_image.nii.gz\n",
      "Label shape : (512, 512, 363, 1) || Path: ..\\mmwhs\\ct_train\\ct_train_1005_label.nii.gz\n",
      "10\n",
      "Image shape: (512, 512, 363, 1) || Path: ..\\mmwhs\\ct_train\\ct_train_1006_image.nii.gz\n",
      "Label shape : (512, 512, 363, 1) || Path: ..\\mmwhs\\ct_train\\ct_train_1006_label.nii.gz\n",
      "12\n",
      "Image shape: (512, 512, 363, 1) || Path: ..\\mmwhs\\ct_train\\ct_train_1007_image.nii.gz\n",
      "Label shape : (512, 512, 363, 1) || Path: ..\\mmwhs\\ct_train\\ct_train_1007_label.nii.gz\n",
      "14\n",
      "Image shape: (512, 512, 363, 1) || Path: ..\\mmwhs\\ct_train\\ct_train_1008_image.nii.gz\n",
      "Label shape : (512, 512, 363, 1) || Path: ..\\mmwhs\\ct_train\\ct_train_1008_label.nii.gz\n",
      "16\n",
      "Image shape: (512, 512, 363, 1) || Path: ..\\mmwhs\\ct_train\\ct_train_1009_image.nii.gz\n",
      "Label shape : (512, 512, 363, 1) || Path: ..\\mmwhs\\ct_train\\ct_train_1009_label.nii.gz\n",
      "18\n",
      "Image shape: (512, 512, 363, 1) || Path: ..\\mmwhs\\ct_train\\ct_train_1010_image.nii.gz\n",
      "Label shape : (512, 512, 363, 1) || Path: ..\\mmwhs\\ct_train\\ct_train_1010_label.nii.gz\n",
      "20\n",
      "Image shape: (512, 512, 363, 1) || Path: ..\\mmwhs\\ct_train\\ct_train_1011_image.nii.gz\n",
      "Label shape : (512, 512, 363, 1) || Path: ..\\mmwhs\\ct_train\\ct_train_1011_label.nii.gz\n",
      "22\n",
      "Image shape: (512, 512, 363, 1) || Path: ..\\mmwhs\\ct_train\\ct_train_1012_image.nii.gz\n",
      "Label shape : (512, 512, 363, 1) || Path: ..\\mmwhs\\ct_train\\ct_train_1012_label.nii.gz\n",
      "24\n",
      "Image shape: (512, 512, 363, 1) || Path: ..\\mmwhs\\ct_train\\ct_train_1013_image.nii.gz\n",
      "Label shape : (512, 512, 363, 1) || Path: ..\\mmwhs\\ct_train\\ct_train_1013_label.nii.gz\n",
      "26\n",
      "Image shape: (512, 512, 363, 1) || Path: ..\\mmwhs\\ct_train\\ct_train_1014_image.nii.gz\n",
      "Label shape : (512, 512, 363, 1) || Path: ..\\mmwhs\\ct_train\\ct_train_1014_label.nii.gz\n",
      "28\n",
      "Image shape: (512, 512, 363, 1) || Path: ..\\mmwhs\\ct_train\\ct_train_1015_image.nii.gz\n",
      "Label shape : (512, 512, 363, 1) || Path: ..\\mmwhs\\ct_train\\ct_train_1015_label.nii.gz\n",
      "30\n",
      "Image shape: (512, 512, 363, 1) || Path: ..\\mmwhs\\ct_train\\ct_train_1016_image.nii.gz\n",
      "Label shape : (512, 512, 363, 1) || Path: ..\\mmwhs\\ct_train\\ct_train_1016_label.nii.gz\n",
      "32\n",
      "Image shape: (512, 512, 363, 1) || Path: ..\\mmwhs\\ct_train\\ct_train_1017_image.nii.gz\n",
      "Label shape : (512, 512, 363, 1) || Path: ..\\mmwhs\\ct_train\\ct_train_1017_label.nii.gz\n",
      "34\n",
      "Image shape: (512, 512, 363, 1) || Path: ..\\mmwhs\\ct_train\\ct_train_1018_image.nii.gz\n",
      "Label shape : (512, 512, 363, 1) || Path: ..\\mmwhs\\ct_train\\ct_train_1018_label.nii.gz\n",
      "36\n",
      "Image shape: (512, 512, 363, 1) || Path: ..\\mmwhs\\ct_train\\ct_train_1019_image.nii.gz\n",
      "Label shape : (512, 512, 363, 1) || Path: ..\\mmwhs\\ct_train\\ct_train_1019_label.nii.gz\n",
      "38\n",
      "Image shape: (512, 512, 363, 1) || Path: ..\\mmwhs\\ct_train\\ct_train_1020_image.nii.gz\n",
      "Label shape : (512, 512, 363, 1) || Path: ..\\mmwhs\\ct_train\\ct_train_1020_label.nii.gz\n",
      "20 20\n"
     ]
    }
   ],
   "source": [
    "X = []\n",
    "Y = []\n",
    "target = 364\n",
    "# max number of slices is 364\n",
    "\n",
    "pathList = os.listdir(rootDirPath)\n",
    "for i in range(0, len(pathList) - 1, 2): \n",
    "    imagePath = os.path.join(rootDirPath, pathList[i])\n",
    "    labelPath = os.path.join(rootDirPath, pathList[i + 1])\n",
    "\n",
    "    image = np.array(nib.load(imagePath).get_fdata())\n",
    "    label = np.array(nib.load(labelPath).get_fdata())\n",
    "\n",
    "    image, label = FillWithBone(image, label, target)\n",
    "\n",
    "    image = np.expand_dims(image, -1)\n",
    "    label = np.expand_dims(label, -1)\n",
    "\n",
    "    print(f\"Image shape: {image.shape} || Path: {imagePath}\")\n",
    "    print(f\"Label shape : {label.shape} || Path: {labelPath}\")\n",
    "\n",
    "    X.append(image)\n",
    "    Y.append(label)\n",
    "\n",
    "\n",
    "\n",
    "del pathList\n",
    "del target \n",
    "del image\n",
    "del label \n",
    "\n",
    "print(len(X), len(Y))"
   ]
  },
  {
   "cell_type": "code",
   "execution_count": 14,
   "metadata": {},
   "outputs": [],
   "source": [
    "a = np.array(nib.load(\"E:\\isef-vascular\\VascuIAR\\DeepLearning\\mmwhs\\ct_train\\ct_train_1001_image.nii.gz\").get_fdata())\n",
    "\n",
    "with open(\".\\\\temp.txt\", \"w\") as f: \n",
    "    f.write(\"First view\\n\")\n",
    "    for i in range(a.shape[0]): \n",
    "        u = np.unique(a[i, :, :])\n",
    "        f.write(f\"Slice {i} has {len(u)} unique values which are: {u}\\n\")\n",
    "    del i \n",
    "\n",
    "    f.write(\"\\nSecond view\\n\")\n",
    "    for i in range(a.shape[1]): \n",
    "        u = np.unique(a[:, i, :])\n",
    "        f.write(f\"Slice {i} has {len(u)} unique values which are: {u}\\n\")\n",
    "    del i \n",
    "\n",
    "    f.write(\"\\nThird view\\n\")\n",
    "    for i in range(a.shape[2]): \n",
    "        u = np.unique(a[:, :, i])\n",
    "        f.write(f\"Slice {i} has {len(u)} unique values which are: {u}\\n\")\n",
    "    del i \n",
    "\n",
    "### EACH VIEW HAS DIFFERENT UNIQUE VALUES => INCONSISTENT WHEN TRYING TO REMOVE SLICES WITHOUT HEART + BY REMOVING SLICES WITHOUT HEART, IT WEAKENS THE MODEL'S ABILITY TO DIFFRENTIATE STRUCTUERS LIKE BONES / AIR IN SLICES CONTAINING HEART. \n",
    "\n",
    "# => 2 SOLUTIONS: \n",
    "#   1) Fill labels with zeros and real data with bone structures to make everything the same size\n",
    "#   2) Crop all slices without heart to make it the same size  "
   ]
  },
  {
   "cell_type": "code",
   "execution_count": 11,
   "metadata": {},
   "outputs": [
    {
     "name": "stdout",
     "output_type": "stream",
     "text": [
      "15 5 15 5\n"
     ]
    }
   ],
   "source": [
    "X_train, X_test, Y_train, Y_test = train_test_split(X, Y)\n",
    "\n",
    "print(len(X_train), len(X_test), len(Y_train), len(Y_test))"
   ]
  },
  {
   "cell_type": "code",
   "execution_count": 13,
   "metadata": {},
   "outputs": [
    {
     "ename": "ValueError",
     "evalue": "Inputs have incompatible shapes. Received shapes (256, 256, 181, 32) and (256, 256, 181, 16)",
     "output_type": "error",
     "traceback": [
      "\u001b[1;31m---------------------------------------------------------------------------\u001b[0m",
      "\u001b[1;31mValueError\u001b[0m                                Traceback (most recent call last)",
      "\u001b[1;32me:\\isef-vascular\\VascuIAR\\DeepLearning\\model\\6-Vnet.ipynb Cell 6\u001b[0m line \u001b[0;36m1\n\u001b[1;32m----> <a href='vscode-notebook-cell:/e%3A/isef-vascular/VascuIAR/DeepLearning/model/6-Vnet.ipynb#W6sZmlsZQ%3D%3D?line=0'>1</a>\u001b[0m model \u001b[39m=\u001b[39m CreateVnet()\n",
      "File \u001b[1;32me:\\isef-vascular\\VascuIAR\\DeepLearning\\model\\Vnet_multiclass.py:30\u001b[0m, in \u001b[0;36mCreateVnet\u001b[1;34m()\u001b[0m\n\u001b[0;32m     25\u001b[0m c2 \u001b[39m=\u001b[39m tf\u001b[39m.\u001b[39mkeras\u001b[39m.\u001b[39mlayers\u001b[39m.\u001b[39mConv3D(\u001b[39m32\u001b[39m, (\u001b[39m5\u001b[39m, \u001b[39m5\u001b[39m, \u001b[39m5\u001b[39m), activation\u001b[39m=\u001b[39m\u001b[39m'\u001b[39m\u001b[39mrelu\u001b[39m\u001b[39m'\u001b[39m,\n\u001b[0;32m     26\u001b[0m                             kernel_initializer\u001b[39m=\u001b[39m\u001b[39m'\u001b[39m\u001b[39mhe_normal\u001b[39m\u001b[39m'\u001b[39m, padding\u001b[39m=\u001b[39m\u001b[39m'\u001b[39m\u001b[39msame\u001b[39m\u001b[39m'\u001b[39m)(p1)\n\u001b[0;32m     27\u001b[0m c2 \u001b[39m=\u001b[39m tf\u001b[39m.\u001b[39mkeras\u001b[39m.\u001b[39mlayers\u001b[39m.\u001b[39mConv3D(\u001b[39m32\u001b[39m, (\u001b[39m5\u001b[39m, \u001b[39m5\u001b[39m, \u001b[39m5\u001b[39m), activation\u001b[39m=\u001b[39m\u001b[39m'\u001b[39m\u001b[39mrelu\u001b[39m\u001b[39m'\u001b[39m,\n\u001b[0;32m     28\u001b[0m                             kernel_initializer\u001b[39m=\u001b[39m\u001b[39m'\u001b[39m\u001b[39mhe_normal\u001b[39m\u001b[39m'\u001b[39m, padding\u001b[39m=\u001b[39m\u001b[39m'\u001b[39m\u001b[39msame\u001b[39m\u001b[39m'\u001b[39m)(c2)\n\u001b[1;32m---> 30\u001b[0m a2 \u001b[39m=\u001b[39m tf\u001b[39m.\u001b[39;49mkeras\u001b[39m.\u001b[39;49mlayers\u001b[39m.\u001b[39;49mAdd()([c2, p1])\n\u001b[0;32m     31\u001b[0m d2 \u001b[39m=\u001b[39m tf\u001b[39m.\u001b[39mkeras\u001b[39m.\u001b[39mlayers\u001b[39m.\u001b[39mConv3D(\n\u001b[0;32m     32\u001b[0m     \u001b[39m32\u001b[39m, (\u001b[39m2\u001b[39m, \u001b[39m2\u001b[39m, \u001b[39m2\u001b[39m), strides\u001b[39m=\u001b[39m(\u001b[39m2\u001b[39m, \u001b[39m2\u001b[39m, \u001b[39m2\u001b[39m), activation\u001b[39m=\u001b[39m\u001b[39m\"\u001b[39m\u001b[39mrelu\u001b[39m\u001b[39m\"\u001b[39m, kernel_initializer\u001b[39m=\u001b[39m\u001b[39m\"\u001b[39m\u001b[39mhe_normal\u001b[39m\u001b[39m\"\u001b[39m)(a2)\n\u001b[0;32m     33\u001b[0m p2 \u001b[39m=\u001b[39m tf\u001b[39m.\u001b[39mkeras\u001b[39m.\u001b[39mlayers\u001b[39m.\u001b[39mPReLU()(d2)\n",
      "File \u001b[1;32me:\\isef-vascular\\VascuIAR\\.venv\\lib\\site-packages\\keras\\src\\utils\\traceback_utils.py:70\u001b[0m, in \u001b[0;36mfilter_traceback.<locals>.error_handler\u001b[1;34m(*args, **kwargs)\u001b[0m\n\u001b[0;32m     67\u001b[0m     filtered_tb \u001b[39m=\u001b[39m _process_traceback_frames(e\u001b[39m.\u001b[39m__traceback__)\n\u001b[0;32m     68\u001b[0m     \u001b[39m# To get the full stack trace, call:\u001b[39;00m\n\u001b[0;32m     69\u001b[0m     \u001b[39m# `tf.debugging.disable_traceback_filtering()`\u001b[39;00m\n\u001b[1;32m---> 70\u001b[0m     \u001b[39mraise\u001b[39;00m e\u001b[39m.\u001b[39mwith_traceback(filtered_tb) \u001b[39mfrom\u001b[39;00m \u001b[39mNone\u001b[39;00m\n\u001b[0;32m     71\u001b[0m \u001b[39mfinally\u001b[39;00m:\n\u001b[0;32m     72\u001b[0m     \u001b[39mdel\u001b[39;00m filtered_tb\n",
      "File \u001b[1;32me:\\isef-vascular\\VascuIAR\\.venv\\lib\\site-packages\\keras\\src\\layers\\merging\\base_merge.py:74\u001b[0m, in \u001b[0;36m_Merge._compute_elemwise_op_output_shape\u001b[1;34m(self, shape1, shape2)\u001b[0m\n\u001b[0;32m     72\u001b[0m     \u001b[39melse\u001b[39;00m:\n\u001b[0;32m     73\u001b[0m         \u001b[39mif\u001b[39;00m i \u001b[39m!=\u001b[39m j:\n\u001b[1;32m---> 74\u001b[0m             \u001b[39mraise\u001b[39;00m \u001b[39mValueError\u001b[39;00m(\n\u001b[0;32m     75\u001b[0m                 \u001b[39m\"\u001b[39m\u001b[39mInputs have incompatible shapes. \u001b[39m\u001b[39m\"\u001b[39m\n\u001b[0;32m     76\u001b[0m                 \u001b[39mf\u001b[39m\u001b[39m\"\u001b[39m\u001b[39mReceived shapes \u001b[39m\u001b[39m{\u001b[39;00mshape1\u001b[39m}\u001b[39;00m\u001b[39m and \u001b[39m\u001b[39m{\u001b[39;00mshape2\u001b[39m}\u001b[39;00m\u001b[39m\"\u001b[39m\n\u001b[0;32m     77\u001b[0m             )\n\u001b[0;32m     78\u001b[0m         output_shape\u001b[39m.\u001b[39mappend(i)\n\u001b[0;32m     79\u001b[0m \u001b[39mreturn\u001b[39;00m \u001b[39mtuple\u001b[39m(output_shape)\n",
      "\u001b[1;31mValueError\u001b[0m: Inputs have incompatible shapes. Received shapes (256, 256, 181, 32) and (256, 256, 181, 16)"
     ]
    }
   ],
   "source": [
    "model = CreateVnet()"
   ]
  },
  {
   "cell_type": "code",
   "execution_count": null,
   "metadata": {},
   "outputs": [],
   "source": [
    "model.fit(X_train, Y_train, epochs=10, verbose=2)"
   ]
  },
  {
   "cell_type": "code",
   "execution_count": null,
   "metadata": {},
   "outputs": [],
   "source": []
  }
 ],
 "metadata": {
  "kernelspec": {
   "display_name": "Python 3",
   "language": "python",
   "name": "python3"
  },
  "language_info": {
   "codemirror_mode": {
    "name": "ipython",
    "version": 3
   },
   "file_extension": ".py",
   "mimetype": "text/x-python",
   "name": "python",
   "nbconvert_exporter": "python",
   "pygments_lexer": "ipython3",
   "version": "3.9.0"
  }
 },
 "nbformat": 4,
 "nbformat_minor": 2
}
