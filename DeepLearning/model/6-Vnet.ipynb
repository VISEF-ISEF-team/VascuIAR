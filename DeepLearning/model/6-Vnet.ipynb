{
 "cells": [
  {
   "cell_type": "code",
   "execution_count": 5,
   "metadata": {},
   "outputs": [
    {
     "name": "stdout",
     "output_type": "stream",
     "text": [
      "WARNING:tensorflow:Mixed precision compatibility check (mixed_float16): WARNING\n",
      "The dtype policy mixed_float16 may run slowly because this machine does not have a GPU. Only Nvidia GPUs with compute capability of at least 7.0 run quickly with mixed_float16.\n",
      "If you will use compatible GPU(s) not attached to this host, e.g. by running a multi-worker model, you can ignore this warning. This message will only be logged once\n"
     ]
    }
   ],
   "source": [
    "import tensorflow as tf \n",
    "from Vnet_multiclass import FillWithBone\n",
    "from Unet_modified import CreateUnetModified\n",
    "import os\n",
    "from sklearn.model_selection import train_test_split\n",
    "import nibabel as nib\n",
    "import numpy as np \n",
    "import matplotlib.pyplot as plt "
   ]
  },
  {
   "cell_type": "code",
   "execution_count": 6,
   "metadata": {},
   "outputs": [],
   "source": [
    "rootDirPath = \"..\\\\mmwhs\\\\ct_train\"\n",
    "pathList = os.listdir(rootDirPath)"
   ]
  },
  {
   "cell_type": "code",
   "execution_count": null,
   "metadata": {},
   "outputs": [],
   "source": [
    "a = np.array(nib.load(\"E:\\isef-vascular\\VascuIAR\\DeepLearning\\mmwhs\\ct_train\\ct_train_1001_image.nii.gz\").get_fdata())\n",
    "\n",
    "with open(\".\\\\temp.txt\", \"w\") as f: \n",
    "    f.write(\"First view\\n\")\n",
    "    for i in range(a.shape[0]): \n",
    "        u = np.unique(a[i, :, :])\n",
    "        f.write(f\"Slice {i} has {len(u)} unique values which are: {u}\\n\")\n",
    "    del i \n",
    "\n",
    "    f.write(\"\\nSecond view\\n\")\n",
    "    for i in range(a.shape[1]): \n",
    "        u = np.unique(a[:, i, :])\n",
    "        f.write(f\"Slice {i} has {len(u)} unique values which are: {u}\\n\")\n",
    "    del i \n",
    "\n",
    "    f.write(\"\\nThird view\\n\")\n",
    "    for i in range(a.shape[2]): \n",
    "        u = np.unique(a[:, :, i])\n",
    "        f.write(f\"Slice {i} has {len(u)} unique values which are: {u}\\n\")\n",
    "    del i \n",
    "\n",
    "### EACH VIEW HAS DIFFERENT UNIQUE VALUES => INCONSISTENT WHEN TRYING TO REMOVE SLICES WITHOUT HEART + BY REMOVING SLICES WITHOUT HEART, IT WEAKENS THE MODEL'S ABILITY TO DIFFRENTIATE STRUCTUERS LIKE BONES / AIR IN SLICES CONTAINING HEART. \n",
    "\n",
    "# => 2 SOLUTIONS: \n",
    "#   1) Fill labels with zeros and real data with bone structures to make everything the same size\n",
    "#   2) Crop all slices without heart to make it the same size  \n",
    "\n",
    "# Cropping and Adding all add biases and unbalance to the dataset, except cropping is much harder to do homologously => Fill and offset bias "
   ]
  },
  {
   "cell_type": "code",
   "execution_count": 10,
   "metadata": {},
   "outputs": [],
   "source": [
    "import nibabel as nib\n",
    "import numpy as np\n",
    "\n",
    "target = 368\n",
    "\n",
    "def GenerateData(start, stop, pathList, target): \n",
    "  # target is 368 to allow Vnet to compress and decompress\n",
    "  X = []\n",
    "  Y = []\n",
    "  for i in range(start, stop, 2):\n",
    "      imagePath = os.path.join(rootDirPath, pathList[i])\n",
    "      labelPath = os.path.join(rootDirPath, pathList[i + 1])\n",
    "\n",
    "      image = np.array(nib.load(imagePath).get_fdata(), dtype=\"int8\")\n",
    "      label = np.array(nib.load(labelPath).get_fdata(), dtype=\"int8\")\n",
    "\n",
    "      image, label = FillWithBone(image, label, target)\n",
    "\n",
    "      image = np.expand_dims(image, -1)\n",
    "      label = np.expand_dims(label, -1)\n",
    "\n",
    "      print(f\"Image shape: {image.shape} || Path: {imagePath}\")\n",
    "      print(f\"Label shape : {label.shape} || Path: {labelPath}\")\n",
    "\n",
    "      X.append(image)\n",
    "      Y.append(label)\n",
    "\n",
    "  X = np.array(X)\n",
    "  Y = np.array(Y)\n",
    "\n",
    "  del image\n",
    "  del label \n",
    "  del imagePath\n",
    "  del labelPath\n",
    "\n",
    "  return X, Y\n",
    "  \n",
    "\n",
    "def TrainingLoop(model, target): \n",
    "  for i in range(0, 30, 2): \n",
    "    X, Y = GenerateData(i, i + 2, pathList, target)\n",
    "    model.fit(X, Y, epochs=1, verbose=2)\n",
    "    del X\n",
    "    del Y\n"
   ]
  },
  {
   "cell_type": "code",
   "execution_count": 11,
   "metadata": {},
   "outputs": [],
   "source": [
    "unet = CreateUnetModified()"
   ]
  },
  {
   "cell_type": "code",
   "execution_count": 12,
   "metadata": {},
   "outputs": [
    {
     "name": "stdout",
     "output_type": "stream",
     "text": [
      "Image shape: (512, 512, 368, 1) || Path: ..\\mmwhs\\ct_train\\ct_train_1001_image.nii.gz\n",
      "Label shape : (512, 512, 368, 1) || Path: ..\\mmwhs\\ct_train\\ct_train_1001_label.nii.gz\n"
     ]
    }
   ],
   "source": [
    "TrainingLoop(unet, target)"
   ]
  }
 ],
 "metadata": {
  "kernelspec": {
   "display_name": "Python 3",
   "language": "python",
   "name": "python3"
  },
  "language_info": {
   "codemirror_mode": {
    "name": "ipython",
    "version": 3
   },
   "file_extension": ".py",
   "mimetype": "text/x-python",
   "name": "python",
   "nbconvert_exporter": "python",
   "pygments_lexer": "ipython3",
   "version": "3.9.0"
  }
 },
 "nbformat": 4,
 "nbformat_minor": 2
}
