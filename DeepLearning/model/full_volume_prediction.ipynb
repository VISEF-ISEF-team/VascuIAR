{
 "cells": [
  {
   "cell_type": "code",
   "execution_count": null,
   "metadata": {},
   "outputs": [],
   "source": [
    "from simple_multi_unet_model import multi_unet_model \n",
    "from keras.utils import normalize\n",
    "import os\n",
    "import glob\n",
    "import cv2\n",
    "from PIL import Image\n",
    "import numpy as np\n",
    "from matplotlib import pyplot as plt\n",
    "from patchify import patchify, unpatchify"
   ]
  },
  {
   "cell_type": "code",
   "execution_count": null,
   "metadata": {},
   "outputs": [],
   "source": [
    "# Specify parameters\n",
    "n_classes = 8 \n",
    "IMG_HEIGHT = 512\n",
    "IMG_WIDTH  = 512\n",
    "IMG_CHANNELS = 1"
   ]
  },
  {
   "cell_type": "code",
   "execution_count": null,
   "metadata": {},
   "outputs": [],
   "source": [
    "# Load model\n",
    "def get_model():\n",
    "    return multi_unet_model(n_classes=n_classes, IMG_HEIGHT=IMG_HEIGHT, IMG_WIDTH=IMG_WIDTH, IMG_CHANNELS=IMG_CHANNELS)\n",
    "\n",
    "model.compile(optimizer='adam', loss='categorical_crossentropy', metrics=['accuracy'])\n",
    "model.summary()"
   ]
  },
  {
   "cell_type": "code",
   "execution_count": null,
   "metadata": {},
   "outputs": [],
   "source": [
    "model.load_weights('training/models/model_multi_v1.hdf5')  "
   ]
  },
  {
   "cell_type": "code",
   "execution_count": null,
   "metadata": {},
   "outputs": [],
   "source": [
    "segm_images = []\n",
    "path = \"path/to/all/images\""
   ]
  },
  {
   "cell_type": "code",
   "execution_count": null,
   "metadata": {},
   "outputs": [],
   "source": [
    "from pathlib import Path\n",
    "for file in glob.glob(path):\n",
    "    # print(file)     \n",
    "    name = Path(file).stem # Get the original file name\n",
    "    # print(name)\n",
    "  \n",
    "    large_image = cv2.imread(file, 0)\n",
    "    patches = patchify(large_image, (128, 128), step=128)  # Step=256 for 256 patches means no overlap\n",
    "    \n",
    "    predicted_patches = []\n",
    "    for i in range(patches.shape[0]):\n",
    "        for j in range(patches.shape[1]):\n",
    "            #print(i,j)\n",
    "            \n",
    "            single_patch = patches[i,j,:,:]\n",
    "            \n",
    "            single_patch_norm = np.expand_dims(normalize(np.array(single_patch), axis=1),2)\n",
    "            single_patch_input=np.expand_dims(single_patch_norm, 0)\n",
    "    \n",
    "            single_patch_prediction = (model.predict(single_patch_input))\n",
    "            single_patch_predicted_img=np.argmax(single_patch_prediction, axis=3)[0,:,:]\n",
    "    \n",
    "            predicted_patches.append(single_patch_predicted_img)\n",
    "    \n",
    "    predicted_patches = np.array(predicted_patches)\n",
    "    \n",
    "    predicted_patches_reshaped = np.reshape(predicted_patches, (patches.shape[0], patches.shape[1], 128,128) )\n",
    "    \n",
    "    reconstructed_image = unpatchify(predicted_patches_reshaped, large_image.shape)\n",
    "    # Here you can save individual images, or save on milti_dim tiff file\n",
    "    # cv2.imwrite('segmented_images/' + name + '_segmented.tif', reconstructed_image)\n",
    "    segm_images.append(reconstructed_image)\n",
    "    print(\"Finished segmenting image: \", name)\n",
    "    \n",
    "    \n",
    "final_segm_image = np.array(segm_images).astype(np.uint8)   \n",
    "\n",
    "from tifffile import imsave\n",
    "imsave('segmented_images/sandstone_segmented_test.tif', final_segm_image)"
   ]
  }
 ],
 "metadata": {
  "kernelspec": {
   "display_name": ".venv",
   "language": "python",
   "name": "python3"
  },
  "language_info": {
   "codemirror_mode": {
    "name": "ipython",
    "version": 3
   },
   "file_extension": ".py",
   "mimetype": "text/x-python",
   "name": "python",
   "nbconvert_exporter": "python",
   "pygments_lexer": "ipython3",
   "version": "3.10.2"
  },
  "orig_nbformat": 4
 },
 "nbformat": 4,
 "nbformat_minor": 2
}
