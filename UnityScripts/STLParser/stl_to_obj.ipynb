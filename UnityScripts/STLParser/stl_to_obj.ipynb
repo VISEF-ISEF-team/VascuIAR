{
 "cells": [
  {
   "cell_type": "code",
   "execution_count": 1,
   "metadata": {},
   "outputs": [],
   "source": [
    "import meshio\n",
    "from stl import mesh \n",
    "import numpy as np "
   ]
  },
  {
   "cell_type": "code",
   "execution_count": 23,
   "metadata": {},
   "outputs": [],
   "source": [
    "# get mesh information \n",
    "stl_file_path = \"C://Users//Acer//Downloads//ct_0096_label.nii//label_8_pulmonary_trunk.stl\"\n",
    "obj_file_path = \"output_file.obj\"\n",
    "\n",
    "mesh = meshio.read(stl_file_path)\n",
    "\n",
    "newMesh = meshio.Mesh(mesh.points, mesh.cells) "
   ]
  },
  {
   "cell_type": "code",
   "execution_count": 24,
   "metadata": {},
   "outputs": [],
   "source": [
    "# recenter mesh \n",
    "def recenter_mesh(mesh): \n",
    "    offset = -np.mean(mesh.points, axis=0)\n",
    "    mesh.points = mesh.points + offset\n",
    "\n",
    "recenter_mesh(newMesh)"
   ]
  },
  {
   "cell_type": "code",
   "execution_count": 25,
   "metadata": {},
   "outputs": [],
   "source": [
    "meshio.write(obj_file_path, newMesh)"
   ]
  },
  {
   "cell_type": "code",
   "execution_count": 3,
   "metadata": {},
   "outputs": [
    {
     "name": "stdout",
     "output_type": "stream",
     "text": [
      "[0 1 2]\n",
      "[0 3 4]\n",
      "[1 0 4]\n",
      "[3 5 6]\n",
      "[4 3 6]\n",
      "[6 5 7]\n"
     ]
    }
   ],
   "source": [
    "# data field is list of faces representing the index of vertices in list of vertices\n",
    "cellblock = mesh.cells[0]\n",
    "data = cellblock.data\n",
    "\n",
    "for i in range(6): \n",
    "    print(data[i])"
   ]
  },
  {
   "cell_type": "code",
   "execution_count": 4,
   "metadata": {},
   "outputs": [],
   "source": [
    "triangles = [] \n",
    "\n",
    "for face in data: \n",
    "    triangles.append(face[0])\n",
    "    triangles.append(face[1])\n",
    "    triangles.append(face[2])"
   ]
  },
  {
   "cell_type": "code",
   "execution_count": 5,
   "metadata": {},
   "outputs": [
    {
     "name": "stdout",
     "output_type": "stream",
     "text": [
      "1\n",
      "2\n",
      "3\n",
      "1\n",
      "4\n",
      "5\n"
     ]
    }
   ],
   "source": [
    "# access the individual indices\n",
    "for i in range(6):\n",
    "    print(triangles[i] + 1)"
   ]
  },
  {
   "cell_type": "code",
   "execution_count": 13,
   "metadata": {},
   "outputs": [],
   "source": [
    "# mesh.points represent all the vertices that are already in the order for mesh reconstruction \n",
    "with open(\"output.txt\", \"w\") as f: \n",
    "    f.write(\"v\\n\")\n",
    "    for point in mesh.points: \n",
    "        f.write(f\"{point[0]} {point[1]} {point[2]}\\n\")\n",
    "    \n",
    "    f.write(\"t\\n\") \n",
    "\n",
    "    for i in range(0, len(triangles), 3): \n",
    "        f.write(f\"{triangles[i]} {triangles[i + 1]} {triangles[i + 2]}\\n\")"
   ]
  }
 ],
 "metadata": {
  "kernelspec": {
   "display_name": ".venv",
   "language": "python",
   "name": "python3"
  },
  "language_info": {
   "codemirror_mode": {
    "name": "ipython",
    "version": 3
   },
   "file_extension": ".py",
   "mimetype": "text/x-python",
   "name": "python",
   "nbconvert_exporter": "python",
   "pygments_lexer": "ipython3",
   "version": "3.9.0"
  }
 },
 "nbformat": 4,
 "nbformat_minor": 2
}
